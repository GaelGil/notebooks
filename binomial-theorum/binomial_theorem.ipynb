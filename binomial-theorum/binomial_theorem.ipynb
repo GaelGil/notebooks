{
 "cells": [
  {
   "cell_type": "markdown",
   "metadata": {},
   "source": [
    "# Binomial Distribution\n",
    "I want to know the probability of getting zero heads out of ten coin toses. The binomial distribution can be used to determine this probability. \n",
    "\n",
    "The binomial theorem is a formula that takes into account the number of trials (in this case, the total number of flips), the desired number of positive outcomes (representing the number of heads we want), and the probability of a positive outcome (assuming a fair coin, which gives us a 50% chance). By using this formula, we can obtain the probability of achieving a specific number of positive outcomes.\n",
    "\n",
    "For instance, obtaining ten heads out of ten coin tosses is highly unlikely, while obtaining fewer than five heads is considerably more probable. Each sequence of coin tosses is equally likely because they are independent trials. For example, the sequence \"H H T H\" is just as likely as \"H H H H\". However, getting four heads out of four tosses is less likely than obtaining three heads out of four tosses. The reason behind this lies in the fact that there is only one way to get four heads (\"H H H H\"), whereas there are multiple ways to obtain three heads (e.g., \"H H T H\", \"H T H H\", \"T H H H\", \"H H H T\"). This implies that getting three heads is more likely since there are four different arrangements to achieve this outcome.\n",
    "\n",
    "By applying the principles of the binomial distribution, we can compute the probability of obtaining zero heads out of ten coin tosses and gain insights into the likelihood of various outcomes."
   ]
  },
  {
   "cell_type": "markdown",
   "metadata": {},
   "source": [
    "One thing thats important to understand the differences between independent and dependent events. In a independent event the outcome of a event does not event affect the outcome of other events. In a dependent event the outcome of something is dependent on another event or outcome.\n",
    "\n",
    "Coinflips are independent events. Coin flips are independent events because when we flip a coin once we get tails. If we flip it again the outcome the second coin flip outcome doesn't depend on the first outcome\n",
    "\n",
    "If we take think of drawing cards from a deck. If we draw a card and do not put it back into the deck (sampling without replacement) that affects the outcome of the next draw. Therefore this is a depentdent event. \n",
    "\n",
    "Because coin flips are independent events every sequence is equaly likely. You are equally likely to get heads or tails everytime. One coin flip outcome doesn't depend on another. However the possibility of getting heads four times in a row is not euqally likely. However understand that aggregates are not euqally likely. They are not equally likely because there is only one way of getting heads for times. This looks like this `H H H H`. This is something we can prove with the binomial theorem. "
   ]
  },
  {
   "cell_type": "markdown",
   "metadata": {},
   "source": [
    "# Solving the Problem\n",
    "To solve the problem we can use the binomial distribution pictured below:\n",
    "$$ {n \\choose k} p^{k} (1-p)^{n-k} $$\n",
    "Lets break down the equation above.\n",
    "\n",
    "$ {n \\choose k} = $ Number of ways of having k success in n trials. In other words how many ways can we order 10 coins to have 0 heads. \n",
    "\n",
    "$ p^{k} = $ Probability of having k success in our single trial (coin flip). \n",
    "\n",
    "$ (1-p)^{n-k} = $ Probability of having n-k failures. \n",
    "\n",
    "Now lets use this to solve our problem.\n",
    "\n",
    "\n",
    "$$ {10 \\choose 0} \\frac{1}{2}^{0} (1-\\frac{1}{2})^{10-0} = 0.0009765625$$\n",
    "\n",
    "As we can see this is very unlikely. It's bassically zero. The cool thing about the formual above is we could do this for any number of heads. For example if we wanted to see the probability of getting 3 heads in ten coin flips all we would do is set k=3. Now that we have solved our problem of trying to find the probability of getting zero heads out of ten coin flips. I want to go over another very easy method that works for this problem as well. \n",
    "\n",
    "This is solving the problem using a counting method. First we want to find out how many possible outcomes there are to flipping a coin 10 times (how many combinations). We can do this by doing `2^n` (where `n` is the number of coin flips). In our case `2^10` which is equal to `1024`. This means that when we flip a coin 10 times the number of possible outcomes are `1024` all which are equally likely. "
   ]
  },
  {
   "cell_type": "markdown",
   "metadata": {},
   "source": [
    "Now that we have the number of possible outcomes (which is`1024`) we want to now see what the probability of getting all zero to be heads. We can do this by doing $ {n \\choose k }$. This will give us the number of ways that we can get `0` heads out of the ten coin flips. But we know that there is only one way we can get zero heads in ten coin flips. That would mean that all ten conflips tunred out tails and would look like this `T T T T T T T T T T`. So the probaility of that would be $ \\frac{1}{1024}$. \n",
    "\n",
    "Lets do the math for $ {n \\choose k }$ first tho. This will help us prove that there is only 1 possible way of getting 0 heads. $ {n \\choose k} = \\frac{n!}{k!(n-k)!} $\n",
    "\n",
    "$ {10 \\choose 0} $ can be read as we have ten coin flips and were choosing 0 of them to be heads. \n",
    "\n",
    "$${10 \\choose 0} = \\frac{10!}{0!(10-0)!} = \\frac{10!}{1*10!} = \\frac{10!}{10!}=  1$$\n",
    "\n",
    "Now that we have proved that there is only one way to get zero heads in ten coin flips. We can get the probability of that happening. As I mentioned earlier all the possible outcomes are $1024$. So the prabability of our even happening is $\\frac{1}{1024} = 0.0009765625$. As we can see that is the same result we got above using the binomial distribution probability mass function. "
   ]
  },
  {
   "cell_type": "code",
   "execution_count": 12,
   "metadata": {},
   "outputs": [],
   "source": [
    "import numpy as np\n",
    "import matplotlib.pyplot as plt\n",
    "import math"
   ]
  },
  {
   "cell_type": "code",
   "execution_count": 5,
   "metadata": {},
   "outputs": [],
   "source": [
    "def n_choose_k(n, k):\n",
    "    \"\"\"this function will do n choose k\"\"\"\n",
    "    n_factorial = math.factorial(n)\n",
    "    k_factorial = math.factorial(k)\n",
    "    n_minus_k_factorial = math.factorial(n-k)\n",
    "    return int((n_factorial/(k_factorial*(n_minus_k_factorial))))"
   ]
  },
  {
   "cell_type": "code",
   "execution_count": 12,
   "metadata": {},
   "outputs": [
    {
     "data": {
      "text/plain": [
       "1"
      ]
     },
     "execution_count": 12,
     "metadata": {},
     "output_type": "execute_result"
    }
   ],
   "source": [
    "n_choose_k(10, 0)"
   ]
  },
  {
   "cell_type": "code",
   "execution_count": 2,
   "metadata": {},
   "outputs": [],
   "source": [
    "def graph(x, y):\n",
    "    \"\"\"graph the data\"\"\"\n",
    "    plt.scatter(x, y, color='b')\n",
    "    plt.xlabel('# flips')\n",
    "    plt.ylabel('# possible sequences')\n",
    "    plt.show()\n",
    "    "
   ]
  },
  {
   "cell_type": "code",
   "execution_count": 8,
   "metadata": {},
   "outputs": [],
   "source": [
    "def pmf(n, a, p=0.5):\n",
    "    \"\"\"\n",
    "    this function will return probability using the normal\n",
    "    distributions pmf\n",
    "    \"\"\"\n",
    "    n_k = n_choose_k(n,a)\n",
    "    p_k = p**(a)\n",
    "    fails = (1-p)**(n-a)\n",
    "    return n_k*p_k*fails"
   ]
  },
  {
   "cell_type": "code",
   "execution_count": 10,
   "metadata": {},
   "outputs": [],
   "source": [
    "def get_dist(n):\n",
    "    nums = []\n",
    "    for i in range(n):\n",
    "        nums.append([i, pmf(n, i)])\n",
    "    nums = np.array(nums)\n",
    "    graph(nums[0:len(nums):,0], nums[0:len(nums):,1])"
   ]
  },
  {
   "cell_type": "markdown",
   "metadata": {},
   "source": [
    "# Graphing the distrubition\n",
    "Here we can graph the binomial distrobution. On the x axis will be the number of coins we want to be head and on the y axis we will have the possiblity of that happenung. This can also be helpful to visually see the probabilities. For example we can visually see that the chance of getting 10 heads is very low as we expected. Similarly getting all tails (0 heads) is very unlikely because there is also only one way that can happen. This is a very brief introduction to a very poweful mathematical concept."
   ]
  },
  {
   "cell_type": "code",
   "execution_count": 14,
   "metadata": {},
   "outputs": [
    {
     "data": {
      "image/png": "[encoded data removed]",
      "text/plain": [
       "<Figure size 640x480 with 1 Axes>"
      ]
     },
     "metadata": {},
     "output_type": "display_data"
    }
   ],
   "source": [
    "get_dist(11)"
   ]
  },
  {
   "cell_type": "code",
   "execution_count": null,
   "metadata": {},
   "outputs": [],
   "source": []
  }
 ],
 "metadata": {
  "kernelspec": {
   "display_name": "Python 3 (ipykernel)",
   "language": "python",
   "name": "python3"
  },
  "language_info": {
   "codemirror_mode": {
    "name": "ipython",
    "version": 3
   },
   "file_extension": ".py",
   "mimetype": "text/x-python",
   "name": "python",
   "nbconvert_exporter": "python",
   "pygments_lexer": "ipython3",
   "version": "3.9.6"
  }
 },
 "nbformat": 4,
 "nbformat_minor": 4
}
