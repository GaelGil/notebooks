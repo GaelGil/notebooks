{
 "cells": [
  {
   "cell_type": "markdown",
   "metadata": {},
   "source": [
    "# Binomial Theorem\n",
    "\n",
    "I want to know the probability of getting (for example) nine heads out of ten coin toses. The binomial theorem can be used to determine this probability. \n",
    "\n",
    "The binomial theorum is a formula that accepts the total number of flips, the total number of positive outcomes, and probiblity of a positive outcomes. It returns the probability of getting this many positive outcomes.\n",
    "\n",
    "For instance getting ten heads out of ten coin tosses is very unlikely. Where as getting less then five heads is much more likely.\n",
    "\n",
    "Any seqeunce of coin tosses is equally likely because they are independent. For instance `H H T H` is jsut as likely as `H H H H`. However getting four heads out of four tosses is less likely then getting three heads out of four tosses. The reason why is that there is only one way to get four heads which is `H H H H`. Where as there are multiple ways to get three heads `H H T H` `H T H H` `T H H H` `H H H T`. From this we know that getting three heads is four times as likely as getting four heads. \n"
   ]
  },
  {
   "cell_type": "markdown",
   "metadata": {},
   "source": [
    "One thing thats important to understand the differences between independent and dependent events. In a independent event the outcomes of of an event doesn't event affect the outcome of other events. In a dependent event the outcome of something is dependent on another event or outcome.\n",
    "\n",
    "Coinflips are independent events. Coin flips are independent events because when we flip a coin once we get tails. If we flip it again the outcome the second outcome doesn't depend on the first outcome\n",
    "\n",
    "Because of this every seqeunce is equally likely. Because coin flips are independent events every sequence is equaly likely. You are equally likely to get heads or tails everytime. One coin flip outcome doesn't depend on another. However the possibility of getting heads four times in a row is not euqally likely.  \n",
    "\n",
    "However understand that aggregates are not euqally likely. They are not equally likely because there is only one way of getting heads for times. This looks like this `H H H H`. This is something we can prove with the binomial theorem. "
   ]
  },
  {
   "cell_type": "markdown",
   "metadata": {},
   "source": [
    "# Solving the Problem\n",
    "To start to solve our problem of wanting to find out what the probability of getting nine heads out of ten coin flips we can first start by finding how many possible outcomes there are from flipping a coin 10 times. We can do this by doing `2^n` (where `n` is the number of coin flips). In our case `2^10` which is equal to `1024`. This means that wen we flip a coin 10 times the number of possible outcomes are `1024` all which are equally likely. Now that we know this"
   ]
  },
  {
   "cell_type": "markdown",
   "metadata": {},
   "source": [
    "Now that we have the number of possible outcomes `(1024)` we want to be able to predict whats the possibility of them being heads. We can do this by doing $ {n \\choose k }$. For example if we wanted to see what the probability of `0` out of the ten coin flips are heads we could use $ {n \\choose k }$. But its even simpler than that. We know that there is only one way we can get zero heads. That would mean that all ten conflips tunred out tails and would look like this `T T T T T T T T T T`. So the probaility of that would be $ \\frac{1}{1024}$. We can n choose k to prove this. \n",
    "\n",
    "This will help us prove that there is only 1 possible way of getting 0 heads. $ {n \\choose k} = \\frac{n!}{k!(n-k)!} $\n",
    "\n",
    "This here is the probabilty of getting 0 heads in ten coin flips. $ {10 \\choose 0} $ can be read as we have ten coin flips and were choosing 0 of them to be heads. \n",
    "## $ p(0) = \\frac{10 \\choose 0}{1024} = \\frac{10!}{0!(10-0)!} = \\frac{10!}{1*10!} = \\frac{10!}{10!}=  1 = 1/1024 = 0.0009765625$ \n",
    " \n",
    " "
   ]
  },
  {
   "cell_type": "code",
   "execution_count": 50,
   "metadata": {},
   "outputs": [],
   "source": [
    "import numpy as np\n",
    "import matplotlib.pyplot as plt\n",
    "import math"
   ]
  },
  {
   "cell_type": "code",
   "execution_count": 51,
   "metadata": {},
   "outputs": [],
   "source": [
    "def n_choose_k(n, k):\n",
    "    \"\"\"this function will do n choose k\"\"\"\n",
    "    n_factorial = math.factorial(n)\n",
    "    k_factorial = math.factorial(k)\n",
    "    n_minus_k_factorial = math.factorial(n-k)\n",
    "    \n",
    "    return int((n_factorial/(k_factorial*(n_minus_k_factorial))))"
   ]
  },
  {
   "cell_type": "code",
   "execution_count": 52,
   "metadata": {},
   "outputs": [
    {
     "data": {
      "text/plain": [
       "1"
      ]
     },
     "execution_count": 52,
     "metadata": {},
     "output_type": "execute_result"
    }
   ],
   "source": [
    "n_choose_k(10, 0)"
   ]
  },
  {
   "cell_type": "code",
   "execution_count": 53,
   "metadata": {},
   "outputs": [],
   "source": [
    "def graph(x, y):\n",
    "    plt.scatter(x, y, color='b')\n",
    "    plt.show()"
   ]
  },
  {
   "cell_type": "code",
   "execution_count": 54,
   "metadata": {},
   "outputs": [],
   "source": [
    "def get_dist(n):\n",
    "    nums = []\n",
    "    for i in range(n+1):\n",
    "        nums.append([i, n_choose_k(n, i)])\n",
    "    nums = np.array(nums)\n",
    "    graph(nums[0:len(nums):,0], nums[0:len(nums):,1])"
   ]
  },
  {
   "cell_type": "code",
   "execution_count": 55,
   "metadata": {},
   "outputs": [
    {
     "data": {
      "image/png": "[encoded data removed]",
      "text/plain": [
       "<Figure size 432x288 with 1 Axes>"
      ]
     },
     "metadata": {
      "needs_background": "light"
     },
     "output_type": "display_data"
    }
   ],
   "source": [
    "get_dist(10)"
   ]
  },
  {
   "cell_type": "code",
   "execution_count": null,
   "metadata": {},
   "outputs": [],
   "source": []
  }
 ],
 "metadata": {
  "kernelspec": {
   "display_name": "Python 3",
   "language": "python",
   "name": "python3"
  },
  "language_info": {
   "codemirror_mode": {
    "name": "ipython",
    "version": 3
   },
   "file_extension": ".py",
   "mimetype": "text/x-python",
   "name": "python",
   "nbconvert_exporter": "python",
   "pygments_lexer": "ipython3",
   "version": "3.7.3"
  }
 },
 "nbformat": 4,
 "nbformat_minor": 4
}
