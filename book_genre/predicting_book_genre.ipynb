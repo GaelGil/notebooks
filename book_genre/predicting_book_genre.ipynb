{
 "cells": [
  {
   "cell_type": "code",
   "execution_count": 1,
   "metadata": {},
   "outputs": [],
   "source": [
    "import numpy as np \n",
    "import pandas as pd \n",
    "%matplotlib inline\n",
    "from matplotlib import pyplot as plt\n",
    "from matplotlib import style\n",
    "from sklearn.metrics import classification_report, confusion_matrix, f1_score\n",
    "from sklearn import linear_model\n",
    "from sklearn.linear_model import LogisticRegression"
   ]
  },
  {
   "cell_type": "code",
   "execution_count": 2,
   "metadata": {},
   "outputs": [],
   "source": [
    "from read_books import get_features"
   ]
  },
  {
   "cell_type": "code",
   "execution_count": 3,
   "metadata": {},
   "outputs": [],
   "source": [
    "data = get_features()"
   ]
  },
  {
   "cell_type": "code",
   "execution_count": 4,
   "metadata": {},
   "outputs": [
    {
     "data": {
      "text/html": [
       "<div>\n",
       "<style scoped>\n",
       "    .dataframe tbody tr th:only-of-type {\n",
       "        vertical-align: middle;\n",
       "    }\n",
       "\n",
       "    .dataframe tbody tr th {\n",
       "        vertical-align: top;\n",
       "    }\n",
       "\n",
       "    .dataframe thead th {\n",
       "        text-align: right;\n",
       "    }\n",
       "</style>\n",
       "<table border=\"1\" class=\"dataframe\">\n",
       "  <thead>\n",
       "    <tr style=\"text-align: right;\">\n",
       "      <th></th>\n",
       "      <th>Name</th>\n",
       "      <th>Book Length</th>\n",
       "      <th>Average Word Length</th>\n",
       "      <th>Length NoRepeat</th>\n",
       "      <th>Words</th>\n",
       "    </tr>\n",
       "  </thead>\n",
       "  <tbody>\n",
       "    <tr>\n",
       "      <th>0</th>\n",
       "      <td>cook_book_three</td>\n",
       "      <td>33399</td>\n",
       "      <td>4.777418</td>\n",
       "      <td>3850</td>\n",
       "      <td>[the, project, gutenberg, ebook, of, new, roya...</td>\n",
       "    </tr>\n",
       "    <tr>\n",
       "      <th>1</th>\n",
       "      <td>shakesepea</td>\n",
       "      <td>961235</td>\n",
       "      <td>4.487890</td>\n",
       "      <td>67380</td>\n",
       "      <td>[project, gutenberg’s, the, complete, works, o...</td>\n",
       "    </tr>\n",
       "    <tr>\n",
       "      <th>2</th>\n",
       "      <td>cook_book_four</td>\n",
       "      <td>35116</td>\n",
       "      <td>4.443644</td>\n",
       "      <td>4551</td>\n",
       "      <td>[the, project, gutenberg, ebook, of, the, ital...</td>\n",
       "    </tr>\n",
       "    <tr>\n",
       "      <th>3</th>\n",
       "      <td>novel</td>\n",
       "      <td>163939</td>\n",
       "      <td>4.212189</td>\n",
       "      <td>17977</td>\n",
       "      <td>[the, project, gutenberg, ebook, of, dracula,,...</td>\n",
       "    </tr>\n",
       "    <tr>\n",
       "      <th>4</th>\n",
       "      <td>edgar_allenpoe</td>\n",
       "      <td>447398</td>\n",
       "      <td>4.736134</td>\n",
       "      <td>48559</td>\n",
       "      <td>[the, project, gutenberg, ebook, of, the, work...</td>\n",
       "    </tr>\n",
       "    <tr>\n",
       "      <th>5</th>\n",
       "      <td>cook_book</td>\n",
       "      <td>11188</td>\n",
       "      <td>5.014659</td>\n",
       "      <td>2432</td>\n",
       "      <td>[the, project, gutenberg, ebook, of, californi...</td>\n",
       "    </tr>\n",
       "    <tr>\n",
       "      <th>6</th>\n",
       "      <td>cook_book_two</td>\n",
       "      <td>50592</td>\n",
       "      <td>4.737053</td>\n",
       "      <td>10897</td>\n",
       "      <td>[the, project, gutenberg, ebook,, old, cookery...</td>\n",
       "    </tr>\n",
       "  </tbody>\n",
       "</table>\n",
       "</div>"
      ],
      "text/plain": [
       "              Name  Book Length  Average Word Length  Length NoRepeat  \\\n",
       "0  cook_book_three        33399             4.777418             3850   \n",
       "1       shakesepea       961235             4.487890            67380   \n",
       "2   cook_book_four        35116             4.443644             4551   \n",
       "3            novel       163939             4.212189            17977   \n",
       "4   edgar_allenpoe       447398             4.736134            48559   \n",
       "5        cook_book        11188             5.014659             2432   \n",
       "6    cook_book_two        50592             4.737053            10897   \n",
       "\n",
       "                                               Words  \n",
       "0  [the, project, gutenberg, ebook, of, new, roya...  \n",
       "1  [project, gutenberg’s, the, complete, works, o...  \n",
       "2  [the, project, gutenberg, ebook, of, the, ital...  \n",
       "3  [the, project, gutenberg, ebook, of, dracula,,...  \n",
       "4  [the, project, gutenberg, ebook, of, the, work...  \n",
       "5  [the, project, gutenberg, ebook, of, californi...  \n",
       "6  [the, project, gutenberg, ebook,, old, cookery...  "
      ]
     },
     "execution_count": 4,
     "metadata": {},
     "output_type": "execute_result"
    }
   ],
   "source": [
    "data"
   ]
  },
  {
   "cell_type": "code",
   "execution_count": null,
   "metadata": {},
   "outputs": [],
   "source": []
  },
  {
   "cell_type": "code",
   "execution_count": null,
   "metadata": {},
   "outputs": [],
   "source": []
  }
 ],
 "metadata": {
  "kernelspec": {
   "display_name": "Python 3",
   "language": "python",
   "name": "python3"
  },
  "language_info": {
   "codemirror_mode": {
    "name": "ipython",
    "version": 3
   },
   "file_extension": ".py",
   "mimetype": "text/x-python",
   "name": "python",
   "nbconvert_exporter": "python",
   "pygments_lexer": "ipython3",
   "version": "3.7.3"
  }
 },
 "nbformat": 4,
 "nbformat_minor": 4
}
