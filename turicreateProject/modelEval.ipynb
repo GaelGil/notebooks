{
 "cells": [
  {
   "cell_type": "code",
   "execution_count": 10,
   "metadata": {},
   "outputs": [],
   "source": [
    "import turicreate as tc\n",
    "import os\n",
    "import pandas as pd"
   ]
  },
  {
   "cell_type": "markdown",
   "metadata": {},
   "source": [
    "## Data Pipeline\n",
    "The images I have come from reddit and stockx. I have data for jordan `one, three, four, eleven` (these are models of jordans). I took a screenshot of each shoe at different angles. I have about an average of 150 images for each jordan in the `dataset` folder. Some are higher quality while some are blurry, some are being worn, some are just shoes, some have 2 shoes in one photo, different angles (ie. back, front, left, right), etc. In total I have 3 datasets and 3 models. My first model `(sneaker.model)` was trained on the the `datset` folder which is just every image I collected (no filter). My second model `(filteredSneaker.model)` was trained with the same images but with a filter applied to them. Here are some examples of what my model was trained on. \n",
    " \n",
    " ### First model <br>\n",
    " <img src=\"./dataset/jordan_one/readMeImage.png\" width=\"250\" height=\"250\">\n",
    " \n",
    " ### Second model <br>\n",
    " <img src=\"./filteredDataset/jordan_one/readMeImgEx.png\" width=\"250\" height=\"250\">\n",
    "\n",
    "\n",
    "I knew that I neeede to increase my ammount of data so my third model `moreSneaker.model` was trained using an expanded version of my original dataset. I create a python file that went through my `dataset` folder and applied a filter to each of them. Each photo would get 5 filters applied to them (flipped vertically, flipped horizontally, black and white, saturated, blurred). Once I did this I ended up with about 900 images for each class. Here are some examples of what my third model was trained on:\n",
    "\n",
    "  ### Original <br>\n",
    " <img src=\"./expandedDataset/jordan_eleven/1jordanElevenRed.png\" width=\"250\" height=\"250\">\n",
    " \n",
    "  ### Black and White <br>\n",
    " <img src=\"./expandedDataset/jordan_eleven/2jordanElevenRed.png\" width=\"250\" height=\"250\">\n",
    " \n",
    "   ### Blurred <br>\n",
    " <img src=\"./expandedDataset/jordan_eleven/3jordanElevenRed.png\" width=\"250\" height=\"250\">\n",
    " \n",
    "   ### Saturated <br>\n",
    " <img src=\"./expandedDataset/jordan_eleven/4jordanElevenRed.png\" width=\"250\" height=\"250\">\n",
    " \n",
    "   ### Horizontal Filp <br>\n",
    " <img src=\"./expandedDataset/jordan_eleven/5jordanElevenRed.png\" width=\"250\" height=\"250\">\n",
    " \n",
    "   ### Vertical Flip <br>\n",
    " <img src=\"./expandedDataset/jordan_eleven/6jordanElevenRed.png\" width=\"250\" height=\"250\">\n",
    "\n",
    "\n",
    " \n",
    "I then tried to run my model again and see if test accuracy would change but there was little to know change. My model was performing best when my classes were slightly disbalanced. This could mean my model was predicting a certain class more often because of my dataset and there for getting high test accuracy. I can try and prove this by creating a model with a very disbalanced dataset and see how that turns out."
   ]
  },
  {
   "cell_type": "markdown",
   "metadata": {},
   "source": [
    "## Evaluating My Model"
   ]
  },
  {
   "cell_type": "code",
   "execution_count": null,
   "metadata": {},
   "outputs": [],
   "source": [
    "from createModel import trainAndSaveModel"
   ]
  },
  {
   "cell_type": "code",
   "execution_count": 2,
   "metadata": {},
   "outputs": [
    {
     "data": {
      "text/html": [
       "<pre>Downloading base mlmodel</pre>"
      ],
      "text/plain": [
       "Downloading base mlmodel"
      ]
     },
     "metadata": {},
     "output_type": "display_data"
    },
    {
     "data": {
      "text/html": [
       "<pre>Downloading https://docs-assets.developer.apple.com/turicreate/models/resnet-50-TuriCreate-6.0.mlmodel to /var/folders/gl/02pcvg9d33b44lhxcb_b6b280000gn/T/model_cache/resnet-50.mlmodel</pre>"
      ],
      "text/plain": [
       "Downloading https://docs-assets.developer.apple.com/turicreate/models/resnet-50-TuriCreate-6.0.mlmodel to /var/folders/gl/02pcvg9d33b44lhxcb_b6b280000gn/T/model_cache/resnet-50.mlmodel"
      ]
     },
     "metadata": {},
     "output_type": "display_data"
    },
    {
     "data": {
      "text/html": [
       "<pre>Using GPU (Intel HD Graphics 5000) to extract features.</pre>"
      ],
      "text/plain": [
       "Using GPU (Intel HD Graphics 5000) to extract features."
      ]
     },
     "metadata": {},
     "output_type": "display_data"
    },
    {
     "data": {
      "text/html": [
       "<pre>Analyzing and extracting image features.</pre>"
      ],
      "text/plain": [
       "Analyzing and extracting image features."
      ]
     },
     "metadata": {},
     "output_type": "display_data"
    },
    {
     "data": {
      "text/html": [
       "<pre>+------------------+--------------+------------------+</pre>"
      ],
      "text/plain": [
       "+------------------+--------------+------------------+"
      ]
     },
     "metadata": {},
     "output_type": "display_data"
    },
    {
     "data": {
      "text/html": [
       "<pre>| Images Processed | Elapsed Time | Percent Complete |</pre>"
      ],
      "text/plain": [
       "| Images Processed | Elapsed Time | Percent Complete |"
      ]
     },
     "metadata": {},
     "output_type": "display_data"
    },
    {
     "data": {
      "text/html": [
       "<pre>+------------------+--------------+------------------+</pre>"
      ],
      "text/plain": [
       "+------------------+--------------+------------------+"
      ]
     },
     "metadata": {},
     "output_type": "display_data"
    },
    {
     "data": {
      "text/html": [
       "<pre>| 64               | 5.88s        | 2%               |</pre>"
      ],
      "text/plain": [
       "| 64               | 5.88s        | 2%               |"
      ]
     },
     "metadata": {},
     "output_type": "display_data"
    },
    {
     "data": {
      "text/html": [
       "<pre>| 128              | 11.31s       | 4.25%            |</pre>"
      ],
      "text/plain": [
       "| 128              | 11.31s       | 4.25%            |"
      ]
     },
     "metadata": {},
     "output_type": "display_data"
    },
    {
     "data": {
      "text/html": [
       "<pre>| 192              | 17.25s       | 6.25%            |</pre>"
      ],
      "text/plain": [
       "| 192              | 17.25s       | 6.25%            |"
      ]
     },
     "metadata": {},
     "output_type": "display_data"
    },
    {
     "data": {
      "text/html": [
       "<pre>| 256              | 23.54s       | 8.5%             |</pre>"
      ],
      "text/plain": [
       "| 256              | 23.54s       | 8.5%             |"
      ]
     },
     "metadata": {},
     "output_type": "display_data"
    },
    {
     "data": {
      "text/html": [
       "<pre>| 320              | 30.06s       | 10.5%            |</pre>"
      ],
      "text/plain": [
       "| 320              | 30.06s       | 10.5%            |"
      ]
     },
     "metadata": {},
     "output_type": "display_data"
    },
    {
     "data": {
      "text/html": [
       "<pre>| 448              | 44.18s       | 14.75%           |</pre>"
      ],
      "text/plain": [
       "| 448              | 44.18s       | 14.75%           |"
      ]
     },
     "metadata": {},
     "output_type": "display_data"
    },
    {
     "data": {
      "text/html": [
       "<pre>| 512              | 50.89s       | 17%              |</pre>"
      ],
      "text/plain": [
       "| 512              | 50.89s       | 17%              |"
      ]
     },
     "metadata": {},
     "output_type": "display_data"
    },
    {
     "data": {
      "text/html": [
       "<pre>| 576              | 58.26s       | 19%              |</pre>"
      ],
      "text/plain": [
       "| 576              | 58.26s       | 19%              |"
      ]
     },
     "metadata": {},
     "output_type": "display_data"
    },
    {
     "data": {
      "text/html": [
       "<pre>| 640              | 1m 5s        | 21.25%           |</pre>"
      ],
      "text/plain": [
       "| 640              | 1m 5s        | 21.25%           |"
      ]
     },
     "metadata": {},
     "output_type": "display_data"
    },
    {
     "data": {
      "text/html": [
       "<pre>| 704              | 1m 12s       | 23.25%           |</pre>"
      ],
      "text/plain": [
       "| 704              | 1m 12s       | 23.25%           |"
      ]
     },
     "metadata": {},
     "output_type": "display_data"
    },
    {
     "data": {
      "text/html": [
       "<pre>| 768              | 1m 20s       | 25.5%            |</pre>"
      ],
      "text/plain": [
       "| 768              | 1m 20s       | 25.5%            |"
      ]
     },
     "metadata": {},
     "output_type": "display_data"
    },
    {
     "data": {
      "text/html": [
       "<pre>| 832              | 1m 27s       | 27.5%            |</pre>"
      ],
      "text/plain": [
       "| 832              | 1m 27s       | 27.5%            |"
      ]
     },
     "metadata": {},
     "output_type": "display_data"
    },
    {
     "data": {
      "text/html": [
       "<pre>| 896              | 1m 34s       | 29.75%           |</pre>"
      ],
      "text/plain": [
       "| 896              | 1m 34s       | 29.75%           |"
      ]
     },
     "metadata": {},
     "output_type": "display_data"
    },
    {
     "data": {
      "text/html": [
       "<pre>| 960              | 1m 42s       | 31.75%           |</pre>"
      ],
      "text/plain": [
       "| 960              | 1m 42s       | 31.75%           |"
      ]
     },
     "metadata": {},
     "output_type": "display_data"
    },
    {
     "data": {
      "text/html": [
       "<pre>| 1024             | 1m 49s       | 34%              |</pre>"
      ],
      "text/plain": [
       "| 1024             | 1m 49s       | 34%              |"
      ]
     },
     "metadata": {},
     "output_type": "display_data"
    },
    {
     "data": {
      "text/html": [
       "<pre>| 1088             | 1m 56s       | 36%              |</pre>"
      ],
      "text/plain": [
       "| 1088             | 1m 56s       | 36%              |"
      ]
     },
     "metadata": {},
     "output_type": "display_data"
    },
    {
     "data": {
      "text/html": [
       "<pre>| 1152             | 2m 3s        | 38.25%           |</pre>"
      ],
      "text/plain": [
       "| 1152             | 2m 3s        | 38.25%           |"
      ]
     },
     "metadata": {},
     "output_type": "display_data"
    },
    {
     "data": {
      "text/html": [
       "<pre>| 1216             | 2m 11s       | 40.25%           |</pre>"
      ],
      "text/plain": [
       "| 1216             | 2m 11s       | 40.25%           |"
      ]
     },
     "metadata": {},
     "output_type": "display_data"
    },
    {
     "data": {
      "text/html": [
       "<pre>| 1280             | 2m 18s       | 42.5%            |</pre>"
      ],
      "text/plain": [
       "| 1280             | 2m 18s       | 42.5%            |"
      ]
     },
     "metadata": {},
     "output_type": "display_data"
    },
    {
     "data": {
      "text/html": [
       "<pre>| 1344             | 2m 25s       | 44.5%            |</pre>"
      ],
      "text/plain": [
       "| 1344             | 2m 25s       | 44.5%            |"
      ]
     },
     "metadata": {},
     "output_type": "display_data"
    },
    {
     "data": {
      "text/html": [
       "<pre>| 1408             | 2m 32s       | 46.75%           |</pre>"
      ],
      "text/plain": [
       "| 1408             | 2m 32s       | 46.75%           |"
      ]
     },
     "metadata": {},
     "output_type": "display_data"
    },
    {
     "data": {
      "text/html": [
       "<pre>| 1472             | 2m 39s       | 48.75%           |</pre>"
      ],
      "text/plain": [
       "| 1472             | 2m 39s       | 48.75%           |"
      ]
     },
     "metadata": {},
     "output_type": "display_data"
    },
    {
     "data": {
      "text/html": [
       "<pre>| 1536             | 2m 46s       | 51%              |</pre>"
      ],
      "text/plain": [
       "| 1536             | 2m 46s       | 51%              |"
      ]
     },
     "metadata": {},
     "output_type": "display_data"
    },
    {
     "data": {
      "text/html": [
       "<pre>| 1600             | 2m 53s       | 53%              |</pre>"
      ],
      "text/plain": [
       "| 1600             | 2m 53s       | 53%              |"
      ]
     },
     "metadata": {},
     "output_type": "display_data"
    },
    {
     "data": {
      "text/html": [
       "<pre>| 1664             | 3m 0s        | 55.25%           |</pre>"
      ],
      "text/plain": [
       "| 1664             | 3m 0s        | 55.25%           |"
      ]
     },
     "metadata": {},
     "output_type": "display_data"
    },
    {
     "data": {
      "text/html": [
       "<pre>| 1728             | 3m 8s        | 57.25%           |</pre>"
      ],
      "text/plain": [
       "| 1728             | 3m 8s        | 57.25%           |"
      ]
     },
     "metadata": {},
     "output_type": "display_data"
    },
    {
     "data": {
      "text/html": [
       "<pre>| 1792             | 3m 14s       | 59.5%            |</pre>"
      ],
      "text/plain": [
       "| 1792             | 3m 14s       | 59.5%            |"
      ]
     },
     "metadata": {},
     "output_type": "display_data"
    },
    {
     "data": {
      "text/html": [
       "<pre>| 1856             | 3m 21s       | 61.5%            |</pre>"
      ],
      "text/plain": [
       "| 1856             | 3m 21s       | 61.5%            |"
      ]
     },
     "metadata": {},
     "output_type": "display_data"
    },
    {
     "data": {
      "text/html": [
       "<pre>| 1920             | 3m 29s       | 63.75%           |</pre>"
      ],
      "text/plain": [
       "| 1920             | 3m 29s       | 63.75%           |"
      ]
     },
     "metadata": {},
     "output_type": "display_data"
    },
    {
     "data": {
      "text/html": [
       "<pre>| 1984             | 3m 35s       | 65.75%           |</pre>"
      ],
      "text/plain": [
       "| 1984             | 3m 35s       | 65.75%           |"
      ]
     },
     "metadata": {},
     "output_type": "display_data"
    },
    {
     "data": {
      "text/html": [
       "<pre>| 2048             | 3m 43s       | 68%              |</pre>"
      ],
      "text/plain": [
       "| 2048             | 3m 43s       | 68%              |"
      ]
     },
     "metadata": {},
     "output_type": "display_data"
    },
    {
     "data": {
      "text/html": [
       "<pre>| 2112             | 3m 49s       | 70%              |</pre>"
      ],
      "text/plain": [
       "| 2112             | 3m 49s       | 70%              |"
      ]
     },
     "metadata": {},
     "output_type": "display_data"
    },
    {
     "data": {
      "text/html": [
       "<pre>| 2176             | 3m 57s       | 72.25%           |</pre>"
      ],
      "text/plain": [
       "| 2176             | 3m 57s       | 72.25%           |"
      ]
     },
     "metadata": {},
     "output_type": "display_data"
    },
    {
     "data": {
      "text/html": [
       "<pre>| 2240             | 4m 3s        | 74.25%           |</pre>"
      ],
      "text/plain": [
       "| 2240             | 4m 3s        | 74.25%           |"
      ]
     },
     "metadata": {},
     "output_type": "display_data"
    },
    {
     "data": {
      "text/html": [
       "<pre>| 2304             | 4m 10s       | 76.5%            |</pre>"
      ],
      "text/plain": [
       "| 2304             | 4m 10s       | 76.5%            |"
      ]
     },
     "metadata": {},
     "output_type": "display_data"
    },
    {
     "data": {
      "text/html": [
       "<pre>| 2368             | 4m 17s       | 78.5%            |</pre>"
      ],
      "text/plain": [
       "| 2368             | 4m 17s       | 78.5%            |"
      ]
     },
     "metadata": {},
     "output_type": "display_data"
    },
    {
     "data": {
      "text/html": [
       "<pre>| 2432             | 4m 24s       | 80.75%           |</pre>"
      ],
      "text/plain": [
       "| 2432             | 4m 24s       | 80.75%           |"
      ]
     },
     "metadata": {},
     "output_type": "display_data"
    },
    {
     "data": {
      "text/html": [
       "<pre>| 2496             | 4m 31s       | 82.75%           |</pre>"
      ],
      "text/plain": [
       "| 2496             | 4m 31s       | 82.75%           |"
      ]
     },
     "metadata": {},
     "output_type": "display_data"
    },
    {
     "data": {
      "text/html": [
       "<pre>| 2560             | 4m 39s       | 85%              |</pre>"
      ],
      "text/plain": [
       "| 2560             | 4m 39s       | 85%              |"
      ]
     },
     "metadata": {},
     "output_type": "display_data"
    },
    {
     "data": {
      "text/html": [
       "<pre>| 2624             | 4m 46s       | 87%              |</pre>"
      ],
      "text/plain": [
       "| 2624             | 4m 46s       | 87%              |"
      ]
     },
     "metadata": {},
     "output_type": "display_data"
    },
    {
     "data": {
      "text/html": [
       "<pre>| 2688             | 4m 53s       | 89.25%           |</pre>"
      ],
      "text/plain": [
       "| 2688             | 4m 53s       | 89.25%           |"
      ]
     },
     "metadata": {},
     "output_type": "display_data"
    },
    {
     "data": {
      "text/html": [
       "<pre>| 2752             | 5m 1s        | 91.25%           |</pre>"
      ],
      "text/plain": [
       "| 2752             | 5m 1s        | 91.25%           |"
      ]
     },
     "metadata": {},
     "output_type": "display_data"
    },
    {
     "data": {
      "text/html": [
       "<pre>| 2816             | 5m 7s        | 93.5%            |</pre>"
      ],
      "text/plain": [
       "| 2816             | 5m 7s        | 93.5%            |"
      ]
     },
     "metadata": {},
     "output_type": "display_data"
    },
    {
     "data": {
      "text/html": [
       "<pre>| 2880             | 5m 14s       | 95.5%            |</pre>"
      ],
      "text/plain": [
       "| 2880             | 5m 14s       | 95.5%            |"
      ]
     },
     "metadata": {},
     "output_type": "display_data"
    },
    {
     "data": {
      "text/html": [
       "<pre>| 2944             | 5m 19s       | 97.75%           |</pre>"
      ],
      "text/plain": [
       "| 2944             | 5m 19s       | 97.75%           |"
      ]
     },
     "metadata": {},
     "output_type": "display_data"
    },
    {
     "data": {
      "text/html": [
       "<pre>| 2987             | 5m 26s       | 100%             |</pre>"
      ],
      "text/plain": [
       "| 2987             | 5m 26s       | 100%             |"
      ]
     },
     "metadata": {},
     "output_type": "display_data"
    },
    {
     "data": {
      "text/html": [
       "<pre>+------------------+--------------+------------------+</pre>"
      ],
      "text/plain": [
       "+------------------+--------------+------------------+"
      ]
     },
     "metadata": {},
     "output_type": "display_data"
    },
    {
     "name": "stdout",
     "output_type": "stream",
     "text": [
      "PROGRESS: Creating a validation set from 5 percent of training data. This may take a while.\n",
      "          You can set ``validation_set=None`` to disable validation tracking.\n",
      "\n"
     ]
    },
    {
     "data": {
      "text/html": [
       "<pre>Logistic regression:</pre>"
      ],
      "text/plain": [
       "Logistic regression:"
      ]
     },
     "metadata": {},
     "output_type": "display_data"
    },
    {
     "data": {
      "text/html": [
       "<pre>--------------------------------------------------------</pre>"
      ],
      "text/plain": [
       "--------------------------------------------------------"
      ]
     },
     "metadata": {},
     "output_type": "display_data"
    },
    {
     "data": {
      "text/html": [
       "<pre>Number of examples          : 2837</pre>"
      ],
      "text/plain": [
       "Number of examples          : 2837"
      ]
     },
     "metadata": {},
     "output_type": "display_data"
    },
    {
     "data": {
      "text/html": [
       "<pre>Number of classes           : 4</pre>"
      ],
      "text/plain": [
       "Number of classes           : 4"
      ]
     },
     "metadata": {},
     "output_type": "display_data"
    },
    {
     "data": {
      "text/html": [
       "<pre>Number of feature columns   : 1</pre>"
      ],
      "text/plain": [
       "Number of feature columns   : 1"
      ]
     },
     "metadata": {},
     "output_type": "display_data"
    },
    {
     "data": {
      "text/html": [
       "<pre>Number of unpacked features : 2048</pre>"
      ],
      "text/plain": [
       "Number of unpacked features : 2048"
      ]
     },
     "metadata": {},
     "output_type": "display_data"
    },
    {
     "data": {
      "text/html": [
       "<pre>Number of coefficients      : 6147</pre>"
      ],
      "text/plain": [
       "Number of coefficients      : 6147"
      ]
     },
     "metadata": {},
     "output_type": "display_data"
    },
    {
     "data": {
      "text/html": [
       "<pre>Starting L-BFGS</pre>"
      ],
      "text/plain": [
       "Starting L-BFGS"
      ]
     },
     "metadata": {},
     "output_type": "display_data"
    },
    {
     "data": {
      "text/html": [
       "<pre>--------------------------------------------------------</pre>"
      ],
      "text/plain": [
       "--------------------------------------------------------"
      ]
     },
     "metadata": {},
     "output_type": "display_data"
    },
    {
     "data": {
      "text/html": [
       "<pre>+-----------+----------+-----------+--------------+-------------------+---------------------+</pre>"
      ],
      "text/plain": [
       "+-----------+----------+-----------+--------------+-------------------+---------------------+"
      ]
     },
     "metadata": {},
     "output_type": "display_data"
    },
    {
     "data": {
      "text/html": [
       "<pre>| Iteration | Passes   | Step size | Elapsed Time | Training Accuracy | Validation Accuracy |</pre>"
      ],
      "text/plain": [
       "| Iteration | Passes   | Step size | Elapsed Time | Training Accuracy | Validation Accuracy |"
      ]
     },
     "metadata": {},
     "output_type": "display_data"
    },
    {
     "data": {
      "text/html": [
       "<pre>+-----------+----------+-----------+--------------+-------------------+---------------------+</pre>"
      ],
      "text/plain": [
       "+-----------+----------+-----------+--------------+-------------------+---------------------+"
      ]
     },
     "metadata": {},
     "output_type": "display_data"
    },
    {
     "data": {
      "text/html": [
       "<pre>| 0         | 4        | 0.250000  | 0.888353     | 0.548467          | 0.433333            |</pre>"
      ],
      "text/plain": [
       "| 0         | 4        | 0.250000  | 0.888353     | 0.548467          | 0.433333            |"
      ]
     },
     "metadata": {},
     "output_type": "display_data"
    },
    {
     "data": {
      "text/html": [
       "<pre>| 1         | 6        | 0.250000  | 1.514757     | 0.574903          | 0.460000            |</pre>"
      ],
      "text/plain": [
       "| 1         | 6        | 0.250000  | 1.514757     | 0.574903          | 0.460000            |"
      ]
     },
     "metadata": {},
     "output_type": "display_data"
    },
    {
     "data": {
      "text/html": [
       "<pre>| 2         | 7        | 0.312500  | 1.958466     | 0.575608          | 0.486667            |</pre>"
      ],
      "text/plain": [
       "| 2         | 7        | 0.312500  | 1.958466     | 0.575608          | 0.486667            |"
      ]
     },
     "metadata": {},
     "output_type": "display_data"
    },
    {
     "data": {
      "text/html": [
       "<pre>| 3         | 10       | 1.562500  | 2.726757     | 0.667959          | 0.580000            |</pre>"
      ],
      "text/plain": [
       "| 3         | 10       | 1.562500  | 2.726757     | 0.667959          | 0.580000            |"
      ]
     },
     "metadata": {},
     "output_type": "display_data"
    },
    {
     "data": {
      "text/html": [
       "<pre>| 4         | 15       | 1.319035  | 3.895221     | 0.703560          | 0.626667            |</pre>"
      ],
      "text/plain": [
       "| 4         | 15       | 1.319035  | 3.895221     | 0.703560          | 0.626667            |"
      ]
     },
     "metadata": {},
     "output_type": "display_data"
    },
    {
     "data": {
      "text/html": [
       "<pre>| 9         | 21       | 1.319035  | 6.148129     | 0.807896          | 0.733333            |</pre>"
      ],
      "text/plain": [
       "| 9         | 21       | 1.319035  | 6.148129     | 0.807896          | 0.733333            |"
      ]
     },
     "metadata": {},
     "output_type": "display_data"
    },
    {
     "data": {
      "text/html": [
       "<pre>+-----------+----------+-----------+--------------+-------------------+---------------------+</pre>"
      ],
      "text/plain": [
       "+-----------+----------+-----------+--------------+-------------------+---------------------+"
      ]
     },
     "metadata": {},
     "output_type": "display_data"
    },
    {
     "data": {
      "text/html": [
       "<pre>Analyzing and extracting image features.</pre>"
      ],
      "text/plain": [
       "Analyzing and extracting image features."
      ]
     },
     "metadata": {},
     "output_type": "display_data"
    },
    {
     "data": {
      "text/html": [
       "<pre>+------------------+--------------+------------------+</pre>"
      ],
      "text/plain": [
       "+------------------+--------------+------------------+"
      ]
     },
     "metadata": {},
     "output_type": "display_data"
    },
    {
     "data": {
      "text/html": [
       "<pre>| Images Processed | Elapsed Time | Percent Complete |</pre>"
      ],
      "text/plain": [
       "| Images Processed | Elapsed Time | Percent Complete |"
      ]
     },
     "metadata": {},
     "output_type": "display_data"
    },
    {
     "data": {
      "text/html": [
       "<pre>+------------------+--------------+------------------+</pre>"
      ],
      "text/plain": [
       "+------------------+--------------+------------------+"
      ]
     },
     "metadata": {},
     "output_type": "display_data"
    },
    {
     "data": {
      "text/html": [
       "<pre>| 64               | 6.77s        | 7.5%             |</pre>"
      ],
      "text/plain": [
       "| 64               | 6.77s        | 7.5%             |"
      ]
     },
     "metadata": {},
     "output_type": "display_data"
    },
    {
     "data": {
      "text/html": [
       "<pre>| 128              | 14.01s       | 15.25%           |</pre>"
      ],
      "text/plain": [
       "| 128              | 14.01s       | 15.25%           |"
      ]
     },
     "metadata": {},
     "output_type": "display_data"
    },
    {
     "data": {
      "text/html": [
       "<pre>| 192              | 20.87s       | 23%              |</pre>"
      ],
      "text/plain": [
       "| 192              | 20.87s       | 23%              |"
      ]
     },
     "metadata": {},
     "output_type": "display_data"
    },
    {
     "data": {
      "text/html": [
       "<pre>| 256              | 27.73s       | 30.75%           |</pre>"
      ],
      "text/plain": [
       "| 256              | 27.73s       | 30.75%           |"
      ]
     },
     "metadata": {},
     "output_type": "display_data"
    },
    {
     "data": {
      "text/html": [
       "<pre>| 320              | 34.79s       | 38.25%           |</pre>"
      ],
      "text/plain": [
       "| 320              | 34.79s       | 38.25%           |"
      ]
     },
     "metadata": {},
     "output_type": "display_data"
    },
    {
     "data": {
      "text/html": [
       "<pre>| 448              | 48.86s       | 53.75%           |</pre>"
      ],
      "text/plain": [
       "| 448              | 48.86s       | 53.75%           |"
      ]
     },
     "metadata": {},
     "output_type": "display_data"
    },
    {
     "data": {
      "text/html": [
       "<pre>| 512              | 55.79s       | 61.5%            |</pre>"
      ],
      "text/plain": [
       "| 512              | 55.79s       | 61.5%            |"
      ]
     },
     "metadata": {},
     "output_type": "display_data"
    },
    {
     "data": {
      "text/html": [
       "<pre>| 576              | 1m 2s        | 69%              |</pre>"
      ],
      "text/plain": [
       "| 576              | 1m 2s        | 69%              |"
      ]
     },
     "metadata": {},
     "output_type": "display_data"
    },
    {
     "data": {
      "text/html": [
       "<pre>| 640              | 1m 9s        | 76.75%           |</pre>"
      ],
      "text/plain": [
       "| 640              | 1m 9s        | 76.75%           |"
      ]
     },
     "metadata": {},
     "output_type": "display_data"
    },
    {
     "data": {
      "text/html": [
       "<pre>| 704              | 1m 16s       | 84.5%            |</pre>"
      ],
      "text/plain": [
       "| 704              | 1m 16s       | 84.5%            |"
      ]
     },
     "metadata": {},
     "output_type": "display_data"
    },
    {
     "data": {
      "text/html": [
       "<pre>| 768              | 1m 23s       | 92.25%           |</pre>"
      ],
      "text/plain": [
       "| 768              | 1m 23s       | 92.25%           |"
      ]
     },
     "metadata": {},
     "output_type": "display_data"
    },
    {
     "data": {
      "text/html": [
       "<pre>| 769              | 1m 23s       | 100%             |</pre>"
      ],
      "text/plain": [
       "| 769              | 1m 23s       | 100%             |"
      ]
     },
     "metadata": {},
     "output_type": "display_data"
    },
    {
     "data": {
      "text/html": [
       "<pre>+------------------+--------------+------------------+</pre>"
      ],
      "text/plain": [
       "+------------------+--------------+------------------+"
      ]
     },
     "metadata": {},
     "output_type": "display_data"
    },
    {
     "name": "stdout",
     "output_type": "stream",
     "text": [
      "0.788036410923277\n"
     ]
    }
   ],
   "source": [
    "predictions = trainAndSaveModel()"
   ]
  },
  {
   "cell_type": "code",
   "execution_count": 15,
   "metadata": {},
   "outputs": [
    {
     "data": {
      "text/html": [
       "<div>\n",
       "<style scoped>\n",
       "    .dataframe tbody tr th:only-of-type {\n",
       "        vertical-align: middle;\n",
       "    }\n",
       "\n",
       "    .dataframe tbody tr th {\n",
       "        vertical-align: top;\n",
       "    }\n",
       "\n",
       "    .dataframe thead th {\n",
       "        text-align: right;\n",
       "    }\n",
       "</style>\n",
       "<table border=\"1\" class=\"dataframe\">\n",
       "  <thead>\n",
       "    <tr style=\"text-align: right;\">\n",
       "      <th></th>\n",
       "      <th>0</th>\n",
       "    </tr>\n",
       "  </thead>\n",
       "  <tbody>\n",
       "    <tr>\n",
       "      <th>0</th>\n",
       "      <td>jordan_one</td>\n",
       "    </tr>\n",
       "    <tr>\n",
       "      <th>1</th>\n",
       "      <td>jordan_eleven</td>\n",
       "    </tr>\n",
       "    <tr>\n",
       "      <th>2</th>\n",
       "      <td>jordan_eleven</td>\n",
       "    </tr>\n",
       "    <tr>\n",
       "      <th>3</th>\n",
       "      <td>jordan_eleven</td>\n",
       "    </tr>\n",
       "    <tr>\n",
       "      <th>4</th>\n",
       "      <td>jordan_eleven</td>\n",
       "    </tr>\n",
       "    <tr>\n",
       "      <th>...</th>\n",
       "      <td>...</td>\n",
       "    </tr>\n",
       "    <tr>\n",
       "      <th>764</th>\n",
       "      <td>jordan_three</td>\n",
       "    </tr>\n",
       "    <tr>\n",
       "      <th>765</th>\n",
       "      <td>jordan_three</td>\n",
       "    </tr>\n",
       "    <tr>\n",
       "      <th>766</th>\n",
       "      <td>jordan_three</td>\n",
       "    </tr>\n",
       "    <tr>\n",
       "      <th>767</th>\n",
       "      <td>jordan_three</td>\n",
       "    </tr>\n",
       "    <tr>\n",
       "      <th>768</th>\n",
       "      <td>jordan_three</td>\n",
       "    </tr>\n",
       "  </tbody>\n",
       "</table>\n",
       "<p>769 rows × 1 columns</p>\n",
       "</div>"
      ],
      "text/plain": [
       "                 0\n",
       "0       jordan_one\n",
       "1    jordan_eleven\n",
       "2    jordan_eleven\n",
       "3    jordan_eleven\n",
       "4    jordan_eleven\n",
       "..             ...\n",
       "764   jordan_three\n",
       "765   jordan_three\n",
       "766   jordan_three\n",
       "767   jordan_three\n",
       "768   jordan_three\n",
       "\n",
       "[769 rows x 1 columns]"
      ]
     },
     "execution_count": 15,
     "metadata": {},
     "output_type": "execute_result"
    }
   ],
   "source": [
    "df = pd.DataFrame(predictions)\n",
    "df"
   ]
  },
  {
   "cell_type": "markdown",
   "metadata": {},
   "source": [
    "## Testing With My Own Images\n",
    "In this part of the "
   ]
  },
  {
   "cell_type": "code",
   "execution_count": 2,
   "metadata": {},
   "outputs": [],
   "source": [
    "def loadDataInSframe():\n",
    "    \"\"\"\n",
    "    \"\"\"\n",
    "    # 1. Load images\n",
    "    data = tc.image_analysis.load_images('sneakers', with_path=True)\n",
    "\n",
    "    # 2. Create label column based on folder name\n",
    "    data['sneaker_name'] = data['path'].apply(lambda path: os.path.basename(os.path.dirname(path)))\n",
    "\n",
    "    # 3. Save as .sframe\n",
    "    data.save('testImages.sframe')"
   ]
  },
  {
   "cell_type": "code",
   "execution_count": 3,
   "metadata": {},
   "outputs": [],
   "source": [
    "loadDataInSframe()"
   ]
  },
  {
   "cell_type": "code",
   "execution_count": 4,
   "metadata": {},
   "outputs": [],
   "source": [
    "def classify():\n",
    "    \"\"\"\n",
    "    \"\"\"\n",
    "    model = tc.load_model('sneaker.model')\n",
    "    data = tc.SFrame('testImages.sframe')\n",
    "    predictions = model.predict(data)\n",
    "#     data['image_pred'] = tc.object_detector.util.draw_bounding_boxes(data['image'], predictions)\n",
    "\n",
    "    return predictions"
   ]
  },
  {
   "cell_type": "code",
   "execution_count": 5,
   "metadata": {},
   "outputs": [
    {
     "data": {
      "text/html": [
       "<pre>Using GPU (Intel HD Graphics 5000) to extract features.</pre>"
      ],
      "text/plain": [
       "Using GPU (Intel HD Graphics 5000) to extract features."
      ]
     },
     "metadata": {},
     "output_type": "display_data"
    }
   ],
   "source": [
    "preds = classify()"
   ]
  },
  {
   "cell_type": "code",
   "execution_count": 6,
   "metadata": {},
   "outputs": [],
   "source": [
    "def testModel(model:str, folder:str):\n",
    "    \"\"\"\n",
    "    This function goes to the testImages and goes\n",
    "    through all the folders. It gets all the images \n",
    "    and classifies them. It then adds the label \n",
    "    and prediction to a pandas dataframe\n",
    "    \"\"\"\n",
    "    df = pd.DataFrame(columns = ['label', 'prediction', 'correct']) \n",
    "    model = tc.load_model(model)\n",
    "    \n",
    "    for subFolder in os.listdir(folder):\n",
    "        if subFolder[0] == \".\":\n",
    "            pass\n",
    "        else:\n",
    "            for filename in os.listdir(folder + \"/\" + subFolder):\n",
    "                if filename[0] == \".\":\n",
    "                    pass\n",
    "                else:\n",
    "                    sneaker = (f'{folder}/{subFolder}/{filename}')\n",
    "                    sneakerImg = tc.Image(sneaker)\n",
    "                    prediction = model.predict(sneakerImg)\n",
    "                    correct = 0\n",
    "                    label = subFolder\n",
    "                    if label == prediction: \n",
    "                        correct = 1\n",
    "                    df = df.append({'label': subFolder, 'prediction': prediction, 'correct': correct}, ignore_index=True)\n",
    "                    \n",
    "    return df\n",
    "\n"
   ]
  },
  {
   "cell_type": "code",
   "execution_count": 9,
   "metadata": {},
   "outputs": [
    {
     "data": {
      "text/html": [
       "<pre>Using GPU (Intel HD Graphics 5000) to extract features.</pre>"
      ],
      "text/plain": [
       "Using GPU (Intel HD Graphics 5000) to extract features."
      ]
     },
     "metadata": {},
     "output_type": "display_data"
    },
    {
     "data": {
      "text/html": [
       "<div>\n",
       "<style scoped>\n",
       "    .dataframe tbody tr th:only-of-type {\n",
       "        vertical-align: middle;\n",
       "    }\n",
       "\n",
       "    .dataframe tbody tr th {\n",
       "        vertical-align: top;\n",
       "    }\n",
       "\n",
       "    .dataframe thead th {\n",
       "        text-align: right;\n",
       "    }\n",
       "</style>\n",
       "<table border=\"1\" class=\"dataframe\">\n",
       "  <thead>\n",
       "    <tr style=\"text-align: right;\">\n",
       "      <th></th>\n",
       "      <th>label</th>\n",
       "      <th>prediction</th>\n",
       "      <th>correct</th>\n",
       "    </tr>\n",
       "  </thead>\n",
       "  <tbody>\n",
       "    <tr>\n",
       "      <th>0</th>\n",
       "      <td>jordan_three</td>\n",
       "      <td>jordan_three</td>\n",
       "      <td>1</td>\n",
       "    </tr>\n",
       "    <tr>\n",
       "      <th>1</th>\n",
       "      <td>jordan_three</td>\n",
       "      <td>jordan_three</td>\n",
       "      <td>1</td>\n",
       "    </tr>\n",
       "    <tr>\n",
       "      <th>2</th>\n",
       "      <td>jordan_three</td>\n",
       "      <td>jordan_three</td>\n",
       "      <td>1</td>\n",
       "    </tr>\n",
       "    <tr>\n",
       "      <th>3</th>\n",
       "      <td>jordan_three</td>\n",
       "      <td>jordan_three</td>\n",
       "      <td>1</td>\n",
       "    </tr>\n",
       "    <tr>\n",
       "      <th>4</th>\n",
       "      <td>jordan_four</td>\n",
       "      <td>jordan_four</td>\n",
       "      <td>1</td>\n",
       "    </tr>\n",
       "    <tr>\n",
       "      <th>5</th>\n",
       "      <td>jordan_four</td>\n",
       "      <td>jordan_four</td>\n",
       "      <td>1</td>\n",
       "    </tr>\n",
       "    <tr>\n",
       "      <th>6</th>\n",
       "      <td>jordan_four</td>\n",
       "      <td>jordan_four</td>\n",
       "      <td>1</td>\n",
       "    </tr>\n",
       "    <tr>\n",
       "      <th>7</th>\n",
       "      <td>jordan_one</td>\n",
       "      <td>jordan_one</td>\n",
       "      <td>1</td>\n",
       "    </tr>\n",
       "    <tr>\n",
       "      <th>8</th>\n",
       "      <td>jordan_one</td>\n",
       "      <td>jordan_three</td>\n",
       "      <td>0</td>\n",
       "    </tr>\n",
       "    <tr>\n",
       "      <th>9</th>\n",
       "      <td>jordan_one</td>\n",
       "      <td>jordan_one</td>\n",
       "      <td>1</td>\n",
       "    </tr>\n",
       "    <tr>\n",
       "      <th>10</th>\n",
       "      <td>jordan_one</td>\n",
       "      <td>jordan_one</td>\n",
       "      <td>1</td>\n",
       "    </tr>\n",
       "    <tr>\n",
       "      <th>11</th>\n",
       "      <td>jordan_one</td>\n",
       "      <td>jordan_one</td>\n",
       "      <td>1</td>\n",
       "    </tr>\n",
       "    <tr>\n",
       "      <th>12</th>\n",
       "      <td>jordan_one</td>\n",
       "      <td>jordan_one</td>\n",
       "      <td>1</td>\n",
       "    </tr>\n",
       "    <tr>\n",
       "      <th>13</th>\n",
       "      <td>jordan_one</td>\n",
       "      <td>jordan_one</td>\n",
       "      <td>1</td>\n",
       "    </tr>\n",
       "    <tr>\n",
       "      <th>14</th>\n",
       "      <td>jordan_one</td>\n",
       "      <td>jordan_one</td>\n",
       "      <td>1</td>\n",
       "    </tr>\n",
       "    <tr>\n",
       "      <th>15</th>\n",
       "      <td>jordan_one</td>\n",
       "      <td>jordan_one</td>\n",
       "      <td>1</td>\n",
       "    </tr>\n",
       "    <tr>\n",
       "      <th>16</th>\n",
       "      <td>jordan_one</td>\n",
       "      <td>jordan_one</td>\n",
       "      <td>1</td>\n",
       "    </tr>\n",
       "    <tr>\n",
       "      <th>17</th>\n",
       "      <td>jordan_one</td>\n",
       "      <td>jordan_one</td>\n",
       "      <td>1</td>\n",
       "    </tr>\n",
       "    <tr>\n",
       "      <th>18</th>\n",
       "      <td>jordan_one</td>\n",
       "      <td>jordan_four</td>\n",
       "      <td>0</td>\n",
       "    </tr>\n",
       "    <tr>\n",
       "      <th>19</th>\n",
       "      <td>jordan_one</td>\n",
       "      <td>jordan_one</td>\n",
       "      <td>1</td>\n",
       "    </tr>\n",
       "    <tr>\n",
       "      <th>20</th>\n",
       "      <td>jordan_one</td>\n",
       "      <td>jordan_one</td>\n",
       "      <td>1</td>\n",
       "    </tr>\n",
       "    <tr>\n",
       "      <th>21</th>\n",
       "      <td>jordan_one</td>\n",
       "      <td>jordan_four</td>\n",
       "      <td>0</td>\n",
       "    </tr>\n",
       "    <tr>\n",
       "      <th>22</th>\n",
       "      <td>jordan_one</td>\n",
       "      <td>jordan_one</td>\n",
       "      <td>1</td>\n",
       "    </tr>\n",
       "    <tr>\n",
       "      <th>23</th>\n",
       "      <td>jordan_eleven</td>\n",
       "      <td>jordan_eleven</td>\n",
       "      <td>1</td>\n",
       "    </tr>\n",
       "    <tr>\n",
       "      <th>24</th>\n",
       "      <td>jordan_eleven</td>\n",
       "      <td>jordan_one</td>\n",
       "      <td>0</td>\n",
       "    </tr>\n",
       "    <tr>\n",
       "      <th>25</th>\n",
       "      <td>jordan_eleven</td>\n",
       "      <td>jordan_eleven</td>\n",
       "      <td>1</td>\n",
       "    </tr>\n",
       "    <tr>\n",
       "      <th>26</th>\n",
       "      <td>jordan_eleven</td>\n",
       "      <td>jordan_eleven</td>\n",
       "      <td>1</td>\n",
       "    </tr>\n",
       "    <tr>\n",
       "      <th>27</th>\n",
       "      <td>jordan_eleven</td>\n",
       "      <td>jordan_eleven</td>\n",
       "      <td>1</td>\n",
       "    </tr>\n",
       "    <tr>\n",
       "      <th>28</th>\n",
       "      <td>jordan_eleven</td>\n",
       "      <td>jordan_eleven</td>\n",
       "      <td>1</td>\n",
       "    </tr>\n",
       "    <tr>\n",
       "      <th>29</th>\n",
       "      <td>jordan_eleven</td>\n",
       "      <td>jordan_eleven</td>\n",
       "      <td>1</td>\n",
       "    </tr>\n",
       "    <tr>\n",
       "      <th>30</th>\n",
       "      <td>jordan_eleven</td>\n",
       "      <td>jordan_eleven</td>\n",
       "      <td>1</td>\n",
       "    </tr>\n",
       "    <tr>\n",
       "      <th>31</th>\n",
       "      <td>jordan_eleven</td>\n",
       "      <td>jordan_eleven</td>\n",
       "      <td>1</td>\n",
       "    </tr>\n",
       "    <tr>\n",
       "      <th>32</th>\n",
       "      <td>jordan_eleven</td>\n",
       "      <td>jordan_eleven</td>\n",
       "      <td>1</td>\n",
       "    </tr>\n",
       "    <tr>\n",
       "      <th>33</th>\n",
       "      <td>jordan_eleven</td>\n",
       "      <td>jordan_eleven</td>\n",
       "      <td>1</td>\n",
       "    </tr>\n",
       "    <tr>\n",
       "      <th>34</th>\n",
       "      <td>jordan_eleven</td>\n",
       "      <td>jordan_eleven</td>\n",
       "      <td>1</td>\n",
       "    </tr>\n",
       "    <tr>\n",
       "      <th>35</th>\n",
       "      <td>jordan_eleven</td>\n",
       "      <td>jordan_three</td>\n",
       "      <td>0</td>\n",
       "    </tr>\n",
       "    <tr>\n",
       "      <th>36</th>\n",
       "      <td>jordan_eleven</td>\n",
       "      <td>jordan_eleven</td>\n",
       "      <td>1</td>\n",
       "    </tr>\n",
       "    <tr>\n",
       "      <th>37</th>\n",
       "      <td>jordan_eleven</td>\n",
       "      <td>jordan_eleven</td>\n",
       "      <td>1</td>\n",
       "    </tr>\n",
       "    <tr>\n",
       "      <th>38</th>\n",
       "      <td>jordan_eleven</td>\n",
       "      <td>jordan_four</td>\n",
       "      <td>0</td>\n",
       "    </tr>\n",
       "    <tr>\n",
       "      <th>39</th>\n",
       "      <td>jordan_eleven</td>\n",
       "      <td>jordan_eleven</td>\n",
       "      <td>1</td>\n",
       "    </tr>\n",
       "  </tbody>\n",
       "</table>\n",
       "</div>"
      ],
      "text/plain": [
       "            label     prediction correct\n",
       "0    jordan_three   jordan_three       1\n",
       "1    jordan_three   jordan_three       1\n",
       "2    jordan_three   jordan_three       1\n",
       "3    jordan_three   jordan_three       1\n",
       "4     jordan_four    jordan_four       1\n",
       "5     jordan_four    jordan_four       1\n",
       "6     jordan_four    jordan_four       1\n",
       "7      jordan_one     jordan_one       1\n",
       "8      jordan_one   jordan_three       0\n",
       "9      jordan_one     jordan_one       1\n",
       "10     jordan_one     jordan_one       1\n",
       "11     jordan_one     jordan_one       1\n",
       "12     jordan_one     jordan_one       1\n",
       "13     jordan_one     jordan_one       1\n",
       "14     jordan_one     jordan_one       1\n",
       "15     jordan_one     jordan_one       1\n",
       "16     jordan_one     jordan_one       1\n",
       "17     jordan_one     jordan_one       1\n",
       "18     jordan_one    jordan_four       0\n",
       "19     jordan_one     jordan_one       1\n",
       "20     jordan_one     jordan_one       1\n",
       "21     jordan_one    jordan_four       0\n",
       "22     jordan_one     jordan_one       1\n",
       "23  jordan_eleven  jordan_eleven       1\n",
       "24  jordan_eleven     jordan_one       0\n",
       "25  jordan_eleven  jordan_eleven       1\n",
       "26  jordan_eleven  jordan_eleven       1\n",
       "27  jordan_eleven  jordan_eleven       1\n",
       "28  jordan_eleven  jordan_eleven       1\n",
       "29  jordan_eleven  jordan_eleven       1\n",
       "30  jordan_eleven  jordan_eleven       1\n",
       "31  jordan_eleven  jordan_eleven       1\n",
       "32  jordan_eleven  jordan_eleven       1\n",
       "33  jordan_eleven  jordan_eleven       1\n",
       "34  jordan_eleven  jordan_eleven       1\n",
       "35  jordan_eleven   jordan_three       0\n",
       "36  jordan_eleven  jordan_eleven       1\n",
       "37  jordan_eleven  jordan_eleven       1\n",
       "38  jordan_eleven    jordan_four       0\n",
       "39  jordan_eleven  jordan_eleven       1"
      ]
     },
     "execution_count": 9,
     "metadata": {},
     "output_type": "execute_result"
    }
   ],
   "source": [
    "testModel('moreSneaker.model', 'sneakers')"
   ]
  },
  {
   "cell_type": "code",
   "execution_count": null,
   "metadata": {},
   "outputs": [],
   "source": []
  }
 ],
 "metadata": {
  "kernelspec": {
   "display_name": "Python 3",
   "language": "python",
   "name": "python3"
  },
  "language_info": {
   "codemirror_mode": {
    "name": "ipython",
    "version": 3
   },
   "file_extension": ".py",
   "mimetype": "text/x-python",
   "name": "python",
   "nbconvert_exporter": "python",
   "pygments_lexer": "ipython3",
   "version": "3.7.3"
  }
 },
 "nbformat": 4,
 "nbformat_minor": 4
}
