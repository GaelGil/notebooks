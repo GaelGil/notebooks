{
 "cells": [
  {
   "cell_type": "code",
   "execution_count": 1,
   "id": "2e13244a-c302-42e0-b2c5-1a147ad6ed7a",
   "metadata": {},
   "outputs": [],
   "source": [
    "import os\n",
    "import cv2\n",
    "import imghdr\n",
    "from PIL import Image"
   ]
  },
  {
   "cell_type": "code",
   "execution_count": 2,
   "id": "63ef4543-3504-44a8-820b-71af881a7cb6",
   "metadata": {},
   "outputs": [],
   "source": [
    "PATH = './data/PetImages/'"
   ]
  },
  {
   "cell_type": "code",
   "execution_count": 3,
   "id": "146bfbb5-9cce-4923-ae67-5a055e09f9a8",
   "metadata": {},
   "outputs": [],
   "source": [
    "def get_sizes(PATH):\n",
    "    sizes = []\n",
    "    for image_class in os.listdir(PATH):\n",
    "        counter = 0\n",
    "        for image in os.listdir(os.path.join(PATH, image_class)):\n",
    "            counter += 1\n",
    "        sizes.append(counter)\n",
    "    return sizes"
   ]
  },
  {
   "cell_type": "code",
   "execution_count": 4,
   "id": "b0515707-6a50-4d1b-aba3-f6953599e0c5",
   "metadata": {},
   "outputs": [
    {
     "data": {
      "text/plain": [
       "[12499, 12499]"
      ]
     },
     "execution_count": 4,
     "metadata": {},
     "output_type": "execute_result"
    }
   ],
   "source": [
    "sizes = get_sizes(PATH)\n",
    "sizes"
   ]
  },
  {
   "cell_type": "code",
   "execution_count": 5,
   "id": "98f3d554-d66b-41e7-992c-5b0bd2939b6b",
   "metadata": {},
   "outputs": [],
   "source": [
    "train_size = int(sizes[1]*0.7)\n",
    "eval_size = int(sizes[1]*0.2)\n",
    "test_size = int(sizes[1]*0.1)"
   ]
  },
  {
   "cell_type": "code",
   "execution_count": 6,
   "id": "c5d01f95-787f-42df-8b99-da78191d978f",
   "metadata": {},
   "outputs": [],
   "source": [
    "def get_images(size, origin, destination):\n",
    "    for image_class in os.listdir(origin):\n",
    "        for i in range(size):\n",
    "            # print(path)\n",
    "            image_path = os.path.join(origin, image_class, image)\n",
    "            print(image_path)\n",
    "            # try:\n",
    "            #     # open image\n",
    "            #     im = Image.open(image_path)\n",
    "            #     # rewrite image to be jpg/save to folder\n",
    "            #     rgb_im = im.convert('RGB')\n",
    "            #     save_to = f'{destination}{image[:-4]}.jpg'\n",
    "            #     print(save_to)\n",
    "            #     rgb_im.save(save_to)\n",
    "            #     # delete image from\n",
    "            #     os.remove(image_path)\n",
    "            # except: pass"
   ]
  },
  {
   "cell_type": "code",
   "execution_count": 7,
   "id": "ffa4616f-3c86-4d27-9d9c-ac7e049e7102",
   "metadata": {},
   "outputs": [
    {
     "ename": "NameError",
     "evalue": "name 'image' is not defined",
     "output_type": "error",
     "traceback": [
      "\u001b[0;31m---------------------------------------------------------------------------\u001b[0m",
      "\u001b[0;31mNameError\u001b[0m                                 Traceback (most recent call last)",
      "Input \u001b[0;32mIn [7]\u001b[0m, in \u001b[0;36m<cell line: 1>\u001b[0;34m()\u001b[0m\n\u001b[0;32m----> 1\u001b[0m \u001b[43mget_images\u001b[49m\u001b[43m(\u001b[49m\u001b[38;5;241;43m4\u001b[39;49m\u001b[43m,\u001b[49m\u001b[43m \u001b[49m\u001b[38;5;124;43m'\u001b[39;49m\u001b[38;5;124;43m./data/TestDataSplit/TestImages/\u001b[39;49m\u001b[38;5;124;43m'\u001b[39;49m\u001b[43m,\u001b[49m\u001b[43m \u001b[49m\u001b[38;5;124;43m'\u001b[39;49m\u001b[38;5;124;43m.data/TestDataSplit/test_train\u001b[39;49m\u001b[38;5;124;43m'\u001b[39;49m\u001b[43m)\u001b[49m\n",
      "Input \u001b[0;32mIn [6]\u001b[0m, in \u001b[0;36mget_images\u001b[0;34m(size, origin, destination)\u001b[0m\n\u001b[1;32m      2\u001b[0m \u001b[38;5;28;01mfor\u001b[39;00m image_class \u001b[38;5;129;01min\u001b[39;00m os\u001b[38;5;241m.\u001b[39mlistdir(origin):\n\u001b[1;32m      3\u001b[0m     \u001b[38;5;28;01mfor\u001b[39;00m i \u001b[38;5;129;01min\u001b[39;00m \u001b[38;5;28mrange\u001b[39m(size):\n\u001b[1;32m      4\u001b[0m         \u001b[38;5;66;03m# print(path)\u001b[39;00m\n\u001b[0;32m----> 5\u001b[0m         image_path \u001b[38;5;241m=\u001b[39m os\u001b[38;5;241m.\u001b[39mpath\u001b[38;5;241m.\u001b[39mjoin(origin, image_class, \u001b[43mimage\u001b[49m)\n\u001b[1;32m      6\u001b[0m         \u001b[38;5;28mprint\u001b[39m(image_path)\n",
      "\u001b[0;31mNameError\u001b[0m: name 'image' is not defined"
     ]
    }
   ],
   "source": [
    "get_images(4, './data/TestDataSplit/TestImages/', '.data/TestDataSplit/test_train')"
   ]
  },
  {
   "cell_type": "code",
   "execution_count": null,
   "id": "91210ea0-ecd5-4450-942f-2be7b26cf79f",
   "metadata": {},
   "outputs": [],
   "source": []
  }
 ],
 "metadata": {
  "kernelspec": {
   "display_name": "Python 3 (ipykernel)",
   "language": "python",
   "name": "python3"
  },
  "language_info": {
   "codemirror_mode": {
    "name": "ipython",
    "version": 3
   },
   "file_extension": ".py",
   "mimetype": "text/x-python",
   "name": "python",
   "nbconvert_exporter": "python",
   "pygments_lexer": "ipython3",
   "version": "3.10.5"
  }
 },
 "nbformat": 4,
 "nbformat_minor": 5
}
