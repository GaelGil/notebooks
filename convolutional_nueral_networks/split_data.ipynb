{
 "cells": [
  {
   "cell_type": "code",
   "execution_count": 73,
   "id": "2e13244a-c302-42e0-b2c5-1a147ad6ed7a",
   "metadata": {},
   "outputs": [],
   "source": [
    "import os\n",
    "import cv2\n",
    "import imghdr\n",
    "from PIL import Image"
   ]
  },
  {
   "cell_type": "code",
   "execution_count": 74,
   "id": "63ef4543-3504-44a8-820b-71af881a7cb6",
   "metadata": {},
   "outputs": [],
   "source": [
    "PATH = './data/PetImages/'"
   ]
  },
  {
   "cell_type": "code",
   "execution_count": 75,
   "id": "146bfbb5-9cce-4923-ae67-5a055e09f9a8",
   "metadata": {},
   "outputs": [],
   "source": [
    "def get_sizes(PATH):\n",
    "    sizes = []\n",
    "    for image_class in os.listdir(PATH):\n",
    "        counter = 0\n",
    "        for image in os.listdir(os.path.join(PATH, image_class)):\n",
    "            counter += 1\n",
    "        sizes.append(counter)\n",
    "    return sizes"
   ]
  },
  {
   "cell_type": "code",
   "execution_count": 76,
   "id": "b0515707-6a50-4d1b-aba3-f6953599e0c5",
   "metadata": {},
   "outputs": [
    {
     "data": {
      "text/plain": [
       "[12499, 12499]"
      ]
     },
     "execution_count": 76,
     "metadata": {},
     "output_type": "execute_result"
    }
   ],
   "source": [
    "sizes = get_sizes(PATH)\n",
    "sizes"
   ]
  },
  {
   "cell_type": "code",
   "execution_count": 77,
   "id": "98f3d554-d66b-41e7-992c-5b0bd2939b6b",
   "metadata": {},
   "outputs": [],
   "source": [
    "train_size = int(sizes[1]*0.7)\n",
    "eval_size = int(sizes[1]*0.2)\n",
    "test_size = int(sizes[1]*0.1)"
   ]
  },
  {
   "cell_type": "code",
   "execution_count": 78,
   "id": "c5d01f95-787f-42df-8b99-da78191d978f",
   "metadata": {},
   "outputs": [],
   "source": [
    "def get_images(size, origin, destination):\n",
    "    for image_class in os.listdir(origin):\n",
    "        counter = 0\n",
    "        for image in os.listdir(os.path.join(origin, image_class)):\n",
    "            image_path = os.path.join(origin, image_class, image)\n",
    "            # print(image)\n",
    "            if image.endswith('.jpg'):\n",
    "                if counter == size:\n",
    "                    break\n",
    "                # Load .png image\n",
    "                img = cv2.imread(image_path)\n",
    "                if img is None:\n",
    "                    os.remove(image_path)\n",
    "                    continue\n",
    "                save_to = f'{destination}{image}'\n",
    "                # Save .jpg image\n",
    "                cv2.imwrite(save_to, img, [int(cv2.IMWRITE_JPEG_QUALITY), 100])\n",
    "                # delete image from\n",
    "                os.remove(image_path)\n",
    "                #     # except: pass\n",
    "                counter += 1"
   ]
  },
  {
   "cell_type": "code",
   "execution_count": 79,
   "id": "ffa4616f-3c86-4d27-9d9c-ac7e049e7102",
   "metadata": {},
   "outputs": [],
   "source": [
    "get_images(train_size, './data/PetImages/', './data/train/')"
   ]
  },
  {
   "cell_type": "code",
   "execution_count": 80,
   "id": "f41603e0-66aa-42f9-af03-3a1d77d5e324",
   "metadata": {},
   "outputs": [],
   "source": [
    "get_images(eval_size, './data/PetImages/', './data/eval/')"
   ]
  },
  {
   "cell_type": "code",
   "execution_count": 81,
   "id": "2d3590ce-768c-4677-9754-0d6d142ab3a9",
   "metadata": {},
   "outputs": [],
   "source": [
    "get_images(test_size, './data/PetImages/', './data/test/')"
   ]
  },
  {
   "cell_type": "code",
   "execution_count": null,
   "id": "7269743e-946c-4a9d-a56b-0b72d4632965",
   "metadata": {},
   "outputs": [],
   "source": []
  }
 ],
 "metadata": {
  "kernelspec": {
   "display_name": "Python 3 (ipykernel)",
   "language": "python",
   "name": "python3"
  },
  "language_info": {
   "codemirror_mode": {
    "name": "ipython",
    "version": 3
   },
   "file_extension": ".py",
   "mimetype": "text/x-python",
   "name": "python",
   "nbconvert_exporter": "python",
   "pygments_lexer": "ipython3",
   "version": "3.10.5"
  }
 },
 "nbformat": 4,
 "nbformat_minor": 5
}
