{
 "cells": [
  {
   "cell_type": "code",
   "execution_count": 61,
   "metadata": {},
   "outputs": [],
   "source": [
    "import pandas as pd\n",
    "import matplotlib.pyplot as plt\n",
    "import numpy as np"
   ]
  },
  {
   "cell_type": "code",
   "execution_count": 62,
   "metadata": {},
   "outputs": [],
   "source": [
    "X_train = pd.read_csv('./X_train.csv')\n",
    "Y_train = pd.read_csv('./Y_train.csv')"
   ]
  },
  {
   "cell_type": "code",
   "execution_count": 63,
   "metadata": {},
   "outputs": [
    {
     "data": {
      "text/html": [
       "<div>\n",
       "<style scoped>\n",
       "    .dataframe tbody tr th:only-of-type {\n",
       "        vertical-align: middle;\n",
       "    }\n",
       "\n",
       "    .dataframe tbody tr th {\n",
       "        vertical-align: top;\n",
       "    }\n",
       "\n",
       "    .dataframe thead th {\n",
       "        text-align: right;\n",
       "    }\n",
       "</style>\n",
       "<table border=\"1\" class=\"dataframe\">\n",
       "  <thead>\n",
       "    <tr style=\"text-align: right;\">\n",
       "      <th></th>\n",
       "      <th>col1</th>\n",
       "      <th>col2</th>\n",
       "    </tr>\n",
       "  </thead>\n",
       "  <tbody>\n",
       "    <tr>\n",
       "      <th>0</th>\n",
       "      <td>-0.115825</td>\n",
       "      <td>0.993270</td>\n",
       "    </tr>\n",
       "    <tr>\n",
       "      <th>1</th>\n",
       "      <td>1.854394</td>\n",
       "      <td>-0.019625</td>\n",
       "    </tr>\n",
       "    <tr>\n",
       "      <th>2</th>\n",
       "      <td>0.331411</td>\n",
       "      <td>-0.243632</td>\n",
       "    </tr>\n",
       "    <tr>\n",
       "      <th>3</th>\n",
       "      <td>0.937018</td>\n",
       "      <td>0.349281</td>\n",
       "    </tr>\n",
       "    <tr>\n",
       "      <th>4</th>\n",
       "      <td>1.214380</td>\n",
       "      <td>-0.476750</td>\n",
       "    </tr>\n",
       "    <tr>\n",
       "      <th>...</th>\n",
       "      <td>...</td>\n",
       "      <td>...</td>\n",
       "    </tr>\n",
       "    <tr>\n",
       "      <th>799995</th>\n",
       "      <td>0.689286</td>\n",
       "      <td>0.724490</td>\n",
       "    </tr>\n",
       "    <tr>\n",
       "      <th>799996</th>\n",
       "      <td>0.756326</td>\n",
       "      <td>0.654195</td>\n",
       "    </tr>\n",
       "    <tr>\n",
       "      <th>799997</th>\n",
       "      <td>-0.778781</td>\n",
       "      <td>0.627296</td>\n",
       "    </tr>\n",
       "    <tr>\n",
       "      <th>799998</th>\n",
       "      <td>-0.389225</td>\n",
       "      <td>0.921143</td>\n",
       "    </tr>\n",
       "    <tr>\n",
       "      <th>799999</th>\n",
       "      <td>0.595521</td>\n",
       "      <td>-0.414547</td>\n",
       "    </tr>\n",
       "  </tbody>\n",
       "</table>\n",
       "<p>800000 rows × 2 columns</p>\n",
       "</div>"
      ],
      "text/plain": [
       "            col1      col2\n",
       "0      -0.115825  0.993270\n",
       "1       1.854394 -0.019625\n",
       "2       0.331411 -0.243632\n",
       "3       0.937018  0.349281\n",
       "4       1.214380 -0.476750\n",
       "...          ...       ...\n",
       "799995  0.689286  0.724490\n",
       "799996  0.756326  0.654195\n",
       "799997 -0.778781  0.627296\n",
       "799998 -0.389225  0.921143\n",
       "799999  0.595521 -0.414547\n",
       "\n",
       "[800000 rows x 2 columns]"
      ]
     },
     "execution_count": 63,
     "metadata": {},
     "output_type": "execute_result"
    }
   ],
   "source": [
    "X_train"
   ]
  },
  {
   "cell_type": "code",
   "execution_count": 64,
   "metadata": {},
   "outputs": [
    {
     "data": {
      "image/png": "[encoded data removed]",
      "text/plain": [
       "<Figure size 432x288 with 1 Axes>"
      ]
     },
     "metadata": {
      "needs_background": "light"
     },
     "output_type": "display_data"
    }
   ],
   "source": [
    "%matplotlib inline \n",
    "plt.scatter(X_train['col1'], X_train['col2'], color='b')\n",
    "plt.xlabel('x')\n",
    "plt.ylabel('y')\n",
    "plt.grid(True)\n",
    "plt.show();"
   ]
  },
  {
   "cell_type": "code",
   "execution_count": 65,
   "metadata": {},
   "outputs": [],
   "source": [
    "from sklearn.linear_model import LogisticRegression"
   ]
  },
  {
   "cell_type": "code",
   "execution_count": 66,
   "metadata": {},
   "outputs": [
    {
     "data": {
      "text/plain": [
       "array([0, 1, 1, ..., 0, 0, 1])"
      ]
     },
     "execution_count": 66,
     "metadata": {},
     "output_type": "execute_result"
    }
   ],
   "source": [
    "Y_train['outputs'].to_numpy()"
   ]
  },
  {
   "cell_type": "code",
   "execution_count": 67,
   "metadata": {},
   "outputs": [],
   "source": [
    "logistic_regression = LogisticRegression()"
   ]
  },
  {
   "cell_type": "code",
   "execution_count": 68,
   "metadata": {},
   "outputs": [
    {
     "data": {
      "text/plain": [
       "LogisticRegression()"
      ]
     },
     "execution_count": 68,
     "metadata": {},
     "output_type": "execute_result"
    }
   ],
   "source": [
    "logistic_regression.fit(X_train, Y_train['outputs'].to_numpy())"
   ]
  },
  {
   "cell_type": "code",
   "execution_count": 69,
   "metadata": {},
   "outputs": [],
   "source": [
    "# test_data = "
   ]
  },
  {
   "cell_type": "code",
   "execution_count": 70,
   "metadata": {},
   "outputs": [
    {
     "data": {
      "text/plain": [
       "-1.0"
      ]
     },
     "execution_count": 70,
     "metadata": {},
     "output_type": "execute_result"
    }
   ],
   "source": [
    "# logisttic_regression.predict(test_data)\n",
    "min(X_train['col1'])"
   ]
  },
  {
   "cell_type": "code",
   "execution_count": 71,
   "metadata": {},
   "outputs": [
    {
     "data": {
      "text/plain": [
       "0.9999999999950652"
      ]
     },
     "execution_count": 71,
     "metadata": {},
     "output_type": "execute_result"
    }
   ],
   "source": [
    "max(X_train['col2'])"
   ]
  },
  {
   "cell_type": "code",
   "execution_count": 72,
   "metadata": {},
   "outputs": [],
   "source": [
    "# sampl = np.random.uniform(low=-1.0, high=0.99, size=(100,2))\n",
    "sampl = np.array([[-0.41490185, -0.53121816],\n",
    "       [ 0.79961564, -0.92204097],\n",
    "       [ 0.21509831,  0.74759301],\n",
    "       [ 0.47703697,  0.57386712],\n",
    "       [-0.40857917,  0.94430999],\n",
    "       [ 0.1394182 , -0.5442889 ],\n",
    "       [ 0.77528308, -0.82280182],\n",
    "       [-0.65198464, -0.06724729],\n",
    "       [-0.0713061 , -0.72889552],\n",
    "       [ 0.88632554,  0.64558931],\n",
    "       [ 0.04740749,  0.74430324],\n",
    "       [ 0.81072034, -0.76299165],\n",
    "       [ 0.57051151, -0.24851338],\n",
    "       [-0.24460213, -0.86773777],\n",
    "       [ 0.17901999, -0.16930229],\n",
    "       [-0.14501361, -0.01356541],\n",
    "       [ 0.13013696, -0.80938045],\n",
    "       [-0.69982683,  0.22713409],\n",
    "       [-0.41504708, -0.58480201],\n",
    "       [-0.87642659, -0.50000792],\n",
    "       [-0.5733646 , -0.56254818],\n",
    "       [-0.87478473,  0.02524821],\n",
    "       [-0.31954528, -0.446758  ],\n",
    "       [ 0.37182845,  0.31588756],\n",
    "       [-0.25932934, -0.33982637],\n",
    "       [ 0.42021589, -0.93700575],\n",
    "       [ 0.63849386, -0.81751559],\n",
    "       [ 0.37162442, -0.1739428 ],\n",
    "       [ 0.20063768, -0.74629716],\n",
    "       [ 0.90722752, -0.74593926],\n",
    "       [ 0.53268344, -0.8038705 ],\n",
    "       [-0.03250751,  0.33469544],\n",
    "       [-0.15357696, -0.40180276],\n",
    "       [ 0.79330062,  0.79880607],\n",
    "       [-0.99285976,  0.98546842],\n",
    "       [ 0.94004937, -0.23671569],\n",
    "       [-0.42046002, -0.47357783],\n",
    "       [ 0.831336  , -0.53952199],\n",
    "       [ 0.41433017,  0.03011233],\n",
    "       [ 0.02889035,  0.50695592],\n",
    "       [ 0.55842842,  0.2773155 ],\n",
    "       [-0.30227602, -0.50933279],\n",
    "       [ 0.91069486, -0.38657732],\n",
    "       [ 0.72512155,  0.37054971],\n",
    "       [ 0.35014738, -0.4536    ],\n",
    "       [ 0.96127366,  0.20590542],\n",
    "       [ 0.04033099,  0.40738947],\n",
    "       [-0.86638662, -0.89270568],\n",
    "       [-0.03733816,  0.01922485],\n",
    "       [ 0.35670808,  0.04914475],\n",
    "       [-0.54766097, -0.05155711],\n",
    "       [ 0.48482601, -0.32078408],\n",
    "       [ 0.75418656, -0.43023739],\n",
    "       [ 0.16576201, -0.9622329 ],\n",
    "       [ 0.09805925,  0.28101187],\n",
    "       [ 0.25462161,  0.81905681],\n",
    "       [ 0.91402367, -0.91116356],\n",
    "       [ 0.58683661, -0.73790959],\n",
    "       [ 0.42842159, -0.48184211],\n",
    "       [-0.66767398, -0.15808075],\n",
    "       [ 0.59596308,  0.09928825],\n",
    "       [ 0.250616  ,  0.85584765],\n",
    "       [ 0.64831671, -0.60502375],\n",
    "       [-0.85281843,  0.14485996],\n",
    "       [ 0.32229707, -0.76974402],\n",
    "       [ 0.12409391, -0.34643306],\n",
    "       [ 0.02955345,  0.3526169 ],\n",
    "       [-0.42062389,  0.40137034],\n",
    "       [ 0.54413566, -0.47161509],\n",
    "       [-0.46656869, -0.06150377],\n",
    "       [ 0.07459383, -0.60494279],\n",
    "       [ 0.89410433, -0.51803028],\n",
    "       [ 0.71101988, -0.37106449],\n",
    "       [-0.01832794, -0.52752818],\n",
    "       [-0.93441743, -0.15041976],\n",
    "       [ 0.40390811, -0.90103641],\n",
    "       [ 0.78137452, -0.02508812],\n",
    "       [ 0.0668321 , -0.83798717],\n",
    "       [-0.49641121,  0.76407167],\n",
    "       [ 0.7102693 , -0.46410426],\n",
    "       [ 0.07043624, -0.25581148],\n",
    "       [-0.08574694, -0.55751105],\n",
    "       [ 0.61463565,  0.87298475],\n",
    "       [ 0.20465168, -0.9636136 ],\n",
    "       [-0.22185263,  0.84753028],\n",
    "       [ 0.49796086, -0.48270842],\n",
    "       [ 0.43875235, -0.09184539],\n",
    "       [-0.46412618,  0.70966146],\n",
    "       [ 0.12509849,  0.39286664],\n",
    "       [ 0.91399132,  0.52521627],\n",
    "       [ 0.76530879,  0.54387701],\n",
    "       [-0.04347192,  0.40495288],\n",
    "       [ 0.18497753,  0.72344446],\n",
    "       [-0.91133626,  0.76776704],\n",
    "       [ 0.6823433 ,  0.74255186],\n",
    "       [ 0.82928289,  0.86679495],\n",
    "       [-0.06631694,  0.56292869],\n",
    "       [ 0.23165319,  0.85051905],\n",
    "       [-0.74067108, -0.14901514],\n",
    "       [-0.46464255,  0.16172809]])"
   ]
  },
  {
   "cell_type": "code",
   "execution_count": 73,
   "metadata": {},
   "outputs": [
    {
     "data": {
      "image/png": "[encoded data removed]",
      "text/plain": [
       "<Figure size 432x288 with 1 Axes>"
      ]
     },
     "metadata": {
      "needs_background": "light"
     },
     "output_type": "display_data"
    }
   ],
   "source": [
    "%matplotlib inline \n",
    "plt.scatter(sampl[0:len(sampl):,0], sampl[0:len(sampl):,1], color='r')\n",
    "plt.scatter(X_train['col1'], X_train['col2'], color='b')\n",
    "plt.xlabel('x')\n",
    "plt.ylabel('y')\n",
    "plt.grid(True)\n",
    "plt.show();"
   ]
  },
  {
   "cell_type": "code",
   "execution_count": 81,
   "metadata": {},
   "outputs": [],
   "source": [
    "res = logistic_regression.predict(sampl)"
   ]
  },
  {
   "cell_type": "code",
   "execution_count": 84,
   "metadata": {},
   "outputs": [
    {
     "data": {
      "text/plain": [
       "array([1, 1, 0, 0, 0, 1, 1, 1, 1, 0, 0, 1, 1, 1, 1, 1, 1, 0, 1, 1, 1, 0,\n",
       "       1, 0, 1, 1, 1, 1, 1, 1, 1, 0, 1, 0, 0, 1, 1, 1, 1, 0, 0, 1, 1, 0,\n",
       "       1, 1, 0, 1, 1, 1, 1, 1, 1, 1, 0, 0, 1, 1, 1, 1, 1, 0, 1, 0, 1, 1,\n",
       "       0, 0, 1, 1, 1, 1, 1, 1, 1, 1, 1, 1, 0, 1, 1, 1, 0, 1, 0, 1, 1, 0,\n",
       "       0, 0, 0, 0, 0, 0, 0, 0, 0, 0, 1, 0])"
      ]
     },
     "execution_count": 84,
     "metadata": {},
     "output_type": "execute_result"
    }
   ],
   "source": [
    "res"
   ]
  },
  {
   "cell_type": "code",
   "execution_count": null,
   "metadata": {},
   "outputs": [],
   "source": []
  }
 ],
 "metadata": {
  "kernelspec": {
   "display_name": "Python 3",
   "language": "python",
   "name": "python3"
  },
  "language_info": {
   "codemirror_mode": {
    "name": "ipython",
    "version": 3
   },
   "file_extension": ".py",
   "mimetype": "text/x-python",
   "name": "python",
   "nbconvert_exporter": "python",
   "pygments_lexer": "ipython3",
   "version": "3.7.3"
  }
 },
 "nbformat": 4,
 "nbformat_minor": 4
}
