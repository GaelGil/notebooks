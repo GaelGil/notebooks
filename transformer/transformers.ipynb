{
 "cells": [
  {
   "cell_type": "markdown",
   "id": "064eab76-acab-474f-8f22-4ab7f046c1d6",
   "metadata": {},
   "source": [
    "# Transformers"
   ]
  },
  {
   "cell_type": "markdown",
   "id": "8c9c0799-7158-4c69-a6fd-5ae447ef3c3c",
   "metadata": {},
   "source": [
    "## Project Description\n",
    "\n",
    "In this project I will go over the transformer model architecture. Speciffically I will be explaining the concepts introduced in the paper [Attention Is All You Need](https://arxiv.org/pdf/1706.03762). This is a very important paper that changed not only the field of computer sceince but also non technical fields. The notebook will cover the architecture which includes encoder, decoder, attention, etc. I will also be covering the math behind it as well as training. Additionally I will also be implementing my own transformer using Jax. The code for that that can be found in the `./src`and `main.py`. Lets get into it! "
   ]
  },
  {
   "cell_type": "markdown",
   "id": "21193d73-4f8f-4468-97b6-00f125958f26",
   "metadata": {},
   "source": [
    "## Background"
   ]
  },
  {
   "cell_type": "markdown",
   "id": "6253199a-a50d-4619-bb5d-7df69dcdf0e5",
   "metadata": {},
   "source": [
    "The reason transofers are really good languge models are that they can proccess large ammounts of data at once. Previously LSTM networks or recurrent neural networks were used to model languge and although they worked they had lots of cons. For example previous language models had a hard time understanding data from beggining of sequences if the sequence was large, suffered from vanishing gradients, and processed data one token at a time. With the transformer architecture models are capable of better understanding data through the sequence and process large amounts of data at once. The specific task discussed in the paper was language translation. Which we will also try to implement. Usually for tasks like text generation only the decoder part of the model is used. Because I want to understand the transformer model thoroughly I want to implement the encoder and decoder."
   ]
  },
  {
   "cell_type": "code",
   "execution_count": 7,
   "id": "fecb69c1-5411-4f06-b981-d17bf4779deb",
   "metadata": {},
   "outputs": [],
   "source": [
    "import jax.numpy as jnp\n",
    "import numpy as np\n",
    "import matplotlib.pyplot as plt"
   ]
  },
  {
   "cell_type": "markdown",
   "id": "a5f18250-41f9-45f0-a678-54caa12f09ce",
   "metadata": {},
   "source": [
    "## Model Architecture"
   ]
  },
  {
   "cell_type": "markdown",
   "id": "ea876190-e68d-49c6-8f26-5259ab64603b",
   "metadata": {},
   "source": [
    "### Encoder"
   ]
  },
  {
   "cell_type": "markdown",
   "id": "a0a7c673-5300-4b53-97b3-cbf903c858b3",
   "metadata": {},
   "source": [
    "Lets get into the encoder. The encoder part of the model is made up of \"N = 6 identical layers\". Essentially we repeat the encoder 6 times. The idea is that ..."
   ]
  },
  {
   "cell_type": "markdown",
   "id": "19f96d19-8d40-4197-9f18-9c4b9839ae38",
   "metadata": {},
   "source": [
    "#### Input Embeddings\n",
    "The Encoder takes in embeddings as input. Embeddings are vectors that we use to represent a word/token. The embeddings are learnable parameters. In the original paper each token embedding is of size 512 defined as $d_{model}$. Here is an example of some text and what the tokens might look like.  \n",
    "\n",
    "- **Sequence:**  lorem ipsum dolor sit amet, consectetur adipiscing elit, sed do eiusmod\n",
    "tempor incididunt ut labore et dolore magna aliqua.\n",
    "- **Tokens:**  (lorem ipsum dolor) (sit) (amet, consectetur) (adipiscing elit, sed do) (eiusmod) (tempor) (incididunt) (ut labore) (et dolore magna aliqua.)\n",
    "\n",
    "\n",
    "- **Sequence:**  Ut enim ad minim veniam, quis nostrud exercitation ullamco laboris nisi ut aliquip ex ea commodo\n",
    "consequat.\n",
    "- **Tokens:**  (Ut) (enim ad minim veniam,) (quis nostrud) (exercitation) (ullamco) (laboris) (nisi ut aliquip) (ex ea) (commodo consequat.)\n",
    "\n",
    "\n",
    "Although tokens can be of any size, its easier to understand the transformer architecture if we only think of tokens as one word so in this notebook each token is just one word. This is an example of what a token embedding might look like. \n",
    "\n",
    "- **Token:**  Dog\n",
    "- **Embedding:** $\\{12, 42, \\dots 1345 \\}$\n",
    "\n",
    "\n",
    "All together our input embedding is a matrix of size (seq_len, d_model) where the input has a sequence of tokens of size n, and each token in the sequence is of size 512. "
   ]
  },
  {
   "cell_type": "markdown",
   "id": "facc74c1-c751-432f-8d12-2ad3644eb7aa",
   "metadata": {},
   "source": [
    "After getting our input embedding we then apply positional encoding. We use $\\sin$ and $\\cos$ functions to apply to the token vector and add it.\n",
    "\n",
    "Here is an example.\n",
    "\n",
    "\n",
    "Positional encoding helps us track the location of the words and their importance there. This is calculated once. \n",
    "\n",
    "We then pass the embeddings into the multi head attention and also to a add and norm block. Lets go over the multi head attention mechanism. "
   ]
  },
  {
   "cell_type": "markdown",
   "id": "6005c10a-3052-4458-8a2c-2165d3bd2b69",
   "metadata": {},
   "source": [
    "- Attention block handles the context of the words\n",
    "\n",
    "\n",
    "#### Attention\n",
    "Attention is defined as.  \n",
    "$$ Attention(Q, K, V) = softmax(\\frac{QK^{T}}{\\sqrt{d_k}})V $$\n",
    "\n",
    "This equation may look very confusing so lets break it down part by part. \n",
    "\n",
    "We have a input embeddings of size (${seq_model}$, $d_{model}$). For a basic visual example lets say \"The dog ate\" is our input. Then our input embedding will look something like this. For the purpose of this visual $d_{model}=10$"
   ]
  },
  {
   "cell_type": "code",
   "execution_count": 9,
   "id": "2e69adfe-dcfd-446f-84ef-a0638199817d",
   "metadata": {},
   "outputs": [],
   "source": [
    "x = np.array([[1, 2, 3, 12 , 12 , 12 ,12 , 12, 12, 12],\n",
    "              [2,3 ,4, 12 , 12 , 12 ,12 , 12, 12, 12],\n",
    "              [12, 24 ,13, 12 , 12 , 12 ,12 , 12, 12, 12]])"
   ]
  },
  {
   "cell_type": "code",
   "execution_count": 13,
   "id": "3495d5f7-5b1c-4709-86c9-e08e14687ca0",
   "metadata": {},
   "outputs": [
    {
     "data": {
      "image/png": "[encoded data removed]",
      "text/plain": [
       "<Figure size 640x480 with 1 Axes>"
      ]
     },
     "metadata": {},
     "output_type": "display_data"
    }
   ],
   "source": [
    "plt.imshow(x) # 'viridis' is a common colormap, you can choose others\n",
    "plt.title('Sample Input Embeding')\n",
    "plt.xlabel('Emebdding Value')\n",
    "plt.ylabel('Token in Sequence')\n",
    "plt.show()"
   ]
  },
  {
   "cell_type": "code",
   "execution_count": null,
   "id": "789df88f-530f-4e30-8d32-dfe67c6cd1e6",
   "metadata": {},
   "outputs": [],
   "source": []
  },
  {
   "cell_type": "markdown",
   "id": "fc98fee7-046a-4bde-b499-0a95723fc12d",
   "metadata": {},
   "source": [
    "we have a matrix that looks something like this"
   ]
  },
  {
   "cell_type": "markdown",
   "id": "dff83e7a-f028-47b6-b7dc-f48a06c5e8a0",
   "metadata": {},
   "source": [
    "Our K Matrix is also the token embeddings but transposed.\n",
    "\n",
    "Multiplying Q by $K^T$ we get this matrix. \n",
    "We then dvide this matrix by $\\sqrt(d_k)$ and apply softmax. \n",
    "\n",
    "Lastly we multiply all of that by our matrix V which is \n",
    "\n",
    "\n",
    "\n",
    "#### Multi Head Attention"
   ]
  },
  {
   "cell_type": "markdown",
   "id": "94f8ad80-893b-43a2-a704-e4706b02d933",
   "metadata": {},
   "source": [
    "### Decoder"
   ]
  },
  {
   "cell_type": "markdown",
   "id": "999462d5-6433-48a3-be41-98ef5dd2cd50",
   "metadata": {},
   "source": [
    "### Attention"
   ]
  },
  {
   "cell_type": "markdown",
   "id": "82698da3-8a3f-4248-9105-dabbfadd7be2",
   "metadata": {},
   "source": [
    "### Training "
   ]
  },
  {
   "cell_type": "markdown",
   "id": "788b1d5c-db28-47de-9296-afd14d3208e2",
   "metadata": {},
   "source": [
    "## Creating the Model"
   ]
  },
  {
   "cell_type": "markdown",
   "id": "21fe579a-fc02-4560-9e6f-3ac798f97bfa",
   "metadata": {},
   "source": [
    "## Training the Model"
   ]
  },
  {
   "cell_type": "markdown",
   "id": "1e25f567-7a94-41f8-b783-e48e17c91fa4",
   "metadata": {},
   "source": [
    "## Results "
   ]
  },
  {
   "cell_type": "markdown",
   "id": "3679b14f-277a-4724-acea-15ba1dd4a513",
   "metadata": {},
   "source": [
    "## Conclusion"
   ]
  },
  {
   "cell_type": "code",
   "execution_count": null,
   "id": "6aa4e75e-34c6-4beb-a33e-7379211911a1",
   "metadata": {},
   "outputs": [],
   "source": []
  }
 ],
 "metadata": {
  "kernelspec": {
   "display_name": "Python 3 (ipykernel)",
   "language": "python",
   "name": "python3"
  },
  "language_info": {
   "codemirror_mode": {
    "name": "ipython",
    "version": 3
   },
   "file_extension": ".py",
   "mimetype": "text/x-python",
   "name": "python",
   "nbconvert_exporter": "python",
   "pygments_lexer": "ipython3",
   "version": "3.13.7"
  }
 },
 "nbformat": 4,
 "nbformat_minor": 5
}
