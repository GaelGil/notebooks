{
 "cells": [
  {
   "cell_type": "markdown",
   "id": "064eab76-acab-474f-8f22-4ab7f046c1d6",
   "metadata": {},
   "source": [
    "# Transformers"
   ]
  },
  {
   "cell_type": "markdown",
   "id": "8c9c0799-7158-4c69-a6fd-5ae447ef3c3c",
   "metadata": {},
   "source": [
    "## Project Description\n",
    "\n",
    "In this notebook I will go over some of the basics of convolutional neural networks. This notebook will cover what a convolution is, kernels/filters, max/min pooling etc. At the end of explaining the basics I will build a convolutional neural network using pytorch to classify some images. I am doing this project because I wanted to learn how to use pytorch while also implementing and learning about convolutional neural networks. Some knowledge of neural networks would be helpful for this project as well as some python knowledge. If you want to learn more about neural networks I have a notebook where I explain the math and implement one from "
   ]
  },
  {
   "cell_type": "markdown",
   "id": "6253199a-a50d-4619-bb5d-7df69dcdf0e5",
   "metadata": {},
   "source": [
    "- Input is broken up into tokens, tokens are words or combinations of words\n",
    "- Each token is a vector where each vector holds some meaning for that token\n",
    "- Then the vectors are then passed through an attention block\n",
    "- Attention block handles the context of the words"
   ]
  },
  {
   "cell_type": "code",
   "execution_count": null,
   "id": "1e98e497-29b9-454d-a836-3389277949c0",
   "metadata": {},
   "outputs": [],
   "source": []
  }
 ],
 "metadata": {
  "kernelspec": {
   "display_name": "Python 3 (ipykernel)",
   "language": "python",
   "name": "python3"
  },
  "language_info": {
   "codemirror_mode": {
    "name": "ipython",
    "version": 3
   },
   "file_extension": ".py",
   "mimetype": "text/x-python",
   "name": "python",
   "nbconvert_exporter": "python",
   "pygments_lexer": "ipython3",
   "version": "3.13.1"
  }
 },
 "nbformat": 4,
 "nbformat_minor": 5
}
