{
 "cells": [
  {
   "cell_type": "code",
   "execution_count": 1,
   "id": "36f7f3ef-3bf6-402e-b225-a4abf1a9efa1",
   "metadata": {},
   "outputs": [],
   "source": [
    "# what model am i selecting\n",
    "# why am i selecting the model\n",
    "# evaluate the results\n",
    "# use test data\n",
    "# possibly try another model\n",
    "# end with conclusion"
   ]
  },
  {
   "cell_type": "markdown",
   "id": "bcf78193-1ff7-4014-b543-0e551925eb1e",
   "metadata": {},
   "source": [
    "# Introduction/Project Overview:\n",
    "In this notebook, I will present my solution and analysis of the Titanic dataset. This is a very famous dataset that can be found on [kaggle](https://www.kaggle.com/c/titanic/data). The dataset contains demographics of the Titanc passengers, incluiding who survived and who did not. The goal is to build a model that can correctly classify new examples (check who will survive or not). Throughout this notebook I will visualize the data, explain some data preprocessing techniques, construct and evaluate models and analyze the results. \n",
    "\n",
    "#### Data Exploration & Preprocessing:  \n",
    "I will conduct a comprehensive exploration of the dataset, analyzing its various features, checking for missing values, and gaining insights into the distribution of variables. Prior to building the models, I will preprocess the data by handling missing values, encoding categorical variables, and scaling numerical features to ensure optimal model performance.\n",
    "\n",
    "#### Model Building & Evaluation:\n",
    "In this notebook I will try implement several models to try and correctly classify passengers who survied. This is a supervised learning task as we are given the labels of who survived and who did not. For this project the models I have chosen are logistic regression, decision trees, random forests, support vector machines and neural networks. For each of these modules I will evalute their peformance using f1score, confusion matrices, and overall accuracy. \n",
    "\n",
    "#### Conclusion: \n",
    "Finally, I will interpret the results of the models, identifying significant factors that contribute to passenger survival prediction and discussing potential areas for model improvement. The Titanic dataset is a good challange to test your knowledege on machine learning. This will serve as a good test for me to keep learning and testing my skills."
   ]
  },
  {
   "cell_type": "code",
   "execution_count": 2,
   "id": "ca1b053e-9c52-4894-9193-8b866509328a",
   "metadata": {},
   "outputs": [],
   "source": [
    "import pandas as pd\n",
    "import numpy as np\n",
    "import matplotlib.pyplot as plt"
   ]
  },
  {
   "cell_type": "markdown",
   "id": "b2b158e7-821b-431f-8fc0-13096da8e727",
   "metadata": {},
   "source": [
    "# Data Exploration\n",
    "As mentioned earlier I got the dataset from kaggle. The link to that can be found above. The download came with two csv files. One for the training set and one for the test set. Since I have it locally on my computer I can eassily access the data as shown below. Some of the first steps we will do before creating a model is to see what our data looks like."
   ]
  },
  {
   "cell_type": "code",
   "execution_count": 3,
   "id": "9d789424-9326-4148-9060-9035945320fe",
   "metadata": {},
   "outputs": [],
   "source": [
    "# read train and test sets\n",
    "train = pd.read_csv('./train.csv') \n",
    "test = pd.read_csv('./test.csv') "
   ]
  },
  {
   "cell_type": "markdown",
   "id": "6965fd96-94ed-4032-9d00-4a95e7a8dd8c",
   "metadata": {},
   "source": [
    "We loaded in the data into pandas dataframes and now we want to see what our data looks like. What does vairables does it contain and what data types, etc. First lets start by getting its size. "
   ]
  },
  {
   "cell_type": "code",
   "execution_count": 4,
   "id": "bbb102a8-c07d-48ec-8014-051c71b59296",
   "metadata": {},
   "outputs": [
    {
     "name": "stdout",
     "output_type": "stream",
     "text": [
      "<class 'pandas.core.frame.DataFrame'>\n",
      "RangeIndex: 891 entries, 0 to 890\n",
      "Data columns (total 12 columns):\n",
      " #   Column       Non-Null Count  Dtype  \n",
      "---  ------       --------------  -----  \n",
      " 0   PassengerId  891 non-null    int64  \n",
      " 1   Survived     891 non-null    int64  \n",
      " 2   Pclass       891 non-null    int64  \n",
      " 3   Name         891 non-null    object \n",
      " 4   Sex          891 non-null    object \n",
      " 5   Age          714 non-null    float64\n",
      " 6   SibSp        891 non-null    int64  \n",
      " 7   Parch        891 non-null    int64  \n",
      " 8   Ticket       891 non-null    object \n",
      " 9   Fare         891 non-null    float64\n",
      " 10  Cabin        204 non-null    object \n",
      " 11  Embarked     889 non-null    object \n",
      "dtypes: float64(2), int64(5), object(5)\n",
      "memory usage: 83.7+ KB\n"
     ]
    }
   ],
   "source": [
    "train.info() # get info on our train "
   ]
  },
  {
   "cell_type": "markdown",
   "id": "89bc72df-53e9-4a01-a3d4-1c6814459878",
   "metadata": {},
   "source": [
    "From above we see that we have a total of 891 samples. This is a good ammount as it is a big enohgh ammount for the model to learn from but not too large where we would require lots of computing power and time for training. We also see that we have 12 columns.`Age` has 177 missing values which is a big ammount. `Cabin` has a lot of missing values too. \n",
    "\n",
    "What we will do now is try and fill in the missing values for age so lets try to explore our data first to see what it contains. "
   ]
  },
  {
   "cell_type": "code",
   "execution_count": 5,
   "id": "fb49b751-6727-464e-a627-8018f44a5c32",
   "metadata": {},
   "outputs": [
    {
     "data": {
      "text/html": [
       "<div>\n",
       "<style scoped>\n",
       "    .dataframe tbody tr th:only-of-type {\n",
       "        vertical-align: middle;\n",
       "    }\n",
       "\n",
       "    .dataframe tbody tr th {\n",
       "        vertical-align: top;\n",
       "    }\n",
       "\n",
       "    .dataframe thead th {\n",
       "        text-align: right;\n",
       "    }\n",
       "</style>\n",
       "<table border=\"1\" class=\"dataframe\">\n",
       "  <thead>\n",
       "    <tr style=\"text-align: right;\">\n",
       "      <th></th>\n",
       "      <th>PassengerId</th>\n",
       "      <th>Survived</th>\n",
       "      <th>Pclass</th>\n",
       "      <th>Name</th>\n",
       "      <th>Sex</th>\n",
       "      <th>Age</th>\n",
       "      <th>SibSp</th>\n",
       "      <th>Parch</th>\n",
       "      <th>Ticket</th>\n",
       "      <th>Fare</th>\n",
       "      <th>Cabin</th>\n",
       "      <th>Embarked</th>\n",
       "    </tr>\n",
       "  </thead>\n",
       "  <tbody>\n",
       "    <tr>\n",
       "      <th>0</th>\n",
       "      <td>1</td>\n",
       "      <td>0</td>\n",
       "      <td>3</td>\n",
       "      <td>Braund, Mr. Owen Harris</td>\n",
       "      <td>male</td>\n",
       "      <td>22.0</td>\n",
       "      <td>1</td>\n",
       "      <td>0</td>\n",
       "      <td>A/5 21171</td>\n",
       "      <td>7.2500</td>\n",
       "      <td>NaN</td>\n",
       "      <td>S</td>\n",
       "    </tr>\n",
       "    <tr>\n",
       "      <th>1</th>\n",
       "      <td>2</td>\n",
       "      <td>1</td>\n",
       "      <td>1</td>\n",
       "      <td>Cumings, Mrs. John Bradley (Florence Briggs Th...</td>\n",
       "      <td>female</td>\n",
       "      <td>38.0</td>\n",
       "      <td>1</td>\n",
       "      <td>0</td>\n",
       "      <td>PC 17599</td>\n",
       "      <td>71.2833</td>\n",
       "      <td>C85</td>\n",
       "      <td>C</td>\n",
       "    </tr>\n",
       "    <tr>\n",
       "      <th>2</th>\n",
       "      <td>3</td>\n",
       "      <td>1</td>\n",
       "      <td>3</td>\n",
       "      <td>Heikkinen, Miss. Laina</td>\n",
       "      <td>female</td>\n",
       "      <td>26.0</td>\n",
       "      <td>0</td>\n",
       "      <td>0</td>\n",
       "      <td>STON/O2. 3101282</td>\n",
       "      <td>7.9250</td>\n",
       "      <td>NaN</td>\n",
       "      <td>S</td>\n",
       "    </tr>\n",
       "    <tr>\n",
       "      <th>3</th>\n",
       "      <td>4</td>\n",
       "      <td>1</td>\n",
       "      <td>1</td>\n",
       "      <td>Futrelle, Mrs. Jacques Heath (Lily May Peel)</td>\n",
       "      <td>female</td>\n",
       "      <td>35.0</td>\n",
       "      <td>1</td>\n",
       "      <td>0</td>\n",
       "      <td>113803</td>\n",
       "      <td>53.1000</td>\n",
       "      <td>C123</td>\n",
       "      <td>S</td>\n",
       "    </tr>\n",
       "    <tr>\n",
       "      <th>4</th>\n",
       "      <td>5</td>\n",
       "      <td>0</td>\n",
       "      <td>3</td>\n",
       "      <td>Allen, Mr. William Henry</td>\n",
       "      <td>male</td>\n",
       "      <td>35.0</td>\n",
       "      <td>0</td>\n",
       "      <td>0</td>\n",
       "      <td>373450</td>\n",
       "      <td>8.0500</td>\n",
       "      <td>NaN</td>\n",
       "      <td>S</td>\n",
       "    </tr>\n",
       "    <tr>\n",
       "      <th>5</th>\n",
       "      <td>6</td>\n",
       "      <td>0</td>\n",
       "      <td>3</td>\n",
       "      <td>Moran, Mr. James</td>\n",
       "      <td>male</td>\n",
       "      <td>NaN</td>\n",
       "      <td>0</td>\n",
       "      <td>0</td>\n",
       "      <td>330877</td>\n",
       "      <td>8.4583</td>\n",
       "      <td>NaN</td>\n",
       "      <td>Q</td>\n",
       "    </tr>\n",
       "    <tr>\n",
       "      <th>6</th>\n",
       "      <td>7</td>\n",
       "      <td>0</td>\n",
       "      <td>1</td>\n",
       "      <td>McCarthy, Mr. Timothy J</td>\n",
       "      <td>male</td>\n",
       "      <td>54.0</td>\n",
       "      <td>0</td>\n",
       "      <td>0</td>\n",
       "      <td>17463</td>\n",
       "      <td>51.8625</td>\n",
       "      <td>E46</td>\n",
       "      <td>S</td>\n",
       "    </tr>\n",
       "    <tr>\n",
       "      <th>7</th>\n",
       "      <td>8</td>\n",
       "      <td>0</td>\n",
       "      <td>3</td>\n",
       "      <td>Palsson, Master. Gosta Leonard</td>\n",
       "      <td>male</td>\n",
       "      <td>2.0</td>\n",
       "      <td>3</td>\n",
       "      <td>1</td>\n",
       "      <td>349909</td>\n",
       "      <td>21.0750</td>\n",
       "      <td>NaN</td>\n",
       "      <td>S</td>\n",
       "    </tr>\n",
       "    <tr>\n",
       "      <th>8</th>\n",
       "      <td>9</td>\n",
       "      <td>1</td>\n",
       "      <td>3</td>\n",
       "      <td>Johnson, Mrs. Oscar W (Elisabeth Vilhelmina Berg)</td>\n",
       "      <td>female</td>\n",
       "      <td>27.0</td>\n",
       "      <td>0</td>\n",
       "      <td>2</td>\n",
       "      <td>347742</td>\n",
       "      <td>11.1333</td>\n",
       "      <td>NaN</td>\n",
       "      <td>S</td>\n",
       "    </tr>\n",
       "    <tr>\n",
       "      <th>9</th>\n",
       "      <td>10</td>\n",
       "      <td>1</td>\n",
       "      <td>2</td>\n",
       "      <td>Nasser, Mrs. Nicholas (Adele Achem)</td>\n",
       "      <td>female</td>\n",
       "      <td>14.0</td>\n",
       "      <td>1</td>\n",
       "      <td>0</td>\n",
       "      <td>237736</td>\n",
       "      <td>30.0708</td>\n",
       "      <td>NaN</td>\n",
       "      <td>C</td>\n",
       "    </tr>\n",
       "  </tbody>\n",
       "</table>\n",
       "</div>"
      ],
      "text/plain": [
       "   PassengerId  Survived  Pclass  \\\n",
       "0            1         0       3   \n",
       "1            2         1       1   \n",
       "2            3         1       3   \n",
       "3            4         1       1   \n",
       "4            5         0       3   \n",
       "5            6         0       3   \n",
       "6            7         0       1   \n",
       "7            8         0       3   \n",
       "8            9         1       3   \n",
       "9           10         1       2   \n",
       "\n",
       "                                                Name     Sex   Age  SibSp  \\\n",
       "0                            Braund, Mr. Owen Harris    male  22.0      1   \n",
       "1  Cumings, Mrs. John Bradley (Florence Briggs Th...  female  38.0      1   \n",
       "2                             Heikkinen, Miss. Laina  female  26.0      0   \n",
       "3       Futrelle, Mrs. Jacques Heath (Lily May Peel)  female  35.0      1   \n",
       "4                           Allen, Mr. William Henry    male  35.0      0   \n",
       "5                                   Moran, Mr. James    male   NaN      0   \n",
       "6                            McCarthy, Mr. Timothy J    male  54.0      0   \n",
       "7                     Palsson, Master. Gosta Leonard    male   2.0      3   \n",
       "8  Johnson, Mrs. Oscar W (Elisabeth Vilhelmina Berg)  female  27.0      0   \n",
       "9                Nasser, Mrs. Nicholas (Adele Achem)  female  14.0      1   \n",
       "\n",
       "   Parch            Ticket     Fare Cabin Embarked  \n",
       "0      0         A/5 21171   7.2500   NaN        S  \n",
       "1      0          PC 17599  71.2833   C85        C  \n",
       "2      0  STON/O2. 3101282   7.9250   NaN        S  \n",
       "3      0            113803  53.1000  C123        S  \n",
       "4      0            373450   8.0500   NaN        S  \n",
       "5      0            330877   8.4583   NaN        Q  \n",
       "6      0             17463  51.8625   E46        S  \n",
       "7      1            349909  21.0750   NaN        S  \n",
       "8      2            347742  11.1333   NaN        S  \n",
       "9      0            237736  30.0708   NaN        C  "
      ]
     },
     "execution_count": 5,
     "metadata": {},
     "output_type": "execute_result"
    }
   ],
   "source": [
    "train.head(10)"
   ]
  },
  {
   "cell_type": "markdown",
   "id": "5e17cd28-ff52-44dd-99c9-fd2309b5cc7f",
   "metadata": {},
   "source": [
    "Lets count our missing values"
   ]
  },
  {
   "cell_type": "code",
   "execution_count": 6,
   "id": "8146cc9b-17ff-4886-92c3-05bb3854d9ea",
   "metadata": {},
   "outputs": [
    {
     "data": {
      "text/plain": [
       "PassengerId      0\n",
       "Survived         0\n",
       "Pclass           0\n",
       "Name             0\n",
       "Sex              0\n",
       "Age            177\n",
       "SibSp            0\n",
       "Parch            0\n",
       "Ticket           0\n",
       "Fare             0\n",
       "Cabin          687\n",
       "Embarked         2\n",
       "dtype: int64"
      ]
     },
     "execution_count": 6,
     "metadata": {},
     "output_type": "execute_result"
    }
   ],
   "source": [
    "train.isnull().sum()"
   ]
  },
  {
   "cell_type": "markdown",
   "id": "256d3961-536a-4cfb-be89-c4b6ac6e9e23",
   "metadata": {},
   "source": [
    "We see that age has a good ammount of missing values. Cabin does too however it might not be very useful when making a prediction on who survives the titanic. Lets breakdown each column, what they mean and if we will keep them. \n",
    "\n",
    "`PassengderId`: This column is not useful because its just a id assigned by the dataset. We will drop this column before training. \n",
    "\n",
    "`Survived`: This column is our labels and is important since this is a supervised machine learning problem. If we wanted to go with a clustering/unsupervised learning we could drop this. For the purpose of the notebook we will be keeping this. \n",
    "\n",
    "`Pclass`: On kaggle it says that this columns serves \"A proxy for socio-economic status\". Where 1 is upper, 2 is middle and 3 is upper. This will be important for our model\n",
    "\n",
    "`Name`: This is simply the name of the passenger. This could be important as some family last names could mean that they are from a wealthier family and therfore might have a higher chance of surviving. We can also use this to approximate age. For this notebook we will most likely drop it. \n",
    "\n",
    "`Sex/Age`: The sex of the passenger. Since women and children were  prioritized in the case of an emergency this would helpful to determined who would survive. \n",
    "\n",
    "`SibSp`: In the kaggle description of the dataset it says that sibsp is \"# of siblings / spouses aboard the Titanic\". This could be helpful. \n",
    "\n",
    "`Parch`: In the kaggle description of the dataset it says that parch is \"# of parents / children aboard the Titanic\". This will also be helpful. \n",
    "\n",
    "`Ticket`: Simply the ticket ID so we can remove this.\n",
    "\n",
    "`Fare`: How much they paid for their ticket. This can be useful as maybe workers did not pay for ticket and upper class people payed for their tickets. We will keep this column. \n",
    "\n",
    "`Cabin`: This is the cabin they were staying at. This could be useful but there are several missing values in this column so for now we will ignore it. \n",
    "\n",
    "`Embarked`: The Location of where they embarked. This could be important to determine who survived. For examples people who embarked at a certain location might be workers and others might be upper class familiies. This could be useful. \n",
    "\n",
    "The columns we will be dropping are `PassengerID`, `Ticket`, and `Cabin`. We will keep `Name` for now because it can help us with filling in missing age values. "
   ]
  },
  {
   "cell_type": "code",
   "execution_count": 7,
   "id": "6558aa47-d4b3-4ccb-a731-71bde8a32af5",
   "metadata": {},
   "outputs": [],
   "source": [
    "# drop the columns PassengerId, Name, Ticket, Cabin\n",
    "train.drop(['PassengerId', 'Ticket', 'Cabin'], axis=1, inplace=True)"
   ]
  },
  {
   "cell_type": "code",
   "execution_count": 8,
   "id": "aa4d74dc-fd9f-4dc6-b673-cb55803799ee",
   "metadata": {},
   "outputs": [
    {
     "name": "stdout",
     "output_type": "stream",
     "text": [
      "<class 'pandas.core.frame.DataFrame'>\n",
      "RangeIndex: 891 entries, 0 to 890\n",
      "Data columns (total 9 columns):\n",
      " #   Column    Non-Null Count  Dtype  \n",
      "---  ------    --------------  -----  \n",
      " 0   Survived  891 non-null    int64  \n",
      " 1   Pclass    891 non-null    int64  \n",
      " 2   Name      891 non-null    object \n",
      " 3   Sex       891 non-null    object \n",
      " 4   Age       714 non-null    float64\n",
      " 5   SibSp     891 non-null    int64  \n",
      " 6   Parch     891 non-null    int64  \n",
      " 7   Fare      891 non-null    float64\n",
      " 8   Embarked  889 non-null    object \n",
      "dtypes: float64(2), int64(4), object(3)\n",
      "memory usage: 62.8+ KB\n"
     ]
    }
   ],
   "source": [
    "train.info() # get info on our train data"
   ]
  },
  {
   "cell_type": "code",
   "execution_count": 9,
   "id": "6e6f9727-fdde-45e9-a8f8-d8c0f18b6e8e",
   "metadata": {},
   "outputs": [],
   "source": [
    "train = train.dropna(subset=['Embarked']) # drop rows with missing embarked values"
   ]
  },
  {
   "cell_type": "code",
   "execution_count": 10,
   "id": "c04e6722-92a6-4289-955b-f02c5f48fa11",
   "metadata": {},
   "outputs": [
    {
     "data": {
      "text/plain": [
       "Survived      0\n",
       "Pclass        0\n",
       "Name          0\n",
       "Sex           0\n",
       "Age         177\n",
       "SibSp         0\n",
       "Parch         0\n",
       "Fare          0\n",
       "Embarked      0\n",
       "dtype: int64"
      ]
     },
     "execution_count": 10,
     "metadata": {},
     "output_type": "execute_result"
    }
   ],
   "source": [
    "train.isnull().sum() # count missing values again"
   ]
  },
  {
   "cell_type": "markdown",
   "id": "6f6789d6-7de3-4ac4-86e5-4f706dee2126",
   "metadata": {},
   "source": [
    "Now that we got rid of the columns that we did not need, we are going to fill in the missing values for `Age`. Most names contain a `Mr` or  `Mrs` in them. These people would be older because they are married so what we can do is get the average age of people with `Mr` or `Mrs` in their name and use that for their missing `Age` value.  \n",
    "\n",
    "If they don't have that in their name and their `Parch` is zero then their age will be 0. This is because they are not a parent or child and in the kaggle datset info we are told that \"Some children travelled only with a nanny, therefore parch=0 for them.\"\n",
    "\n",
    "Lastly if they don't have `Mr` or `Mrs` in their name then we will get the avarage age of people who don't and use that for their missing `Age` value. "
   ]
  },
  {
   "cell_type": "code",
   "execution_count": 11,
   "id": "088bd848-58ba-48cf-9b1a-92412caa89ac",
   "metadata": {},
   "outputs": [],
   "source": [
    "def get_age_averages(df):\n",
    "    total_mrs = 0\n",
    "    total_mr = 0\n",
    "    sum_mrs = 0\n",
    "    sum_mr = 0\n",
    "    for index, row in df.iterrows():\n",
    "        if 'mrs' in row['Name'].lower() and not np.isnan(row['Age']):\n",
    "            sum_mrs += row['Age']\n",
    "            total_mrs += 1\n",
    "        elif 'mr' in row['Name'].lower() and not np.isnan(row['Age']):\n",
    "            sum_mr += float(row['Age'])\n",
    "            total_mr += 1\n",
    "    return round(sum_mrs/total_mrs, 2), round(sum_mr/total_mrs, 2)"
   ]
  },
  {
   "cell_type": "code",
   "execution_count": 12,
   "id": "7c39fd11-2d9e-4335-89ef-f43b9c9ac4f5",
   "metadata": {},
   "outputs": [],
   "source": [
    "def fill_age(df, mean_age_mrs, mean_age_mr):\n",
    "    for index, row in df.iterrows():\n",
    "        if 'mrs' in row['Name'].lower() and np.isnan(row['Age']):\n",
    "            df.loc[index, 'Age'] = mean_age_mrs\n",
    "        elif 'mr' in row['Name'].lower() and np.isnan(row['Age']):\n",
    "            df.loc[index, 'Age'] = mean_age_mr\n",
    "        elif not 'mrs' in row['Name'].lower() and not 'mr' in row['Name'].lower() and np.isnan(row['Age']) and row['Parch'] ==0:\n",
    "            df.loc[index, 'Age'] = 0\n",
    "    return df"
   ]
  },
  {
   "cell_type": "code",
   "execution_count": 13,
   "id": "9fae76d6-ad78-4753-9e8a-14f3340eedf7",
   "metadata": {},
   "outputs": [],
   "source": [
    "mean_age_mrs, mean_age_mr = get_age_averages(train)"
   ]
  },
  {
   "cell_type": "code",
   "execution_count": 14,
   "id": "0f2e1978-5720-43f1-a238-ece84efba86c",
   "metadata": {},
   "outputs": [
    {
     "data": {
      "text/plain": [
       "35.41"
      ]
     },
     "execution_count": 14,
     "metadata": {},
     "output_type": "execute_result"
    }
   ],
   "source": [
    "mean_age_mrs"
   ]
  },
  {
   "cell_type": "code",
   "execution_count": 15,
   "id": "92fb4a0d-e05c-4a25-b70b-c00ac42a0942",
   "metadata": {},
   "outputs": [],
   "source": [
    "train_age_filled = fill_age(train.copy(deep=True), mean_age_mrs, mean_age_mr)"
   ]
  },
  {
   "cell_type": "code",
   "execution_count": 16,
   "id": "4c460182-297f-4963-94ba-f50502146a9d",
   "metadata": {},
   "outputs": [
    {
     "data": {
      "text/html": [
       "<div>\n",
       "<style scoped>\n",
       "    .dataframe tbody tr th:only-of-type {\n",
       "        vertical-align: middle;\n",
       "    }\n",
       "\n",
       "    .dataframe tbody tr th {\n",
       "        vertical-align: top;\n",
       "    }\n",
       "\n",
       "    .dataframe thead th {\n",
       "        text-align: right;\n",
       "    }\n",
       "</style>\n",
       "<table border=\"1\" class=\"dataframe\">\n",
       "  <thead>\n",
       "    <tr style=\"text-align: right;\">\n",
       "      <th></th>\n",
       "      <th>Survived</th>\n",
       "      <th>Pclass</th>\n",
       "      <th>Name</th>\n",
       "      <th>Sex</th>\n",
       "      <th>Age</th>\n",
       "      <th>SibSp</th>\n",
       "      <th>Parch</th>\n",
       "      <th>Fare</th>\n",
       "      <th>Embarked</th>\n",
       "    </tr>\n",
       "  </thead>\n",
       "  <tbody>\n",
       "    <tr>\n",
       "      <th>0</th>\n",
       "      <td>0</td>\n",
       "      <td>3</td>\n",
       "      <td>Braund, Mr. Owen Harris</td>\n",
       "      <td>male</td>\n",
       "      <td>22.0</td>\n",
       "      <td>1</td>\n",
       "      <td>0</td>\n",
       "      <td>7.2500</td>\n",
       "      <td>S</td>\n",
       "    </tr>\n",
       "    <tr>\n",
       "      <th>1</th>\n",
       "      <td>1</td>\n",
       "      <td>1</td>\n",
       "      <td>Cumings, Mrs. John Bradley (Florence Briggs Th...</td>\n",
       "      <td>female</td>\n",
       "      <td>38.0</td>\n",
       "      <td>1</td>\n",
       "      <td>0</td>\n",
       "      <td>71.2833</td>\n",
       "      <td>C</td>\n",
       "    </tr>\n",
       "    <tr>\n",
       "      <th>2</th>\n",
       "      <td>1</td>\n",
       "      <td>3</td>\n",
       "      <td>Heikkinen, Miss. Laina</td>\n",
       "      <td>female</td>\n",
       "      <td>26.0</td>\n",
       "      <td>0</td>\n",
       "      <td>0</td>\n",
       "      <td>7.9250</td>\n",
       "      <td>S</td>\n",
       "    </tr>\n",
       "    <tr>\n",
       "      <th>3</th>\n",
       "      <td>1</td>\n",
       "      <td>1</td>\n",
       "      <td>Futrelle, Mrs. Jacques Heath (Lily May Peel)</td>\n",
       "      <td>female</td>\n",
       "      <td>35.0</td>\n",
       "      <td>1</td>\n",
       "      <td>0</td>\n",
       "      <td>53.1000</td>\n",
       "      <td>S</td>\n",
       "    </tr>\n",
       "    <tr>\n",
       "      <th>4</th>\n",
       "      <td>0</td>\n",
       "      <td>3</td>\n",
       "      <td>Allen, Mr. William Henry</td>\n",
       "      <td>male</td>\n",
       "      <td>35.0</td>\n",
       "      <td>0</td>\n",
       "      <td>0</td>\n",
       "      <td>8.0500</td>\n",
       "      <td>S</td>\n",
       "    </tr>\n",
       "    <tr>\n",
       "      <th>...</th>\n",
       "      <td>...</td>\n",
       "      <td>...</td>\n",
       "      <td>...</td>\n",
       "      <td>...</td>\n",
       "      <td>...</td>\n",
       "      <td>...</td>\n",
       "      <td>...</td>\n",
       "      <td>...</td>\n",
       "      <td>...</td>\n",
       "    </tr>\n",
       "    <tr>\n",
       "      <th>886</th>\n",
       "      <td>0</td>\n",
       "      <td>2</td>\n",
       "      <td>Montvila, Rev. Juozas</td>\n",
       "      <td>male</td>\n",
       "      <td>27.0</td>\n",
       "      <td>0</td>\n",
       "      <td>0</td>\n",
       "      <td>13.0000</td>\n",
       "      <td>S</td>\n",
       "    </tr>\n",
       "    <tr>\n",
       "      <th>887</th>\n",
       "      <td>1</td>\n",
       "      <td>1</td>\n",
       "      <td>Graham, Miss. Margaret Edith</td>\n",
       "      <td>female</td>\n",
       "      <td>19.0</td>\n",
       "      <td>0</td>\n",
       "      <td>0</td>\n",
       "      <td>30.0000</td>\n",
       "      <td>S</td>\n",
       "    </tr>\n",
       "    <tr>\n",
       "      <th>888</th>\n",
       "      <td>0</td>\n",
       "      <td>3</td>\n",
       "      <td>Johnston, Miss. Catherine Helen \"Carrie\"</td>\n",
       "      <td>female</td>\n",
       "      <td>NaN</td>\n",
       "      <td>1</td>\n",
       "      <td>2</td>\n",
       "      <td>23.4500</td>\n",
       "      <td>S</td>\n",
       "    </tr>\n",
       "    <tr>\n",
       "      <th>889</th>\n",
       "      <td>1</td>\n",
       "      <td>1</td>\n",
       "      <td>Behr, Mr. Karl Howell</td>\n",
       "      <td>male</td>\n",
       "      <td>26.0</td>\n",
       "      <td>0</td>\n",
       "      <td>0</td>\n",
       "      <td>30.0000</td>\n",
       "      <td>C</td>\n",
       "    </tr>\n",
       "    <tr>\n",
       "      <th>890</th>\n",
       "      <td>0</td>\n",
       "      <td>3</td>\n",
       "      <td>Dooley, Mr. Patrick</td>\n",
       "      <td>male</td>\n",
       "      <td>32.0</td>\n",
       "      <td>0</td>\n",
       "      <td>0</td>\n",
       "      <td>7.7500</td>\n",
       "      <td>Q</td>\n",
       "    </tr>\n",
       "  </tbody>\n",
       "</table>\n",
       "<p>889 rows × 9 columns</p>\n",
       "</div>"
      ],
      "text/plain": [
       "     Survived  Pclass                                               Name  \\\n",
       "0           0       3                            Braund, Mr. Owen Harris   \n",
       "1           1       1  Cumings, Mrs. John Bradley (Florence Briggs Th...   \n",
       "2           1       3                             Heikkinen, Miss. Laina   \n",
       "3           1       1       Futrelle, Mrs. Jacques Heath (Lily May Peel)   \n",
       "4           0       3                           Allen, Mr. William Henry   \n",
       "..        ...     ...                                                ...   \n",
       "886         0       2                              Montvila, Rev. Juozas   \n",
       "887         1       1                       Graham, Miss. Margaret Edith   \n",
       "888         0       3           Johnston, Miss. Catherine Helen \"Carrie\"   \n",
       "889         1       1                              Behr, Mr. Karl Howell   \n",
       "890         0       3                                Dooley, Mr. Patrick   \n",
       "\n",
       "        Sex   Age  SibSp  Parch     Fare Embarked  \n",
       "0      male  22.0      1      0   7.2500        S  \n",
       "1    female  38.0      1      0  71.2833        C  \n",
       "2    female  26.0      0      0   7.9250        S  \n",
       "3    female  35.0      1      0  53.1000        S  \n",
       "4      male  35.0      0      0   8.0500        S  \n",
       "..      ...   ...    ...    ...      ...      ...  \n",
       "886    male  27.0      0      0  13.0000        S  \n",
       "887  female  19.0      0      0  30.0000        S  \n",
       "888  female   NaN      1      2  23.4500        S  \n",
       "889    male  26.0      0      0  30.0000        C  \n",
       "890    male  32.0      0      0   7.7500        Q  \n",
       "\n",
       "[889 rows x 9 columns]"
      ]
     },
     "execution_count": 16,
     "metadata": {},
     "output_type": "execute_result"
    }
   ],
   "source": [
    "train_age_filled"
   ]
  },
  {
   "cell_type": "code",
   "execution_count": 33,
   "id": "b3f6f672-73f9-47cd-93cf-fc2f9a607721",
   "metadata": {},
   "outputs": [
    {
     "name": "stdout",
     "output_type": "stream",
     "text": [
      "<class 'pandas.core.frame.DataFrame'>\n",
      "Index: 889 entries, 0 to 890\n",
      "Data columns (total 9 columns):\n",
      " #   Column    Non-Null Count  Dtype  \n",
      "---  ------    --------------  -----  \n",
      " 0   Survived  889 non-null    int64  \n",
      " 1   Pclass    889 non-null    int64  \n",
      " 2   Name      889 non-null    object \n",
      " 3   Sex       889 non-null    object \n",
      " 4   Age       876 non-null    float64\n",
      " 5   SibSp     889 non-null    int64  \n",
      " 6   Parch     889 non-null    int64  \n",
      " 7   Fare      889 non-null    float64\n",
      " 8   Embarked  889 non-null    object \n",
      "dtypes: float64(2), int64(4), object(3)\n",
      "memory usage: 101.7+ KB\n"
     ]
    }
   ],
   "source": [
    "train_age_filled.info() # info on data with filling in missing values"
   ]
  },
  {
   "cell_type": "markdown",
   "id": "4e1a36da-c9aa-40aa-aab7-6f1b063ff11c",
   "metadata": {},
   "source": [
    "\n",
    "<!-- The tables above tell us a couple of things. For starters we have see that we have 12 columns which are PassengerId, Survived, Pclass, Name, Sex, Age, SibSp, Parch, Ticket, Fare, Cabin, Embarked. Lets breakdown each of them and see what might be useful for training our model. \n",
    "\n",
    "PassengderId: This column might not be vary useful as it is simply a id assigned by the dataset. We will drop this column before training. \n",
    "\n",
    "Survived: This column is our labels and is important since this is a supervised machine learning problem. If we wanted to go with a clustering/unsupervised learning we could drop this. For the purpose of the notebook we will be keeping this. \n",
    "\n",
    "Pclass: On kaggle it says that this columns serves \"A proxy for socio-economic status\". Where 1 is upper, 2 is middle and 3 is upper. This will be important for our model\n",
    "\n",
    "Name: This is simply the name of the passenger. This could be important as some family last names could mean that they are from a wealthier family and therfore might have a higher chance of surviving. For this notebook we will most likely drop it. \n",
    "\n",
    "Sex/Age: The sex of the passenger. Since women and children were  prioritized in the case of an emergency this would helpful to determined who would survive. \n",
    "\n",
    "SibSp: In the kaggle description of the dataset it says that sibsp is \"# of siblings / spouses aboard the Titanic\". This could be helpful. \n",
    "\n",
    "Parch: In the kaggle description of the dataset it says that parch is \"# of parents / children aboard the Titanic\". This will also be helpful. \n",
    "\n",
    "Ticket: Simply the ticket ID so we can remove this.\n",
    "\n",
    "Fare: How much they paid for their ticket. This can be useful as maybe workers did not pay for ticket and upper class people payed for their tickets. We will keep this column. \n",
    "\n",
    "Cabin: This is the cabin they were staying at. This could be useful but there are several missing values in this column so for now we will ignore it. \n",
    "\n",
    "Embarked: The Location of where they embarked. This could be important to determine who survived. For examples people who embarked at a certain location might be workers and others might be upper class familiies. This could be useful.  -->"
   ]
  },
  {
   "cell_type": "code",
   "execution_count": 34,
   "id": "3621bcd1-7904-4381-a62f-e08067aa091d",
   "metadata": {},
   "outputs": [
    {
     "name": "stdout",
     "output_type": "stream",
     "text": [
      "<class 'pandas.core.frame.DataFrame'>\n",
      "Index: 889 entries, 0 to 890\n",
      "Data columns (total 9 columns):\n",
      " #   Column    Non-Null Count  Dtype  \n",
      "---  ------    --------------  -----  \n",
      " 0   Survived  889 non-null    int64  \n",
      " 1   Pclass    889 non-null    int64  \n",
      " 2   Name      889 non-null    object \n",
      " 3   Sex       889 non-null    object \n",
      " 4   Age       712 non-null    float64\n",
      " 5   SibSp     889 non-null    int64  \n",
      " 6   Parch     889 non-null    int64  \n",
      " 7   Fare      889 non-null    float64\n",
      " 8   Embarked  889 non-null    object \n",
      "dtypes: float64(2), int64(4), object(3)\n",
      "memory usage: 101.7+ KB\n"
     ]
    }
   ],
   "source": [
    "train.info() # info on data without filling in missing values"
   ]
  },
  {
   "cell_type": "code",
   "execution_count": 19,
   "id": "b2018689-0e1d-4dda-be04-7669353cee4f",
   "metadata": {},
   "outputs": [],
   "source": [
    "# # get info on the remaining dataframe\n",
    "# train.info()"
   ]
  },
  {
   "cell_type": "markdown",
   "id": "0d1529c5-e1d6-4722-84b4-4abbb54e4db9",
   "metadata": {},
   "source": [
    "Our dataframe now only contains the columns that we want. However from the table above we can see that we still have quite a few missing values in a couple of columns. For example `Age` has quite a few missing values. `Embarked` has some missing values but nothing major. We now have to figure out what to do with the missing values for age. Lets first check how many missing values we have exactly. "
   ]
  },
  {
   "cell_type": "code",
   "execution_count": 20,
   "id": "8adc64c2-07aa-4451-bea9-29926873cd52",
   "metadata": {},
   "outputs": [],
   "source": [
    "# count missing values in columns\n",
    "# train.isnull().sum()"
   ]
  },
  {
   "cell_type": "markdown",
   "id": "a6759e29-40c3-4894-93d3-f3483accff2e",
   "metadata": {},
   "source": [
    "We have a total of 177 missing values. We have a couple of options on what to do for the missing values. We can either drop the rows of the missing values. In the case of embarked we probably will becuase it is two rows. For the case of age however we might want to try to fill the missing values because we would loose a lot of data if we dropped those rows. \n",
    "\n",
    "I will be doing both approaches. One where we drop the rows that have missing values and one where we fill in the missing values. At the end we will see if there is really a difference and if it was worth filling in the missing values. First lets go look into our missing values to decide what approach we will take. "
   ]
  },
  {
   "cell_type": "code",
   "execution_count": 21,
   "id": "7dec07fd-ab8c-44be-a0af-da85f6dcd7f1",
   "metadata": {},
   "outputs": [],
   "source": [
    "# get the rows that have missing values and create dataframe\n",
    "# missing_vals_df = train[train.isna().any(axis=1)]"
   ]
  },
  {
   "cell_type": "code",
   "execution_count": 22,
   "id": "ba87d13d-d04e-4bb9-8625-d89d05dcb090",
   "metadata": {},
   "outputs": [],
   "source": [
    "# show the first 15 samples in the dataframe of missing values\n",
    "# missing_vals_df.head(15) "
   ]
  },
  {
   "cell_type": "markdown",
   "id": "713eb62c-d4d9-43d6-9074-a4645fff57a7",
   "metadata": {},
   "source": [
    "From the table above we can see that from the first 15 samples most of the Pclass are 3. Lets count how many of the missing values are of Pclass 3. "
   ]
  },
  {
   "cell_type": "code",
   "execution_count": 23,
   "id": "0d87b83f-ed0e-44da-b572-2aea6d533844",
   "metadata": {},
   "outputs": [],
   "source": [
    "# in missing values count the pclass frequencies\n",
    "# missing_vals_df['Pclass'].value_counts()"
   ]
  },
  {
   "cell_type": "code",
   "execution_count": 24,
   "id": "f567ef56-d16b-4cde-88c3-c34fa5a95e56",
   "metadata": {},
   "outputs": [],
   "source": [
    "# missing_vals_df['Survived'].value_counts()"
   ]
  },
  {
   "cell_type": "code",
   "execution_count": 25,
   "id": "6ef692c6-fff0-46d7-a5a2-4cebfce26d43",
   "metadata": {},
   "outputs": [],
   "source": [
    "# missing_vals_df['Parch'].value_counts()"
   ]
  },
  {
   "cell_type": "code",
   "execution_count": 26,
   "id": "cfa4d3d2-bd5e-4b08-8b15-77e1a38ac720",
   "metadata": {},
   "outputs": [],
   "source": [
    "# from the dataframe containg missing age values get a frequency count on the fare\n",
    "# missing_vals_df['Fare'].value_counts()"
   ]
  },
  {
   "cell_type": "markdown",
   "id": "3c6a2566-c595-44c5-a920-686ec0d6b4a1",
   "metadata": {},
   "source": [
    "A lot of the missing values are from the Pclass 3. We are going to see if we can get more info as to why the age on some of these is unkown. Once we can make a guess we will then see if we can fill the values in. "
   ]
  },
  {
   "cell_type": "code",
   "execution_count": 27,
   "id": "5a3e3476-9c2b-4185-aee9-26187e7e1bbc",
   "metadata": {},
   "outputs": [],
   "source": [
    "# def get_pclass(df, n):\n",
    "#     \"\"\"\n",
    "#     seperate non age null dataframes into dataframes by their pclass (1,2,3)\n",
    "#     \"\"\"\n",
    "#     dataframes = []\n",
    "#     for i in range(1,n+1):\n",
    "#         not_null = df[df['Age'].notnull()]\n",
    "#         not_null_filtered = not_null[not_null['Pclass'] == i]\n",
    "#         dataframes.append(not_null_filtered)\n",
    "#     return dataframes"
   ]
  },
  {
   "cell_type": "code",
   "execution_count": 28,
   "id": "7f34072f-3146-4f01-a6cb-73df5362d633",
   "metadata": {},
   "outputs": [],
   "source": [
    "# pclass_df = get_pclass(train, 3)"
   ]
  },
  {
   "cell_type": "code",
   "execution_count": 29,
   "id": "332a35d0-a91e-4800-a932-6582bd5ebad4",
   "metadata": {},
   "outputs": [],
   "source": [
    "# pclass_df.append(train[train['Age'].notnull()])"
   ]
  },
  {
   "cell_type": "code",
   "execution_count": 30,
   "id": "116b81f8-0dbb-4e00-8bf2-91d14f5cb588",
   "metadata": {},
   "outputs": [],
   "source": [
    "# pclass_df[1]['Age']"
   ]
  },
  {
   "cell_type": "code",
   "execution_count": 31,
   "id": "14b76a9a-9861-4c25-bd72-7b5f4f5c2bd1",
   "metadata": {},
   "outputs": [],
   "source": [
    "# plt.scatter(pclass_df[3]['Fare'], pclass_df[3]['Pclass'])\n",
    "# plt.show()"
   ]
  },
  {
   "cell_type": "code",
   "execution_count": null,
   "id": "d8be3c78-7a1b-435d-b080-c7cbe8037183",
   "metadata": {},
   "outputs": [],
   "source": []
  }
 ],
 "metadata": {
  "kernelspec": {
   "display_name": "Python 3 (ipykernel)",
   "language": "python",
   "name": "python3"
  },
  "language_info": {
   "codemirror_mode": {
    "name": "ipython",
    "version": 3
   },
   "file_extension": ".py",
   "mimetype": "text/x-python",
   "name": "python",
   "nbconvert_exporter": "python",
   "pygments_lexer": "ipython3",
   "version": "3.9.6"
  }
 },
 "nbformat": 4,
 "nbformat_minor": 5
}
