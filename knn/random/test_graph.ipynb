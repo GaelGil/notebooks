{
 "cells": [
  {
   "cell_type": "code",
   "execution_count": 1,
   "metadata": {},
   "outputs": [
    {
     "data": {
      "image/png": "[encoded data removed]",
      "text/plain": [
       "<Figure size 432x288 with 1 Axes>"
      ]
     },
     "metadata": {
      "needs_background": "light"
     },
     "output_type": "display_data"
    }
   ],
   "source": [
    "from matplotlib.pyplot import figure, show\n",
    "from numpy import arange, sin, pi\n",
    "\n",
    "t = ([1,2,3],[2,5,10])\n",
    "fig = figure(1)\n",
    "\n",
    "# ax1 = fig.add_subplot(211)\n",
    "ax1 = fig.add_subplot()\n",
    "# ax1.plot(t, sin(2*pi*t))\n",
    "ax1.plot(t)\n",
    "#this adds  grid\n",
    "ax1.grid(True)\n",
    "#this sets a y limit of 2 and -2\n",
    "ax1.set_ylim((-1, 10))\n",
    "ax1.set_xlim((-1,10))\n",
    "ax1.set_ylabel('Height')\n",
    "ax1.set_xlabel('Weight')\n",
    "ax1.set_title('My Graph')\n",
    "\n",
    "#this makes the bottom row red\n",
    "for label in ax1.get_xticklabels():\n",
    "    label.set_color('r')"
   ]
  },
  {
   "cell_type": "code",
   "execution_count": 5,
   "metadata": {},
   "outputs": [],
   "source": [
    "from matplotlib.pyplot import figure, show\n",
    "from numpy import arange, sin, pi\n",
    "x = [1, 2, 3, 4, 5, 6, 7, 8]\n",
    "y = [5, 6, 3, 1, 5, 9, 1, 2]\n",
    "\n",
    "# ax2.scatter(x,y, label='whatever', color='k')\n",
    "# ax2.set_xlabel('height')\n",
    "# ax2.set_ylabel('weight')\n",
    "# ax2.show"
   ]
  },
  {
   "cell_type": "code",
   "execution_count": 2,
   "metadata": {},
   "outputs": [
    {
     "data": {
      "image/png": "[encoded data removed]",
      "text/plain": [
       "<Figure size 432x288 with 1 Axes>"
      ]
     },
     "metadata": {
      "needs_background": "light"
     },
     "output_type": "display_data"
    }
   ],
   "source": [
    "import matplotlib.pyplot as plt\n",
    "import numpy as np\n",
    "\n",
    "data = [\n",
    "        [0, 0, 'F'],\n",
    "        [0.1, 0.3, 'F'],\n",
    "        [1, 2, 'F'],\n",
    "        [2, 2, 'F'],\n",
    "        [5, 6, 'M'],\n",
    "        [4, 7, 'M']\n",
    "]\n",
    "d = np.array(data)\n",
    "x = d[:,0]\n",
    "y = d[:,1]\n",
    "# x = [1, 2, 3, 4, 5, 6, 7, 8]\n",
    "# y = [5, 6, 3, 1, 5, 9, 1, 2]\n",
    "\n",
    "j = [1, 0.1, 3, 3, 6, 6,]\n",
    "i = [1, 0.5, 1, 3, 5, 4,]\n",
    "\n",
    "plt.scatter(x,y, color='r')\n",
    "plt.scatter(j,i, color='b')\n",
    "plt.xlabel('height')\n",
    "plt.ylabel('weight')\n",
    "plt.grid(True)"
   ]
  },
  {
   "cell_type": "code",
   "execution_count": 7,
   "metadata": {},
   "outputs": [
    {
     "ename": "ModuleNotFoundError",
     "evalue": "No module named 'MyData'",
     "output_type": "error",
     "traceback": [
      "\u001b[0;31m---------------------------------------------------------------------------\u001b[0m",
      "\u001b[0;31mModuleNotFoundError\u001b[0m                       Traceback (most recent call last)",
      "\u001b[0;32m<ipython-input-7-f296c4f2c53c>\u001b[0m in \u001b[0;36m<module>\u001b[0;34m\u001b[0m\n\u001b[1;32m      2\u001b[0m \u001b[0;32mimport\u001b[0m \u001b[0mnumpy\u001b[0m \u001b[0;32mas\u001b[0m \u001b[0mnp\u001b[0m\u001b[0;34m\u001b[0m\u001b[0;34m\u001b[0m\u001b[0m\n\u001b[1;32m      3\u001b[0m \u001b[0;31m# from MyData import data as my_data\u001b[0m\u001b[0;34m\u001b[0m\u001b[0;34m\u001b[0m\u001b[0;34m\u001b[0m\u001b[0m\n\u001b[0;32m----> 4\u001b[0;31m \u001b[0;32mimport\u001b[0m \u001b[0mMyData\u001b[0m\u001b[0;34m\u001b[0m\u001b[0;34m\u001b[0m\u001b[0m\n\u001b[0m\u001b[1;32m      5\u001b[0m \u001b[0mall_data\u001b[0m \u001b[0;34m=\u001b[0m \u001b[0mnp\u001b[0m\u001b[0;34m.\u001b[0m\u001b[0marray\u001b[0m\u001b[0;34m(\u001b[0m\u001b[0mmy_data\u001b[0m\u001b[0;34m)\u001b[0m\u001b[0;34m\u001b[0m\u001b[0;34m\u001b[0m\u001b[0m\n\u001b[1;32m      6\u001b[0m \u001b[0mx\u001b[0m \u001b[0;34m=\u001b[0m \u001b[0mall_data\u001b[0m\u001b[0;34m[\u001b[0m\u001b[0;34m:\u001b[0m\u001b[0;34m,\u001b[0m\u001b[0;36m1\u001b[0m\u001b[0;34m]\u001b[0m\u001b[0;34m\u001b[0m\u001b[0;34m\u001b[0m\u001b[0m\n",
      "\u001b[0;31mModuleNotFoundError\u001b[0m: No module named 'MyData'"
     ]
    }
   ],
   "source": [
    "import matplotlib.pyplot as pl\n",
    "import numpy as np\n",
    "from MyData import data as my_data\n",
    "\n",
    "all_data = np.array(my_data)\n",
    "x = all_data[:,1]\n",
    "y = all_data[:,2]\n",
    "\n",
    "pl.scatter(x,y, color='r')\n",
    "pl.xlabel('height')\n",
    "pl.ylabel('weight')\n",
    "pl.grid(True)"
   ]
  },
  {
   "cell_type": "code",
   "execution_count": 1,
   "metadata": {},
   "outputs": [
    {
     "name": "stdout",
     "output_type": "stream",
     "text": [
      "\u001b[31mMyData.ipynb\u001b[m\u001b[m        \u001b[34m__pycache__\u001b[m\u001b[m         \u001b[34menv\u001b[m\u001b[m                 test_graph.ipynb\n",
      "Untitled.ipynb      data.csv            graph.ipynb         test_notebook.ipynb\n"
     ]
    }
   ],
   "source": [
    "! ls"
   ]
  },
  {
   "cell_type": "code",
   "execution_count": null,
   "metadata": {},
   "outputs": [],
   "source": []
  }
 ],
 "metadata": {
  "kernelspec": {
   "display_name": "Python 3",
   "language": "python",
   "name": "python3"
  },
  "language_info": {
   "codemirror_mode": {
    "name": "ipython",
    "version": 3
   },
   "file_extension": ".py",
   "mimetype": "text/x-python",
   "name": "python",
   "nbconvert_exporter": "python",
   "pygments_lexer": "ipython3",
   "version": "3.7.3"
  }
 },
 "nbformat": 4,
 "nbformat_minor": 4
}
