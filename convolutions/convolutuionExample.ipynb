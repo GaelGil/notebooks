{
 "cells": [
  {
   "cell_type": "markdown",
   "metadata": {},
   "source": [
    "# Convolutions\n",
    "In this notebook I will go over some basic convolutions. My first example is an example of a 1D convolution. First I will do a convolution using the `numpy` library then I will show a convolution 1D convolution done  manually. 1D convolutions are for 1 dimensional data such as a single array or a function. 2D convolutions are more generally done on something like a image. "
   ]
  },
  {
   "cell_type": "code",
   "execution_count": null,
   "metadata": {},
   "outputs": [],
   "source": [
    "import numpy as np\n",
    "import matplotlib.pyplot as plt\n",
    "import cv2 "
   ]
  },
  {
   "cell_type": "markdown",
   "metadata": {},
   "source": [
    "# 1D Convolution\n",
    "A convolution in its simples form is when we have an array and multiply it over another one and we add those values to create a new array. Here I will do a simple 1D convolution in one line to demonstrate that when we do a convolution we will get a different array. The function `np.convolve()` works like this  `np.convolve(array, kernel, padding)`. The array is the array we want to perform a convolution on. The kernel will be what we perform it with. The padding will either add zeroes to the end or wont. Lastly this will print out a new array. Once I did this I wanted to create my own function which does the same and can be seen below. I tested the functions with the same values. "
   ]
  },
  {
   "cell_type": "code",
   "execution_count": null,
   "metadata": {},
   "outputs": [],
   "source": [
    "np.convolve([1, 1, 1, 2, 2, 3, 3, 1, 1, 1, 1, 0], [0.1, 0.2], 'same') # doing a 1D convolution with numpy"
   ]
  },
  {
   "cell_type": "code",
   "execution_count": null,
   "metadata": {},
   "outputs": [],
   "source": [
    "def preform1DConvolution(kernel, arr):\n",
    "    \"\"\"\n",
    "    \n",
    "    \"\"\"\n",
    "    result = []\n",
    "    for i in range(len(arr)-len(kernel)):\n",
    "        res = kernel[1] * arr[i] + kernel[0] * arr[i+1]\n",
    "        result.append(round(res,1))\n",
    "    return result"
   ]
  },
  {
   "cell_type": "code",
   "execution_count": null,
   "metadata": {},
   "outputs": [],
   "source": [
    "arrayOne = [0.1, 0.2,]\n",
    "arrayTwo = [0, 1, 1, 1, 2, 2, 3, 3, 1, 1, 1, 1, 0, 0]"
   ]
  },
  {
   "cell_type": "code",
   "execution_count": null,
   "metadata": {},
   "outputs": [],
   "source": [
    "preform1DConvolution(arrayOne, arrayTwo) "
   ]
  },
  {
   "cell_type": "markdown",
   "metadata": {},
   "source": [
    "# 2D Convolutions\n",
    "Similar to a 1D convolution a 2D convolution is when we have a array/kernel and we move it over another array and multiply and add as we go along. The difference is we now have a 2D array. In this section I create a function that will take two inputs a kernel and a 2D array and return a new array. After that I will use this function to preform convolutions on a image. Here is a function that prefroms 2D convolutions. Here we will use this function to try add a filter over some images. "
   ]
  },
  {
   "cell_type": "code",
   "execution_count": null,
   "metadata": {},
   "outputs": [],
   "source": [
    "def preform2DConvolution(kernel, arr):\n",
    "    \"\"\"\n",
    "    from row 0 to row 3, the 0 column\n",
    "    print(arr[0:3:,0])\n",
    "    \n",
    "    from row 0 to row 3, the 1 column\n",
    "    print(arr[0:3:,1])\n",
    "\n",
    "    from row 0 to row 3, the 2 column\n",
    "    print(arr[0:3:,2])\n",
    "\n",
    "    \"\"\"\n",
    "    newArr = []\n",
    "    rows, cols, = arr.shape[0], arr.shape[1]\n",
    "    height = len(kernel)\n",
    "\n",
    "    for x in range(0, rows-(len(kernel)-1)):\n",
    "        listOfPixels = []\n",
    "        for y in range(0, cols-(len(kernel)-1)):\n",
    "            oneP = np.multiply(arr[x:x+height:,y], kernel[0:height:,0]) \n",
    "            twoP = np.multiply(arr[x:x+height:,y+1], kernel[0:height:,1])\n",
    "            threeP = np.multiply(arr[x:x+height:,y+2], kernel[0:height:,2]) \n",
    "            \n",
    "            pixel = sum(oneP) + sum(twoP) + sum(threeP)\n",
    "            listOfPixels.append(pixel)\n",
    "        \n",
    "        newArr.append(listOfPixels)\n",
    "        \n",
    "    return np.array(newArr)"
   ]
  },
  {
   "cell_type": "code",
   "execution_count": null,
   "metadata": {},
   "outputs": [],
   "source": [
    "# my simple 2D array\n",
    "simpleImg = np.array([[3, 3, 2, 1, 0],[0, 0, 1, 3, 1], [3, 1, 2, 2, 3], [2, 0, 0, 2, 2], [2, 0, 0, 0, 1]])\n",
    "# the kernel we will use on the image\n",
    "simpleKernel = np.array([[0, 1, 2],[2, 2 , 0], [0, 1, 2]])"
   ]
  },
  {
   "cell_type": "code",
   "execution_count": null,
   "metadata": {},
   "outputs": [],
   "source": [
    "plt.imshow(simpleImg)\n",
    "plt.title('simpleImg')\n",
    "plt.show()"
   ]
  },
  {
   "cell_type": "code",
   "execution_count": null,
   "metadata": {},
   "outputs": [],
   "source": [
    "newImg = preform2DConvolution(simpleKernel, simpleImg)"
   ]
  },
  {
   "cell_type": "code",
   "execution_count": null,
   "metadata": {},
   "outputs": [],
   "source": [
    "plt.imshow(newImg)\n",
    "plt.title('newImg')\n",
    "plt.show()"
   ]
  },
  {
   "cell_type": "code",
   "execution_count": null,
   "metadata": {},
   "outputs": [],
   "source": []
  },
  {
   "cell_type": "markdown",
   "metadata": {},
   "source": []
  },
  {
   "cell_type": "code",
   "execution_count": null,
   "metadata": {},
   "outputs": [],
   "source": [
    "randImg = np.random.randint(1000, size=(315, 400))\n",
    "plt.imshow(randImg)\n",
    "plt.title('randImg')\n",
    "plt.show()"
   ]
  },
  {
   "cell_type": "code",
   "execution_count": null,
   "metadata": {},
   "outputs": [],
   "source": [
    "newRandImg = preform2DConvolution(simpleKernel, randImg)"
   ]
  },
  {
   "cell_type": "code",
   "execution_count": null,
   "metadata": {},
   "outputs": [],
   "source": [
    "plt.imshow(newRandImg)\n",
    "plt.title('newRandImg')\n",
    "plt.show()"
   ]
  },
  {
   "cell_type": "markdown",
   "metadata": {},
   "source": [
    "# Performing Convolutions on Images\n",
    "Here I will show how convolutions can be used on images. I will use a photo I have saved and display how it looks in its true colored form. I will then make the original colored image into a black and white image. I need to turn the colored image inot a black and white image because the colored image has three dimensions and my function performs 2D convolutions only. Once it is in black and white I will then apply a filter to it and display it as well"
   ]
  },
  {
   "cell_type": "code",
   "execution_count": null,
   "metadata": {},
   "outputs": [],
   "source": [
    "imgOfBernie = cv2.imread(\"bernieMuni.jpg\", 3)\n",
    "b,g,r = cv2.split(imgOfBernie)\n",
    "bernie = cv2.merge([r,g,b])"
   ]
  },
  {
   "cell_type": "code",
   "execution_count": null,
   "metadata": {},
   "outputs": [],
   "source": [
    "plt.imshow(bernie)\n",
    "plt.title('bernie')\n",
    "plt.show()"
   ]
  },
  {
   "cell_type": "code",
   "execution_count": null,
   "metadata": {},
   "outputs": [],
   "source": [
    "copyOfBernie = bernie.copy()\n",
    "grayBernie = cv2.cvtColor(copyOfBernie, cv2.COLOR_BGR2GRAY)\n",
    "# check shape of array\n",
    "grayBernie.shape"
   ]
  },
  {
   "cell_type": "code",
   "execution_count": null,
   "metadata": {},
   "outputs": [],
   "source": [
    "plt.imshow(grayBernie)\n",
    "plt.title('grayBernie')\n",
    "plt.show()"
   ]
  },
  {
   "cell_type": "code",
   "execution_count": null,
   "metadata": {},
   "outputs": [],
   "source": [
    "horizontalSobelKernel = np.array([[1, 0, -1],[2, 0 , -2], [1, 0, -1]]) \n",
    "filterdBernie = preform2DConvolution(horizontalSobelKernel, grayBernie) # apply the kernel to the bernie image"
   ]
  },
  {
   "cell_type": "code",
   "execution_count": null,
   "metadata": {},
   "outputs": [],
   "source": [
    "plt.imshow(filterdBernie)\n",
    "plt.title('filterdBernie')\n",
    "plt.show()"
   ]
  },
  {
   "cell_type": "code",
   "execution_count": null,
   "metadata": {},
   "outputs": [],
   "source": []
  },
  {
   "cell_type": "code",
   "execution_count": null,
   "metadata": {},
   "outputs": [],
   "source": []
  },
  {
   "cell_type": "code",
   "execution_count": null,
   "metadata": {},
   "outputs": [],
   "source": [
    "import tensorflow as tf\n",
    "from tensorflow import keras\n",
    "from keras.datasets import mnist"
   ]
  },
  {
   "cell_type": "code",
   "execution_count": 3,
   "metadata": {},
   "outputs": [
    {
     "ename": "AttributeError",
     "evalue": "module 'tensorflow' has no attribute 'mnist'",
     "output_type": "error",
     "traceback": [
      "\u001b[0;31m---------------------------------------------------------------------------\u001b[0m",
      "\u001b[0;31mAttributeError\u001b[0m                            Traceback (most recent call last)",
      "\u001b[0;32m<ipython-input-3-db794a4db09f>\u001b[0m in \u001b[0;36m<module>\u001b[0;34m\u001b[0m\n\u001b[0;32m----> 1\u001b[0;31m \u001b[0;34m(\u001b[0m\u001b[0mx_train\u001b[0m\u001b[0;34m,\u001b[0m \u001b[0my_train\u001b[0m\u001b[0;34m)\u001b[0m\u001b[0;34m,\u001b[0m \u001b[0;34m(\u001b[0m\u001b[0mx_test\u001b[0m\u001b[0;34m,\u001b[0m \u001b[0my_test\u001b[0m\u001b[0;34m)\u001b[0m \u001b[0;34m=\u001b[0m \u001b[0mtf\u001b[0m\u001b[0;34m.\u001b[0m\u001b[0mmnist\u001b[0m\u001b[0;34m.\u001b[0m\u001b[0mload_data\u001b[0m\u001b[0;34m(\u001b[0m\u001b[0;34m)\u001b[0m\u001b[0;34m\u001b[0m\u001b[0;34m\u001b[0m\u001b[0m\n\u001b[0m",
      "\u001b[0;31mAttributeError\u001b[0m: module 'tensorflow' has no attribute 'mnist'"
     ]
    }
   ],
   "source": []
  },
  {
   "cell_type": "code",
   "execution_count": null,
   "metadata": {},
   "outputs": [],
   "source": []
  }
 ],
 "metadata": {
  "kernelspec": {
   "display_name": "Python 3",
   "language": "python",
   "name": "python3"
  },
  "language_info": {
   "codemirror_mode": {
    "name": "ipython",
    "version": 3
   },
   "file_extension": ".py",
   "mimetype": "text/x-python",
   "name": "python",
   "nbconvert_exporter": "python",
   "pygments_lexer": "ipython3",
   "version": "3.7.3"
  }
 },
 "nbformat": 4,
 "nbformat_minor": 4
}
