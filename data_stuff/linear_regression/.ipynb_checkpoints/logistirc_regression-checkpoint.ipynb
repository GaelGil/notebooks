{
 "cells": [
  {
   "cell_type": "code",
   "execution_count": 1,
   "metadata": {},
   "outputs": [],
   "source": [
    "import numpy as np \n",
    "import math\n",
    "import pandas as pd \n",
    "\n",
    "%matplotlib inline\n",
    "from matplotlib import pyplot as plt\n",
    "from matplotlib import style\n",
    "from sklearn.metrics import classification_report\n",
    "from sklearn import linear_model\n",
    "from sklearn.linear_model import LogisticRegression\n",
    "from numpy.polynomial.polynomial import polyfit"
   ]
  },
  {
   "cell_type": "code",
   "execution_count": 2,
   "metadata": {},
   "outputs": [],
   "source": [
    "# data = pd.read_csv(\"titanic.csv\")"
   ]
  },
  {
   "cell_type": "code",
   "execution_count": 3,
   "metadata": {},
   "outputs": [],
   "source": [
    "# data"
   ]
  },
  {
   "cell_type": "code",
   "execution_count": 4,
   "metadata": {},
   "outputs": [],
   "source": [
    "# data = data.drop(columns=['SibSp', 'Ticket', 'Parch', 'Fare', 'Cabin', 'Embarked', 'Name'])"
   ]
  },
  {
   "cell_type": "code",
   "execution_count": 5,
   "metadata": {},
   "outputs": [],
   "source": [
    "# data"
   ]
  },
  {
   "cell_type": "code",
   "execution_count": 6,
   "metadata": {},
   "outputs": [],
   "source": [
    "# titanic = pd.get_dummies(data, drop_first=True)"
   ]
  },
  {
   "cell_type": "code",
   "execution_count": 7,
   "metadata": {},
   "outputs": [],
   "source": [
    "# titanic.head()"
   ]
  },
  {
   "cell_type": "code",
   "execution_count": 8,
   "metadata": {},
   "outputs": [],
   "source": [
    "data = pd.read_csv(\"../knn/train\", names=[\"gender\", \"height\", \"weight\"])"
   ]
  },
  {
   "cell_type": "code",
   "execution_count": 9,
   "metadata": {},
   "outputs": [],
   "source": [
    "data = data.head(50)"
   ]
  },
  {
   "cell_type": "code",
   "execution_count": 10,
   "metadata": {},
   "outputs": [],
   "source": [
    "zero_and_one = ( (data['weight']- min(data['weight']) ) / ( (max(data['weight'])) -min(data['weight']) ) )"
   ]
  },
  {
   "cell_type": "code",
   "execution_count": 11,
   "metadata": {},
   "outputs": [
    {
     "data": {
      "text/plain": [
       "5640    0.439155\n",
       "8220    0.315860\n",
       "2415    0.669834\n",
       "7442    0.276764\n",
       "3182    0.768020\n",
       "          ...   \n",
       "2497    0.941126\n",
       "3320    0.745781\n",
       "7885    0.437227\n",
       "1222    0.918427\n",
       "8154    0.503244\n",
       "Name: weight, Length: 100, dtype: float64"
      ]
     },
     "execution_count": 11,
     "metadata": {},
     "output_type": "execute_result"
    }
   ],
   "source": [
    "zero_and_one"
   ]
  },
  {
   "cell_type": "code",
   "execution_count": 12,
   "metadata": {},
   "outputs": [],
   "source": [
    "data['normalized'] = zero_and_one"
   ]
  },
  {
   "cell_type": "code",
   "execution_count": 13,
   "metadata": {},
   "outputs": [
    {
     "data": {
      "text/html": [
       "<div>\n",
       "<style scoped>\n",
       "    .dataframe tbody tr th:only-of-type {\n",
       "        vertical-align: middle;\n",
       "    }\n",
       "\n",
       "    .dataframe tbody tr th {\n",
       "        vertical-align: top;\n",
       "    }\n",
       "\n",
       "    .dataframe thead th {\n",
       "        text-align: right;\n",
       "    }\n",
       "</style>\n",
       "<table border=\"1\" class=\"dataframe\">\n",
       "  <thead>\n",
       "    <tr style=\"text-align: right;\">\n",
       "      <th></th>\n",
       "      <th>gender</th>\n",
       "      <th>height</th>\n",
       "      <th>weight</th>\n",
       "      <th>normalized</th>\n",
       "    </tr>\n",
       "  </thead>\n",
       "  <tbody>\n",
       "    <tr>\n",
       "      <th>5640</th>\n",
       "      <td>Female</td>\n",
       "      <td>66.766157</td>\n",
       "      <td>152.944405</td>\n",
       "      <td>0.439155</td>\n",
       "    </tr>\n",
       "    <tr>\n",
       "      <th>8220</th>\n",
       "      <td>Female</td>\n",
       "      <td>63.881197</td>\n",
       "      <td>137.170886</td>\n",
       "      <td>0.315860</td>\n",
       "    </tr>\n",
       "    <tr>\n",
       "      <th>2415</th>\n",
       "      <td>Male</td>\n",
       "      <td>68.720243</td>\n",
       "      <td>182.455923</td>\n",
       "      <td>0.669834</td>\n",
       "    </tr>\n",
       "    <tr>\n",
       "      <th>7442</th>\n",
       "      <td>Female</td>\n",
       "      <td>62.834020</td>\n",
       "      <td>132.169244</td>\n",
       "      <td>0.276764</td>\n",
       "    </tr>\n",
       "    <tr>\n",
       "      <th>3182</th>\n",
       "      <td>Male</td>\n",
       "      <td>70.962617</td>\n",
       "      <td>195.017206</td>\n",
       "      <td>0.768020</td>\n",
       "    </tr>\n",
       "    <tr>\n",
       "      <th>...</th>\n",
       "      <td>...</td>\n",
       "      <td>...</td>\n",
       "      <td>...</td>\n",
       "      <td>...</td>\n",
       "    </tr>\n",
       "    <tr>\n",
       "      <th>2497</th>\n",
       "      <td>Male</td>\n",
       "      <td>72.793486</td>\n",
       "      <td>217.163282</td>\n",
       "      <td>0.941126</td>\n",
       "    </tr>\n",
       "    <tr>\n",
       "      <th>3320</th>\n",
       "      <td>Male</td>\n",
       "      <td>69.133081</td>\n",
       "      <td>192.172137</td>\n",
       "      <td>0.745781</td>\n",
       "    </tr>\n",
       "    <tr>\n",
       "      <th>7885</th>\n",
       "      <td>Female</td>\n",
       "      <td>66.652188</td>\n",
       "      <td>152.697851</td>\n",
       "      <td>0.437227</td>\n",
       "    </tr>\n",
       "    <tr>\n",
       "      <th>1222</th>\n",
       "      <td>Male</td>\n",
       "      <td>71.680348</td>\n",
       "      <td>214.259286</td>\n",
       "      <td>0.918427</td>\n",
       "    </tr>\n",
       "    <tr>\n",
       "      <th>8154</th>\n",
       "      <td>Female</td>\n",
       "      <td>66.538161</td>\n",
       "      <td>161.143613</td>\n",
       "      <td>0.503244</td>\n",
       "    </tr>\n",
       "  </tbody>\n",
       "</table>\n",
       "<p>100 rows × 4 columns</p>\n",
       "</div>"
      ],
      "text/plain": [
       "      gender     height      weight  normalized\n",
       "5640  Female  66.766157  152.944405    0.439155\n",
       "8220  Female  63.881197  137.170886    0.315860\n",
       "2415    Male  68.720243  182.455923    0.669834\n",
       "7442  Female  62.834020  132.169244    0.276764\n",
       "3182    Male  70.962617  195.017206    0.768020\n",
       "...      ...        ...         ...         ...\n",
       "2497    Male  72.793486  217.163282    0.941126\n",
       "3320    Male  69.133081  192.172137    0.745781\n",
       "7885  Female  66.652188  152.697851    0.437227\n",
       "1222    Male  71.680348  214.259286    0.918427\n",
       "8154  Female  66.538161  161.143613    0.503244\n",
       "\n",
       "[100 rows x 4 columns]"
      ]
     },
     "execution_count": 13,
     "metadata": {},
     "output_type": "execute_result"
    }
   ],
   "source": [
    "data"
   ]
  },
  {
   "cell_type": "code",
   "execution_count": 14,
   "metadata": {},
   "outputs": [
    {
     "data": {
      "image/png": "[encoded data removed]",
      "text/plain": [
       "<Figure size 432x288 with 1 Axes>"
      ]
     },
     "metadata": {
      "needs_background": "light"
     },
     "output_type": "display_data"
    }
   ],
   "source": [
    "%matplotlib inline \n",
    "plt.scatter(data['normalized'], data['gender'], color='b')\n",
    "plt.xlabel('x')\n",
    "plt.ylabel('y')\n",
    "plt.grid(True)\n",
    "plt.show();"
   ]
  },
  {
   "cell_type": "code",
   "execution_count": null,
   "metadata": {},
   "outputs": [],
   "source": []
  },
  {
   "cell_type": "code",
   "execution_count": null,
   "metadata": {},
   "outputs": [],
   "source": []
  },
  {
   "cell_type": "code",
   "execution_count": 15,
   "metadata": {},
   "outputs": [],
   "source": [
    "data['normalized-gender'] = pd.get_dummies(data['gender'], drop_first=True)"
   ]
  },
  {
   "cell_type": "code",
   "execution_count": 16,
   "metadata": {},
   "outputs": [
    {
     "data": {
      "text/html": [
       "<div>\n",
       "<style scoped>\n",
       "    .dataframe tbody tr th:only-of-type {\n",
       "        vertical-align: middle;\n",
       "    }\n",
       "\n",
       "    .dataframe tbody tr th {\n",
       "        vertical-align: top;\n",
       "    }\n",
       "\n",
       "    .dataframe thead th {\n",
       "        text-align: right;\n",
       "    }\n",
       "</style>\n",
       "<table border=\"1\" class=\"dataframe\">\n",
       "  <thead>\n",
       "    <tr style=\"text-align: right;\">\n",
       "      <th></th>\n",
       "      <th>gender</th>\n",
       "      <th>height</th>\n",
       "      <th>weight</th>\n",
       "      <th>normalized</th>\n",
       "      <th>normalized-gender</th>\n",
       "    </tr>\n",
       "  </thead>\n",
       "  <tbody>\n",
       "    <tr>\n",
       "      <th>5640</th>\n",
       "      <td>Female</td>\n",
       "      <td>66.766157</td>\n",
       "      <td>152.944405</td>\n",
       "      <td>0.439155</td>\n",
       "      <td>0</td>\n",
       "    </tr>\n",
       "    <tr>\n",
       "      <th>8220</th>\n",
       "      <td>Female</td>\n",
       "      <td>63.881197</td>\n",
       "      <td>137.170886</td>\n",
       "      <td>0.315860</td>\n",
       "      <td>0</td>\n",
       "    </tr>\n",
       "    <tr>\n",
       "      <th>2415</th>\n",
       "      <td>Male</td>\n",
       "      <td>68.720243</td>\n",
       "      <td>182.455923</td>\n",
       "      <td>0.669834</td>\n",
       "      <td>1</td>\n",
       "    </tr>\n",
       "    <tr>\n",
       "      <th>7442</th>\n",
       "      <td>Female</td>\n",
       "      <td>62.834020</td>\n",
       "      <td>132.169244</td>\n",
       "      <td>0.276764</td>\n",
       "      <td>0</td>\n",
       "    </tr>\n",
       "    <tr>\n",
       "      <th>3182</th>\n",
       "      <td>Male</td>\n",
       "      <td>70.962617</td>\n",
       "      <td>195.017206</td>\n",
       "      <td>0.768020</td>\n",
       "      <td>1</td>\n",
       "    </tr>\n",
       "    <tr>\n",
       "      <th>...</th>\n",
       "      <td>...</td>\n",
       "      <td>...</td>\n",
       "      <td>...</td>\n",
       "      <td>...</td>\n",
       "      <td>...</td>\n",
       "    </tr>\n",
       "    <tr>\n",
       "      <th>2497</th>\n",
       "      <td>Male</td>\n",
       "      <td>72.793486</td>\n",
       "      <td>217.163282</td>\n",
       "      <td>0.941126</td>\n",
       "      <td>1</td>\n",
       "    </tr>\n",
       "    <tr>\n",
       "      <th>3320</th>\n",
       "      <td>Male</td>\n",
       "      <td>69.133081</td>\n",
       "      <td>192.172137</td>\n",
       "      <td>0.745781</td>\n",
       "      <td>1</td>\n",
       "    </tr>\n",
       "    <tr>\n",
       "      <th>7885</th>\n",
       "      <td>Female</td>\n",
       "      <td>66.652188</td>\n",
       "      <td>152.697851</td>\n",
       "      <td>0.437227</td>\n",
       "      <td>0</td>\n",
       "    </tr>\n",
       "    <tr>\n",
       "      <th>1222</th>\n",
       "      <td>Male</td>\n",
       "      <td>71.680348</td>\n",
       "      <td>214.259286</td>\n",
       "      <td>0.918427</td>\n",
       "      <td>1</td>\n",
       "    </tr>\n",
       "    <tr>\n",
       "      <th>8154</th>\n",
       "      <td>Female</td>\n",
       "      <td>66.538161</td>\n",
       "      <td>161.143613</td>\n",
       "      <td>0.503244</td>\n",
       "      <td>0</td>\n",
       "    </tr>\n",
       "  </tbody>\n",
       "</table>\n",
       "<p>100 rows × 5 columns</p>\n",
       "</div>"
      ],
      "text/plain": [
       "      gender     height      weight  normalized  normalized-gender\n",
       "5640  Female  66.766157  152.944405    0.439155                  0\n",
       "8220  Female  63.881197  137.170886    0.315860                  0\n",
       "2415    Male  68.720243  182.455923    0.669834                  1\n",
       "7442  Female  62.834020  132.169244    0.276764                  0\n",
       "3182    Male  70.962617  195.017206    0.768020                  1\n",
       "...      ...        ...         ...         ...                ...\n",
       "2497    Male  72.793486  217.163282    0.941126                  1\n",
       "3320    Male  69.133081  192.172137    0.745781                  1\n",
       "7885  Female  66.652188  152.697851    0.437227                  0\n",
       "1222    Male  71.680348  214.259286    0.918427                  1\n",
       "8154  Female  66.538161  161.143613    0.503244                  0\n",
       "\n",
       "[100 rows x 5 columns]"
      ]
     },
     "execution_count": 16,
     "metadata": {},
     "output_type": "execute_result"
    }
   ],
   "source": [
    "data"
   ]
  },
  {
   "cell_type": "code",
   "execution_count": 17,
   "metadata": {},
   "outputs": [
    {
     "data": {
      "image/png": "[encoded data removed]",
      "text/plain": [
       "<Figure size 432x288 with 1 Axes>"
      ]
     },
     "metadata": {
      "needs_background": "light"
     },
     "output_type": "display_data"
    }
   ],
   "source": [
    "b, m = polyfit(data['weight'], data['normalized-gender'], 1)\n",
    "\n",
    "z = 1/(1 + np.exp(- (m*data['weight']+b) )) \n",
    "\n",
    "plt.plot(data['weight'], data['normalized-gender'], '.')\n",
    "plt.plot(data['weight'], z, '.', color='orange')\n",
    "plt.xlabel('height')\n",
    "plt.ylabel('gender')\n",
    "plt.show()"
   ]
  },
  {
   "cell_type": "code",
   "execution_count": 18,
   "metadata": {},
   "outputs": [
    {
     "data": {
      "text/plain": [
       "LogisticRegression(C=1.0, class_weight=None, dual=False, fit_intercept=True,\n",
       "                   intercept_scaling=1, l1_ratio=None, max_iter=100,\n",
       "                   multi_class='auto', n_jobs=None, penalty='l2',\n",
       "                   random_state=None, solver='lbfgs', tol=0.0001, verbose=0,\n",
       "                   warm_start=False)"
      ]
     },
     "execution_count": 18,
     "metadata": {},
     "output_type": "execute_result"
    }
   ],
   "source": [
    "log = LogisticRegression()\n",
    "x = data['normalized']\n",
    "x = x.values.reshape(-1,1)\n",
    "log.fit(x, data['normalized-gender'])"
   ]
  },
  {
   "cell_type": "code",
   "execution_count": 19,
   "metadata": {},
   "outputs": [
    {
     "data": {
      "text/plain": [
       "array([0, 0, 1, 0, 1, 0, 0, 1, 1, 1, 0, 1, 0, 0, 0, 0, 0, 0, 0, 1, 0, 0,\n",
       "       0, 1, 0, 0, 1, 1, 1, 0, 0, 0, 1, 0, 1, 1, 1, 0, 0, 1, 0, 0, 0, 0,\n",
       "       1, 0, 0, 1, 1, 1, 0, 1, 0, 1, 0, 1, 1, 0, 0, 1, 1, 0, 1, 0, 1, 1,\n",
       "       0, 0, 0, 0, 1, 0, 1, 1, 1, 0, 1, 1, 0, 0, 1, 1, 0, 1, 1, 0, 0, 1,\n",
       "       1, 1, 1, 1, 0, 1, 0, 1, 1, 0, 1, 0], dtype=uint8)"
      ]
     },
     "execution_count": 19,
     "metadata": {},
     "output_type": "execute_result"
    }
   ],
   "source": [
    "predictions = log.predict(x)\n",
    "predictions"
   ]
  },
  {
   "cell_type": "code",
   "execution_count": 20,
   "metadata": {},
   "outputs": [
    {
     "name": "stdout",
     "output_type": "stream",
     "text": [
      "              precision    recall  f1-score   support\n",
      "\n",
      "           0       0.92      0.92      0.92        52\n",
      "           1       0.92      0.92      0.92        48\n",
      "\n",
      "    accuracy                           0.92       100\n",
      "   macro avg       0.92      0.92      0.92       100\n",
      "weighted avg       0.92      0.92      0.92       100\n",
      "\n"
     ]
    }
   ],
   "source": [
    "print(classification_report(data['normalized-gender'],predictions))"
   ]
  },
  {
   "cell_type": "code",
   "execution_count": 21,
   "metadata": {},
   "outputs": [],
   "source": [
    "# Y = data['normalized-gender']\n",
    "\n",
    "# lr = LogisticRegression()\n",
    "# lr.fit(x, Y)\n",
    "\n",
    "# plt.scatter(x.ravel(), Y, color='black', zorder=20)\n",
    "\n",
    "# def model(x):\n",
    "#     return 1 / (1 + np.exp(-x))\n",
    "\n",
    "# # X_test = np.linspace(-5, 15, 300)\n",
    "# loss = model(x * lr.coef_ + lr.intercept_).ravel()\n",
    "\n",
    "# plt.plot(x, loss, color='red')\n",
    "\n",
    "\n",
    "# plt.ylabel('normalized-gender')\n",
    "# plt.xlabel('normalized-weight')\n",
    "# plt.show()"
   ]
  },
  {
   "cell_type": "code",
   "execution_count": 22,
   "metadata": {},
   "outputs": [],
   "source": [
    "test = pd.read_csv(\"../knn/test\", names=[\"gender\", \"height\", \"weight\"])\n",
    "test['normalized-gender'] = pd.get_dummies(test['gender'], drop_first=True)"
   ]
  },
  {
   "cell_type": "code",
   "execution_count": 23,
   "metadata": {},
   "outputs": [
    {
     "data": {
      "text/plain": [
       "LogisticRegression(C=1.0, class_weight=None, dual=False, fit_intercept=True,\n",
       "                   intercept_scaling=1, l1_ratio=None, max_iter=100,\n",
       "                   multi_class='auto', n_jobs=None, penalty='l2',\n",
       "                   random_state=None, solver='lbfgs', tol=0.0001, verbose=0,\n",
       "                   warm_start=False)"
      ]
     },
     "execution_count": 23,
     "metadata": {},
     "output_type": "execute_result"
    }
   ],
   "source": [
    "x_test = test['weight']\n",
    "x_test = x_test.values.reshape(-1,1)\n",
    "log.fit(x_test, test['normalized-gender'])"
   ]
  },
  {
   "cell_type": "code",
   "execution_count": 24,
   "metadata": {},
   "outputs": [
    {
     "data": {
      "text/plain": [
       "array([0, 1, 1, ..., 0, 1, 1], dtype=uint8)"
      ]
     },
     "execution_count": 24,
     "metadata": {},
     "output_type": "execute_result"
    }
   ],
   "source": [
    "predictions = log.predict(x_test)\n",
    "predictions"
   ]
  },
  {
   "cell_type": "code",
   "execution_count": 25,
   "metadata": {},
   "outputs": [
    {
     "name": "stdout",
     "output_type": "stream",
     "text": [
      "              precision    recall  f1-score   support\n",
      "\n",
      "           0       0.90      0.90      0.90       997\n",
      "           1       0.90      0.90      0.90      1002\n",
      "\n",
      "    accuracy                           0.90      1999\n",
      "   macro avg       0.90      0.90      0.90      1999\n",
      "weighted avg       0.90      0.90      0.90      1999\n",
      "\n"
     ]
    }
   ],
   "source": [
    "print(classification_report(test['normalized-gender'],predictions))"
   ]
  },
  {
   "cell_type": "code",
   "execution_count": 26,
   "metadata": {},
   "outputs": [
    {
     "data": {
      "text/html": [
       "<div>\n",
       "<style scoped>\n",
       "    .dataframe tbody tr th:only-of-type {\n",
       "        vertical-align: middle;\n",
       "    }\n",
       "\n",
       "    .dataframe tbody tr th {\n",
       "        vertical-align: top;\n",
       "    }\n",
       "\n",
       "    .dataframe thead th {\n",
       "        text-align: right;\n",
       "    }\n",
       "</style>\n",
       "<table border=\"1\" class=\"dataframe\">\n",
       "  <thead>\n",
       "    <tr style=\"text-align: right;\">\n",
       "      <th></th>\n",
       "      <th>gender</th>\n",
       "      <th>height</th>\n",
       "      <th>weight</th>\n",
       "      <th>normalized-gender</th>\n",
       "    </tr>\n",
       "  </thead>\n",
       "  <tbody>\n",
       "    <tr>\n",
       "      <th>1340</th>\n",
       "      <td>Male</td>\n",
       "      <td>61.310798</td>\n",
       "      <td>150.316449</td>\n",
       "      <td>1</td>\n",
       "    </tr>\n",
       "    <tr>\n",
       "      <th>2041</th>\n",
       "      <td>Male</td>\n",
       "      <td>71.035595</td>\n",
       "      <td>214.475994</td>\n",
       "      <td>1</td>\n",
       "    </tr>\n",
       "    <tr>\n",
       "      <th>2431</th>\n",
       "      <td>Male</td>\n",
       "      <td>66.798977</td>\n",
       "      <td>173.208632</td>\n",
       "      <td>1</td>\n",
       "    </tr>\n",
       "    <tr>\n",
       "      <th>4671</th>\n",
       "      <td>Male</td>\n",
       "      <td>69.768653</td>\n",
       "      <td>199.672843</td>\n",
       "      <td>1</td>\n",
       "    </tr>\n",
       "    <tr>\n",
       "      <th>8719</th>\n",
       "      <td>Female</td>\n",
       "      <td>60.333372</td>\n",
       "      <td>102.256838</td>\n",
       "      <td>0</td>\n",
       "    </tr>\n",
       "    <tr>\n",
       "      <th>...</th>\n",
       "      <td>...</td>\n",
       "      <td>...</td>\n",
       "      <td>...</td>\n",
       "      <td>...</td>\n",
       "    </tr>\n",
       "    <tr>\n",
       "      <th>7265</th>\n",
       "      <td>Female</td>\n",
       "      <td>62.594759</td>\n",
       "      <td>145.987787</td>\n",
       "      <td>0</td>\n",
       "    </tr>\n",
       "    <tr>\n",
       "      <th>4393</th>\n",
       "      <td>Male</td>\n",
       "      <td>69.944080</td>\n",
       "      <td>196.178101</td>\n",
       "      <td>1</td>\n",
       "    </tr>\n",
       "    <tr>\n",
       "      <th>8868</th>\n",
       "      <td>Female</td>\n",
       "      <td>65.017087</td>\n",
       "      <td>137.568797</td>\n",
       "      <td>0</td>\n",
       "    </tr>\n",
       "    <tr>\n",
       "      <th>2178</th>\n",
       "      <td>Male</td>\n",
       "      <td>66.782187</td>\n",
       "      <td>176.611993</td>\n",
       "      <td>1</td>\n",
       "    </tr>\n",
       "    <tr>\n",
       "      <th>3109</th>\n",
       "      <td>Male</td>\n",
       "      <td>69.861439</td>\n",
       "      <td>183.813798</td>\n",
       "      <td>1</td>\n",
       "    </tr>\n",
       "  </tbody>\n",
       "</table>\n",
       "<p>1999 rows × 4 columns</p>\n",
       "</div>"
      ],
      "text/plain": [
       "      gender     height      weight  normalized-gender\n",
       "1340    Male  61.310798  150.316449                  1\n",
       "2041    Male  71.035595  214.475994                  1\n",
       "2431    Male  66.798977  173.208632                  1\n",
       "4671    Male  69.768653  199.672843                  1\n",
       "8719  Female  60.333372  102.256838                  0\n",
       "...      ...        ...         ...                ...\n",
       "7265  Female  62.594759  145.987787                  0\n",
       "4393    Male  69.944080  196.178101                  1\n",
       "8868  Female  65.017087  137.568797                  0\n",
       "2178    Male  66.782187  176.611993                  1\n",
       "3109    Male  69.861439  183.813798                  1\n",
       "\n",
       "[1999 rows x 4 columns]"
      ]
     },
     "execution_count": 26,
     "metadata": {},
     "output_type": "execute_result"
    }
   ],
   "source": [
    "test"
   ]
  },
  {
   "cell_type": "code",
   "execution_count": null,
   "metadata": {},
   "outputs": [],
   "source": []
  }
 ],
 "metadata": {
  "kernelspec": {
   "display_name": "Python 3",
   "language": "python",
   "name": "python3"
  },
  "language_info": {
   "codemirror_mode": {
    "name": "ipython",
    "version": 3
   },
   "file_extension": ".py",
   "mimetype": "text/x-python",
   "name": "python",
   "nbconvert_exporter": "python",
   "pygments_lexer": "ipython3",
   "version": "3.7.3"
  }
 },
 "nbformat": 4,
 "nbformat_minor": 4
}
