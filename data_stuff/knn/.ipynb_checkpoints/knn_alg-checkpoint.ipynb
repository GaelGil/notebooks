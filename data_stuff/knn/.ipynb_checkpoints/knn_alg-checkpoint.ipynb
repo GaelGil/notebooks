{
 "cells": [
  {
   "cell_type": "code",
   "execution_count": 1,
   "metadata": {},
   "outputs": [
    {
     "name": "stdout",
     "output_type": "stream",
     "text": [
      "hellonworld\n"
     ]
    }
   ],
   "source": [
    "print(\"hellonworld\")"
   ]
  },
  {
   "cell_type": "code",
   "execution_count": 2,
   "metadata": {},
   "outputs": [],
   "source": [
    "def mult_by_4(num):\n",
    "    return num * 4"
   ]
  },
  {
   "cell_type": "code",
   "execution_count": 3,
   "metadata": {},
   "outputs": [
    {
     "data": {
      "text/plain": [
       "40"
      ]
     },
     "execution_count": 3,
     "metadata": {},
     "output_type": "execute_result"
    }
   ],
   "source": [
    "mult_by_4(10)"
   ]
  },
  {
   "cell_type": "code",
   "execution_count": 4,
   "metadata": {},
   "outputs": [],
   "source": [
    "import matplotlib as plt"
   ]
  },
  {
   "cell_type": "code",
   "execution_count": 5,
   "metadata": {},
   "outputs": [],
   "source": [
    "from matplotlib.pyplot import figure, show\n",
    "from numpy import arange, sin, pi\n",
    "\n",
    "\n",
    "\n",
    "\n",
    "\n",
    "t = arange(0.0, 1.0, 0.01)\n",
    "\n",
    "fig = figure(1)\n",
    "\n",
    "# ax1 = fig.add_subplot(211)\n",
    "ax1 = fig.add_subplot()\n",
    "# ax1.plot(t, sin(2*pi*t))\n",
    "ax1.plot(t)\n",
    "#this adds  grid\n",
    "ax1.grid(True)\n",
    "#this sets a y limit of 2 and -2\n",
    "ax1.set_ylim((-2, 5))\n",
    "ax1.set_ylabel('1 Hz')\n",
    "ax1.set_title('A sine wave or two')\n",
    "\n",
    "#this makes the bottom row red\n",
    "for label in ax1.get_xticklabels():\n",
    "    label.set_color('r')\n"
   ]
  },
  {
   "cell_type": "code",
   "execution_count": 6,
   "metadata": {},
   "outputs": [],
   "source": [
    "import numpy as np"
   ]
  },
  {
   "cell_type": "code",
   "execution_count": null,
   "metadata": {},
   "outputs": [],
   "source": []
  },
  {
   "cell_type": "code",
   "execution_count": null,
   "metadata": {},
   "outputs": [],
   "source": []
  },
  {
   "cell_type": "code",
   "execution_count": 7,
   "metadata": {},
   "outputs": [],
   "source": [
    "from collections import Counter"
   ]
  },
  {
   "cell_type": "code",
   "execution_count": 8,
   "metadata": {},
   "outputs": [],
   "source": [
    "class KNNClassifier:\n",
    "    def __init__(self):\n",
    "        self.x = None\n",
    "        self.y = None\n",
    "        \n",
    "    def fit(self, x, y):\n",
    "        self.x = x\n",
    "        self.y = y\n",
    "        \n",
    "    def _distance(self, a, b):\n",
    "        a = np.array(a, dtype=float)\n",
    "        b = np.array(b, dtype=float)\n",
    "        return np.linalg.norm(a - b)\n",
    "    \n",
    "    def predict(self, input_, k):\n",
    "        # Make sure the data is in a float format instead of strings\n",
    "        x = np.array(self.x, dtype=float)\n",
    "        \n",
    "        # Combine together x and y data into one list of tuples\n",
    "        xy = list(zip(x, self.y))\n",
    "        \n",
    "        # Add distance to each tuple.\n",
    "        # But what distance is the correct type of distance?\n",
    "        xy_dist = [(x, y, self._distance(x, input_)) for (x, y) in xy]\n",
    "        \n",
    "        # Sort by the distance element in the tuple.\n",
    "        xy_sorted = sorted(xy_dist, key=lambda x: x[2])\n",
    "        \n",
    "        # Pull out the class names from the tuples.\n",
    "        classes = [i[1] for i in xy_sorted]\n",
    "        \n",
    "        # Count the most frequent class,\n",
    "        c = Counter(classes[:k])\n",
    "\n",
    "        # Use list comprehension to grab the class from the counter.\n",
    "        most_common_class = c.most_common(1)[0][0]\n",
    "        \n",
    "        return most_common_class"
   ]
  },
  {
   "cell_type": "code",
   "execution_count": 9,
   "metadata": {},
   "outputs": [],
   "source": [
    "clf = KNNClassifier()"
   ]
  },
  {
   "cell_type": "code",
   "execution_count": 10,
   "metadata": {},
   "outputs": [],
   "source": [
    "data = [\n",
    "    [0, 0, 'F'],\n",
    "    [0.1, 0.3, 'F'],\n",
    "    [1, 2, 'F'],\n",
    "    [2, 2, 'F'],\n",
    "    [5, 6, 'M'],\n",
    "    [4, 7, 'M']\n",
    "]"
   ]
  },
  {
   "cell_type": "code",
   "execution_count": 11,
   "metadata": {},
   "outputs": [],
   "source": [
    "d = np.array(data)"
   ]
  },
  {
   "cell_type": "code",
   "execution_count": 12,
   "metadata": {},
   "outputs": [
    {
     "data": {
      "text/plain": [
       "array([['0', '0', 'F'],\n",
       "       ['0.1', '0.3', 'F'],\n",
       "       ['1', '2', 'F'],\n",
       "       ['2', '2', 'F'],\n",
       "       ['5', '6', 'M'],\n",
       "       ['4', '7', 'M']], dtype='<U21')"
      ]
     },
     "execution_count": 12,
     "metadata": {},
     "output_type": "execute_result"
    }
   ],
   "source": [
    "d"
   ]
  },
  {
   "cell_type": "code",
   "execution_count": 13,
   "metadata": {},
   "outputs": [
    {
     "data": {
      "text/plain": [
       "array(['F', 'F', 'F', 'F', 'M', 'M'], dtype='<U21')"
      ]
     },
     "execution_count": 13,
     "metadata": {},
     "output_type": "execute_result"
    }
   ],
   "source": [
    "d[:, 2]"
   ]
  },
  {
   "cell_type": "code",
   "execution_count": 14,
   "metadata": {},
   "outputs": [],
   "source": [
    "x = d[:, :2]"
   ]
  },
  {
   "cell_type": "code",
   "execution_count": 15,
   "metadata": {},
   "outputs": [
    {
     "data": {
      "text/plain": [
       "array([['0', '0'],\n",
       "       ['0.1', '0.3'],\n",
       "       ['1', '2'],\n",
       "       ['2', '2'],\n",
       "       ['5', '6'],\n",
       "       ['4', '7']], dtype='<U21')"
      ]
     },
     "execution_count": 15,
     "metadata": {},
     "output_type": "execute_result"
    }
   ],
   "source": [
    "x"
   ]
  },
  {
   "cell_type": "code",
   "execution_count": 16,
   "metadata": {},
   "outputs": [],
   "source": [
    "y = d[:, 2]"
   ]
  },
  {
   "cell_type": "code",
   "execution_count": 17,
   "metadata": {},
   "outputs": [
    {
     "data": {
      "text/plain": [
       "array(['F', 'F', 'F', 'F', 'M', 'M'], dtype='<U21')"
      ]
     },
     "execution_count": 17,
     "metadata": {},
     "output_type": "execute_result"
    }
   ],
   "source": [
    "y"
   ]
  },
  {
   "cell_type": "code",
   "execution_count": 18,
   "metadata": {},
   "outputs": [],
   "source": [
    "clf.fit(x, y)"
   ]
  },
  {
   "cell_type": "code",
   "execution_count": 19,
   "metadata": {},
   "outputs": [
    {
     "data": {
      "text/plain": [
       "array(['F', 'F', 'F', 'F', 'M', 'M'], dtype='<U21')"
      ]
     },
     "execution_count": 19,
     "metadata": {},
     "output_type": "execute_result"
    }
   ],
   "source": [
    "clf.y"
   ]
  },
  {
   "cell_type": "code",
   "execution_count": 20,
   "metadata": {},
   "outputs": [
    {
     "data": {
      "text/plain": [
       "array(['0', '0'], dtype='<U21')"
      ]
     },
     "execution_count": 20,
     "metadata": {},
     "output_type": "execute_result"
    }
   ],
   "source": [
    "input_ = x[0]\n",
    "input_"
   ]
  },
  {
   "cell_type": "code",
   "execution_count": 21,
   "metadata": {},
   "outputs": [],
   "source": [
    "input_1 = np.array(x[0], dtype=float)\n",
    "input_2 = np.array(x[1], dtype=float)"
   ]
  },
  {
   "cell_type": "code",
   "execution_count": 22,
   "metadata": {},
   "outputs": [
    {
     "data": {
      "text/plain": [
       "0.31622776601683794"
      ]
     },
     "execution_count": 22,
     "metadata": {},
     "output_type": "execute_result"
    }
   ],
   "source": [
    "np.linalg.norm(input_1 - input_2)"
   ]
  },
  {
   "cell_type": "code",
   "execution_count": 23,
   "metadata": {},
   "outputs": [
    {
     "data": {
      "text/plain": [
       "0.31622776601683794"
      ]
     },
     "execution_count": 23,
     "metadata": {},
     "output_type": "execute_result"
    }
   ],
   "source": [
    "clf._distance(x[0], x[1])"
   ]
  },
  {
   "cell_type": "code",
   "execution_count": 24,
   "metadata": {},
   "outputs": [
    {
     "data": {
      "text/plain": [
       "'F'"
      ]
     },
     "execution_count": 24,
     "metadata": {},
     "output_type": "execute_result"
    }
   ],
   "source": [
    "clf.predict(x, 3)"
   ]
  },
  {
   "cell_type": "code",
   "execution_count": 25,
   "metadata": {},
   "outputs": [
    {
     "data": {
      "text/plain": [
       "(array([['0', '0'],\n",
       "        ['0.1', '0.3'],\n",
       "        ['1', '2'],\n",
       "        ['2', '2'],\n",
       "        ['5', '6'],\n",
       "        ['4', '7']], dtype='<U21'),\n",
       " array(['F', 'F', 'F', 'F', 'M', 'M'], dtype='<U21'))"
      ]
     },
     "execution_count": 25,
     "metadata": {},
     "output_type": "execute_result"
    }
   ],
   "source": [
    "x, y"
   ]
  },
  {
   "cell_type": "code",
   "execution_count": 26,
   "metadata": {},
   "outputs": [
    {
     "name": "stdout",
     "output_type": "stream",
     "text": [
      "K is equal to 1\n",
      "F\n",
      "F\n",
      "F\n",
      "F\n",
      "M\n",
      "M\n",
      "K is equal to 2\n",
      "F\n",
      "F\n",
      "F\n",
      "F\n",
      "M\n",
      "M\n",
      "K is equal to 3\n",
      "F\n",
      "F\n",
      "F\n",
      "F\n",
      "M\n",
      "M\n",
      "K is equal to 4\n",
      "F\n",
      "F\n",
      "F\n",
      "F\n",
      "M\n",
      "M\n",
      "K is equal to 5\n",
      "F\n",
      "F\n",
      "F\n",
      "F\n",
      "F\n",
      "F\n",
      "K is equal to 6\n",
      "F\n",
      "F\n",
      "F\n",
      "F\n",
      "F\n",
      "F\n",
      "K is equal to 7\n",
      "F\n",
      "F\n",
      "F\n",
      "F\n",
      "F\n",
      "F\n",
      "K is equal to 8\n",
      "F\n",
      "F\n",
      "F\n",
      "F\n",
      "F\n",
      "F\n",
      "K is equal to 9\n",
      "F\n",
      "F\n",
      "F\n",
      "F\n",
      "F\n",
      "F\n"
     ]
    }
   ],
   "source": [
    "for k in range(1, 10):\n",
    "    print(f\"K is equal to {k}\")\n",
    "    for i in range(len(x)):\n",
    "        print(clf.predict(x[i], k))\n"
   ]
  },
  {
   "cell_type": "code",
   "execution_count": null,
   "metadata": {},
   "outputs": [],
   "source": []
  },
  {
   "cell_type": "code",
   "execution_count": null,
   "metadata": {},
   "outputs": [],
   "source": []
  },
  {
   "cell_type": "markdown",
   "metadata": {},
   "source": [
    "# Homework\n",
    "1. Download height/weight/gender data from kaggle: https://www.kaggle.com/mustafaali96/weight-height#weight-height.csv\n",
    "2. Read the data into this notebook.\n",
    "3. Make sure the data is in a usable format.\n",
    "4. Plot the data using matplotlib - two coordinates, and different colors for Male/Female\n",
    "5. Divide the data into a training set and a a test set (80:20) -- only use the training set to \"fit\" the classifier\n",
    "6. Understand how the KNN classifier works.\n",
    "7. Fit your data into the KNN classifier.\n",
    "8. Predict some points to make sure it's working.\n",
    "\n",
    "9. Test how accurate the classifier is fr various values of k"
   ]
  },
  {
   "cell_type": "markdown",
   "metadata": {},
   "source": [
    "$$ \\sum_{i=0}^n 4*i $$"
   ]
  },
  {
   "cell_type": "markdown",
   "metadata": {},
   "source": [
    "rgwgr"
   ]
  },
  {
   "cell_type": "markdown",
   "metadata": {},
   "source": [
    "## Math to Learn\n",
    "- Arthmetic - how to add, subtract, multiply, etc\n",
    "- Trigonometry - functions of a triangle\n",
    "- Algebra - figuring out the values of unknown quantities\n",
    "- Geometry - the properties of different shapes\n",
    "- **Linear Algebra** - vectors, matrixes\n",
    "- **Derivitive Calculus** - how much functions change based on their input\n",
    "- **Integral Calculus**\n",
    "- **Multivariable caculus** : `def func_with_one_var(x), def func_with_two_vars(x, y)`\n",
    "- **Discrete Math** - math for programming\n",
    "- Proofs - how to demonstrate with 100% certainty that your conclusions are true\n",
    "- **Statistics** - basic reasoning about data and information\n",
    "- Mathematical statistics - the mathematical underpinnings of statistics\n",
    "- Information theory - how to encode data in a meaningful way, entropy:\n",
    "    [1,1,1,1,1,1] < [0,1,1,0,1,1]\n",
    "- Signal processing - what kind of information is in a digital signal\n",
    "- Euler's proof, fourier transforms, convolutions, etc."
   ]
  },
  {
   "cell_type": "markdown",
   "metadata": {},
   "source": [
    "Math resources:\n",
    "- Khan academy: https://www.khanacademy.org/math"
   ]
  },
  {
   "cell_type": "code",
   "execution_count": 27,
   "metadata": {},
   "outputs": [],
   "source": [
    "# convert math to code\n",
    "def add(a, b):\n",
    "    print(a)\n",
    "    return a + b"
   ]
  },
  {
   "cell_type": "code",
   "execution_count": 28,
   "metadata": {},
   "outputs": [
    {
     "name": "stdout",
     "output_type": "stream",
     "text": [
      "1\n"
     ]
    },
    {
     "data": {
      "text/plain": [
       "100"
      ]
     },
     "execution_count": 28,
     "metadata": {},
     "output_type": "execute_result"
    }
   ],
   "source": [
    "add(1, 99)"
   ]
  },
  {
   "cell_type": "code",
   "execution_count": null,
   "metadata": {},
   "outputs": [],
   "source": []
  }
 ],
 "metadata": {
  "kernelspec": {
   "display_name": "Python 3",
   "language": "python",
   "name": "python3"
  },
  "language_info": {
   "codemirror_mode": {
    "name": "ipython",
    "version": 3
   },
   "file_extension": ".py",
   "mimetype": "text/x-python",
   "name": "python",
   "nbconvert_exporter": "python",
   "pygments_lexer": "ipython3",
   "version": "3.7.3"
  }
 },
 "nbformat": 4,
 "nbformat_minor": 4
}
