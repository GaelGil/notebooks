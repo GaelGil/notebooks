{
 "cells": [
  {
   "cell_type": "code",
   "execution_count": 1,
   "metadata": {},
   "outputs": [],
   "source": [
    "import matplotlib.pyplot as plt\n",
    "import numpy as np\n",
    "\n",
    "data = [\n",
    "        [0, 0, 'F'],\n",
    "        [0.1, 0.3, 'F'],\n",
    "        [1, 2, 'F'],\n",
    "        [2, 2, 'F'],\n",
    "        [5, 6, 'M'],\n",
    "        [4, 7, 'M']\n",
    "]\n",
    "d = np.array(data)\n",
    "x = d[:,0]\n",
    "y = d[:,1]\n",
    "# x = [1, 2, 3, 4, 5, 6, 7, 8]\n",
    "# y = [5, 6, 3, 1, 5, 9, 1, 2]\n",
    "\n",
    "j = [1, 0.1, 3, 3, 6, 6,]\n",
    "i = [1, 0.5, 1, 3, 5, 4,]\n",
    "\n",
    "plt.scatter(x,y, color='r')\n",
    "plt.scatter(j,i, color='b')\n",
    "plt.xlabel('height')\n",
    "plt.ylabel('weight')\n",
    "plt.grid(True)"
   ]
  },
  {
   "cell_type": "code",
   "execution_count": null,
   "metadata": {},
   "outputs": [],
   "source": []
  }
 ],
 "metadata": {
  "kernelspec": {
   "display_name": "Python 3",
   "language": "python",
   "name": "python3"
  },
  "language_info": {
   "codemirror_mode": {
    "name": "ipython",
    "version": 3
   },
   "file_extension": ".py",
   "mimetype": "text/x-python",
   "name": "python",
   "nbconvert_exporter": "python",
   "pygments_lexer": "ipython3",
   "version": "3.7.3"
  }
 },
 "nbformat": 4,
 "nbformat_minor": 4
}
