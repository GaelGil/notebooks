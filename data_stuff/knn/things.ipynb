{
 "cells": [
  {
   "cell_type": "code",
   "execution_count": 1,
   "metadata": {},
   "outputs": [],
   "source": [
    "import pandas as pd\n",
    "import matplotlib.pyplot as plt\n",
    "from matplotlib.pyplot import figure, show\n",
    "import numpy as np\n",
    "from collections import Counter"
   ]
  },
  {
   "cell_type": "code",
   "execution_count": 2,
   "metadata": {},
   "outputs": [],
   "source": [
    "data = pd.read_csv(\"data.csv\", names=[\"gender\", \"height\", \"weight\"])\n",
    "df = pd.DataFrame(data)\n",
    "df = df.drop([0, 1])"
   ]
  },
  {
   "cell_type": "code",
   "execution_count": 3,
   "metadata": {},
   "outputs": [
    {
     "data": {
      "text/html": [
       "<div>\n",
       "<style scoped>\n",
       "    .dataframe tbody tr th:only-of-type {\n",
       "        vertical-align: middle;\n",
       "    }\n",
       "\n",
       "    .dataframe tbody tr th {\n",
       "        vertical-align: top;\n",
       "    }\n",
       "\n",
       "    .dataframe thead th {\n",
       "        text-align: right;\n",
       "    }\n",
       "</style>\n",
       "<table border=\"1\" class=\"dataframe\">\n",
       "  <thead>\n",
       "    <tr style=\"text-align: right;\">\n",
       "      <th></th>\n",
       "      <th>gender</th>\n",
       "      <th>height</th>\n",
       "      <th>weight</th>\n",
       "    </tr>\n",
       "  </thead>\n",
       "  <tbody>\n",
       "    <tr>\n",
       "      <th>2</th>\n",
       "      <td>Male</td>\n",
       "      <td>73.84701701751</td>\n",
       "      <td>241.893563180437</td>\n",
       "    </tr>\n",
       "    <tr>\n",
       "      <th>3</th>\n",
       "      <td>Male</td>\n",
       "      <td>74.110105391784</td>\n",
       "      <td>212.7408555565</td>\n",
       "    </tr>\n",
       "    <tr>\n",
       "      <th>4</th>\n",
       "      <td>Male</td>\n",
       "      <td>71.730978403337</td>\n",
       "      <td>220.04247030307</td>\n",
       "    </tr>\n",
       "    <tr>\n",
       "      <th>5</th>\n",
       "      <td>Male</td>\n",
       "      <td>69.881795861115</td>\n",
       "      <td>206.349800623871</td>\n",
       "    </tr>\n",
       "    <tr>\n",
       "      <th>6</th>\n",
       "      <td>Male</td>\n",
       "      <td>67.253015687806</td>\n",
       "      <td>152.212155757083</td>\n",
       "    </tr>\n",
       "    <tr>\n",
       "      <th>...</th>\n",
       "      <td>...</td>\n",
       "      <td>...</td>\n",
       "      <td>...</td>\n",
       "    </tr>\n",
       "    <tr>\n",
       "      <th>9996</th>\n",
       "      <td>Female</td>\n",
       "      <td>66.172652147770</td>\n",
       "      <td>136.77745418323</td>\n",
       "    </tr>\n",
       "    <tr>\n",
       "      <th>9997</th>\n",
       "      <td>Female</td>\n",
       "      <td>67.06715464905</td>\n",
       "      <td>170.86790589071</td>\n",
       "    </tr>\n",
       "    <tr>\n",
       "      <th>9998</th>\n",
       "      <td>Female</td>\n",
       "      <td>63.867992213757</td>\n",
       "      <td>128.47531878412</td>\n",
       "    </tr>\n",
       "    <tr>\n",
       "      <th>9999</th>\n",
       "      <td>Female</td>\n",
       "      <td>69.034243130734</td>\n",
       "      <td>163.85246134657</td>\n",
       "    </tr>\n",
       "    <tr>\n",
       "      <th>10000</th>\n",
       "      <td>Female</td>\n",
       "      <td>61.944245879517</td>\n",
       "      <td>113.64910267531</td>\n",
       "    </tr>\n",
       "  </tbody>\n",
       "</table>\n",
       "<p>9999 rows × 3 columns</p>\n",
       "</div>"
      ],
      "text/plain": [
       "       gender           height            weight\n",
       "2        Male   73.84701701751  241.893563180437\n",
       "3        Male  74.110105391784    212.7408555565\n",
       "4        Male  71.730978403337   220.04247030307\n",
       "5        Male  69.881795861115  206.349800623871\n",
       "6        Male  67.253015687806  152.212155757083\n",
       "...       ...              ...               ...\n",
       "9996   Female  66.172652147770   136.77745418323\n",
       "9997   Female   67.06715464905   170.86790589071\n",
       "9998   Female  63.867992213757   128.47531878412\n",
       "9999   Female  69.034243130734   163.85246134657\n",
       "10000  Female  61.944245879517   113.64910267531\n",
       "\n",
       "[9999 rows x 3 columns]"
      ]
     },
     "execution_count": 3,
     "metadata": {},
     "output_type": "execute_result"
    }
   ],
   "source": [
    "df"
   ]
  },
  {
   "cell_type": "code",
   "execution_count": 4,
   "metadata": {},
   "outputs": [],
   "source": [
    "s = 5000\n",
    "male = df[df.index<s]\n",
    "female = df[df.index >= s]"
   ]
  },
  {
   "cell_type": "code",
   "execution_count": 5,
   "metadata": {},
   "outputs": [
    {
     "data": {
      "text/html": [
       "<div>\n",
       "<style scoped>\n",
       "    .dataframe tbody tr th:only-of-type {\n",
       "        vertical-align: middle;\n",
       "    }\n",
       "\n",
       "    .dataframe tbody tr th {\n",
       "        vertical-align: top;\n",
       "    }\n",
       "\n",
       "    .dataframe thead th {\n",
       "        text-align: right;\n",
       "    }\n",
       "</style>\n",
       "<table border=\"1\" class=\"dataframe\">\n",
       "  <thead>\n",
       "    <tr style=\"text-align: right;\">\n",
       "      <th></th>\n",
       "      <th>gender</th>\n",
       "      <th>height</th>\n",
       "      <th>weight</th>\n",
       "    </tr>\n",
       "  </thead>\n",
       "  <tbody>\n",
       "    <tr>\n",
       "      <th>2</th>\n",
       "      <td>Male</td>\n",
       "      <td>73.84701701751</td>\n",
       "      <td>241.893563180437</td>\n",
       "    </tr>\n",
       "    <tr>\n",
       "      <th>3</th>\n",
       "      <td>Male</td>\n",
       "      <td>74.110105391784</td>\n",
       "      <td>212.7408555565</td>\n",
       "    </tr>\n",
       "    <tr>\n",
       "      <th>4</th>\n",
       "      <td>Male</td>\n",
       "      <td>71.730978403337</td>\n",
       "      <td>220.04247030307</td>\n",
       "    </tr>\n",
       "    <tr>\n",
       "      <th>5</th>\n",
       "      <td>Male</td>\n",
       "      <td>69.881795861115</td>\n",
       "      <td>206.349800623871</td>\n",
       "    </tr>\n",
       "    <tr>\n",
       "      <th>6</th>\n",
       "      <td>Male</td>\n",
       "      <td>67.253015687806</td>\n",
       "      <td>152.212155757083</td>\n",
       "    </tr>\n",
       "    <tr>\n",
       "      <th>...</th>\n",
       "      <td>...</td>\n",
       "      <td>...</td>\n",
       "      <td>...</td>\n",
       "    </tr>\n",
       "    <tr>\n",
       "      <th>4995</th>\n",
       "      <td>Male</td>\n",
       "      <td>73.092870822603</td>\n",
       "      <td>193.94418060613</td>\n",
       "    </tr>\n",
       "    <tr>\n",
       "      <th>4996</th>\n",
       "      <td>Male</td>\n",
       "      <td>68.860062472344</td>\n",
       "      <td>177.13105215994</td>\n",
       "    </tr>\n",
       "    <tr>\n",
       "      <th>4997</th>\n",
       "      <td>Male</td>\n",
       "      <td>68.97342283364</td>\n",
       "      <td>159.28522822353</td>\n",
       "    </tr>\n",
       "    <tr>\n",
       "      <th>4998</th>\n",
       "      <td>Male</td>\n",
       "      <td>67.013794968193</td>\n",
       "      <td>199.19540007666</td>\n",
       "    </tr>\n",
       "    <tr>\n",
       "      <th>4999</th>\n",
       "      <td>Male</td>\n",
       "      <td>71.557718487674</td>\n",
       "      <td>185.90590948928</td>\n",
       "    </tr>\n",
       "  </tbody>\n",
       "</table>\n",
       "<p>4998 rows × 3 columns</p>\n",
       "</div>"
      ],
      "text/plain": [
       "     gender           height            weight\n",
       "2      Male   73.84701701751  241.893563180437\n",
       "3      Male  74.110105391784    212.7408555565\n",
       "4      Male  71.730978403337   220.04247030307\n",
       "5      Male  69.881795861115  206.349800623871\n",
       "6      Male  67.253015687806  152.212155757083\n",
       "...     ...              ...               ...\n",
       "4995   Male  73.092870822603   193.94418060613\n",
       "4996   Male  68.860062472344   177.13105215994\n",
       "4997   Male   68.97342283364   159.28522822353\n",
       "4998   Male  67.013794968193   199.19540007666\n",
       "4999   Male  71.557718487674   185.90590948928\n",
       "\n",
       "[4998 rows x 3 columns]"
      ]
     },
     "execution_count": 5,
     "metadata": {},
     "output_type": "execute_result"
    }
   ],
   "source": [
    "male"
   ]
  },
  {
   "cell_type": "code",
   "execution_count": 6,
   "metadata": {},
   "outputs": [
    {
     "data": {
      "text/html": [
       "<div>\n",
       "<style scoped>\n",
       "    .dataframe tbody tr th:only-of-type {\n",
       "        vertical-align: middle;\n",
       "    }\n",
       "\n",
       "    .dataframe tbody tr th {\n",
       "        vertical-align: top;\n",
       "    }\n",
       "\n",
       "    .dataframe thead th {\n",
       "        text-align: right;\n",
       "    }\n",
       "</style>\n",
       "<table border=\"1\" class=\"dataframe\">\n",
       "  <thead>\n",
       "    <tr style=\"text-align: right;\">\n",
       "      <th></th>\n",
       "      <th>gender</th>\n",
       "      <th>height</th>\n",
       "      <th>weight</th>\n",
       "    </tr>\n",
       "  </thead>\n",
       "  <tbody>\n",
       "    <tr>\n",
       "      <th>5000</th>\n",
       "      <td>Male</td>\n",
       "      <td>70.351879878634</td>\n",
       "      <td>198.90301194415</td>\n",
       "    </tr>\n",
       "    <tr>\n",
       "      <th>5001</th>\n",
       "      <td>Female</td>\n",
       "      <td>58.910732037012</td>\n",
       "      <td>102.08832636784</td>\n",
       "    </tr>\n",
       "    <tr>\n",
       "      <th>5002</th>\n",
       "      <td>Female</td>\n",
       "      <td>65.230012507712</td>\n",
       "      <td>141.30582260142</td>\n",
       "    </tr>\n",
       "    <tr>\n",
       "      <th>5003</th>\n",
       "      <td>Female</td>\n",
       "      <td>63.369003758413</td>\n",
       "      <td>131.04140269299</td>\n",
       "    </tr>\n",
       "    <tr>\n",
       "      <th>5004</th>\n",
       "      <td>Female</td>\n",
       "      <td>64.479997425608</td>\n",
       "      <td>128.17151122163</td>\n",
       "    </tr>\n",
       "    <tr>\n",
       "      <th>...</th>\n",
       "      <td>...</td>\n",
       "      <td>...</td>\n",
       "      <td>...</td>\n",
       "    </tr>\n",
       "    <tr>\n",
       "      <th>9996</th>\n",
       "      <td>Female</td>\n",
       "      <td>66.172652147770</td>\n",
       "      <td>136.77745418323</td>\n",
       "    </tr>\n",
       "    <tr>\n",
       "      <th>9997</th>\n",
       "      <td>Female</td>\n",
       "      <td>67.06715464905</td>\n",
       "      <td>170.86790589071</td>\n",
       "    </tr>\n",
       "    <tr>\n",
       "      <th>9998</th>\n",
       "      <td>Female</td>\n",
       "      <td>63.867992213757</td>\n",
       "      <td>128.47531878412</td>\n",
       "    </tr>\n",
       "    <tr>\n",
       "      <th>9999</th>\n",
       "      <td>Female</td>\n",
       "      <td>69.034243130734</td>\n",
       "      <td>163.85246134657</td>\n",
       "    </tr>\n",
       "    <tr>\n",
       "      <th>10000</th>\n",
       "      <td>Female</td>\n",
       "      <td>61.944245879517</td>\n",
       "      <td>113.64910267531</td>\n",
       "    </tr>\n",
       "  </tbody>\n",
       "</table>\n",
       "<p>5001 rows × 3 columns</p>\n",
       "</div>"
      ],
      "text/plain": [
       "       gender           height           weight\n",
       "5000     Male  70.351879878634  198.90301194415\n",
       "5001   Female  58.910732037012  102.08832636784\n",
       "5002   Female  65.230012507712  141.30582260142\n",
       "5003   Female  63.369003758413  131.04140269299\n",
       "5004   Female  64.479997425608  128.17151122163\n",
       "...       ...              ...              ...\n",
       "9996   Female  66.172652147770  136.77745418323\n",
       "9997   Female   67.06715464905  170.86790589071\n",
       "9998   Female  63.867992213757  128.47531878412\n",
       "9999   Female  69.034243130734  163.85246134657\n",
       "10000  Female  61.944245879517  113.64910267531\n",
       "\n",
       "[5001 rows x 3 columns]"
      ]
     },
     "execution_count": 6,
     "metadata": {},
     "output_type": "execute_result"
    }
   ],
   "source": [
    "female"
   ]
  },
  {
   "cell_type": "code",
   "execution_count": 7,
   "metadata": {},
   "outputs": [],
   "source": [
    "m_height = male['height']\n",
    "m_weight = male['weight']\n",
    "f_height = female['height']\n",
    "f_weight = female['weight']"
   ]
  },
  {
   "cell_type": "code",
   "execution_count": null,
   "metadata": {},
   "outputs": [],
   "source": []
  },
  {
   "cell_type": "code",
   "execution_count": 8,
   "metadata": {},
   "outputs": [],
   "source": [
    "class KNNClassifier:\n",
    "    def __init__(self):\n",
    "        self.x = None\n",
    "        self.y = None\n",
    "        \n",
    "    def fit(self, x, y):\n",
    "        self.x = x\n",
    "        self.y = y\n",
    "        \n",
    "    def _distance(self, a, b):\n",
    "        a = np.array(a, dtype=float)\n",
    "        b = np.array(b, dtype=float)\n",
    "        return np.linalg.norm(a - b)\n",
    "    \n",
    "    def predict(self, input_, k):\n",
    "        # Make sure the data is in a float format instead of strings\n",
    "        x = np.array(self.x, dtype=float)\n",
    "        \n",
    "        # Combine together x and y data into one list of tuples\n",
    "        xy = list(zip(x, self.y))\n",
    "        \n",
    "        # Add distance to each tuple.\n",
    "        # But what distance is the correct type of distance?\n",
    "        xy_dist = [(x, y, self._distance(x, input_)) for (x, y) in xy]\n",
    "        \n",
    "        # Sort by the distance element in the tuple.\n",
    "        xy_sorted = sorted(xy_dist, key=lambda x: x[2])\n",
    "        \n",
    "        # Pull out the class names from the tuples.\n",
    "        classes = [i[1] for i in xy_sorted]\n",
    "        \n",
    "        # Count the most frequent class,\n",
    "        c = Counter(classes[:k])\n",
    "\n",
    "        # Use list comprehension to grab the class from the counter.\n",
    "        most_common_class = c.most_common(1)[0][0]\n",
    "        \n",
    "        return most_common_class"
   ]
  },
  {
   "cell_type": "code",
   "execution_count": 9,
   "metadata": {},
   "outputs": [],
   "source": [
    "m_df = pd.DataFrame(male)\n",
    "f_df = pd.DataFrame(female)"
   ]
  },
  {
   "cell_type": "code",
   "execution_count": 10,
   "metadata": {},
   "outputs": [
    {
     "data": {
      "text/plain": [
       "['gender', 'height', 'weight']"
      ]
     },
     "execution_count": 10,
     "metadata": {},
     "output_type": "execute_result"
    }
   ],
   "source": [
    "list(m_df.columns)"
   ]
  },
  {
   "cell_type": "code",
   "execution_count": 11,
   "metadata": {},
   "outputs": [],
   "source": [
    "m_df = m_df.astype({'height': 'float'})\n",
    "m_df = m_df.astype({'weight': 'float'})\n",
    "f_df = f_df.astype({'height': 'float'})\n",
    "f_df = f_df.astype({'weight': 'float'})"
   ]
  },
  {
   "cell_type": "code",
   "execution_count": 12,
   "metadata": {},
   "outputs": [
    {
     "data": {
      "image/png": "[encoded data removed]",
      "text/plain": [
       "<Figure size 1440x1080 with 2 Axes>"
      ]
     },
     "metadata": {
      "needs_background": "light"
     },
     "output_type": "display_data"
    }
   ],
   "source": [
    "%matplotlib inline \n",
    "import matplotlib.pyplot as plt\n",
    "m_df.hist(bins=50, figsize=(20,15))\n",
    "plt.show()"
   ]
  },
  {
   "cell_type": "code",
   "execution_count": 13,
   "metadata": {},
   "outputs": [
    {
     "data": {
      "image/png": "[encoded data removed]",
      "text/plain": [
       "<Figure size 1440x1080 with 2 Axes>"
      ]
     },
     "metadata": {
      "needs_background": "light"
     },
     "output_type": "display_data"
    }
   ],
   "source": [
    "f_df.hist(bins=50, figsize=(20,15))\n",
    "plt.show()"
   ]
  },
  {
   "cell_type": "code",
   "execution_count": 14,
   "metadata": {},
   "outputs": [
    {
     "data": {
      "image/png": "[encoded data removed]",
      "text/plain": [
       "<Figure size 432x288 with 1 Axes>"
      ]
     },
     "metadata": {
      "needs_background": "light"
     },
     "output_type": "display_data"
    }
   ],
   "source": [
    "%matplotlib inline \n",
    "plt.scatter(m_df['height'], m_df['weight'], color='b')\n",
    "plt.scatter(f_df['height'],f_df['weight'], color='r')\n",
    "plt.xlabel('Height)')\n",
    "plt.ylabel('Weight')\n",
    "plt.grid(True)\n",
    "plt.show();"
   ]
  },
  {
   "cell_type": "code",
   "execution_count": 15,
   "metadata": {},
   "outputs": [],
   "source": [
    "# def split_train_test(data, test_ratio):\n",
    "#     shuffled_indices = np.random.permutation(len(data))\n",
    "#     test_set_size = int(len(data) * test_ratio)\n",
    "#     test_indices = shuffled_indices[:test_set_size]\n",
    "#     train_indices = shuffled_indices[test_set_size:]\n",
    "#     return data.iloc[train_indices], data.iloc[test_indices]"
   ]
  },
  {
   "cell_type": "code",
   "execution_count": 16,
   "metadata": {},
   "outputs": [],
   "source": [
    "# train_set, test_set = split_train_test(df, 0.2)"
   ]
  },
  {
   "cell_type": "code",
   "execution_count": 17,
   "metadata": {},
   "outputs": [],
   "source": [
    "# train_set.to_csv('train')\n",
    "# test_set.to_csv('test')"
   ]
  },
  {
   "cell_type": "code",
   "execution_count": 18,
   "metadata": {},
   "outputs": [],
   "source": [
    "train_data = pd.read_csv(\"train\", names=[\"gender\", \"height\", \"weight\"])\n",
    "train_data = pd.DataFrame(train_data)"
   ]
  },
  {
   "cell_type": "code",
   "execution_count": 19,
   "metadata": {},
   "outputs": [
    {
     "data": {
      "text/html": [
       "<div>\n",
       "<style scoped>\n",
       "    .dataframe tbody tr th:only-of-type {\n",
       "        vertical-align: middle;\n",
       "    }\n",
       "\n",
       "    .dataframe tbody tr th {\n",
       "        vertical-align: top;\n",
       "    }\n",
       "\n",
       "    .dataframe thead th {\n",
       "        text-align: right;\n",
       "    }\n",
       "</style>\n",
       "<table border=\"1\" class=\"dataframe\">\n",
       "  <thead>\n",
       "    <tr style=\"text-align: right;\">\n",
       "      <th></th>\n",
       "      <th>gender</th>\n",
       "      <th>height</th>\n",
       "      <th>weight</th>\n",
       "    </tr>\n",
       "  </thead>\n",
       "  <tbody>\n",
       "    <tr>\n",
       "      <th>5640</th>\n",
       "      <td>Female</td>\n",
       "      <td>66.766157</td>\n",
       "      <td>152.944405</td>\n",
       "    </tr>\n",
       "    <tr>\n",
       "      <th>8220</th>\n",
       "      <td>Female</td>\n",
       "      <td>63.881197</td>\n",
       "      <td>137.170886</td>\n",
       "    </tr>\n",
       "    <tr>\n",
       "      <th>2415</th>\n",
       "      <td>Male</td>\n",
       "      <td>68.720243</td>\n",
       "      <td>182.455923</td>\n",
       "    </tr>\n",
       "    <tr>\n",
       "      <th>7442</th>\n",
       "      <td>Female</td>\n",
       "      <td>62.834020</td>\n",
       "      <td>132.169244</td>\n",
       "    </tr>\n",
       "    <tr>\n",
       "      <th>3182</th>\n",
       "      <td>Male</td>\n",
       "      <td>70.962617</td>\n",
       "      <td>195.017206</td>\n",
       "    </tr>\n",
       "    <tr>\n",
       "      <th>...</th>\n",
       "      <td>...</td>\n",
       "      <td>...</td>\n",
       "      <td>...</td>\n",
       "    </tr>\n",
       "    <tr>\n",
       "      <th>2866</th>\n",
       "      <td>Male</td>\n",
       "      <td>68.932069</td>\n",
       "      <td>187.626609</td>\n",
       "    </tr>\n",
       "    <tr>\n",
       "      <th>4579</th>\n",
       "      <td>Male</td>\n",
       "      <td>64.746174</td>\n",
       "      <td>176.948433</td>\n",
       "    </tr>\n",
       "    <tr>\n",
       "      <th>4056</th>\n",
       "      <td>Male</td>\n",
       "      <td>69.741240</td>\n",
       "      <td>206.636440</td>\n",
       "    </tr>\n",
       "    <tr>\n",
       "      <th>7843</th>\n",
       "      <td>Female</td>\n",
       "      <td>62.536789</td>\n",
       "      <td>128.357712</td>\n",
       "    </tr>\n",
       "    <tr>\n",
       "      <th>5928</th>\n",
       "      <td>Female</td>\n",
       "      <td>62.196274</td>\n",
       "      <td>120.008199</td>\n",
       "    </tr>\n",
       "  </tbody>\n",
       "</table>\n",
       "<p>8000 rows × 3 columns</p>\n",
       "</div>"
      ],
      "text/plain": [
       "      gender     height      weight\n",
       "5640  Female  66.766157  152.944405\n",
       "8220  Female  63.881197  137.170886\n",
       "2415    Male  68.720243  182.455923\n",
       "7442  Female  62.834020  132.169244\n",
       "3182    Male  70.962617  195.017206\n",
       "...      ...        ...         ...\n",
       "2866    Male  68.932069  187.626609\n",
       "4579    Male  64.746174  176.948433\n",
       "4056    Male  69.741240  206.636440\n",
       "7843  Female  62.536789  128.357712\n",
       "5928  Female  62.196274  120.008199\n",
       "\n",
       "[8000 rows x 3 columns]"
      ]
     },
     "execution_count": 19,
     "metadata": {},
     "output_type": "execute_result"
    }
   ],
   "source": [
    "train_data"
   ]
  },
  {
   "cell_type": "code",
   "execution_count": 20,
   "metadata": {},
   "outputs": [],
   "source": [
    "x_height = train_data['height']\n",
    "y_weight = train_data['weight']\n",
    "label = train_data['gender']\n",
    "clf = KNNClassifier()"
   ]
  },
  {
   "cell_type": "code",
   "execution_count": 21,
   "metadata": {},
   "outputs": [
    {
     "data": {
      "text/plain": [
       "5640    66.766157\n",
       "8220    63.881197\n",
       "2415    68.720243\n",
       "7442    62.834020\n",
       "3182    70.962617\n",
       "          ...    \n",
       "2866    68.932069\n",
       "4579    64.746174\n",
       "4056    69.741240\n",
       "7843    62.536789\n",
       "5928    62.196274\n",
       "Name: height, Length: 8000, dtype: float64"
      ]
     },
     "execution_count": 21,
     "metadata": {},
     "output_type": "execute_result"
    }
   ],
   "source": [
    "x_height"
   ]
  },
  {
   "cell_type": "code",
   "execution_count": 22,
   "metadata": {},
   "outputs": [
    {
     "data": {
      "text/plain": [
       "5640    152.944405\n",
       "8220    137.170886\n",
       "2415    182.455923\n",
       "7442    132.169244\n",
       "3182    195.017206\n",
       "           ...    \n",
       "2866    187.626609\n",
       "4579    176.948433\n",
       "4056    206.636440\n",
       "7843    128.357712\n",
       "5928    120.008199\n",
       "Name: weight, Length: 8000, dtype: float64"
      ]
     },
     "execution_count": 22,
     "metadata": {},
     "output_type": "execute_result"
    }
   ],
   "source": [
    "y_weight"
   ]
  },
  {
   "cell_type": "code",
   "execution_count": 23,
   "metadata": {},
   "outputs": [],
   "source": [
    "clf.fit(x_height, label)"
   ]
  },
  {
   "cell_type": "code",
   "execution_count": 24,
   "metadata": {},
   "outputs": [
    {
     "data": {
      "text/plain": [
       "5640    Female\n",
       "8220    Female\n",
       "2415      Male\n",
       "7442    Female\n",
       "3182      Male\n",
       "         ...  \n",
       "2866      Male\n",
       "4579      Male\n",
       "4056      Male\n",
       "7843    Female\n",
       "5928    Female\n",
       "Name: gender, Length: 8000, dtype: object"
      ]
     },
     "execution_count": 24,
     "metadata": {},
     "output_type": "execute_result"
    }
   ],
   "source": [
    "clf.y"
   ]
  },
  {
   "cell_type": "code",
   "execution_count": 25,
   "metadata": {},
   "outputs": [
    {
     "data": {
      "text/plain": [
       "2.884960096907996"
      ]
     },
     "execution_count": 25,
     "metadata": {},
     "output_type": "execute_result"
    }
   ],
   "source": [
    "clf._distance(x_height.iloc[0], x_height.iloc[1])"
   ]
  },
  {
   "cell_type": "code",
   "execution_count": 26,
   "metadata": {},
   "outputs": [
    {
     "data": {
      "text/plain": [
       "'Female'"
      ]
     },
     "execution_count": 26,
     "metadata": {},
     "output_type": "execute_result"
    }
   ],
   "source": [
    "clf.predict(x_height, 5)"
   ]
  },
  {
   "cell_type": "code",
   "execution_count": 27,
   "metadata": {},
   "outputs": [],
   "source": [
    "# for k in range(1, 10):\n",
    "#     print(f\"K is equal to {k}\")\n",
    "# k = 5\n",
    "# for i in range(len(x_height)):\n",
    "#     print(clf.predict(x_height.iloc[i], k))"
   ]
  },
  {
   "cell_type": "code",
   "execution_count": 44,
   "metadata": {},
   "outputs": [],
   "source": [
    "def test_k(k, x_values):\n",
    "    correct = 0\n",
    "    correct_m = 0\n",
    "    correct_f = 0\n",
    "    incorrect = 0\n",
    "    \n",
    "    for i in range(len(x_values)):\n",
    "        real_label = train_data.iloc[0][0]\n",
    "        prediction = clf.predict(x_values.iloc[i], k)\n",
    "        if prediction == real_label:\n",
    "#             print('correct')\n",
    "            correct += 1\n",
    "            if prediction == 'Male':\n",
    "                correct_m += 1\n",
    "            elif prediction == 'Female':\n",
    "                correct_f += 1\n",
    "        else:\n",
    "#             print('incorrect')\n",
    "            incorrect += 1\n",
    "            \n",
    "    print('correct', + correct)\n",
    "    print('correct_m', + correct_m)\n",
    "    print('correct_f', + correct_f)\n",
    "    print('incorrect', + incorrect)"
   ]
  },
  {
   "cell_type": "code",
   "execution_count": 45,
   "metadata": {},
   "outputs": [
    {
     "name": "stdout",
     "output_type": "stream",
     "text": [
      "correct 4003\n",
      "correct_m 0\n",
      "correct_f 4003\n",
      "incorrect 3997\n"
     ]
    }
   ],
   "source": [
    "test_k(1, x_height)"
   ]
  },
  {
   "cell_type": "code",
   "execution_count": null,
   "metadata": {},
   "outputs": [],
   "source": []
  },
  {
   "cell_type": "code",
   "execution_count": null,
   "metadata": {},
   "outputs": [],
   "source": []
  }
 ],
 "metadata": {
  "kernelspec": {
   "display_name": "Python 3",
   "language": "python",
   "name": "python3"
  },
  "language_info": {
   "codemirror_mode": {
    "name": "ipython",
    "version": 3
   },
   "file_extension": ".py",
   "mimetype": "text/x-python",
   "name": "python",
   "nbconvert_exporter": "python",
   "pygments_lexer": "ipython3",
   "version": "3.7.3"
  }
 },
 "nbformat": 4,
 "nbformat_minor": 4
}
