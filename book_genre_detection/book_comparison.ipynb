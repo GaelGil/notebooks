{
 "cells": [
  {
   "cell_type": "code",
   "execution_count": 1,
   "id": "eec75b9f-2978-4279-bbed-03e5537fed1f",
   "metadata": {},
   "outputs": [
    {
     "name": "stderr",
     "output_type": "stream",
     "text": [
      "/Users/gael/git-repos/notebooks/book_genre_detection/env/lib/python3.9/site-packages/tqdm/auto.py:22: TqdmWarning: IProgress not found. Please update jupyter and ipywidgets. See https://ipywidgets.readthedocs.io/en/stable/user_install.html\n",
      "  from .autonotebook import tqdm as notebook_tqdm\n"
     ]
    }
   ],
   "source": [
    "import numpy as np\n",
    "import pandas as pd\n",
    "import torch\n",
    "import seaborn as sns\n",
    "from sklearn.manifold import TSNE\n",
    "from sklearn.decomposition import PCA\n",
    "from sklearn.metrics.pairwise import cosine_similarity\n",
    "from transformers import BertTokenizer, BertModel"
   ]
  },
  {
   "cell_type": "code",
   "execution_count": 2,
   "id": "29027817-f164-48a3-86ca-5410e4e64a26",
   "metadata": {},
   "outputs": [],
   "source": [
    "df = pd.read_csv('./data.csv')"
   ]
  },
  {
   "cell_type": "code",
   "execution_count": 3,
   "id": "bef5a24c-b2ce-460f-81a6-416f4852ae86",
   "metadata": {},
   "outputs": [
    {
     "data": {
      "text/html": [
       "<div>\n",
       "<style scoped>\n",
       "    .dataframe tbody tr th:only-of-type {\n",
       "        vertical-align: middle;\n",
       "    }\n",
       "\n",
       "    .dataframe tbody tr th {\n",
       "        vertical-align: top;\n",
       "    }\n",
       "\n",
       "    .dataframe thead th {\n",
       "        text-align: right;\n",
       "    }\n",
       "</style>\n",
       "<table border=\"1\" class=\"dataframe\">\n",
       "  <thead>\n",
       "    <tr style=\"text-align: right;\">\n",
       "      <th></th>\n",
       "      <th>book</th>\n",
       "      <th>words</th>\n",
       "    </tr>\n",
       "  </thead>\n",
       "  <tbody>\n",
       "    <tr>\n",
       "      <th>0</th>\n",
       "      <td>./data/cook_book_one.txt</td>\n",
       "      <td>project gutenberg's the whitehouse cookbook by...</td>\n",
       "    </tr>\n",
       "    <tr>\n",
       "      <th>1</th>\n",
       "      <td>./data/cook_book_three.txt</td>\n",
       "      <td>the project gutenberg ebook of new royal cook ...</td>\n",
       "    </tr>\n",
       "    <tr>\n",
       "      <th>2</th>\n",
       "      <td>./data/gothic_novel_four.txt</td>\n",
       "      <td>the project gutenberg ebook of the works of ed...</td>\n",
       "    </tr>\n",
       "    <tr>\n",
       "      <th>3</th>\n",
       "      <td>./data/gothic_novel_six.txt</td>\n",
       "      <td>the project gutenberg ebook of northanger abbe...</td>\n",
       "    </tr>\n",
       "    <tr>\n",
       "      <th>4</th>\n",
       "      <td>./data/gothic_novel_two.txt</td>\n",
       "      <td>project gutenberg’s the complete works of will...</td>\n",
       "    </tr>\n",
       "    <tr>\n",
       "      <th>5</th>\n",
       "      <td>./data/gothic_novel_three.txt</td>\n",
       "      <td>the project gutenberg ebook of dracula by bram...</td>\n",
       "    </tr>\n",
       "    <tr>\n",
       "      <th>6</th>\n",
       "      <td>./data/cook_book_four.txt</td>\n",
       "      <td>the project gutenberg ebook of the italian coo...</td>\n",
       "    </tr>\n",
       "    <tr>\n",
       "      <th>7</th>\n",
       "      <td>./data/gothic_novel_ten.txt</td>\n",
       "      <td>the project gutenberg ebook of the castle of o...</td>\n",
       "    </tr>\n",
       "    <tr>\n",
       "      <th>8</th>\n",
       "      <td>./data/gothic_novel_eight.txt</td>\n",
       "      <td>the project gutenberg ebook of the vampyre a t...</td>\n",
       "    </tr>\n",
       "    <tr>\n",
       "      <th>9</th>\n",
       "      <td>./data/gothic_novel_nine.txt</td>\n",
       "      <td>the project gutenberg ebook of the masque of t...</td>\n",
       "    </tr>\n",
       "    <tr>\n",
       "      <th>10</th>\n",
       "      <td>./data/cook_book.txt</td>\n",
       "      <td>the project gutenberg ebook of california mexi...</td>\n",
       "    </tr>\n",
       "    <tr>\n",
       "      <th>11</th>\n",
       "      <td>./data/cook_book_ten.txt</td>\n",
       "      <td>the project gutenberg ebook of seventy five re...</td>\n",
       "    </tr>\n",
       "    <tr>\n",
       "      <th>12</th>\n",
       "      <td>./data/cook_book_nine.txt</td>\n",
       "      <td>the project gutenberg ebook of mrs wilson's co...</td>\n",
       "    </tr>\n",
       "    <tr>\n",
       "      <th>13</th>\n",
       "      <td>./data/cook_book_eight.txt</td>\n",
       "      <td>the project gutenberg ebook of a plain cookery...</td>\n",
       "    </tr>\n",
       "    <tr>\n",
       "      <th>14</th>\n",
       "      <td>./data/gothic_novel.txt</td>\n",
       "      <td>the project gutenberg ebook of the phantom of ...</td>\n",
       "    </tr>\n",
       "    <tr>\n",
       "      <th>15</th>\n",
       "      <td>./data/gothic_novel_five.txt</td>\n",
       "      <td>the project gutenberg ebook of the woman in wh...</td>\n",
       "    </tr>\n",
       "    <tr>\n",
       "      <th>16</th>\n",
       "      <td>./data/cook_book_six.txt</td>\n",
       "      <td>the project gutenberg ebook of twenty five cen...</td>\n",
       "    </tr>\n",
       "    <tr>\n",
       "      <th>17</th>\n",
       "      <td>./data/cook_book_two.txt</td>\n",
       "      <td>the project gutenberg ebook old cookery books ...</td>\n",
       "    </tr>\n",
       "    <tr>\n",
       "      <th>18</th>\n",
       "      <td>./data/gothic_novel_seven.txt</td>\n",
       "      <td>the project gutenberg ebook of frankenstein by...</td>\n",
       "    </tr>\n",
       "    <tr>\n",
       "      <th>19</th>\n",
       "      <td>./data/gothic_novel_one.txt</td>\n",
       "      <td>the project gutenberg ebook of the works of ed...</td>\n",
       "    </tr>\n",
       "    <tr>\n",
       "      <th>20</th>\n",
       "      <td>./data/cook_book_seven.txt</td>\n",
       "      <td>the project gutenberg ebook of the belgian coo...</td>\n",
       "    </tr>\n",
       "    <tr>\n",
       "      <th>21</th>\n",
       "      <td>./data/cook_book_five.txt</td>\n",
       "      <td>project gutenberg's the complete book of chees...</td>\n",
       "    </tr>\n",
       "  </tbody>\n",
       "</table>\n",
       "</div>"
      ],
      "text/plain": [
       "                             book  \\\n",
       "0        ./data/cook_book_one.txt   \n",
       "1      ./data/cook_book_three.txt   \n",
       "2    ./data/gothic_novel_four.txt   \n",
       "3     ./data/gothic_novel_six.txt   \n",
       "4     ./data/gothic_novel_two.txt   \n",
       "5   ./data/gothic_novel_three.txt   \n",
       "6       ./data/cook_book_four.txt   \n",
       "7     ./data/gothic_novel_ten.txt   \n",
       "8   ./data/gothic_novel_eight.txt   \n",
       "9    ./data/gothic_novel_nine.txt   \n",
       "10           ./data/cook_book.txt   \n",
       "11       ./data/cook_book_ten.txt   \n",
       "12      ./data/cook_book_nine.txt   \n",
       "13     ./data/cook_book_eight.txt   \n",
       "14        ./data/gothic_novel.txt   \n",
       "15   ./data/gothic_novel_five.txt   \n",
       "16       ./data/cook_book_six.txt   \n",
       "17       ./data/cook_book_two.txt   \n",
       "18  ./data/gothic_novel_seven.txt   \n",
       "19    ./data/gothic_novel_one.txt   \n",
       "20     ./data/cook_book_seven.txt   \n",
       "21      ./data/cook_book_five.txt   \n",
       "\n",
       "                                                words  \n",
       "0   project gutenberg's the whitehouse cookbook by...  \n",
       "1   the project gutenberg ebook of new royal cook ...  \n",
       "2   the project gutenberg ebook of the works of ed...  \n",
       "3   the project gutenberg ebook of northanger abbe...  \n",
       "4   project gutenberg’s the complete works of will...  \n",
       "5   the project gutenberg ebook of dracula by bram...  \n",
       "6   the project gutenberg ebook of the italian coo...  \n",
       "7   the project gutenberg ebook of the castle of o...  \n",
       "8   the project gutenberg ebook of the vampyre a t...  \n",
       "9   the project gutenberg ebook of the masque of t...  \n",
       "10  the project gutenberg ebook of california mexi...  \n",
       "11  the project gutenberg ebook of seventy five re...  \n",
       "12  the project gutenberg ebook of mrs wilson's co...  \n",
       "13  the project gutenberg ebook of a plain cookery...  \n",
       "14  the project gutenberg ebook of the phantom of ...  \n",
       "15  the project gutenberg ebook of the woman in wh...  \n",
       "16  the project gutenberg ebook of twenty five cen...  \n",
       "17  the project gutenberg ebook old cookery books ...  \n",
       "18  the project gutenberg ebook of frankenstein by...  \n",
       "19  the project gutenberg ebook of the works of ed...  \n",
       "20  the project gutenberg ebook of the belgian coo...  \n",
       "21  project gutenberg's the complete book of chees...  "
      ]
     },
     "execution_count": 3,
     "metadata": {},
     "output_type": "execute_result"
    }
   ],
   "source": [
    "df"
   ]
  },
  {
   "cell_type": "code",
   "execution_count": 4,
   "id": "98b83225-00da-4f8b-9931-19f03e76abe8",
   "metadata": {},
   "outputs": [],
   "source": [
    "tokenizer = BertTokenizer.from_pretrained('bert-base-uncased')"
   ]
  },
  {
   "cell_type": "code",
   "execution_count": 5,
   "id": "b64369c4-ad04-4a5b-80aa-da43c746a530",
   "metadata": {},
   "outputs": [
    {
     "name": "stderr",
     "output_type": "stream",
     "text": [
      "Some weights of the model checkpoint at bert-base-uncased were not used when initializing BertModel: ['cls.predictions.bias', 'cls.seq_relationship.weight', 'cls.seq_relationship.bias', 'cls.predictions.transform.LayerNorm.bias', 'cls.predictions.decoder.weight', 'cls.predictions.transform.LayerNorm.weight', 'cls.predictions.transform.dense.bias', 'cls.predictions.transform.dense.weight']\n",
      "- This IS expected if you are initializing BertModel from the checkpoint of a model trained on another task or with another architecture (e.g. initializing a BertForSequenceClassification model from a BertForPreTraining model).\n",
      "- This IS NOT expected if you are initializing BertModel from the checkpoint of a model that you expect to be exactly identical (initializing a BertForSequenceClassification model from a BertForSequenceClassification model).\n"
     ]
    }
   ],
   "source": [
    "model = BertModel.from_pretrained(\"bert-base-uncased\")"
   ]
  },
  {
   "cell_type": "code",
   "execution_count": null,
   "id": "a572caec-dc73-4816-af84-0d4414c42a91",
   "metadata": {},
   "outputs": [],
   "source": []
  },
  {
   "cell_type": "code",
   "execution_count": 6,
   "id": "38fa26fa-0deb-49a6-85f5-0f180cf65de6",
   "metadata": {},
   "outputs": [],
   "source": [
    "text = ['love', 'hate']"
   ]
  },
  {
   "cell_type": "code",
   "execution_count": 7,
   "id": "b17d311a-616e-4fda-8d7f-3213af19e2fd",
   "metadata": {},
   "outputs": [],
   "source": [
    "encoded_input = tokenizer(text, return_tensors='pt')"
   ]
  },
  {
   "cell_type": "code",
   "execution_count": 8,
   "id": "014d113c-3a4f-481a-9c90-4fc8d59e6d5c",
   "metadata": {},
   "outputs": [
    {
     "data": {
      "text/plain": [
       "{'input_ids': tensor([[ 101, 2293,  102],\n",
       "        [ 101, 5223,  102]]), 'token_type_ids': tensor([[0, 0, 0],\n",
       "        [0, 0, 0]]), 'attention_mask': tensor([[1, 1, 1],\n",
       "        [1, 1, 1]])}"
      ]
     },
     "execution_count": 8,
     "metadata": {},
     "output_type": "execute_result"
    }
   ],
   "source": [
    "encoded_input"
   ]
  },
  {
   "cell_type": "code",
   "execution_count": 9,
   "id": "daaad41f-ac16-4e80-80ee-2773eb500250",
   "metadata": {},
   "outputs": [],
   "source": [
    "output = model(**encoded_input)"
   ]
  },
  {
   "cell_type": "code",
   "execution_count": 10,
   "id": "278323c8-80c7-451f-8dc8-a5a8cde01a31",
   "metadata": {},
   "outputs": [
    {
     "data": {
      "text/plain": [
       "torch.Size([2, 3, 768])"
      ]
     },
     "execution_count": 10,
     "metadata": {},
     "output_type": "execute_result"
    }
   ],
   "source": [
    "output.last_hidden_state.shape"
   ]
  },
  {
   "cell_type": "code",
   "execution_count": 11,
   "id": "c0bb98c8-d2d5-4045-8454-9262f4160d39",
   "metadata": {},
   "outputs": [
    {
     "data": {
      "text/plain": [
       "tensor([[[-0.1931,  0.2282, -0.1564,  ..., -0.6209, -0.0099,  0.2842],\n",
       "         [ 0.3865,  0.3619,  0.2342,  ..., -0.9576, -0.0633, -0.4696],\n",
       "         [ 0.8001,  0.1751, -0.2877,  ..., -0.0113, -0.7751, -0.2699]],\n",
       "\n",
       "        [[-0.2322,  0.4478, -0.2562,  ..., -0.1797,  0.0831,  0.0075],\n",
       "         [ 0.3562,  0.3625, -0.2206,  ...,  0.2490,  0.4487,  0.0989],\n",
       "         [ 0.7516,  0.0380, -0.2849,  ..., -0.0262, -0.8469, -0.4179]]],\n",
       "       grad_fn=<NativeLayerNormBackward0>)"
      ]
     },
     "execution_count": 11,
     "metadata": {},
     "output_type": "execute_result"
    }
   ],
   "source": [
    "output.last_hidden_state"
   ]
  },
  {
   "cell_type": "code",
   "execution_count": 12,
   "id": "b82885ac-103b-40a5-961f-e5f191821255",
   "metadata": {},
   "outputs": [],
   "source": [
    "love_embedding = output.last_hidden_state[0][1]\n",
    "hate_embedding = output.last_hidden_state[1][1]"
   ]
  },
  {
   "cell_type": "code",
   "execution_count": 13,
   "id": "b1c9dddf-47aa-4de5-9937-bdc5098ae683",
   "metadata": {},
   "outputs": [
    {
     "data": {
      "text/plain": [
       "array([ 3.86491150e-01,  3.61881346e-01,  2.34232858e-01, -3.95797491e-01,\n",
       "        9.35692608e-01, -3.20417464e-01,  2.04268217e-01,  3.38452309e-01,\n",
       "       -5.20041510e-02, -8.10698509e-01, -5.65118551e-01, -1.61363661e-01,\n",
       "        3.03391844e-01,  3.40914965e-01, -4.51137006e-01, -3.86415571e-01,\n",
       "        5.06600022e-01,  3.11436683e-01,  8.61643851e-01,  5.42768419e-01,\n",
       "       -2.06672251e-01,  1.60407662e-01, -5.38816869e-01,  3.24378252e-01,\n",
       "       -1.79528072e-02,  5.04499853e-01,  7.72020742e-02, -2.57169545e-01,\n",
       "        5.15542328e-01,  3.37318391e-01,  7.22072482e-01,  7.50575811e-02,\n",
       "       -1.59209967e-01,  3.52997780e-02, -8.67908359e-01, -3.30941498e-01,\n",
       "        3.19348037e-01,  4.92764235e-01, -1.04944324e+00,  7.51347363e-01,\n",
       "        8.89055729e-01, -4.18411404e-01,  1.28195584e-01, -9.13363278e-01,\n",
       "        4.92032826e-01, -4.75546420e-02,  1.97652772e-01,  5.56535959e-01,\n",
       "        1.00315318e-01, -2.43042260e-01, -1.55048698e-01,  3.88772845e-01,\n",
       "        5.86102366e-01,  2.51719862e-01, -2.52818495e-01,  3.94308239e-01,\n",
       "        5.30878365e-01,  4.01807815e-01, -6.01080358e-01,  2.34357253e-01,\n",
       "        1.55543778e-02, -2.94263512e-01,  1.38820022e-01, -4.35253829e-01,\n",
       "        4.97061685e-02,  7.18310297e-01,  5.04693270e-01,  5.59720516e-01,\n",
       "       -1.20640409e+00, -4.25964296e-01,  4.21854526e-01, -1.30888194e-01,\n",
       "       -7.90310055e-02,  1.47115186e-01, -3.41041744e-01,  5.93300581e-01,\n",
       "       -9.59567726e-01,  1.53357148e-01, -3.78188007e-02, -9.86952782e-01,\n",
       "       -4.31160122e-01,  9.43609774e-01, -1.00494695e+00,  5.95726550e-01,\n",
       "        3.54053080e-01, -4.54803109e-01,  2.32888117e-01,  3.40156734e-01,\n",
       "       -3.92262414e-02,  2.98977137e-01,  1.67463616e-01, -8.16583574e-01,\n",
       "       -3.59613001e-01,  1.58406124e-02, -2.64989913e-01, -1.58044502e-01,\n",
       "       -4.75051582e-01,  7.42826521e-01, -6.26403332e-01, -4.23828840e-01,\n",
       "       -8.33082318e-01, -1.36313066e-01,  2.98217773e-01, -1.28686681e-01,\n",
       "       -5.73147953e-01, -8.60824585e-02,  2.11822003e-01, -4.02307570e-01,\n",
       "        2.38637999e-01, -6.13938272e-02,  1.08127482e-02, -3.74150842e-01,\n",
       "       -1.52086496e-01,  3.31185311e-01, -1.09203911e+00,  3.27777922e-01,\n",
       "       -1.34661525e-01, -2.85244346e-01, -7.68334091e-01, -1.95252970e-01,\n",
       "        2.55314987e-02, -6.36884809e-01, -1.59458175e-01,  1.02658057e+00,\n",
       "        7.09759474e-01, -1.73585564e-01, -7.10667312e-01,  5.08091331e-01,\n",
       "       -4.33399647e-01, -7.14562774e-01, -2.19720662e-01,  9.51488376e-01,\n",
       "        3.91039073e-01, -1.22494280e-01, -5.34191877e-02,  6.17689908e-01,\n",
       "        1.11821365e+00, -1.34285972e-01, -1.22969076e-01, -6.89908147e-01,\n",
       "        3.66044134e-01,  6.70114756e-01,  2.07687289e-01,  6.39656723e-01,\n",
       "        3.41314375e-02,  4.92148012e-01, -2.67919540e-01,  1.87492356e-01,\n",
       "       -1.99774876e-02,  5.65078482e-02, -1.77669525e-01, -2.45734334e-01,\n",
       "       -6.89458013e-01, -2.45834723e-01, -1.48332715e-01, -7.10809410e-01,\n",
       "        3.35457832e-01,  6.76217794e-01,  1.15097843e-01,  8.07712913e-01,\n",
       "        6.81684986e-02,  7.01072067e-03, -3.26917499e-01,  9.74340558e-01,\n",
       "       -6.72309041e-01, -3.80709842e-02,  4.81912047e-01,  8.45210016e-01,\n",
       "       -4.85152781e-01, -8.68993551e-02,  1.45592049e-01, -4.23644751e-01,\n",
       "        1.27801383e+00,  3.85180950e-01, -4.50506151e-01,  7.01991439e-01,\n",
       "        5.66263907e-02,  8.49313974e-01,  4.62866157e-01,  3.30602080e-01,\n",
       "       -2.60496736e-01,  1.02268374e+00, -4.56359595e-01, -7.10762739e-01,\n",
       "        1.12543714e+00,  2.22240649e-02,  1.47981122e-01, -8.24057579e-01,\n",
       "       -1.32848084e-01,  3.36751193e-02, -5.64892769e-01,  3.02758455e-01,\n",
       "       -7.58975148e-01, -9.56086963e-02,  2.58550122e-02, -7.10178077e-01,\n",
       "        7.88749009e-02, -1.62971288e-01,  6.76794529e-01, -2.97039449e-01,\n",
       "        7.85771847e-01, -5.03380656e-01,  6.35210335e-01,  6.65610969e-01,\n",
       "        2.22701728e-01,  1.20251276e-01,  4.05387342e-01, -4.77896512e-01,\n",
       "       -4.69227955e-02,  1.48331419e-01, -7.37930655e-01,  1.33738935e+00,\n",
       "        1.86228544e-01,  5.26425481e-01,  1.07795149e-01, -8.38420153e-01,\n",
       "       -5.74521646e-02,  2.35827193e-02, -5.81872940e-01,  1.07401466e+00,\n",
       "        9.71092358e-02, -5.57798147e-01, -4.49638039e-01,  7.03474164e-01,\n",
       "       -1.11201477e+00,  4.59434688e-01,  5.18284976e-01, -6.20772719e-01,\n",
       "        1.94440186e-01,  1.18354094e+00, -5.48109293e-01, -8.08861852e-01,\n",
       "        4.78136957e-01,  2.14145109e-02, -8.49560678e-01,  1.15042055e+00,\n",
       "       -6.47482812e-01, -1.03092879e-01, -4.02033210e-01,  5.26950479e-01,\n",
       "       -2.10681722e-01, -1.22205997e+00,  7.07863629e-01,  7.36125767e-01,\n",
       "       -8.10800195e-01,  1.38220549e-01,  1.79091290e-01, -5.82936466e-01,\n",
       "       -2.57972449e-01,  2.97765285e-01, -4.40306515e-01, -1.59825003e+00,\n",
       "       -1.46975592e-01,  1.17579095e-01, -1.17418838e+00, -8.18351269e-01,\n",
       "       -6.42860234e-01, -4.32494551e-01,  1.27440616e-01,  7.05065906e-01,\n",
       "       -9.63998958e-03,  4.17413980e-01,  1.52569842e+00, -3.94016623e-01,\n",
       "        1.14504293e-01, -3.85385543e-01, -5.87641597e-01,  8.78645703e-02,\n",
       "        2.60217369e-01, -2.38549650e-01, -2.59208977e-01, -2.62300193e-01,\n",
       "        5.15654325e-01,  8.70732903e-01, -3.22591275e-01,  1.59468830e-01,\n",
       "        1.02027440e+00,  3.41746986e-01,  9.96818542e-01, -5.98448813e-01,\n",
       "        5.56384265e-01,  5.57916820e-01, -5.22336483e-01, -7.03735948e-02,\n",
       "        1.04003310e+00, -6.56005144e-01, -6.79435968e-01,  3.99234414e-01,\n",
       "       -8.07283521e-01, -1.07899785e+00, -2.09098190e-01,  1.39896482e-01,\n",
       "       -9.99195352e-02, -1.02844918e+00,  7.71355927e-01,  4.65994179e-01,\n",
       "        3.45930234e-02,  4.46556091e-01,  5.89564264e-01, -6.75707102e-01,\n",
       "       -6.26769781e-01,  1.52381733e-02, -1.67629570e-02,  1.03963934e-01,\n",
       "        2.18313828e-01, -5.18273152e-02,  9.38739777e-02,  6.21964857e-02,\n",
       "       -3.01992440e+00,  2.84163028e-01,  6.84207499e-01, -6.10026568e-02,\n",
       "        6.85607553e-01, -2.79741526e-01,  4.29524422e-01, -2.35668704e-01,\n",
       "       -4.34533447e-01, -2.24609047e-01,  6.76803410e-01, -3.67486387e-01,\n",
       "        1.38033104e+00,  3.58106196e-01,  2.88394988e-01, -3.76994550e-01,\n",
       "       -3.04300517e-01, -7.78210044e-01, -7.48042703e-01,  5.87789178e-01,\n",
       "       -7.40745008e-01,  4.27764267e-01,  9.32004750e-01, -9.89275396e-01,\n",
       "        1.70060068e-01,  9.87132668e-01,  2.86033481e-01,  5.97641706e-01,\n",
       "       -9.84551668e-01, -3.32991242e-01,  6.03295565e-02, -2.11250246e-01,\n",
       "        7.72175431e-01,  4.74174693e-02,  5.78111768e-01, -2.76865885e-02,\n",
       "        3.42160523e-01, -1.29577971e+00,  1.06588757e+00,  6.99165881e-01,\n",
       "       -1.04173683e-01, -5.12878522e-02, -1.05637453e-01, -4.63241525e-02,\n",
       "        9.34010670e-02, -3.87568958e-02,  5.86375654e-01, -5.68650901e-01,\n",
       "        2.98534557e-02,  2.08337143e-01, -4.24383283e-01,  5.34968793e-01,\n",
       "        5.33411264e-01, -9.06426907e-01,  4.63131964e-02,  6.51234031e-01,\n",
       "        1.71993524e-01,  3.44975173e-01,  6.85516149e-02, -5.09715557e-01,\n",
       "       -3.74987185e-01, -1.10681370e-01, -8.32246184e-01,  1.21441674e+00,\n",
       "       -7.11843967e-01, -1.71352506e-01, -4.73075926e-01, -1.11094975e+00,\n",
       "       -3.54907036e-01,  6.83037937e-01, -5.75144053e-01,  1.45002916e-01,\n",
       "        2.23442651e-02, -1.31768954e+00, -1.28459787e+00,  4.12410945e-01,\n",
       "       -1.08331299e+00, -5.68996489e-01, -5.85746691e-02, -8.24424505e-01,\n",
       "       -5.01383096e-04, -1.26769952e-03, -7.27456957e-02,  4.19003814e-01,\n",
       "        1.85114831e-01, -2.14276731e-01,  6.06392682e-01, -1.35965693e+00,\n",
       "       -3.48998755e-01, -3.26716080e-02, -4.19784695e-01,  2.16107666e-01,\n",
       "        1.19529140e+00,  2.65374966e-02,  1.53319395e+00,  1.38359472e-01,\n",
       "        6.16715670e-01, -5.27328491e-01,  1.55235022e-01, -9.22724724e-01,\n",
       "        5.81144392e-01,  3.36541742e-01,  1.84759721e-01, -7.98555464e-03,\n",
       "        3.49293590e-01, -2.29010910e-01, -1.31585991e+00,  6.56298757e-01,\n",
       "       -3.80049527e-01,  3.69165570e-01,  8.58792216e-02,  8.54549706e-02,\n",
       "        6.25058651e-01, -1.82811439e-01, -7.83555925e-01, -1.38302088e+00,\n",
       "        4.09349054e-01,  3.30673546e-01,  1.61050372e-02,  5.65206289e-01,\n",
       "        2.79182315e-01,  1.07073975e+00, -1.00717092e+00, -3.88056517e-01,\n",
       "       -4.45977569e-01, -2.08829746e-01,  3.05087268e-02, -2.99163043e-01,\n",
       "       -9.97537434e-01,  6.75333321e-01,  2.42357589e-02,  6.35233283e-01,\n",
       "        3.72388631e-01, -2.18548119e-01,  3.18399370e-01, -8.47973898e-02,\n",
       "       -5.29423505e-02, -9.52753961e-01, -2.61522084e-01,  8.05162430e-01,\n",
       "        2.23178014e-01,  9.13175941e-02, -9.93095100e-01, -8.75948519e-02,\n",
       "       -1.56710744e-01,  4.79502641e-02, -6.40143275e-01, -1.90212145e-01,\n",
       "        1.09178059e-01,  4.98211622e-01, -5.00316471e-02, -4.29325521e-01,\n",
       "        3.51097822e-01,  2.34674327e-02, -1.05345152e-01, -1.00132978e+00,\n",
       "       -5.46630546e-02, -3.77240509e-01,  1.33601293e-01, -1.14690423e+00,\n",
       "       -6.82456374e-01, -2.46981412e-01, -4.17603642e-01,  7.48992443e-01,\n",
       "        7.62398362e-01,  1.12145245e+00,  3.32685947e-01, -3.52388382e-01,\n",
       "       -8.70548904e-01,  2.21187398e-01,  5.52380085e-01, -2.67148584e-01,\n",
       "        9.31988955e-02, -5.70785344e-01, -4.62570131e-01,  9.00678635e-01,\n",
       "       -5.09332001e-01, -1.21829176e+00,  1.28564775e-01, -4.27851945e-01,\n",
       "       -7.62146786e-02, -4.88599271e-01,  5.41410744e-02, -5.92225075e-01,\n",
       "        1.43855274e+00,  5.46008110e-01, -2.40489781e-01, -6.92484140e-01,\n",
       "        2.24808693e-01,  1.01551569e+00, -3.71071875e-01, -5.44613637e-02,\n",
       "       -4.45032030e-01,  2.17675507e-01, -1.01476526e+00, -9.32439804e-01,\n",
       "        2.58745492e-01, -4.11346316e-01,  1.83702633e-01,  5.82624435e-01,\n",
       "        2.88185596e-01, -8.61029804e-01,  1.31327659e-01, -2.21875250e-01,\n",
       "        8.46417785e-01, -4.14760858e-02,  6.62392229e-02,  3.81657302e-01,\n",
       "       -1.77852377e-01, -2.99851280e-02,  1.75780445e-01, -5.90388000e-01,\n",
       "       -7.82088637e-01,  2.54197299e-01,  5.49670875e-01,  5.59536815e-01,\n",
       "        6.19079530e-01,  1.41630352e-01, -1.94950849e-01, -8.42833400e-01,\n",
       "       -2.73180366e-01, -3.65690172e-01,  1.92800388e-01, -1.84772000e-01,\n",
       "        2.02066407e-01,  1.11599818e-01, -1.10228467e+00, -5.14776587e-01,\n",
       "       -1.60560489e-01,  2.24095672e-01,  4.19137001e-01, -1.82123423e-01,\n",
       "        4.96483356e-01, -2.63415635e-01,  1.88218534e-01,  3.29402268e-01,\n",
       "       -3.26502532e-01, -7.95572698e-01, -2.27537617e-01, -8.50123107e-01,\n",
       "        5.39513171e-01, -1.32105374e+00, -1.36129275e-01,  6.27121329e-03,\n",
       "        1.72093421e-01,  1.00906503e+00, -4.77943122e-01,  5.57582714e-02,\n",
       "        1.17295003e+00,  9.55604553e-01, -6.45040274e-01,  2.07987517e-01,\n",
       "       -4.30754498e-02, -4.14075822e-01,  4.10974026e-01, -1.57166064e+00,\n",
       "       -6.06611788e-01,  1.31484702e-01, -2.18705103e-01,  6.88434720e-01,\n",
       "       -3.66154641e-01,  1.25483900e-01,  5.06756961e-01,  4.33247089e-01,\n",
       "        2.75510252e-02,  5.10746539e-01,  8.04326534e-01, -4.73332033e-02,\n",
       "        3.95453811e-01,  9.96705890e-02, -5.57619452e-01,  6.82296336e-01,\n",
       "       -2.55346090e-01,  5.35272717e-01,  1.16074987e-01,  5.40202111e-03,\n",
       "        8.13726902e-01, -6.71694040e-01, -4.46444839e-01, -9.54547711e-03,\n",
       "       -2.50343978e-01,  1.26608896e+00, -4.99953419e-01, -6.65914655e-01,\n",
       "        1.34499460e-01, -1.10215509e+00, -2.61790812e-01, -2.89015248e-02,\n",
       "       -4.82208401e-01, -6.15275621e-01,  4.98328984e-01,  5.58046520e-01,\n",
       "       -1.26441151e-01,  5.55361688e-01,  9.39834118e-01,  3.23049650e-02,\n",
       "       -9.70674157e-01, -2.10844558e-02, -1.34906754e-01,  9.06516790e-01,\n",
       "       -2.52916873e-01,  3.83907229e-01,  4.10515934e-01, -5.47605932e-01,\n",
       "        3.78874421e-01,  9.70401883e-01,  1.42266512e-01,  3.02107409e-02,\n",
       "        6.04392946e-01,  7.22431481e-01, -4.35876608e-01, -7.88754582e-01,\n",
       "        1.33845717e-01,  1.27253890e+00, -9.39184546e-01,  5.88623285e-02,\n",
       "        3.33906889e-01, -1.11525702e+00, -1.33737773e-02,  6.81185365e-01,\n",
       "       -4.63211447e-01,  1.99431822e-01,  1.24938762e+00,  3.54571283e-01,\n",
       "        4.12486255e-01,  6.58278465e-01, -1.23513854e+00,  3.69384944e-01,\n",
       "        2.40276799e-01,  9.70511556e-01, -4.66855496e-01, -4.65323806e-01,\n",
       "       -9.62988213e-02,  1.05506197e-01,  5.86445689e-01,  1.83770686e-01,\n",
       "        3.06515336e-01, -4.14025277e-01, -9.79043767e-02,  4.28903162e-01,\n",
       "        2.68781841e-01, -5.24187423e-02,  9.11592007e-01, -6.17210940e-03,\n",
       "       -4.68842000e-01, -2.47338757e-01,  3.74823362e-01, -6.51901737e-02,\n",
       "        7.94915497e-01,  5.10932863e-01, -1.75062180e-01,  6.15643859e-01,\n",
       "       -2.63783634e-01,  6.60014451e-01, -1.19072065e-01, -3.13229620e-01,\n",
       "        2.86660433e-01, -2.51145571e-01, -2.39594430e-01,  2.09433571e-01,\n",
       "        6.26383483e-01, -2.47833937e-01, -9.86366197e-02, -2.24935282e-02,\n",
       "        6.09629095e-01,  5.61242104e-01,  8.83642361e-02, -5.78884244e-01,\n",
       "       -1.92803478e+00, -8.56659934e-03, -1.04772198e+00,  1.57839850e-01,\n",
       "        4.54614848e-01,  2.99321204e-01, -4.60983455e-01,  1.03220887e-01,\n",
       "       -2.63276935e-01, -1.90672547e-01, -1.12246859e+00, -1.18675864e+00,\n",
       "       -6.26985252e-01,  1.13376595e-01,  4.19786610e-02, -5.24546802e-01,\n",
       "        4.64398623e-01, -4.59734127e-02, -9.92661938e-02, -1.33591056e+00,\n",
       "        5.07851362e-01, -8.47736120e-01,  4.15104002e-01, -4.92142111e-01,\n",
       "        2.81898469e-01, -2.91298717e-01,  5.54811418e-01,  2.33652025e-01,\n",
       "       -2.06428170e-01,  4.48663086e-01,  4.39349979e-01,  5.04536748e-01,\n",
       "       -2.65106857e-01, -1.12117243e+00, -5.34562051e-01,  1.88360870e-01,\n",
       "       -7.24255979e-01, -3.01366121e-01, -1.24441586e-01,  5.64536512e-01,\n",
       "       -7.14073420e-01, -1.29915386e-01,  8.82522389e-03,  1.50247049e+00,\n",
       "       -7.29220986e-01,  1.83679700e-01,  1.40086919e-01, -9.25352514e-01,\n",
       "        1.07881081e+00, -8.34339201e-01, -1.22332014e-01, -3.73834372e-03,\n",
       "        4.75067645e-01,  1.20912939e-01, -3.10169727e-01,  1.14649332e+00,\n",
       "       -9.85844851e-01, -8.83945048e-01, -1.00531089e+00,  1.05806398e+00,\n",
       "        5.51023781e-01,  8.32092166e-01, -1.81134328e-01,  7.00767517e-01,\n",
       "       -8.92908990e-01,  2.83140451e-01, -4.86171246e-01, -5.20974100e-01,\n",
       "       -1.78520977e-02, -8.28763783e-01,  8.73052329e-02, -2.97071338e-01,\n",
       "       -1.18979588e-01,  1.18222170e-01, -4.44435716e-01,  2.92927474e-01,\n",
       "        6.58652335e-02, -3.18534732e-01, -7.51777232e-01,  7.66226232e-01,\n",
       "       -1.35802329e-01, -4.71585184e-01,  6.10405385e-01, -9.15966213e-01,\n",
       "        1.16675186e+00, -4.39388722e-01,  4.88331169e-02, -2.94889212e-01,\n",
       "        5.36690474e-01, -9.57578361e-01, -6.32634982e-02, -4.69560921e-01],\n",
       "      dtype=float32)"
      ]
     },
     "execution_count": 13,
     "metadata": {},
     "output_type": "execute_result"
    }
   ],
   "source": [
    "love_embedding.detach().numpy()"
   ]
  },
  {
   "cell_type": "code",
   "execution_count": 14,
   "id": "a905c019-7ddf-4ae3-8933-c47e531b0617",
   "metadata": {},
   "outputs": [],
   "source": [
    "# love_embedding"
   ]
  },
  {
   "cell_type": "code",
   "execution_count": 15,
   "id": "dc3c6a44-c388-4109-9953-6af38b0a7999",
   "metadata": {},
   "outputs": [],
   "source": [
    "# x = [love_embedding.detach().numpy(), hate_embedding.detach().numpy()]\n",
    "# from sklearn.decomposition import PCA\n",
    "# pca = PCA(n_components=2)\n",
    "# principalComponents = pca.fit_transform(x)\n",
    "# principalDf = pd.DataFrame(data = principalComponents\n",
    "#              , columns = ['principal component 1', 'principal component 2'])"
   ]
  },
  {
   "cell_type": "code",
   "execution_count": 16,
   "id": "80b1e707-0860-43ed-80cc-adffba5eb1b7",
   "metadata": {},
   "outputs": [],
   "source": [
    "# principalDf"
   ]
  },
  {
   "cell_type": "code",
   "execution_count": 17,
   "id": "4341b339-cb39-4b01-81a9-0e750c6d72ec",
   "metadata": {},
   "outputs": [],
   "source": [
    "# TODO: check for correct embedding\n",
    "# TODO: make sure pca is working the way its supposed to be\n",
    "# TODO: make good visuals (categories)"
   ]
  },
  {
   "cell_type": "code",
   "execution_count": 18,
   "id": "59f8451e-5b9d-4d31-9c01-77eaa92b8cb0",
   "metadata": {},
   "outputs": [
    {
     "data": {
      "text/plain": [
       "array([[0.7019417]], dtype=float32)"
      ]
     },
     "execution_count": 18,
     "metadata": {},
     "output_type": "execute_result"
    }
   ],
   "source": [
    "cosine_similarity(love_embedding.detach().numpy().reshape(1,-1), hate_embedding.detach().numpy().reshape(1, -1))"
   ]
  },
  {
   "cell_type": "markdown",
   "id": "b99b6f46-a0b2-4156-8099-ab05da70675e",
   "metadata": {},
   "source": [
    "# Smaller Example"
   ]
  },
  {
   "cell_type": "code",
   "execution_count": 19,
   "id": "d22075b8-aeb9-4923-98a4-21a77e1ded4d",
   "metadata": {},
   "outputs": [],
   "source": [
    "data = pd.read_csv('./words.csv')"
   ]
  },
  {
   "cell_type": "code",
   "execution_count": 20,
   "id": "1582b65c-665a-4f5e-a55e-2a11059fdaa4",
   "metadata": {},
   "outputs": [
    {
     "data": {
      "text/html": [
       "<div>\n",
       "<style scoped>\n",
       "    .dataframe tbody tr th:only-of-type {\n",
       "        vertical-align: middle;\n",
       "    }\n",
       "\n",
       "    .dataframe tbody tr th {\n",
       "        vertical-align: top;\n",
       "    }\n",
       "\n",
       "    .dataframe thead th {\n",
       "        text-align: right;\n",
       "    }\n",
       "</style>\n",
       "<table border=\"1\" class=\"dataframe\">\n",
       "  <thead>\n",
       "    <tr style=\"text-align: right;\">\n",
       "      <th></th>\n",
       "      <th>word</th>\n",
       "      <th>label</th>\n",
       "    </tr>\n",
       "  </thead>\n",
       "  <tbody>\n",
       "    <tr>\n",
       "      <th>0</th>\n",
       "      <td>loved</td>\n",
       "      <td>positive</td>\n",
       "    </tr>\n",
       "    <tr>\n",
       "      <th>1</th>\n",
       "      <td>terrific</td>\n",
       "      <td>positive</td>\n",
       "    </tr>\n",
       "    <tr>\n",
       "      <th>2</th>\n",
       "      <td>admired</td>\n",
       "      <td>positive</td>\n",
       "    </tr>\n",
       "    <tr>\n",
       "      <th>3</th>\n",
       "      <td>jolly</td>\n",
       "      <td>positive</td>\n",
       "    </tr>\n",
       "    <tr>\n",
       "      <th>4</th>\n",
       "      <td>brave</td>\n",
       "      <td>positive</td>\n",
       "    </tr>\n",
       "  </tbody>\n",
       "</table>\n",
       "</div>"
      ],
      "text/plain": [
       "       word     label\n",
       "0     loved  positive\n",
       "1  terrific  positive\n",
       "2   admired  positive\n",
       "3     jolly  positive\n",
       "4     brave  positive"
      ]
     },
     "execution_count": 20,
     "metadata": {},
     "output_type": "execute_result"
    }
   ],
   "source": [
    "data.head()"
   ]
  },
  {
   "cell_type": "code",
   "execution_count": 21,
   "id": "bb122673-5a55-44fb-8b11-79c8c73aa0ac",
   "metadata": {},
   "outputs": [],
   "source": [
    "encoded_data = [tokenizer(i, return_tensors='pt') for i in data.word]"
   ]
  },
  {
   "cell_type": "code",
   "execution_count": 22,
   "id": "79faeef2-435f-480d-88db-fb31af4fee8c",
   "metadata": {},
   "outputs": [],
   "source": [
    "word_embeddings = [model(**i) for i in encoded_data]"
   ]
  },
  {
   "cell_type": "code",
   "execution_count": 23,
   "id": "8c7ef588-d374-49b6-9599-7fffb40fe2f8",
   "metadata": {},
   "outputs": [],
   "source": [
    "embeddings = [i.last_hidden_state for i in word_embeddings]"
   ]
  },
  {
   "cell_type": "code",
   "execution_count": 24,
   "id": "ffdad094-4b12-49e4-9cc9-2388812b5809",
   "metadata": {},
   "outputs": [],
   "source": [
    "embeddings = [i[0][1]for i in embeddings]"
   ]
  },
  {
   "cell_type": "code",
   "execution_count": 25,
   "id": "8cce1c06-9584-44dc-9bd6-b46bb2dddd77",
   "metadata": {},
   "outputs": [],
   "source": [
    "embeddings = [i.detach().numpy() for i in embeddings]"
   ]
  },
  {
   "cell_type": "code",
   "execution_count": 26,
   "id": "c15d2623-d736-45d4-a5c3-82481918d6f3",
   "metadata": {},
   "outputs": [],
   "source": [
    "data['word_embeddings'] = embeddings"
   ]
  },
  {
   "cell_type": "code",
   "execution_count": 27,
   "id": "5004c145-6e9e-4683-8bf8-09eb0d7777e5",
   "metadata": {},
   "outputs": [
    {
     "data": {
      "text/html": [
       "<div>\n",
       "<style scoped>\n",
       "    .dataframe tbody tr th:only-of-type {\n",
       "        vertical-align: middle;\n",
       "    }\n",
       "\n",
       "    .dataframe tbody tr th {\n",
       "        vertical-align: top;\n",
       "    }\n",
       "\n",
       "    .dataframe thead th {\n",
       "        text-align: right;\n",
       "    }\n",
       "</style>\n",
       "<table border=\"1\" class=\"dataframe\">\n",
       "  <thead>\n",
       "    <tr style=\"text-align: right;\">\n",
       "      <th></th>\n",
       "      <th>word</th>\n",
       "      <th>label</th>\n",
       "      <th>word_embeddings</th>\n",
       "    </tr>\n",
       "  </thead>\n",
       "  <tbody>\n",
       "    <tr>\n",
       "      <th>0</th>\n",
       "      <td>loved</td>\n",
       "      <td>positive</td>\n",
       "      <td>[0.5129337, -0.04044947, 0.42860067, -0.150437...</td>\n",
       "    </tr>\n",
       "    <tr>\n",
       "      <th>1</th>\n",
       "      <td>terrific</td>\n",
       "      <td>positive</td>\n",
       "      <td>[0.33330074, -0.20869645, -0.1652221, -0.06318...</td>\n",
       "    </tr>\n",
       "    <tr>\n",
       "      <th>2</th>\n",
       "      <td>admired</td>\n",
       "      <td>positive</td>\n",
       "      <td>[-0.25650117, 0.022439487, 0.25480837, -0.0880...</td>\n",
       "    </tr>\n",
       "    <tr>\n",
       "      <th>3</th>\n",
       "      <td>jolly</td>\n",
       "      <td>positive</td>\n",
       "      <td>[-0.22022378, -0.20243269, 0.10135959, -0.3264...</td>\n",
       "    </tr>\n",
       "    <tr>\n",
       "      <th>4</th>\n",
       "      <td>brave</td>\n",
       "      <td>positive</td>\n",
       "      <td>[-0.08306722, -0.11899652, -0.46022692, -0.438...</td>\n",
       "    </tr>\n",
       "  </tbody>\n",
       "</table>\n",
       "</div>"
      ],
      "text/plain": [
       "       word     label                                    word_embeddings\n",
       "0     loved  positive  [0.5129337, -0.04044947, 0.42860067, -0.150437...\n",
       "1  terrific  positive  [0.33330074, -0.20869645, -0.1652221, -0.06318...\n",
       "2   admired  positive  [-0.25650117, 0.022439487, 0.25480837, -0.0880...\n",
       "3     jolly  positive  [-0.22022378, -0.20243269, 0.10135959, -0.3264...\n",
       "4     brave  positive  [-0.08306722, -0.11899652, -0.46022692, -0.438..."
      ]
     },
     "execution_count": 27,
     "metadata": {},
     "output_type": "execute_result"
    }
   ],
   "source": [
    "data.head()"
   ]
  },
  {
   "cell_type": "code",
   "execution_count": 28,
   "id": "8f5b4f48-1234-4d3e-831b-105cb724b2ce",
   "metadata": {},
   "outputs": [
    {
     "ename": "ValueError",
     "evalue": "Expected 2D array, got 1D array instead:\narray=[ 5.12933671e-01 -4.04494703e-02  4.28600669e-01 -1.50437713e-01\n  5.98833919e-01 -2.60287732e-01 -2.55768955e-01  2.31729180e-01\n -1.28768742e-01 -4.40201700e-01 -4.35024559e-01 -1.35052696e-01\n  3.66497844e-01  3.84953260e-01 -6.66765496e-02 -4.59771425e-01\n  6.94475472e-01  2.01599181e-01  1.56774640e-01  3.24878395e-01\n -3.57671857e-01 -3.12994182e-01 -1.71503406e-02  4.83586699e-01\n -1.60917059e-01  5.59099019e-01  1.27299488e-01 -7.97542453e-01\n -3.52591068e-01  7.48579502e-02  3.74910146e-01  4.19843704e-01\n  3.63458842e-02  4.56020236e-01 -1.18122268e+00 -6.27494156e-01\n -9.80293751e-03  4.53804791e-01 -9.61209834e-01  3.79404366e-01\n  5.11432290e-01 -5.42760789e-01  1.54395297e-01 -4.02409226e-01\n  4.33666110e-02  9.94343609e-02  4.87955272e-01  5.32624781e-01\n  8.39419067e-01 -5.98043680e-01 -1.44434333e-01  4.06861305e-02\n  5.62063456e-01  6.33462667e-02 -3.49864781e-01 -1.51846275e-01\n  3.46412599e-01 -8.83655772e-02 -7.84427881e-01 -2.86246359e-01\n  1.35691613e-01 -1.66848049e-01  4.57919836e-01  3.47529382e-01\n -7.43703023e-02  8.67384553e-01  8.01276207e-01  1.44913629e-01\n -5.81436157e-01 -4.71982449e-01  6.26222014e-01 -3.42799008e-01\n  1.40800804e-01 -1.00005828e-02 -2.52987981e-01 -2.06984639e-01\n -4.40453649e-01 -2.07825422e-01  2.55525976e-01 -2.68116325e-01\n -4.12564784e-01  4.70748097e-01 -5.14730692e-01  3.84356081e-01\n  2.10066214e-02 -3.27551961e-01 -6.86654672e-02  2.64459014e-01\n -1.52181238e-01 -3.90829965e-02  7.66639933e-02 -2.40184844e-01\n -8.87616277e-02 -3.06602687e-01 -7.78946728e-02 -6.86707050e-02\n -2.97818214e-01  8.80278721e-02 -2.59337097e-01 -7.73579657e-01\n -8.78453434e-01 -5.63112617e-01 -1.09479830e-01 -3.75083536e-01\n -9.55475986e-01  7.24299997e-02  1.46190122e-01 -1.90467238e-01\n -1.69384569e-01 -1.04837373e-01 -4.81619388e-02 -4.72420663e-01\n  1.07337095e-01 -2.41881981e-03 -2.88776428e-01  1.11352897e+00\n -3.15022737e-01  1.31244406e-01 -3.05831581e-01  3.84849936e-01\n -1.32084697e-01 -5.35196543e-01  2.38984749e-01  3.99498999e-01\n  5.34487724e-01  5.45599014e-02 -3.78365219e-01 -2.11076319e-01\n -6.04432821e-01 -1.66643605e-01  6.30128264e-01  6.88773870e-01\n -1.01385243e-01  2.31667772e-01 -1.54205859e-02 -5.94418049e-02\n -1.91290807e-02 -4.18463409e-01  2.35030800e-03 -2.44660929e-01\n  5.17113149e-01  9.63441014e-01  2.24329755e-01  2.83975959e-01\n -8.10800195e-02 -2.48141065e-02  2.39078343e-01 -5.65878525e-02\n -6.99245751e-01  2.55465001e-01  3.83002728e-01  1.05498366e-01\n -5.73751569e-01 -5.76227188e-01 -3.55489761e-01 -6.09291434e-01\n -2.61463728e-02  5.92480600e-01  4.21821862e-01  6.94637775e-01\n  4.75097388e-01  1.70219809e-01 -1.79418936e-01  2.34671921e-01\n -8.59501004e-01 -4.27163333e-01  2.29119211e-01  4.87957150e-01\n -6.07724003e-02 -3.07770491e-01  4.15220737e-01 -4.61331993e-01\n  1.12005842e+00  4.94177341e-01 -5.17767847e-01  3.82494360e-01\n  3.47597569e-01  2.54351109e-01  2.93480515e-01  3.00384045e-01\n -3.05737257e-01  3.96666646e-01 -3.29764903e-01 -4.55030024e-01\n  8.97295654e-01  2.71137327e-01  5.60071528e-01 -6.86027169e-01\n  3.99777114e-01  8.69227052e-01 -9.28263128e-01 -4.96208668e-02\n -8.23074043e-01  9.68717411e-02  4.60716635e-01 -7.78526604e-01\n  2.28450328e-01 -4.99233902e-01  4.47076529e-01 -7.59198964e-02\n  4.34507519e-01 -5.77037752e-01  3.23749125e-01  4.87492204e-01\n -1.39840037e-01  4.33636904e-01  5.43109417e-01 -5.11443019e-02\n  6.74826443e-01  2.17455149e-01 -4.65665534e-02  1.05219078e+00\n  3.02157283e-01  3.76703739e-01  3.40603501e-01 -5.65921128e-01\n  4.26287472e-01  9.79658663e-02 -3.01099658e-01  1.12648809e+00\n  4.57260549e-01 -3.90263528e-01 -7.20336065e-02  5.35569966e-01\n -1.13588691e+00 -1.57432333e-02  3.69659036e-01 -7.85107613e-01\n  1.59976289e-01  1.71068013e-01 -7.11141646e-01 -1.09677064e+00\n -2.85410509e-02 -1.44858241e-01 -2.07021490e-01  8.32714915e-01\n  8.56732279e-02 -3.99885863e-01 -2.02792406e-01 -2.65741609e-02\n -1.99268505e-01 -2.25405857e-01  1.02429175e+00  6.11688197e-01\n -3.95426393e-01  2.43532583e-01  5.77141523e-01 -2.47888088e-01\n  1.12345971e-01  3.45257550e-01 -2.81066388e-01 -9.30314720e-01\n -1.70541301e-01  2.75653094e-01 -3.58952194e-01 -1.00265694e+00\n -2.61664968e-02 -4.28888083e-01  1.32103994e-01  6.32775664e-01\n -4.53502715e-01 -9.17538851e-02  1.16830742e+00 -7.03613579e-01\n -2.29915261e-01 -7.63633475e-02 -3.68772745e-02 -1.08401194e-01\n  2.26238117e-01  4.86418128e-01 -3.88874948e-01  9.10586715e-02\n  3.06035280e-01  6.40615344e-01  4.93088573e-01 -1.27437800e-01\n  7.92562068e-01  3.23194126e-03  3.96023184e-01 -5.33535719e-01\n  5.75380027e-01  1.14052564e-01 -7.70217299e-01 -1.49316609e-01\n  1.07277679e+00 -8.80312800e-01 -9.28697765e-01 -3.82402688e-01\n -3.18436027e-01 -7.02770233e-01 -4.75608468e-01  2.40428239e-01\n  1.71059787e-01 -6.29586577e-01  4.11840022e-01  1.45116076e-03\n -2.43853971e-01  7.72902966e-01  2.17030957e-01 -1.86472937e-01\n -7.35473990e-01  3.11501980e-01 -6.29355550e-01 -3.21244270e-01\n  6.41433120e-01 -2.97448725e-01 -3.48405480e-01  3.95936549e-01\n -4.61254168e+00  2.84775019e-01  8.59322846e-01 -4.05667275e-01\n  5.91058791e-01 -3.80095810e-01  1.68459401e-01  2.03819752e-01\n -3.56661230e-02  2.29188785e-01  1.27379727e+00 -4.94014472e-01\n  6.97677255e-01  1.53411031e-01  5.82787514e-01 -9.95114923e-01\n  2.68418580e-01 -8.42778027e-01 -7.28563428e-01  5.20683289e-01\n -1.96496725e-01 -2.57649541e-01  1.86668113e-01 -5.58488905e-01\n -8.43719542e-02  8.72419178e-01  4.98662055e-01  5.02581954e-01\n -9.10484672e-01 -4.26128596e-01 -2.57341117e-01  2.37212449e-01\n  3.08472514e-01  8.14691544e-01  4.61613208e-01 -6.98226616e-02\n  3.95820498e-01 -4.47055876e-01  1.31440330e+00  1.39856450e-02\n  4.40202892e-01 -3.40057999e-01 -2.36138016e-01  1.60544604e-01\n -3.48742381e-02  1.65550008e-01  2.94810921e-01 -2.86854029e-01\n  4.08348531e-01  2.27797464e-01  3.38037789e-01 -6.13851435e-02\n  1.76277906e-02 -1.46262318e-01 -8.02009627e-02  4.38546687e-01\n -3.72079790e-01  2.74289966e-01 -9.31939006e-01 -1.06020905e-01\n  3.29728365e-01  2.49848096e-03 -8.67396832e-01  7.34136343e-01\n -1.38134086e+00  2.68754959e-01 -8.49286914e-01 -9.59486544e-01\n -3.04688841e-01  5.77625751e-01 -4.65131402e-01  2.14253664e-01\n  1.80955715e-02 -1.29557264e+00 -8.75679076e-01  4.80553538e-01\n -8.97526264e-01 -4.27486002e-01  1.82185605e-01 -8.60465705e-01\n -3.78420740e-01  3.45373601e-01  5.83031356e-01  5.16564965e-01\n  3.90477836e-01 -3.58491838e-01  7.76806176e-01 -1.08953655e+00\n -2.80239820e-01  1.70805395e-01 -4.40623045e-01 -3.00956786e-01\n  4.59731281e-01  2.88589448e-01  7.55914807e-01  1.16164237e-02\n  4.99291003e-01 -1.59065276e-01  1.28273442e-01 -2.40518644e-01\n  7.29328871e-01 -3.03138979e-02 -3.15163851e-01  1.47882298e-01\n  3.41014683e-01  2.92495430e-01 -1.27246928e+00 -4.70473468e-01\n -1.23043790e-01  3.51558849e-02 -8.68584588e-02 -4.98234779e-01\n  3.40291679e-01  2.10337892e-01 -3.30738872e-01 -9.66942251e-01\n  5.89265704e-01  3.76242310e-01  4.27668452e-01  6.03537261e-01\n  1.12059124e-01  6.68345571e-01 -1.16538405e-02 -4.74352479e-01\n  3.02256346e-01  1.70716807e-01  3.93343359e-01 -4.13163662e-01\n -7.79198527e-01  6.38793528e-01  6.17781468e-02 -3.59554619e-01\n  5.57495892e-01  6.23106599e-01  1.14412241e-01 -2.58451343e-01\n  9.89412367e-02 -7.53885031e-01 -2.32598707e-02  6.34338796e-01\n -8.11254978e-03 -1.77592620e-01 -7.58842230e-01 -1.22827813e-01\n  2.95650780e-01  4.40938056e-01  3.79443690e-02  3.93517613e-01\n  2.38648981e-01  1.90805897e-01  4.57252562e-01  6.33709133e-03\n  5.63149869e-01  7.63238847e-01 -4.53546345e-01 -4.57153797e-01\n  7.67175183e-02 -3.05840403e-01 -6.18213713e-01 -6.87226176e-01\n -5.92377067e-01 -8.82776827e-03  3.52041908e-02  1.01274863e-01\n  7.92041481e-01  9.46932435e-01  1.05614208e-01 -2.74127722e-02\n -7.99231768e-01  1.04998279e+00  1.24909282e+00 -5.82828104e-01\n  2.25789413e-01  6.51616812e-01 -3.54142994e-01  3.17157477e-01\n -3.37006360e-01 -5.36041379e-01  3.78572121e-02 -3.11691493e-01\n -5.00235915e-01 -8.13928843e-02 -8.49039555e-02 -4.24579054e-01\n  1.02239156e+00  9.77855027e-02 -7.40454018e-01 -3.73294614e-02\n -1.97222590e-01  1.28353369e+00  5.12410164e-01 -1.02616929e-01\n -5.96504986e-01 -4.18332636e-01 -6.56974673e-01 -5.79377413e-01\n  5.24200916e-01 -3.16063344e-01  3.54023367e-01  3.49422097e-01\n -3.37412447e-01 -3.59863490e-01  3.45580131e-02 -2.28115529e-01\n -1.34698860e-02  1.73784047e-02  5.58991991e-02  3.87266397e-01\n  1.50888711e-01  2.52561420e-01 -3.43022138e-01 -2.34526783e-01\n  2.06570439e-02 -1.54995859e-01  1.04667768e-01  1.07071793e+00\n  1.10101211e+00  1.32637709e-01 -1.16708070e-01 -4.26122963e-01\n -1.72931507e-01 -2.76589066e-01 -2.84444034e-01 -6.21544957e-01\n  1.73977599e-01  3.70791078e-01 -8.07655036e-01 -1.09793556e+00\n  2.39560425e-01 -5.87669984e-02 -1.31992534e-01 -3.28958213e-01\n  6.61825180e-01  4.31294292e-02  5.81799030e-01 -6.60558164e-01\n -4.15903404e-02 -4.57760468e-02 -1.18829377e-01 -9.59450543e-01\n  7.62775540e-01 -7.14833856e-01 -9.10626113e-01 -1.54781900e-02\n -1.49713784e-01  1.18707418e+00 -6.06501810e-02 -3.76764774e-01\n  1.43980134e+00  8.63747954e-01 -4.41631526e-01  1.61868438e-01\n  9.47795585e-02 -3.98130357e-01  3.39394689e-01 -1.39402723e+00\n -4.35567200e-01  1.04638085e-01  1.12131134e-01 -1.65186487e-02\n -3.68193805e-01  1.00259042e+00  4.32026446e-01  5.13447642e-01\n  1.15219772e-01  8.99373353e-01  2.24516883e-01  1.52465925e-01\n  1.23617023e-01  4.60949272e-01 -4.77807134e-01  3.67598593e-01\n -4.66076918e-02  3.79965991e-01 -2.14887351e-01  7.65706480e-01\n  7.95471966e-02 -4.04123068e-01 -2.66888291e-01 -1.25544235e-01\n -4.34247881e-01  1.29646969e+00 -6.23542190e-01 -6.12822533e-01\n  2.52187699e-01 -5.99652648e-01 -5.15077055e-01 -2.78166831e-01\n -4.12143499e-01 -1.67502046e-01  6.67230114e-02 -2.78544780e-02\n -4.31731418e-02  4.43149269e-01  2.72741914e-01  2.40888447e-01\n -1.11035275e+00  7.01439604e-02 -1.07367940e-01  3.01537126e-01\n -2.95875609e-01 -1.27834886e-01  6.47696257e-01 -4.94257927e-01\n  2.18715191e-01  1.17393804e+00  2.06638128e-01  7.89432004e-02\n  3.81069034e-01  1.01638508e+00 -7.93700039e-01 -6.33347750e-01\n -1.08860396e-02  6.00531876e-01 -1.14022303e+00 -6.26958609e-02\n  1.12994045e-01 -1.13890004e+00 -6.08063228e-02  4.32029702e-02\n  3.99942309e-01 -6.72173023e-01  8.42102647e-01  5.52955568e-01\n  6.77335918e-01  4.74832505e-01 -7.22630739e-01  4.33153138e-02\n  3.18499804e-01  9.80105042e-01  1.89450309e-01 -4.08273101e-01\n  1.17007606e-01  1.64739683e-01  5.63013494e-01 -1.07799359e-01\n  2.25554124e-01 -4.32767630e-01 -2.10515648e-01  1.70817822e-02\n  6.16577044e-02  1.16833583e-01  1.02989018e+00  4.92637932e-01\n -2.77303368e-01  3.09838951e-01  6.07581794e-01 -8.10280502e-01\n  3.98640126e-01  1.55343771e-01 -3.05063333e-02  2.74370369e-02\n -2.12317616e-01  3.61644775e-01  1.60003632e-01 -1.55728206e-01\n -5.36358833e-01  5.93111813e-02 -3.48706096e-01 -1.60434783e-01\n -7.26325065e-03 -4.07579780e-01  3.20038348e-01 -2.66153514e-01\n  3.43261123e-01 -1.70757115e-01  2.94186473e-01 -6.69326842e-01\n -8.60928118e-01 -7.40028501e-01 -2.24366933e-01  2.51064181e-01\n  2.37918317e-01 -3.66858393e-02 -2.69435108e-01  2.99598783e-01\n  2.06148893e-01  2.28850365e-01 -1.01585603e+00 -8.24298084e-01\n -8.94652128e-01 -4.40630585e-01  1.13324769e-01 -4.89778966e-01\n  1.15498948e+00 -2.58722633e-01  1.60291165e-01 -8.60949755e-01\n  3.25785637e-01 -7.66226768e-01  4.62861568e-01 -5.94781756e-01\n -6.05830610e-01 -6.40693069e-01  1.79989427e-01  4.10685271e-01\n -6.64625466e-02 -8.52078423e-02  5.88375404e-02  5.65281630e-01\n  6.91178381e-01 -6.22421682e-01  1.00032814e-01 -5.50339743e-03\n -8.54023159e-01 -4.93540615e-02  8.28523859e-02  3.08802668e-02\n -5.10432839e-01  1.14689976e-01 -3.99637014e-01  7.00508177e-01\n -1.82755619e-01  8.36236894e-01 -1.66774482e-01 -2.80565172e-01\n  3.58185589e-01 -3.78672302e-01  4.75341171e-01 -9.75057781e-02\n -4.87916082e-01  4.17303056e-01 -2.18723372e-01  5.45372486e-01\n -7.68883288e-01 -5.30806184e-01 -8.05106938e-01  3.81475538e-01\n  2.97902197e-01  2.03572452e-01 -4.10940379e-01  5.11486471e-01\n -3.23234499e-01 -1.82689190e-01 -2.59559780e-01 -6.01624191e-01\n  2.62534201e-01 -5.71803570e-01 -1.16124168e-01 -2.99959093e-01\n -1.70590132e-02 -4.84220147e-01 -4.91524637e-01  1.77528579e-02\n  2.36277729e-01 -3.33239675e-01 -6.35188103e-01 -2.27520779e-01\n -1.50793940e-01 -4.04518545e-01  6.63518071e-01 -8.43784139e-02\n  3.95258605e-01  2.70296365e-01 -1.50385365e-01 -3.36963475e-01\n -5.84517159e-02 -3.59085172e-01  3.49629939e-01  1.64651349e-01].\nReshape your data either using array.reshape(-1, 1) if your data has a single feature or array.reshape(1, -1) if it contains a single sample.",
     "output_type": "error",
     "traceback": [
      "\u001b[0;31m---------------------------------------------------------------------------\u001b[0m",
      "\u001b[0;31mValueError\u001b[0m                                Traceback (most recent call last)",
      "Input \u001b[0;32mIn [28]\u001b[0m, in \u001b[0;36m<cell line: 2>\u001b[0;34m()\u001b[0m\n\u001b[1;32m      1\u001b[0m p_c_a \u001b[38;5;241m=\u001b[39m PCA(n_components\u001b[38;5;241m=\u001b[39m\u001b[38;5;241m2\u001b[39m)\n\u001b[0;32m----> 2\u001b[0m principal_components \u001b[38;5;241m=\u001b[39m \u001b[43mp_c_a\u001b[49m\u001b[38;5;241;43m.\u001b[39;49m\u001b[43mfit_transform\u001b[49m\u001b[43m(\u001b[49m\u001b[43mdata\u001b[49m\u001b[38;5;241;43m.\u001b[39;49m\u001b[43mword_embeddings\u001b[49m\u001b[43m[\u001b[49m\u001b[38;5;241;43m0\u001b[39;49m\u001b[43m]\u001b[49m\u001b[43m,\u001b[49m\u001b[43m \u001b[49m\u001b[43mdata\u001b[49m\u001b[38;5;241;43m.\u001b[39;49m\u001b[43mword_embeddings\u001b[49m\u001b[43m[\u001b[49m\u001b[38;5;241;43m1\u001b[39;49m\u001b[43m]\u001b[49m\u001b[43m)\u001b[49m\n\u001b[1;32m      3\u001b[0m principal_df \u001b[38;5;241m=\u001b[39m pd\u001b[38;5;241m.\u001b[39mDataFrame(data \u001b[38;5;241m=\u001b[39m principal_components, columns\u001b[38;5;241m=\u001b[39m[\u001b[38;5;124m'\u001b[39m\u001b[38;5;124mpc_one\u001b[39m\u001b[38;5;124m'\u001b[39m, \u001b[38;5;124m'\u001b[39m\u001b[38;5;124mpc_2\u001b[39m\u001b[38;5;124m'\u001b[39m])\n",
      "File \u001b[0;32m~/git-repos/notebooks/book_genre_detection/env/lib/python3.9/site-packages/sklearn/decomposition/_pca.py:407\u001b[0m, in \u001b[0;36mPCA.fit_transform\u001b[0;34m(self, X, y)\u001b[0m\n\u001b[1;32m    385\u001b[0m \u001b[38;5;28;01mdef\u001b[39;00m \u001b[38;5;21mfit_transform\u001b[39m(\u001b[38;5;28mself\u001b[39m, X, y\u001b[38;5;241m=\u001b[39m\u001b[38;5;28;01mNone\u001b[39;00m):\n\u001b[1;32m    386\u001b[0m     \u001b[38;5;124;03m\"\"\"Fit the model with X and apply the dimensionality reduction on X.\u001b[39;00m\n\u001b[1;32m    387\u001b[0m \n\u001b[1;32m    388\u001b[0m \u001b[38;5;124;03m    Parameters\u001b[39;00m\n\u001b[0;32m   (...)\u001b[0m\n\u001b[1;32m    405\u001b[0m \u001b[38;5;124;03m    C-ordered array, use 'np.ascontiguousarray'.\u001b[39;00m\n\u001b[1;32m    406\u001b[0m \u001b[38;5;124;03m    \"\"\"\u001b[39;00m\n\u001b[0;32m--> 407\u001b[0m     U, S, Vt \u001b[38;5;241m=\u001b[39m \u001b[38;5;28;43mself\u001b[39;49m\u001b[38;5;241;43m.\u001b[39;49m\u001b[43m_fit\u001b[49m\u001b[43m(\u001b[49m\u001b[43mX\u001b[49m\u001b[43m)\u001b[49m\n\u001b[1;32m    408\u001b[0m     U \u001b[38;5;241m=\u001b[39m U[:, : \u001b[38;5;28mself\u001b[39m\u001b[38;5;241m.\u001b[39mn_components_]\n\u001b[1;32m    410\u001b[0m     \u001b[38;5;28;01mif\u001b[39;00m \u001b[38;5;28mself\u001b[39m\u001b[38;5;241m.\u001b[39mwhiten:\n\u001b[1;32m    411\u001b[0m         \u001b[38;5;66;03m# X_new = X * V / S * sqrt(n_samples) = U * sqrt(n_samples)\u001b[39;00m\n",
      "File \u001b[0;32m~/git-repos/notebooks/book_genre_detection/env/lib/python3.9/site-packages/sklearn/decomposition/_pca.py:430\u001b[0m, in \u001b[0;36mPCA._fit\u001b[0;34m(self, X)\u001b[0m\n\u001b[1;32m    424\u001b[0m \u001b[38;5;28;01mif\u001b[39;00m issparse(X):\n\u001b[1;32m    425\u001b[0m     \u001b[38;5;28;01mraise\u001b[39;00m \u001b[38;5;167;01mTypeError\u001b[39;00m(\n\u001b[1;32m    426\u001b[0m         \u001b[38;5;124m\"\u001b[39m\u001b[38;5;124mPCA does not support sparse input. See \u001b[39m\u001b[38;5;124m\"\u001b[39m\n\u001b[1;32m    427\u001b[0m         \u001b[38;5;124m\"\u001b[39m\u001b[38;5;124mTruncatedSVD for a possible alternative.\u001b[39m\u001b[38;5;124m\"\u001b[39m\n\u001b[1;32m    428\u001b[0m     )\n\u001b[0;32m--> 430\u001b[0m X \u001b[38;5;241m=\u001b[39m \u001b[38;5;28;43mself\u001b[39;49m\u001b[38;5;241;43m.\u001b[39;49m\u001b[43m_validate_data\u001b[49m\u001b[43m(\u001b[49m\n\u001b[1;32m    431\u001b[0m \u001b[43m    \u001b[49m\u001b[43mX\u001b[49m\u001b[43m,\u001b[49m\u001b[43m \u001b[49m\u001b[43mdtype\u001b[49m\u001b[38;5;241;43m=\u001b[39;49m\u001b[43m[\u001b[49m\u001b[43mnp\u001b[49m\u001b[38;5;241;43m.\u001b[39;49m\u001b[43mfloat64\u001b[49m\u001b[43m,\u001b[49m\u001b[43m \u001b[49m\u001b[43mnp\u001b[49m\u001b[38;5;241;43m.\u001b[39;49m\u001b[43mfloat32\u001b[49m\u001b[43m]\u001b[49m\u001b[43m,\u001b[49m\u001b[43m \u001b[49m\u001b[43mensure_2d\u001b[49m\u001b[38;5;241;43m=\u001b[39;49m\u001b[38;5;28;43;01mTrue\u001b[39;49;00m\u001b[43m,\u001b[49m\u001b[43m \u001b[49m\u001b[43mcopy\u001b[49m\u001b[38;5;241;43m=\u001b[39;49m\u001b[38;5;28;43mself\u001b[39;49m\u001b[38;5;241;43m.\u001b[39;49m\u001b[43mcopy\u001b[49m\n\u001b[1;32m    432\u001b[0m \u001b[43m\u001b[49m\u001b[43m)\u001b[49m\n\u001b[1;32m    434\u001b[0m \u001b[38;5;66;03m# Handle n_components==None\u001b[39;00m\n\u001b[1;32m    435\u001b[0m \u001b[38;5;28;01mif\u001b[39;00m \u001b[38;5;28mself\u001b[39m\u001b[38;5;241m.\u001b[39mn_components \u001b[38;5;129;01mis\u001b[39;00m \u001b[38;5;28;01mNone\u001b[39;00m:\n",
      "File \u001b[0;32m~/git-repos/notebooks/book_genre_detection/env/lib/python3.9/site-packages/sklearn/base.py:566\u001b[0m, in \u001b[0;36mBaseEstimator._validate_data\u001b[0;34m(self, X, y, reset, validate_separately, **check_params)\u001b[0m\n\u001b[1;32m    564\u001b[0m     \u001b[38;5;28;01mraise\u001b[39;00m \u001b[38;5;167;01mValueError\u001b[39;00m(\u001b[38;5;124m\"\u001b[39m\u001b[38;5;124mValidation should be done on X, y or both.\u001b[39m\u001b[38;5;124m\"\u001b[39m)\n\u001b[1;32m    565\u001b[0m \u001b[38;5;28;01melif\u001b[39;00m \u001b[38;5;129;01mnot\u001b[39;00m no_val_X \u001b[38;5;129;01mand\u001b[39;00m no_val_y:\n\u001b[0;32m--> 566\u001b[0m     X \u001b[38;5;241m=\u001b[39m \u001b[43mcheck_array\u001b[49m\u001b[43m(\u001b[49m\u001b[43mX\u001b[49m\u001b[43m,\u001b[49m\u001b[43m \u001b[49m\u001b[38;5;241;43m*\u001b[39;49m\u001b[38;5;241;43m*\u001b[39;49m\u001b[43mcheck_params\u001b[49m\u001b[43m)\u001b[49m\n\u001b[1;32m    567\u001b[0m     out \u001b[38;5;241m=\u001b[39m X\n\u001b[1;32m    568\u001b[0m \u001b[38;5;28;01melif\u001b[39;00m no_val_X \u001b[38;5;129;01mand\u001b[39;00m \u001b[38;5;129;01mnot\u001b[39;00m no_val_y:\n",
      "File \u001b[0;32m~/git-repos/notebooks/book_genre_detection/env/lib/python3.9/site-packages/sklearn/utils/validation.py:769\u001b[0m, in \u001b[0;36mcheck_array\u001b[0;34m(array, accept_sparse, accept_large_sparse, dtype, order, copy, force_all_finite, ensure_2d, allow_nd, ensure_min_samples, ensure_min_features, estimator)\u001b[0m\n\u001b[1;32m    767\u001b[0m     \u001b[38;5;66;03m# If input is 1D raise error\u001b[39;00m\n\u001b[1;32m    768\u001b[0m     \u001b[38;5;28;01mif\u001b[39;00m array\u001b[38;5;241m.\u001b[39mndim \u001b[38;5;241m==\u001b[39m \u001b[38;5;241m1\u001b[39m:\n\u001b[0;32m--> 769\u001b[0m         \u001b[38;5;28;01mraise\u001b[39;00m \u001b[38;5;167;01mValueError\u001b[39;00m(\n\u001b[1;32m    770\u001b[0m             \u001b[38;5;124m\"\u001b[39m\u001b[38;5;124mExpected 2D array, got 1D array instead:\u001b[39m\u001b[38;5;130;01m\\n\u001b[39;00m\u001b[38;5;124marray=\u001b[39m\u001b[38;5;132;01m{}\u001b[39;00m\u001b[38;5;124m.\u001b[39m\u001b[38;5;130;01m\\n\u001b[39;00m\u001b[38;5;124m\"\u001b[39m\n\u001b[1;32m    771\u001b[0m             \u001b[38;5;124m\"\u001b[39m\u001b[38;5;124mReshape your data either using array.reshape(-1, 1) if \u001b[39m\u001b[38;5;124m\"\u001b[39m\n\u001b[1;32m    772\u001b[0m             \u001b[38;5;124m\"\u001b[39m\u001b[38;5;124myour data has a single feature or array.reshape(1, -1) \u001b[39m\u001b[38;5;124m\"\u001b[39m\n\u001b[1;32m    773\u001b[0m             \u001b[38;5;124m\"\u001b[39m\u001b[38;5;124mif it contains a single sample.\u001b[39m\u001b[38;5;124m\"\u001b[39m\u001b[38;5;241m.\u001b[39mformat(array)\n\u001b[1;32m    774\u001b[0m         )\n\u001b[1;32m    776\u001b[0m \u001b[38;5;66;03m# make sure we actually converted to numeric:\u001b[39;00m\n\u001b[1;32m    777\u001b[0m \u001b[38;5;28;01mif\u001b[39;00m dtype_numeric \u001b[38;5;129;01mand\u001b[39;00m array\u001b[38;5;241m.\u001b[39mdtype\u001b[38;5;241m.\u001b[39mkind \u001b[38;5;129;01min\u001b[39;00m \u001b[38;5;124m\"\u001b[39m\u001b[38;5;124mOUSV\u001b[39m\u001b[38;5;124m\"\u001b[39m:\n",
      "\u001b[0;31mValueError\u001b[0m: Expected 2D array, got 1D array instead:\narray=[ 5.12933671e-01 -4.04494703e-02  4.28600669e-01 -1.50437713e-01\n  5.98833919e-01 -2.60287732e-01 -2.55768955e-01  2.31729180e-01\n -1.28768742e-01 -4.40201700e-01 -4.35024559e-01 -1.35052696e-01\n  3.66497844e-01  3.84953260e-01 -6.66765496e-02 -4.59771425e-01\n  6.94475472e-01  2.01599181e-01  1.56774640e-01  3.24878395e-01\n -3.57671857e-01 -3.12994182e-01 -1.71503406e-02  4.83586699e-01\n -1.60917059e-01  5.59099019e-01  1.27299488e-01 -7.97542453e-01\n -3.52591068e-01  7.48579502e-02  3.74910146e-01  4.19843704e-01\n  3.63458842e-02  4.56020236e-01 -1.18122268e+00 -6.27494156e-01\n -9.80293751e-03  4.53804791e-01 -9.61209834e-01  3.79404366e-01\n  5.11432290e-01 -5.42760789e-01  1.54395297e-01 -4.02409226e-01\n  4.33666110e-02  9.94343609e-02  4.87955272e-01  5.32624781e-01\n  8.39419067e-01 -5.98043680e-01 -1.44434333e-01  4.06861305e-02\n  5.62063456e-01  6.33462667e-02 -3.49864781e-01 -1.51846275e-01\n  3.46412599e-01 -8.83655772e-02 -7.84427881e-01 -2.86246359e-01\n  1.35691613e-01 -1.66848049e-01  4.57919836e-01  3.47529382e-01\n -7.43703023e-02  8.67384553e-01  8.01276207e-01  1.44913629e-01\n -5.81436157e-01 -4.71982449e-01  6.26222014e-01 -3.42799008e-01\n  1.40800804e-01 -1.00005828e-02 -2.52987981e-01 -2.06984639e-01\n -4.40453649e-01 -2.07825422e-01  2.55525976e-01 -2.68116325e-01\n -4.12564784e-01  4.70748097e-01 -5.14730692e-01  3.84356081e-01\n  2.10066214e-02 -3.27551961e-01 -6.86654672e-02  2.64459014e-01\n -1.52181238e-01 -3.90829965e-02  7.66639933e-02 -2.40184844e-01\n -8.87616277e-02 -3.06602687e-01 -7.78946728e-02 -6.86707050e-02\n -2.97818214e-01  8.80278721e-02 -2.59337097e-01 -7.73579657e-01\n -8.78453434e-01 -5.63112617e-01 -1.09479830e-01 -3.75083536e-01\n -9.55475986e-01  7.24299997e-02  1.46190122e-01 -1.90467238e-01\n -1.69384569e-01 -1.04837373e-01 -4.81619388e-02 -4.72420663e-01\n  1.07337095e-01 -2.41881981e-03 -2.88776428e-01  1.11352897e+00\n -3.15022737e-01  1.31244406e-01 -3.05831581e-01  3.84849936e-01\n -1.32084697e-01 -5.35196543e-01  2.38984749e-01  3.99498999e-01\n  5.34487724e-01  5.45599014e-02 -3.78365219e-01 -2.11076319e-01\n -6.04432821e-01 -1.66643605e-01  6.30128264e-01  6.88773870e-01\n -1.01385243e-01  2.31667772e-01 -1.54205859e-02 -5.94418049e-02\n -1.91290807e-02 -4.18463409e-01  2.35030800e-03 -2.44660929e-01\n  5.17113149e-01  9.63441014e-01  2.24329755e-01  2.83975959e-01\n -8.10800195e-02 -2.48141065e-02  2.39078343e-01 -5.65878525e-02\n -6.99245751e-01  2.55465001e-01  3.83002728e-01  1.05498366e-01\n -5.73751569e-01 -5.76227188e-01 -3.55489761e-01 -6.09291434e-01\n -2.61463728e-02  5.92480600e-01  4.21821862e-01  6.94637775e-01\n  4.75097388e-01  1.70219809e-01 -1.79418936e-01  2.34671921e-01\n -8.59501004e-01 -4.27163333e-01  2.29119211e-01  4.87957150e-01\n -6.07724003e-02 -3.07770491e-01  4.15220737e-01 -4.61331993e-01\n  1.12005842e+00  4.94177341e-01 -5.17767847e-01  3.82494360e-01\n  3.47597569e-01  2.54351109e-01  2.93480515e-01  3.00384045e-01\n -3.05737257e-01  3.96666646e-01 -3.29764903e-01 -4.55030024e-01\n  8.97295654e-01  2.71137327e-01  5.60071528e-01 -6.86027169e-01\n  3.99777114e-01  8.69227052e-01 -9.28263128e-01 -4.96208668e-02\n -8.23074043e-01  9.68717411e-02  4.60716635e-01 -7.78526604e-01\n  2.28450328e-01 -4.99233902e-01  4.47076529e-01 -7.59198964e-02\n  4.34507519e-01 -5.77037752e-01  3.23749125e-01  4.87492204e-01\n -1.39840037e-01  4.33636904e-01  5.43109417e-01 -5.11443019e-02\n  6.74826443e-01  2.17455149e-01 -4.65665534e-02  1.05219078e+00\n  3.02157283e-01  3.76703739e-01  3.40603501e-01 -5.65921128e-01\n  4.26287472e-01  9.79658663e-02 -3.01099658e-01  1.12648809e+00\n  4.57260549e-01 -3.90263528e-01 -7.20336065e-02  5.35569966e-01\n -1.13588691e+00 -1.57432333e-02  3.69659036e-01 -7.85107613e-01\n  1.59976289e-01  1.71068013e-01 -7.11141646e-01 -1.09677064e+00\n -2.85410509e-02 -1.44858241e-01 -2.07021490e-01  8.32714915e-01\n  8.56732279e-02 -3.99885863e-01 -2.02792406e-01 -2.65741609e-02\n -1.99268505e-01 -2.25405857e-01  1.02429175e+00  6.11688197e-01\n -3.95426393e-01  2.43532583e-01  5.77141523e-01 -2.47888088e-01\n  1.12345971e-01  3.45257550e-01 -2.81066388e-01 -9.30314720e-01\n -1.70541301e-01  2.75653094e-01 -3.58952194e-01 -1.00265694e+00\n -2.61664968e-02 -4.28888083e-01  1.32103994e-01  6.32775664e-01\n -4.53502715e-01 -9.17538851e-02  1.16830742e+00 -7.03613579e-01\n -2.29915261e-01 -7.63633475e-02 -3.68772745e-02 -1.08401194e-01\n  2.26238117e-01  4.86418128e-01 -3.88874948e-01  9.10586715e-02\n  3.06035280e-01  6.40615344e-01  4.93088573e-01 -1.27437800e-01\n  7.92562068e-01  3.23194126e-03  3.96023184e-01 -5.33535719e-01\n  5.75380027e-01  1.14052564e-01 -7.70217299e-01 -1.49316609e-01\n  1.07277679e+00 -8.80312800e-01 -9.28697765e-01 -3.82402688e-01\n -3.18436027e-01 -7.02770233e-01 -4.75608468e-01  2.40428239e-01\n  1.71059787e-01 -6.29586577e-01  4.11840022e-01  1.45116076e-03\n -2.43853971e-01  7.72902966e-01  2.17030957e-01 -1.86472937e-01\n -7.35473990e-01  3.11501980e-01 -6.29355550e-01 -3.21244270e-01\n  6.41433120e-01 -2.97448725e-01 -3.48405480e-01  3.95936549e-01\n -4.61254168e+00  2.84775019e-01  8.59322846e-01 -4.05667275e-01\n  5.91058791e-01 -3.80095810e-01  1.68459401e-01  2.03819752e-01\n -3.56661230e-02  2.29188785e-01  1.27379727e+00 -4.94014472e-01\n  6.97677255e-01  1.53411031e-01  5.82787514e-01 -9.95114923e-01\n  2.68418580e-01 -8.42778027e-01 -7.28563428e-01  5.20683289e-01\n -1.96496725e-01 -2.57649541e-01  1.86668113e-01 -5.58488905e-01\n -8.43719542e-02  8.72419178e-01  4.98662055e-01  5.02581954e-01\n -9.10484672e-01 -4.26128596e-01 -2.57341117e-01  2.37212449e-01\n  3.08472514e-01  8.14691544e-01  4.61613208e-01 -6.98226616e-02\n  3.95820498e-01 -4.47055876e-01  1.31440330e+00  1.39856450e-02\n  4.40202892e-01 -3.40057999e-01 -2.36138016e-01  1.60544604e-01\n -3.48742381e-02  1.65550008e-01  2.94810921e-01 -2.86854029e-01\n  4.08348531e-01  2.27797464e-01  3.38037789e-01 -6.13851435e-02\n  1.76277906e-02 -1.46262318e-01 -8.02009627e-02  4.38546687e-01\n -3.72079790e-01  2.74289966e-01 -9.31939006e-01 -1.06020905e-01\n  3.29728365e-01  2.49848096e-03 -8.67396832e-01  7.34136343e-01\n -1.38134086e+00  2.68754959e-01 -8.49286914e-01 -9.59486544e-01\n -3.04688841e-01  5.77625751e-01 -4.65131402e-01  2.14253664e-01\n  1.80955715e-02 -1.29557264e+00 -8.75679076e-01  4.80553538e-01\n -8.97526264e-01 -4.27486002e-01  1.82185605e-01 -8.60465705e-01\n -3.78420740e-01  3.45373601e-01  5.83031356e-01  5.16564965e-01\n  3.90477836e-01 -3.58491838e-01  7.76806176e-01 -1.08953655e+00\n -2.80239820e-01  1.70805395e-01 -4.40623045e-01 -3.00956786e-01\n  4.59731281e-01  2.88589448e-01  7.55914807e-01  1.16164237e-02\n  4.99291003e-01 -1.59065276e-01  1.28273442e-01 -2.40518644e-01\n  7.29328871e-01 -3.03138979e-02 -3.15163851e-01  1.47882298e-01\n  3.41014683e-01  2.92495430e-01 -1.27246928e+00 -4.70473468e-01\n -1.23043790e-01  3.51558849e-02 -8.68584588e-02 -4.98234779e-01\n  3.40291679e-01  2.10337892e-01 -3.30738872e-01 -9.66942251e-01\n  5.89265704e-01  3.76242310e-01  4.27668452e-01  6.03537261e-01\n  1.12059124e-01  6.68345571e-01 -1.16538405e-02 -4.74352479e-01\n  3.02256346e-01  1.70716807e-01  3.93343359e-01 -4.13163662e-01\n -7.79198527e-01  6.38793528e-01  6.17781468e-02 -3.59554619e-01\n  5.57495892e-01  6.23106599e-01  1.14412241e-01 -2.58451343e-01\n  9.89412367e-02 -7.53885031e-01 -2.32598707e-02  6.34338796e-01\n -8.11254978e-03 -1.77592620e-01 -7.58842230e-01 -1.22827813e-01\n  2.95650780e-01  4.40938056e-01  3.79443690e-02  3.93517613e-01\n  2.38648981e-01  1.90805897e-01  4.57252562e-01  6.33709133e-03\n  5.63149869e-01  7.63238847e-01 -4.53546345e-01 -4.57153797e-01\n  7.67175183e-02 -3.05840403e-01 -6.18213713e-01 -6.87226176e-01\n -5.92377067e-01 -8.82776827e-03  3.52041908e-02  1.01274863e-01\n  7.92041481e-01  9.46932435e-01  1.05614208e-01 -2.74127722e-02\n -7.99231768e-01  1.04998279e+00  1.24909282e+00 -5.82828104e-01\n  2.25789413e-01  6.51616812e-01 -3.54142994e-01  3.17157477e-01\n -3.37006360e-01 -5.36041379e-01  3.78572121e-02 -3.11691493e-01\n -5.00235915e-01 -8.13928843e-02 -8.49039555e-02 -4.24579054e-01\n  1.02239156e+00  9.77855027e-02 -7.40454018e-01 -3.73294614e-02\n -1.97222590e-01  1.28353369e+00  5.12410164e-01 -1.02616929e-01\n -5.96504986e-01 -4.18332636e-01 -6.56974673e-01 -5.79377413e-01\n  5.24200916e-01 -3.16063344e-01  3.54023367e-01  3.49422097e-01\n -3.37412447e-01 -3.59863490e-01  3.45580131e-02 -2.28115529e-01\n -1.34698860e-02  1.73784047e-02  5.58991991e-02  3.87266397e-01\n  1.50888711e-01  2.52561420e-01 -3.43022138e-01 -2.34526783e-01\n  2.06570439e-02 -1.54995859e-01  1.04667768e-01  1.07071793e+00\n  1.10101211e+00  1.32637709e-01 -1.16708070e-01 -4.26122963e-01\n -1.72931507e-01 -2.76589066e-01 -2.84444034e-01 -6.21544957e-01\n  1.73977599e-01  3.70791078e-01 -8.07655036e-01 -1.09793556e+00\n  2.39560425e-01 -5.87669984e-02 -1.31992534e-01 -3.28958213e-01\n  6.61825180e-01  4.31294292e-02  5.81799030e-01 -6.60558164e-01\n -4.15903404e-02 -4.57760468e-02 -1.18829377e-01 -9.59450543e-01\n  7.62775540e-01 -7.14833856e-01 -9.10626113e-01 -1.54781900e-02\n -1.49713784e-01  1.18707418e+00 -6.06501810e-02 -3.76764774e-01\n  1.43980134e+00  8.63747954e-01 -4.41631526e-01  1.61868438e-01\n  9.47795585e-02 -3.98130357e-01  3.39394689e-01 -1.39402723e+00\n -4.35567200e-01  1.04638085e-01  1.12131134e-01 -1.65186487e-02\n -3.68193805e-01  1.00259042e+00  4.32026446e-01  5.13447642e-01\n  1.15219772e-01  8.99373353e-01  2.24516883e-01  1.52465925e-01\n  1.23617023e-01  4.60949272e-01 -4.77807134e-01  3.67598593e-01\n -4.66076918e-02  3.79965991e-01 -2.14887351e-01  7.65706480e-01\n  7.95471966e-02 -4.04123068e-01 -2.66888291e-01 -1.25544235e-01\n -4.34247881e-01  1.29646969e+00 -6.23542190e-01 -6.12822533e-01\n  2.52187699e-01 -5.99652648e-01 -5.15077055e-01 -2.78166831e-01\n -4.12143499e-01 -1.67502046e-01  6.67230114e-02 -2.78544780e-02\n -4.31731418e-02  4.43149269e-01  2.72741914e-01  2.40888447e-01\n -1.11035275e+00  7.01439604e-02 -1.07367940e-01  3.01537126e-01\n -2.95875609e-01 -1.27834886e-01  6.47696257e-01 -4.94257927e-01\n  2.18715191e-01  1.17393804e+00  2.06638128e-01  7.89432004e-02\n  3.81069034e-01  1.01638508e+00 -7.93700039e-01 -6.33347750e-01\n -1.08860396e-02  6.00531876e-01 -1.14022303e+00 -6.26958609e-02\n  1.12994045e-01 -1.13890004e+00 -6.08063228e-02  4.32029702e-02\n  3.99942309e-01 -6.72173023e-01  8.42102647e-01  5.52955568e-01\n  6.77335918e-01  4.74832505e-01 -7.22630739e-01  4.33153138e-02\n  3.18499804e-01  9.80105042e-01  1.89450309e-01 -4.08273101e-01\n  1.17007606e-01  1.64739683e-01  5.63013494e-01 -1.07799359e-01\n  2.25554124e-01 -4.32767630e-01 -2.10515648e-01  1.70817822e-02\n  6.16577044e-02  1.16833583e-01  1.02989018e+00  4.92637932e-01\n -2.77303368e-01  3.09838951e-01  6.07581794e-01 -8.10280502e-01\n  3.98640126e-01  1.55343771e-01 -3.05063333e-02  2.74370369e-02\n -2.12317616e-01  3.61644775e-01  1.60003632e-01 -1.55728206e-01\n -5.36358833e-01  5.93111813e-02 -3.48706096e-01 -1.60434783e-01\n -7.26325065e-03 -4.07579780e-01  3.20038348e-01 -2.66153514e-01\n  3.43261123e-01 -1.70757115e-01  2.94186473e-01 -6.69326842e-01\n -8.60928118e-01 -7.40028501e-01 -2.24366933e-01  2.51064181e-01\n  2.37918317e-01 -3.66858393e-02 -2.69435108e-01  2.99598783e-01\n  2.06148893e-01  2.28850365e-01 -1.01585603e+00 -8.24298084e-01\n -8.94652128e-01 -4.40630585e-01  1.13324769e-01 -4.89778966e-01\n  1.15498948e+00 -2.58722633e-01  1.60291165e-01 -8.60949755e-01\n  3.25785637e-01 -7.66226768e-01  4.62861568e-01 -5.94781756e-01\n -6.05830610e-01 -6.40693069e-01  1.79989427e-01  4.10685271e-01\n -6.64625466e-02 -8.52078423e-02  5.88375404e-02  5.65281630e-01\n  6.91178381e-01 -6.22421682e-01  1.00032814e-01 -5.50339743e-03\n -8.54023159e-01 -4.93540615e-02  8.28523859e-02  3.08802668e-02\n -5.10432839e-01  1.14689976e-01 -3.99637014e-01  7.00508177e-01\n -1.82755619e-01  8.36236894e-01 -1.66774482e-01 -2.80565172e-01\n  3.58185589e-01 -3.78672302e-01  4.75341171e-01 -9.75057781e-02\n -4.87916082e-01  4.17303056e-01 -2.18723372e-01  5.45372486e-01\n -7.68883288e-01 -5.30806184e-01 -8.05106938e-01  3.81475538e-01\n  2.97902197e-01  2.03572452e-01 -4.10940379e-01  5.11486471e-01\n -3.23234499e-01 -1.82689190e-01 -2.59559780e-01 -6.01624191e-01\n  2.62534201e-01 -5.71803570e-01 -1.16124168e-01 -2.99959093e-01\n -1.70590132e-02 -4.84220147e-01 -4.91524637e-01  1.77528579e-02\n  2.36277729e-01 -3.33239675e-01 -6.35188103e-01 -2.27520779e-01\n -1.50793940e-01 -4.04518545e-01  6.63518071e-01 -8.43784139e-02\n  3.95258605e-01  2.70296365e-01 -1.50385365e-01 -3.36963475e-01\n -5.84517159e-02 -3.59085172e-01  3.49629939e-01  1.64651349e-01].\nReshape your data either using array.reshape(-1, 1) if your data has a single feature or array.reshape(1, -1) if it contains a single sample."
     ]
    }
   ],
   "source": [
    "p_c_a = PCA(n_components=2)\n",
    "principal_components = p_c_a.fit_transform(data.word_embeddings[0], data.word_embeddings[1])\n",
    "principal_df = pd.DataFrame(data = principal_components, columns=['pc_one', 'pc_2'])"
   ]
  },
  {
   "cell_type": "code",
   "execution_count": null,
   "id": "9172a977-1c8d-4e5a-8772-ec08457363eb",
   "metadata": {},
   "outputs": [],
   "source": []
  },
  {
   "cell_type": "code",
   "execution_count": null,
   "id": "f576f221-2371-40a4-83c1-00e9188c8e25",
   "metadata": {},
   "outputs": [],
   "source": []
  },
  {
   "cell_type": "code",
   "execution_count": null,
   "id": "ddbaac8c-6e12-4df8-8cad-02b362a0ee6b",
   "metadata": {},
   "outputs": [],
   "source": []
  }
 ],
 "metadata": {
  "kernelspec": {
   "display_name": "Python 3 (ipykernel)",
   "language": "python",
   "name": "python3"
  },
  "language_info": {
   "codemirror_mode": {
    "name": "ipython",
    "version": 3
   },
   "file_extension": ".py",
   "mimetype": "text/x-python",
   "name": "python",
   "nbconvert_exporter": "python",
   "pygments_lexer": "ipython3",
   "version": "3.9.10"
  }
 },
 "nbformat": 4,
 "nbformat_minor": 5
}
