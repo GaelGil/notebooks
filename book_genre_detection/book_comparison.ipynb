{
 "cells": [
  {
   "cell_type": "markdown",
   "id": "c5329f1c-a112-4676-b7d6-d7da89d69875",
   "metadata": {},
   "source": [
    "# Project Description\n",
    "<!-- In this notebook I will  -->"
   ]
  },
  {
   "cell_type": "markdown",
   "id": "ea5b0c16-d042-46b3-a99b-ae98fc2cd282",
   "metadata": {},
   "source": [
    "# The Data\n",
    "To demonstrate I will first start by using a small dataset I created on my own. The data can be found in the `./data` folder. It consists of two columns (word, label). Here are two examples `word=love,label=positive, word=hate,label=negative`. I will put this through the bert model to get an embedding and then use a dimensionalty reduction algorithm to plot each word. \n",
    "\n",
    "Later on I will be using book data. This data has two columns. I got this data from [here](https://www.gutenberg.org/)\n",
    "\n",
    "First we will import some useful tools that will help us."
   ]
  },
  {
   "cell_type": "code",
   "execution_count": 1,
   "id": "4912f135-7f92-4522-8e44-72ba2ab74374",
   "metadata": {},
   "outputs": [
    {
     "name": "stderr",
     "output_type": "stream",
     "text": [
      "/Users/gael/git-repos/notebooks/book_genre_detection/env/lib/python3.9/site-packages/tqdm/auto.py:22: TqdmWarning: IProgress not found. Please update jupyter and ipywidgets. See https://ipywidgets.readthedocs.io/en/stable/user_install.html\n",
      "  from .autonotebook import tqdm as notebook_tqdm\n"
     ]
    }
   ],
   "source": [
    "import pandas as pd\n",
    "import torch\n",
    "import matplotlib.pyplot as plt\n",
    "import numpy as np\n",
    "from sklearn.manifold import TSNE\n",
    "from sklearn.decomposition import PCA\n",
    "from sklearn.metrics.pairwise import cosine_similarity\n",
    "from transformers import BertTokenizer, BertModel"
   ]
  },
  {
   "cell_type": "code",
   "execution_count": 2,
   "id": "4341b339-cb39-4b01-81a9-0e750c6d72ec",
   "metadata": {},
   "outputs": [],
   "source": [
    "# TODO: check for correct embedding\n",
    "# TODO: make sure pca is working the way its supposed to be\n",
    "# TODO: make good visuals (categories)"
   ]
  },
  {
   "cell_type": "markdown",
   "id": "b99b6f46-a0b2-4156-8099-ab05da70675e",
   "metadata": {},
   "source": [
    "# First Example"
   ]
  },
  {
   "cell_type": "code",
   "execution_count": 3,
   "id": "d22075b8-aeb9-4923-98a4-21a77e1ded4d",
   "metadata": {},
   "outputs": [],
   "source": [
    "data = pd.read_csv('./w.csv')"
   ]
  },
  {
   "cell_type": "code",
   "execution_count": 4,
   "id": "864f56ef-500e-4812-86d3-5e6242a22020",
   "metadata": {},
   "outputs": [
    {
     "data": {
      "text/html": [
       "<div>\n",
       "<style scoped>\n",
       "    .dataframe tbody tr th:only-of-type {\n",
       "        vertical-align: middle;\n",
       "    }\n",
       "\n",
       "    .dataframe tbody tr th {\n",
       "        vertical-align: top;\n",
       "    }\n",
       "\n",
       "    .dataframe thead th {\n",
       "        text-align: right;\n",
       "    }\n",
       "</style>\n",
       "<table border=\"1\" class=\"dataframe\">\n",
       "  <thead>\n",
       "    <tr style=\"text-align: right;\">\n",
       "      <th></th>\n",
       "      <th>word</th>\n",
       "      <th>label</th>\n",
       "    </tr>\n",
       "  </thead>\n",
       "  <tbody>\n",
       "    <tr>\n",
       "      <th>0</th>\n",
       "      <td>love</td>\n",
       "      <td>positive</td>\n",
       "    </tr>\n",
       "    <tr>\n",
       "      <th>1</th>\n",
       "      <td>beautiful</td>\n",
       "      <td>positive</td>\n",
       "    </tr>\n",
       "    <tr>\n",
       "      <th>2</th>\n",
       "      <td>gorgeous</td>\n",
       "      <td>positive</td>\n",
       "    </tr>\n",
       "    <tr>\n",
       "      <th>3</th>\n",
       "      <td>pretty</td>\n",
       "      <td>positive</td>\n",
       "    </tr>\n",
       "    <tr>\n",
       "      <th>4</th>\n",
       "      <td>kind</td>\n",
       "      <td>positive</td>\n",
       "    </tr>\n",
       "  </tbody>\n",
       "</table>\n",
       "</div>"
      ],
      "text/plain": [
       "        word     label\n",
       "0       love  positive\n",
       "1  beautiful  positive\n",
       "2   gorgeous  positive\n",
       "3     pretty  positive\n",
       "4       kind  positive"
      ]
     },
     "execution_count": 4,
     "metadata": {},
     "output_type": "execute_result"
    }
   ],
   "source": [
    "data.head()"
   ]
  },
  {
   "cell_type": "code",
   "execution_count": 5,
   "id": "4068b662-cb69-4691-b0ac-3a70d148fb10",
   "metadata": {},
   "outputs": [
    {
     "name": "stderr",
     "output_type": "stream",
     "text": [
      "Some weights of the model checkpoint at bert-base-uncased were not used when initializing BertModel: ['cls.predictions.bias', 'cls.predictions.transform.LayerNorm.bias', 'cls.seq_relationship.weight', 'cls.seq_relationship.bias', 'cls.predictions.transform.dense.weight', 'cls.predictions.decoder.weight', 'cls.predictions.transform.dense.bias', 'cls.predictions.transform.LayerNorm.weight']\n",
      "- This IS expected if you are initializing BertModel from the checkpoint of a model trained on another task or with another architecture (e.g. initializing a BertForSequenceClassification model from a BertForPreTraining model).\n",
      "- This IS NOT expected if you are initializing BertModel from the checkpoint of a model that you expect to be exactly identical (initializing a BertForSequenceClassification model from a BertForSequenceClassification model).\n"
     ]
    }
   ],
   "source": [
    "tokenizer = BertTokenizer.from_pretrained('bert-base-uncased')\n",
    "model = BertModel.from_pretrained(\"bert-base-uncased\")"
   ]
  },
  {
   "cell_type": "code",
   "execution_count": 6,
   "id": "368c8384-2a91-494b-a416-0190e2a3005c",
   "metadata": {},
   "outputs": [],
   "source": [
    "# tokenize every word in the dataframe\n",
    "encoded_data = [tokenizer(i, return_tensors='pt') for i in data.word]"
   ]
  },
  {
   "cell_type": "code",
   "execution_count": 7,
   "id": "dc138070-ef87-4b3a-95b0-cb587116d081",
   "metadata": {},
   "outputs": [
    {
     "data": {
      "text/plain": [
       "{'input_ids': tensor([[ 101, 2293,  102]]), 'token_type_ids': tensor([[0, 0, 0]]), 'attention_mask': tensor([[1, 1, 1]])}"
      ]
     },
     "execution_count": 7,
     "metadata": {},
     "output_type": "execute_result"
    }
   ],
   "source": [
    "# Our words have been encoded into a list of ids that look like this: tensor([[ 101, 3866,  102]]). \n",
    "# 101 and 102 are for start and stop. 3866 is the id of our actual word embedding and its what we actually\n",
    "# need. We will extract this later.\n",
    "encoded_data[0]"
   ]
  },
  {
   "cell_type": "code",
   "execution_count": 8,
   "id": "af9f59d6-f391-4166-897a-e0f758547c9b",
   "metadata": {},
   "outputs": [],
   "source": [
    "# Get the word embedding for each word in our dataset\n",
    "word_embeddings = [model(**i) for i in encoded_data]"
   ]
  },
  {
   "cell_type": "code",
   "execution_count": 9,
   "id": "faf004c6-f9ef-4716-a57c-479106e85665",
   "metadata": {},
   "outputs": [
    {
     "data": {
      "text/plain": [
       "torch.Size([1, 3, 768])"
      ]
     },
     "execution_count": 9,
     "metadata": {},
     "output_type": "execute_result"
    }
   ],
   "source": [
    "word_embeddings[0].last_hidden_state.shape"
   ]
  },
  {
   "cell_type": "code",
   "execution_count": 10,
   "id": "1cc2ccff-9da3-4f1c-ba8b-d2c459fd306f",
   "metadata": {},
   "outputs": [],
   "source": [
    "# get the last hidden state for each of the embeddings\n",
    "embeddings = [i.last_hidden_state for i in word_embeddings]"
   ]
  },
  {
   "cell_type": "code",
   "execution_count": 11,
   "id": "ffdad094-4b12-49e4-9cc9-2388812b5809",
   "metadata": {},
   "outputs": [],
   "source": [
    "# Get the actual word embeddings\n",
    "embeddings = [i[0][1] for i in embeddings]"
   ]
  },
  {
   "cell_type": "code",
   "execution_count": 12,
   "id": "8cce1c06-9584-44dc-9bd6-b46bb2dddd77",
   "metadata": {},
   "outputs": [],
   "source": [
    "embeddings = [i.detach().numpy() for i in embeddings]"
   ]
  },
  {
   "cell_type": "code",
   "execution_count": 13,
   "id": "c28e6ff9-a44e-471f-b305-87e840d73f14",
   "metadata": {},
   "outputs": [],
   "source": [
    "# Add the embeddings to our dataframe\n",
    "data['word_embeddings'] = embeddings"
   ]
  },
  {
   "cell_type": "markdown",
   "id": "8edeea62-bf47-4eaf-86c1-48f22308198c",
   "metadata": {},
   "source": [
    "# Visualizing"
   ]
  },
  {
   "cell_type": "code",
   "execution_count": 14,
   "id": "e9b2ffc3-067b-4bc5-94c1-da2bd7ddae67",
   "metadata": {},
   "outputs": [
    {
     "data": {
      "text/html": [
       "<div>\n",
       "<style scoped>\n",
       "    .dataframe tbody tr th:only-of-type {\n",
       "        vertical-align: middle;\n",
       "    }\n",
       "\n",
       "    .dataframe tbody tr th {\n",
       "        vertical-align: top;\n",
       "    }\n",
       "\n",
       "    .dataframe thead th {\n",
       "        text-align: right;\n",
       "    }\n",
       "</style>\n",
       "<table border=\"1\" class=\"dataframe\">\n",
       "  <thead>\n",
       "    <tr style=\"text-align: right;\">\n",
       "      <th></th>\n",
       "      <th>word</th>\n",
       "      <th>label</th>\n",
       "      <th>word_embeddings</th>\n",
       "    </tr>\n",
       "  </thead>\n",
       "  <tbody>\n",
       "    <tr>\n",
       "      <th>0</th>\n",
       "      <td>love</td>\n",
       "      <td>positive</td>\n",
       "      <td>[0.38649088, 0.36188114, 0.23423344, -0.395798...</td>\n",
       "    </tr>\n",
       "    <tr>\n",
       "      <th>1</th>\n",
       "      <td>beautiful</td>\n",
       "      <td>positive</td>\n",
       "      <td>[0.11882409, -0.09363537, -0.043902438, -0.223...</td>\n",
       "    </tr>\n",
       "    <tr>\n",
       "      <th>2</th>\n",
       "      <td>gorgeous</td>\n",
       "      <td>positive</td>\n",
       "      <td>[-0.009108119, -0.48590896, -0.21619737, -0.38...</td>\n",
       "    </tr>\n",
       "    <tr>\n",
       "      <th>3</th>\n",
       "      <td>pretty</td>\n",
       "      <td>positive</td>\n",
       "      <td>[-0.19844033, -0.2395635, -0.09782952, -0.2920...</td>\n",
       "    </tr>\n",
       "    <tr>\n",
       "      <th>4</th>\n",
       "      <td>kind</td>\n",
       "      <td>positive</td>\n",
       "      <td>[-0.15612918, -0.8848767, 0.43388307, -0.15255...</td>\n",
       "    </tr>\n",
       "  </tbody>\n",
       "</table>\n",
       "</div>"
      ],
      "text/plain": [
       "        word     label                                    word_embeddings\n",
       "0       love  positive  [0.38649088, 0.36188114, 0.23423344, -0.395798...\n",
       "1  beautiful  positive  [0.11882409, -0.09363537, -0.043902438, -0.223...\n",
       "2   gorgeous  positive  [-0.009108119, -0.48590896, -0.21619737, -0.38...\n",
       "3     pretty  positive  [-0.19844033, -0.2395635, -0.09782952, -0.2920...\n",
       "4       kind  positive  [-0.15612918, -0.8848767, 0.43388307, -0.15255..."
      ]
     },
     "execution_count": 14,
     "metadata": {},
     "output_type": "execute_result"
    }
   ],
   "source": [
    "data.head()"
   ]
  },
  {
   "cell_type": "code",
   "execution_count": 15,
   "id": "049c4eba-1a26-4bdb-a754-9400e4b44c70",
   "metadata": {},
   "outputs": [],
   "source": [
    "pca = PCA(n_components=2)\n",
    "principal_components = pca.fit_transform(list(data.word_embeddings))\n",
    "principal_df = pd.DataFrame(data = principal_components, columns=['pc_one', 'pc_two'])"
   ]
  },
  {
   "cell_type": "code",
   "execution_count": 25,
   "id": "9172a977-1c8d-4e5a-8772-ec08457363eb",
   "metadata": {},
   "outputs": [
    {
     "data": {
      "text/html": [
       "<div>\n",
       "<style scoped>\n",
       "    .dataframe tbody tr th:only-of-type {\n",
       "        vertical-align: middle;\n",
       "    }\n",
       "\n",
       "    .dataframe tbody tr th {\n",
       "        vertical-align: top;\n",
       "    }\n",
       "\n",
       "    .dataframe thead th {\n",
       "        text-align: right;\n",
       "    }\n",
       "</style>\n",
       "<table border=\"1\" class=\"dataframe\">\n",
       "  <thead>\n",
       "    <tr style=\"text-align: right;\">\n",
       "      <th></th>\n",
       "      <th>pc_one</th>\n",
       "      <th>pc_two</th>\n",
       "    </tr>\n",
       "  </thead>\n",
       "  <tbody>\n",
       "    <tr>\n",
       "      <th>0</th>\n",
       "      <td>2.488313</td>\n",
       "      <td>3.490276</td>\n",
       "    </tr>\n",
       "    <tr>\n",
       "      <th>1</th>\n",
       "      <td>-1.276571</td>\n",
       "      <td>-0.637498</td>\n",
       "    </tr>\n",
       "    <tr>\n",
       "      <th>2</th>\n",
       "      <td>0.107739</td>\n",
       "      <td>-2.221692</td>\n",
       "    </tr>\n",
       "    <tr>\n",
       "      <th>3</th>\n",
       "      <td>-0.503001</td>\n",
       "      <td>-2.427606</td>\n",
       "    </tr>\n",
       "    <tr>\n",
       "      <th>4</th>\n",
       "      <td>3.382703</td>\n",
       "      <td>-1.718327</td>\n",
       "    </tr>\n",
       "  </tbody>\n",
       "</table>\n",
       "</div>"
      ],
      "text/plain": [
       "     pc_one    pc_two\n",
       "0  2.488313  3.490276\n",
       "1 -1.276571 -0.637498\n",
       "2  0.107739 -2.221692\n",
       "3 -0.503001 -2.427606\n",
       "4  3.382703 -1.718327"
      ]
     },
     "execution_count": 25,
     "metadata": {},
     "output_type": "execute_result"
    }
   ],
   "source": [
    "principal_df.head()"
   ]
  },
  {
   "cell_type": "code",
   "execution_count": 17,
   "id": "28101e0a-6f77-4665-b66e-5f3e3665f110",
   "metadata": {},
   "outputs": [],
   "source": [
    "data = pd.concat([data, principal_df], axis=1)"
   ]
  },
  {
   "cell_type": "code",
   "execution_count": 24,
   "id": "7f3918c1-9481-4fc5-83d9-89c60efca0ce",
   "metadata": {},
   "outputs": [
    {
     "data": {
      "text/html": [
       "<div>\n",
       "<style scoped>\n",
       "    .dataframe tbody tr th:only-of-type {\n",
       "        vertical-align: middle;\n",
       "    }\n",
       "\n",
       "    .dataframe tbody tr th {\n",
       "        vertical-align: top;\n",
       "    }\n",
       "\n",
       "    .dataframe thead th {\n",
       "        text-align: right;\n",
       "    }\n",
       "</style>\n",
       "<table border=\"1\" class=\"dataframe\">\n",
       "  <thead>\n",
       "    <tr style=\"text-align: right;\">\n",
       "      <th></th>\n",
       "      <th>word</th>\n",
       "      <th>label</th>\n",
       "      <th>word_embeddings</th>\n",
       "      <th>pc_one</th>\n",
       "      <th>pc_two</th>\n",
       "    </tr>\n",
       "  </thead>\n",
       "  <tbody>\n",
       "    <tr>\n",
       "      <th>0</th>\n",
       "      <td>love</td>\n",
       "      <td>positive</td>\n",
       "      <td>[0.38649088, 0.36188114, 0.23423344, -0.395798...</td>\n",
       "      <td>2.488313</td>\n",
       "      <td>3.490276</td>\n",
       "    </tr>\n",
       "    <tr>\n",
       "      <th>1</th>\n",
       "      <td>beautiful</td>\n",
       "      <td>positive</td>\n",
       "      <td>[0.11882409, -0.09363537, -0.043902438, -0.223...</td>\n",
       "      <td>-1.276571</td>\n",
       "      <td>-0.637498</td>\n",
       "    </tr>\n",
       "    <tr>\n",
       "      <th>2</th>\n",
       "      <td>gorgeous</td>\n",
       "      <td>positive</td>\n",
       "      <td>[-0.009108119, -0.48590896, -0.21619737, -0.38...</td>\n",
       "      <td>0.107739</td>\n",
       "      <td>-2.221692</td>\n",
       "    </tr>\n",
       "    <tr>\n",
       "      <th>3</th>\n",
       "      <td>pretty</td>\n",
       "      <td>positive</td>\n",
       "      <td>[-0.19844033, -0.2395635, -0.09782952, -0.2920...</td>\n",
       "      <td>-0.503001</td>\n",
       "      <td>-2.427606</td>\n",
       "    </tr>\n",
       "    <tr>\n",
       "      <th>4</th>\n",
       "      <td>kind</td>\n",
       "      <td>positive</td>\n",
       "      <td>[-0.15612918, -0.8848767, 0.43388307, -0.15255...</td>\n",
       "      <td>3.382703</td>\n",
       "      <td>-1.718327</td>\n",
       "    </tr>\n",
       "  </tbody>\n",
       "</table>\n",
       "</div>"
      ],
      "text/plain": [
       "        word     label                                    word_embeddings  \\\n",
       "0       love  positive  [0.38649088, 0.36188114, 0.23423344, -0.395798...   \n",
       "1  beautiful  positive  [0.11882409, -0.09363537, -0.043902438, -0.223...   \n",
       "2   gorgeous  positive  [-0.009108119, -0.48590896, -0.21619737, -0.38...   \n",
       "3     pretty  positive  [-0.19844033, -0.2395635, -0.09782952, -0.2920...   \n",
       "4       kind  positive  [-0.15612918, -0.8848767, 0.43388307, -0.15255...   \n",
       "\n",
       "     pc_one    pc_two  \n",
       "0  2.488313  3.490276  \n",
       "1 -1.276571 -0.637498  \n",
       "2  0.107739 -2.221692  \n",
       "3 -0.503001 -2.427606  \n",
       "4  3.382703 -1.718327  "
      ]
     },
     "execution_count": 24,
     "metadata": {},
     "output_type": "execute_result"
    }
   ],
   "source": [
    "data.head()"
   ]
  },
  {
   "cell_type": "code",
   "execution_count": 23,
   "id": "ddbaac8c-6e12-4df8-8cad-02b362a0ee6b",
   "metadata": {},
   "outputs": [
    {
     "data": {
      "image/png": "[encoded data removed]",
      "text/plain": [
       "<Figure size 432x288 with 1 Axes>"
      ]
     },
     "metadata": {
      "needs_background": "light"
     },
     "output_type": "display_data"
    }
   ],
   "source": [
    "plt.scatter(data.pc_one[21], data.pc_two[21], color='b')\n",
    "plt.scatter(data.pc_one[28], data.pc_two[28], color='r')\n",
    "plt.xlabel('x')\n",
    "plt.ylabel('y')\n",
    "plt.show();"
   ]
  },
  {
   "cell_type": "markdown",
   "id": "db4396e3-4d30-40ac-a269-22c17dce8a60",
   "metadata": {},
   "source": [
    "# Using the Book Dataset"
   ]
  },
  {
   "cell_type": "code",
   "execution_count": null,
   "id": "575b451d-2846-4084-8512-71fab9d3984b",
   "metadata": {},
   "outputs": [],
   "source": [
    "df = pd.read_csv('./data.csv')"
   ]
  },
  {
   "cell_type": "code",
   "execution_count": null,
   "id": "e1052684-6858-4ae4-88e2-7beb9f0fd245",
   "metadata": {},
   "outputs": [],
   "source": [
    "df"
   ]
  },
  {
   "cell_type": "code",
   "execution_count": null,
   "id": "1adbe3d8-0d74-42a6-a4e1-9b799db6f32b",
   "metadata": {},
   "outputs": [],
   "source": []
  }
 ],
 "metadata": {
  "kernelspec": {
   "display_name": "Python 3 (ipykernel)",
   "language": "python",
   "name": "python3"
  },
  "language_info": {
   "codemirror_mode": {
    "name": "ipython",
    "version": 3
   },
   "file_extension": ".py",
   "mimetype": "text/x-python",
   "name": "python",
   "nbconvert_exporter": "python",
   "pygments_lexer": "ipython3",
   "version": "3.9.10"
  }
 },
 "nbformat": 4,
 "nbformat_minor": 5
}
