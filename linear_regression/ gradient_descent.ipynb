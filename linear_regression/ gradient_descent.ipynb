{
 "cells": [
  {
   "cell_type": "markdown",
   "id": "61d91731-5f78-42c3-a9c5-acbff5f8333f",
   "metadata": {},
   "source": [
    "## Linear Regression\n",
    "\n",
    "With linear regression we try to find a line of best fit to some data. This can help us predict a numeric value. With gradient descent we can."
   ]
  },
  {
   "cell_type": "code",
   "execution_count": 272,
   "id": "a9a7d824-d9a3-48b6-94bd-3f4300e995be",
   "metadata": {},
   "outputs": [],
   "source": [
    "import pandas as pd\n",
    "import matplotlib.pyplot as plt\n",
    "from matplotlib.pyplot import figure, show\n",
    "import numpy as np\n",
    "import math"
   ]
  },
  {
   "cell_type": "code",
   "execution_count": 273,
   "id": "5f66a323-e33a-4b21-9b2f-9908af36edcc",
   "metadata": {},
   "outputs": [],
   "source": [
    "data = pd.read_csv(\"./data.csv\")"
   ]
  },
  {
   "cell_type": "code",
   "execution_count": 274,
   "id": "86b8ae50-d79e-47ee-bdca-0c1062b9e28a",
   "metadata": {},
   "outputs": [
    {
     "data": {
      "image/png": "[encoded data removed]",
      "text/plain": [
       "<Figure size 432x288 with 1 Axes>"
      ]
     },
     "metadata": {
      "needs_background": "light"
     },
     "output_type": "display_data"
    }
   ],
   "source": [
    "%matplotlib inline \n",
    "plt.scatter(data['Height'], data['Weight'], color='b')\n",
    "plt.xlabel('x')\n",
    "plt.ylabel('y')\n",
    "plt.grid(True)\n",
    "plt.show();"
   ]
  },
  {
   "cell_type": "markdown",
   "id": "c3f96b16-3f09-4885-b5b9-53977e9a71be",
   "metadata": {},
   "source": [
    "## The Math\n",
    "The sum of squared errors is given by this function here. \n",
    "\n",
    "$ sse = \\sum_{i=1}^n (y'-y)^2 = \\sum_{i=1}^n (mx+b - y)^2$\n",
    "\n",
    "If we take the derrivative of this function with respect to the slope (m) we get this.\n",
    "\n",
    "\n",
    "$\\frac{d}{dm} = (mx+b - y)^2 = \\frac{d}{dm}[(mx+b -y)^2] =  2(mx+b - y)*\\frac{d}{dm}[(mx+b-y)] = 2(mx+b -y)*x = 2(y'-y)x$\n",
    "\n",
    "We can use this this to find the optimal coefficient value for the slope. This will help us find the value by telling us how big of the steps we should take to find the solution."
   ]
  },
  {
   "cell_type": "code",
   "execution_count": 275,
   "id": "af428636-98d6-4990-b0f7-6783011e65d7",
   "metadata": {},
   "outputs": [],
   "source": [
    "def get_derivative(X, y, m):\n",
    "    return 2 * ( sum( (m * X - y) * X) )"
   ]
  },
  {
   "cell_type": "code",
   "execution_count": 276,
   "id": "a4f1b78e-c6f5-4362-9a54-1ec857ad5b39",
   "metadata": {},
   "outputs": [],
   "source": [
    "def model(x, m, b=1):\n",
    "    return x * m + b"
   ]
  },
  {
   "cell_type": "code",
   "execution_count": 277,
   "id": "2f04a20a-022e-4109-be63-8b96298bf4d0",
   "metadata": {},
   "outputs": [],
   "source": [
    "def sse(m, X, y):\n",
    "    X_pred = [model(m,x) for x in X]\n",
    "    return sum( (X_pred - y)**2 )"
   ]
  },
  {
   "cell_type": "code",
   "execution_count": 278,
   "id": "4ae404fa-a062-4a3b-9b24-122ebbeb01a7",
   "metadata": {},
   "outputs": [],
   "source": [
    "def gradient_descent(data, m, b, l_rate, epochs=100):\n",
    "    \"\"\"\n",
    "    This function will preform gradient descent\n",
    "    \"\"\"\n",
    "    parameters = []\n",
    "    y = data['Weight']\n",
    "    X = data['Height']\n",
    "    \n",
    "    for i in range(epochs):\n",
    "        m = m - l_rate * get_derivative(X, y, m)\n",
    "        error = sse(m, X, y)\n",
    "        if math.isnan(m) == False and math.isinf(m) == False:    \n",
    "            parameters.append(m)\n",
    "    return parameters"
   ]
  },
  {
   "cell_type": "code",
   "execution_count": 279,
   "id": "08346fd1-1181-4073-8b4b-e73a4122bac1",
   "metadata": {},
   "outputs": [
    {
     "data": {
      "text/plain": [
       "5.679008717397488e+303"
      ]
     },
     "execution_count": 279,
     "metadata": {},
     "output_type": "execute_result"
    }
   ],
   "source": [
    "params = gradient_descent(data, m=-5, b=1, l_rate=0.01)\n",
    "best_derivative = params[-1]\n",
    "best_derivative"
   ]
  },
  {
   "cell_type": "code",
   "execution_count": 280,
   "id": "4412ff2a-3113-4326-bd56-539ee3148712",
   "metadata": {},
   "outputs": [
    {
     "data": {
      "image/png": "[encoded data removed]",
      "text/plain": [
       "<Figure size 432x288 with 1 Axes>"
      ]
     },
     "metadata": {
      "needs_background": "light"
     },
     "output_type": "display_data"
    }
   ],
   "source": [
    "%matplotlib inline \n",
    "plt.scatter(data['Height'], data['Weight'], color='b')\n",
    "plt.plot(data['Height'], 1 + best_derivative * data['Height'], '-')\n",
    "plt.xlabel('x')\n",
    "plt.ylabel('y')\n",
    "plt.grid(True)\n",
    "plt.show();"
   ]
  },
  {
   "cell_type": "code",
   "execution_count": null,
   "id": "75a995c0-c244-4b10-9dca-e7c1ca3ed914",
   "metadata": {},
   "outputs": [],
   "source": []
  },
  {
   "cell_type": "code",
   "execution_count": null,
   "id": "e405d466-0e83-4c99-81df-47d482bedbe6",
   "metadata": {},
   "outputs": [],
   "source": []
  }
 ],
 "metadata": {
  "kernelspec": {
   "display_name": "Python 3",
   "language": "python",
   "name": "python3"
  },
  "language_info": {
   "codemirror_mode": {
    "name": "ipython",
    "version": 3
   },
   "file_extension": ".py",
   "mimetype": "text/x-python",
   "name": "python",
   "nbconvert_exporter": "python",
   "pygments_lexer": "ipython3",
   "version": "3.7.3"
  }
 },
 "nbformat": 4,
 "nbformat_minor": 5
}
