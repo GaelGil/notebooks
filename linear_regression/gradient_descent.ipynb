{
 "cells": [
  {
   "cell_type": "markdown",
   "metadata": {},
   "source": [
    "# Linear Regression with Gradient Descent\n",
    "In this notebook I will go over the basics of linear regression with gradient descent. To start off in linear regression we try to fit a line to best represent some data. The best type of that for this of course is linear data. "
   ]
  },
  {
   "cell_type": "code",
   "execution_count": 23,
   "metadata": {},
   "outputs": [],
   "source": [
    "import numpy as np\n",
    "import pandas as pd\n",
    "import matplotlib.pyplot as plt"
   ]
  },
  {
   "cell_type": "markdown",
   "metadata": {},
   "source": [
    "# Data Exploration and the Issue.\n",
    "First we will take a look at our data. We can see that its x and y values. We can also graph and see thats its linear data. In the graph below I also have an example of what linear regression with gradient descent attempts to solve which is how can we best represent some linear data. As you can see we have our data is in blue and there are also two lines as well representing models. The red line is very far away and therefor does not represent the data well at all really. However the green line is closer to the data and fits better to it as well making it a better model but not quite the best. With gradient descent we can use machine learning to find the best line/model to represent the data.  "
   ]
  },
  {
   "cell_type": "code",
   "execution_count": 24,
   "metadata": {},
   "outputs": [
    {
     "data": {
      "text/html": [
       "<div>\n",
       "<style scoped>\n",
       "    .dataframe tbody tr th:only-of-type {\n",
       "        vertical-align: middle;\n",
       "    }\n",
       "\n",
       "    .dataframe tbody tr th {\n",
       "        vertical-align: top;\n",
       "    }\n",
       "\n",
       "    .dataframe thead th {\n",
       "        text-align: right;\n",
       "    }\n",
       "</style>\n",
       "<table border=\"1\" class=\"dataframe\">\n",
       "  <thead>\n",
       "    <tr style=\"text-align: right;\">\n",
       "      <th></th>\n",
       "      <th>32.502345269453031</th>\n",
       "      <th>31.70700584656992</th>\n",
       "    </tr>\n",
       "  </thead>\n",
       "  <tbody>\n",
       "    <tr>\n",
       "      <th>0</th>\n",
       "      <td>53.426804</td>\n",
       "      <td>68.777596</td>\n",
       "    </tr>\n",
       "    <tr>\n",
       "      <th>1</th>\n",
       "      <td>61.530358</td>\n",
       "      <td>62.562382</td>\n",
       "    </tr>\n",
       "    <tr>\n",
       "      <th>2</th>\n",
       "      <td>47.475640</td>\n",
       "      <td>71.546632</td>\n",
       "    </tr>\n",
       "    <tr>\n",
       "      <th>3</th>\n",
       "      <td>59.813208</td>\n",
       "      <td>87.230925</td>\n",
       "    </tr>\n",
       "    <tr>\n",
       "      <th>4</th>\n",
       "      <td>55.142188</td>\n",
       "      <td>78.211518</td>\n",
       "    </tr>\n",
       "    <tr>\n",
       "      <th>...</th>\n",
       "      <td>...</td>\n",
       "      <td>...</td>\n",
       "    </tr>\n",
       "    <tr>\n",
       "      <th>94</th>\n",
       "      <td>50.030174</td>\n",
       "      <td>81.536991</td>\n",
       "    </tr>\n",
       "    <tr>\n",
       "      <th>95</th>\n",
       "      <td>49.239765</td>\n",
       "      <td>72.111832</td>\n",
       "    </tr>\n",
       "    <tr>\n",
       "      <th>96</th>\n",
       "      <td>50.039576</td>\n",
       "      <td>85.232007</td>\n",
       "    </tr>\n",
       "    <tr>\n",
       "      <th>97</th>\n",
       "      <td>48.149859</td>\n",
       "      <td>66.224958</td>\n",
       "    </tr>\n",
       "    <tr>\n",
       "      <th>98</th>\n",
       "      <td>25.128485</td>\n",
       "      <td>53.454394</td>\n",
       "    </tr>\n",
       "  </tbody>\n",
       "</table>\n",
       "<p>99 rows × 2 columns</p>\n",
       "</div>"
      ],
      "text/plain": [
       "    32.502345269453031  31.70700584656992\n",
       "0            53.426804          68.777596\n",
       "1            61.530358          62.562382\n",
       "2            47.475640          71.546632\n",
       "3            59.813208          87.230925\n",
       "4            55.142188          78.211518\n",
       "..                 ...                ...\n",
       "94           50.030174          81.536991\n",
       "95           49.239765          72.111832\n",
       "96           50.039576          85.232007\n",
       "97           48.149859          66.224958\n",
       "98           25.128485          53.454394\n",
       "\n",
       "[99 rows x 2 columns]"
      ]
     },
     "execution_count": 24,
     "metadata": {},
     "output_type": "execute_result"
    }
   ],
   "source": [
    "data = pd.read_csv('data.csv')\n",
    "data"
   ]
  },
  {
   "cell_type": "code",
   "execution_count": 25,
   "metadata": {},
   "outputs": [],
   "source": [
    "X = data.iloc[:, 0]\n",
    "Y = data.iloc[:, 1]"
   ]
  },
  {
   "cell_type": "code",
   "execution_count": 26,
   "metadata": {},
   "outputs": [
    {
     "data": {
      "image/png": "[encoded data removed]",
      "text/plain": [
       "<Figure size 432x288 with 1 Axes>"
      ]
     },
     "metadata": {
      "needs_background": "light"
     },
     "output_type": "display_data"
    }
   ],
   "source": [
    "%matplotlib inline \n",
    "plt.scatter(X, Y, color='b')\n",
    "plt.plot(X, (1*X)+70, '-', color='red') # random bad parameters\n",
    "plt.plot(X, (1*X)+30, '-', color='green') # random better parameters\n",
    "plt.legend([\"bad model\", \"better model\"], loc =\"lower right\")\n",
    "plt.xlabel('x')\n",
    "plt.ylabel('y')\n",
    "plt.show();"
   ]
  },
  {
   "cell_type": "markdown",
   "metadata": {},
   "source": [
    "# Preforming Gradient Descent\n",
    "Now that we know that gradient descent can be used to find a model to best represent some data. We need to know what its actually doing. What gradient descent is doing is its finding the best parameters for m and b. We can of course randomly guess values for those parameters but with gradient desecent we can move to a direction where m and b values give us a small error. This smaller error means that the model is fiting the data better. Gradient descent preforms some math to determine what the best value for each paramter is. To preform gradient descent we will need to understand a little bit of calculus. First we will go over the error function. Here is the the error function $ error = (y'-y) $ where $ y' $ represents the predicted value and $ y $ is the actual value. Now the sum of the squared errors functions is very similar to the error function and looks like this.\n",
    "## $ sse = \\sum_{i=1}^n (y'-y)^2 $\n",
    "What were doing here is summing all the errors and squaring them. Now we know that $ y' $ is the predicted value and another way to represent the predicted value is by doing $ mx+b $. All together that looks like this \n",
    "## $ sse = \\sum_{i=1}^n (y'-y)^2 = \\sum_{i=1}^n (mx+b - y)^2$\n",
    "Now this is where the calculus comes in. As I said earlier gradient descent will move us in direction where the values to our parameters will give us a small error. If we take the derrivative of sse function with respect to m and with respect to b his will give us the new values for our parameters. The derrivatives look like this. \n",
    "$\\frac{d}{dm} = (mx+b - y)^2 = \\frac{d}{dm}[(mx+b -y)^2] =  2(mx+b - y)*\\frac{d}{dm}[(mx+b-y)] = 2(mx+b -y)*x = 2(y'-y)x$\n",
    "\n",
    "$\\frac{d}{db} = (mx+b - y)^2 =  \\frac{d}{db}[(mx+b-y)^2] = 2(mx+b-y)*\\frac{d}{db}[(mx+b-y)]=2(mx+b-y)*1=2(y'-y)$\n",
    "\n",
    "Our new parameters will be given by $ b = 2(y'-y) $ and $ m = 2(y'-y)x $. As I said earlier this will give us parameters that have low error meaning closer to zero. The closer we are to zero the smaller our values will change by. Here is the function performing gradient descent"
   ]
  },
  {
   "cell_type": "code",
   "execution_count": 27,
   "metadata": {},
   "outputs": [],
   "source": [
    "def gradient_descent(X, y, learning_rate=0.000001, epochs=1000):\n",
    "    \"\"\"\n",
    "    This function will preform gradient descent\n",
    "    \"\"\"\n",
    "    m = 0\n",
    "    b = 0\n",
    "    for i in range(epochs):\n",
    "        y_pred = (m*X) + b\n",
    "        derivative_m = 2 * sum((y_pred-y)*X)\n",
    "        derivative_b = 2 * sum(y_pred-y)\n",
    "        m = m - learning_rate * derivative_m\n",
    "        b = b - learning_rate * derivative_b\n",
    "        \n",
    "    return m,b"
   ]
  },
  {
   "cell_type": "code",
   "execution_count": 28,
   "metadata": {},
   "outputs": [],
   "source": [
    "m,b = gradient_descent(X, Y)"
   ]
  },
  {
   "cell_type": "markdown",
   "metadata": {},
   "source": [
    "As you can see our line now looks like it fits are data a lot better. It goes through the data better than the first models in the beggining graph."
   ]
  },
  {
   "cell_type": "code",
   "execution_count": 29,
   "metadata": {},
   "outputs": [
    {
     "data": {
      "image/png": "[encoded data removed]",
      "text/plain": [
       "<Figure size 432x288 with 1 Axes>"
      ]
     },
     "metadata": {
      "needs_background": "light"
     },
     "output_type": "display_data"
    }
   ],
   "source": [
    "plt.scatter(X, Y, color='b')\n",
    "plt.plot(X, (m*X)+b, '-', color='red')\n",
    "plt.show()"
   ]
  },
  {
   "cell_type": "markdown",
   "metadata": {},
   "source": [
    "# Understanding Gradient Descent Visually"
   ]
  },
  {
   "cell_type": "code",
   "execution_count": null,
   "metadata": {},
   "outputs": [],
   "source": []
  }
 ],
 "metadata": {
  "kernelspec": {
   "display_name": "Python 3",
   "language": "python",
   "name": "python3"
  },
  "language_info": {
   "codemirror_mode": {
    "name": "ipython",
    "version": 3
   },
   "file_extension": ".py",
   "mimetype": "text/x-python",
   "name": "python",
   "nbconvert_exporter": "python",
   "pygments_lexer": "ipython3",
   "version": "3.7.3"
  }
 },
 "nbformat": 4,
 "nbformat_minor": 5
}
