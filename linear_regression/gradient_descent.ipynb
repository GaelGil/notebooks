{
 "cells": [
  {
   "cell_type": "code",
   "execution_count": 361,
   "id": "6b8f0743-af45-4c32-9d25-a92cd61ec76e",
   "metadata": {},
   "outputs": [],
   "source": [
    "import numpy as np\n",
    "import pandas as pd\n",
    "import matplotlib.pyplot as plt"
   ]
  },
  {
   "cell_type": "code",
   "execution_count": 362,
   "id": "8dfe4e0e-5f17-492c-932a-a1fcf3e62ca3",
   "metadata": {},
   "outputs": [],
   "source": [
    "data = pd.read_csv('new_data.csv')"
   ]
  },
  {
   "cell_type": "code",
   "execution_count": 363,
   "id": "cddb7f3b-4211-4bda-87a9-1b691a47e4f5",
   "metadata": {},
   "outputs": [],
   "source": [
    "X = data.iloc[:, 0]\n",
    "Y = data.iloc[:, 1]"
   ]
  },
  {
   "cell_type": "code",
   "execution_count": 364,
   "id": "80cc18c9-1720-4ecc-b24b-85e7da7d9728",
   "metadata": {},
   "outputs": [
    {
     "data": {
      "image/png": "[encoded data removed]",
      "text/plain": [
       "<Figure size 432x288 with 1 Axes>"
      ]
     },
     "metadata": {
      "needs_background": "light"
     },
     "output_type": "display_data"
    }
   ],
   "source": [
    "%matplotlib inline \n",
    "plt.scatter(X, Y, color='b')\n",
    "plt.xlabel('x')\n",
    "plt.ylabel('y')\n",
    "plt.show();"
   ]
  },
  {
   "cell_type": "code",
   "execution_count": 365,
   "id": "d823407f-01bc-4cf6-8ef4-51bcf7b6c171",
   "metadata": {},
   "outputs": [],
   "source": [
    "def gradient_descent(X, y, learning_rate=0.000001, epochs=1000):\n",
    "    \"\"\"\n",
    "    This function will preform gradient descent\n",
    "    \"\"\"\n",
    "    m = 0\n",
    "    b = 0\n",
    "    for i in range(epochs):\n",
    "        y_pred = (m*X) + b\n",
    "        derivative_m = 2 * sum((y_pred-y)*X)\n",
    "        derivative_b = 2 * sum(y_pred-y)\n",
    "        m = m - learning_rate * derivative_m\n",
    "        b = b - learning_rate * derivative_b\n",
    "        \n",
    "    return m,b"
   ]
  },
  {
   "cell_type": "code",
   "execution_count": 366,
   "id": "4ff27bd2-53a1-4bdf-b0b6-ac05cd560263",
   "metadata": {},
   "outputs": [],
   "source": [
    "m,b = gradient_descent(X, Y)"
   ]
  },
  {
   "cell_type": "code",
   "execution_count": 367,
   "id": "b94ac81f-eb02-453e-8323-bcdceda26fa3",
   "metadata": {},
   "outputs": [
    {
     "data": {
      "image/png": "[encoded data removed]",
      "text/plain": [
       "<Figure size 432x288 with 1 Axes>"
      ]
     },
     "metadata": {
      "needs_background": "light"
     },
     "output_type": "display_data"
    }
   ],
   "source": [
    "plt.scatter(X, Y, color='b')\n",
    "plt.plot(X, (m*X)+b, '-', color='red') # predicted\n",
    "plt.show()"
   ]
  },
  {
   "cell_type": "markdown",
   "id": "e658ede0-2dee-4452-a4c4-ae83c52f7fc1",
   "metadata": {},
   "source": [
    "# Some math\n",
    "\n",
    "#  $ sse = \\sum_{i=1}^n (y'-y)^2 = \\sum_{i=1}^n (mx+b - y)^2$\n",
    "\n",
    "$\\frac{d}{dm} = (mx+b - y)^2 = \\frac{d}{dm}[(mx+b -y)^2] =  2(mx+b - y)*\\frac{d}{dm}[(mx+b-y)] = 2(mx+b -y)*x = 2(y'-y)x$\n",
    "\n",
    "$\\frac{d}{db} = (mx+b - y)^2 =  \\frac{d}{db}[(mx+b-y)^2] = 2(mx+b-y)*\\frac{d}{db}[(mx+b-y)]=2(mx+b-y)*1=2(y'-y)$ "
   ]
  },
  {
   "cell_type": "code",
   "execution_count": null,
   "id": "59badc34-09bc-4066-b5c4-d690375afa73",
   "metadata": {},
   "outputs": [],
   "source": []
  }
 ],
 "metadata": {
  "kernelspec": {
   "display_name": "Python 3",
   "language": "python",
   "name": "python3"
  },
  "language_info": {
   "codemirror_mode": {
    "name": "ipython",
    "version": 3
   },
   "file_extension": ".py",
   "mimetype": "text/x-python",
   "name": "python",
   "nbconvert_exporter": "python",
   "pygments_lexer": "ipython3",
   "version": "3.7.3"
  }
 },
 "nbformat": 4,
 "nbformat_minor": 5
}
