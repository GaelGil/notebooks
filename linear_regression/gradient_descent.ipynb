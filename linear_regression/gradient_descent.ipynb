{
 "cells": [
  {
   "cell_type": "markdown",
   "id": "59c472c4",
   "metadata": {},
   "source": [
    "# Linear Regression with Gradient Descent\n",
    "In this notebook I will go over the basics of linear regression using gradient descent. To demonstrate this I will fit a line to some linear data. The way we do this is by finding the right coefficients for a linear model. The linear model we are using is $y=m*x+b$ where $m$ is our slope coefficient and $b$ is the intercept coefficient.\n",
    "\n",
    "Lets start by going over what a linear model is first. **So what is a linear model?** A linear model is a equation we can use to describe the relationship between two points. For example as I mentioned our linear model is $y=m*x+b$. And the relationship we are trying to describe is the relationship between some points $x$ and $y$. By relationship we mean how does our independent variable $x$ relate to out dependent variable $y$.\n",
    "\n",
    "Now that we have gone over some very basics we can start. But before we can start I will first mention that this notebook will require some basic knowledge of calculus mainly derivatives/gradients. Of course some knowledge of python will be useful to understand this notebook. Before we get started wer are going to import some tools to help us visualize and perform gradient descent."
   ]
  },
  {
   "cell_type": "code",
   "execution_count": 1,
   "id": "b59f7659",
   "metadata": {},
   "outputs": [],
   "source": [
    "import numpy as np\n",
    "import pandas as pd\n",
    "import matplotlib.pyplot as plt"
   ]
  },
  {
   "cell_type": "code",
   "execution_count": 2,
   "id": "5e9c2d58-ba53-4857-91d5-36c3c2ef10f6",
   "metadata": {},
   "outputs": [],
   "source": [
    "data = pd.read_csv('data.csv')"
   ]
  },
  {
   "cell_type": "markdown",
   "id": "bc67de9f-a2b8-43b4-831e-ac0199836924",
   "metadata": {},
   "source": [
    "# Visualizing the Data\n",
    "Now let's take a look at our data. As we can see in our dataframe we have some x and y values. But to get a closer look lets try and graph it. "
   ]
  },
  {
   "cell_type": "code",
   "execution_count": 3,
   "id": "18731c39",
   "metadata": {},
   "outputs": [
    {
     "data": {
      "text/html": [
       "<div>\n",
       "<style scoped>\n",
       "    .dataframe tbody tr th:only-of-type {\n",
       "        vertical-align: middle;\n",
       "    }\n",
       "\n",
       "    .dataframe tbody tr th {\n",
       "        vertical-align: top;\n",
       "    }\n",
       "\n",
       "    .dataframe thead th {\n",
       "        text-align: right;\n",
       "    }\n",
       "</style>\n",
       "<table border=\"1\" class=\"dataframe\">\n",
       "  <thead>\n",
       "    <tr style=\"text-align: right;\">\n",
       "      <th></th>\n",
       "      <th>x</th>\n",
       "      <th>y</th>\n",
       "    </tr>\n",
       "  </thead>\n",
       "  <tbody>\n",
       "    <tr>\n",
       "      <th>0</th>\n",
       "      <td>32.502345</td>\n",
       "      <td>31.707006</td>\n",
       "    </tr>\n",
       "    <tr>\n",
       "      <th>1</th>\n",
       "      <td>53.426804</td>\n",
       "      <td>68.777596</td>\n",
       "    </tr>\n",
       "    <tr>\n",
       "      <th>2</th>\n",
       "      <td>61.530358</td>\n",
       "      <td>62.562382</td>\n",
       "    </tr>\n",
       "    <tr>\n",
       "      <th>3</th>\n",
       "      <td>47.475640</td>\n",
       "      <td>71.546632</td>\n",
       "    </tr>\n",
       "    <tr>\n",
       "      <th>4</th>\n",
       "      <td>59.813208</td>\n",
       "      <td>87.230925</td>\n",
       "    </tr>\n",
       "  </tbody>\n",
       "</table>\n",
       "</div>"
      ],
      "text/plain": [
       "           x          y\n",
       "0  32.502345  31.707006\n",
       "1  53.426804  68.777596\n",
       "2  61.530358  62.562382\n",
       "3  47.475640  71.546632\n",
       "4  59.813208  87.230925"
      ]
     },
     "execution_count": 3,
     "metadata": {},
     "output_type": "execute_result"
    }
   ],
   "source": [
    "data.head()"
   ]
  },
  {
   "cell_type": "code",
   "execution_count": 4,
   "id": "d9605fa3",
   "metadata": {},
   "outputs": [],
   "source": [
    "# select x and y column\n",
    "X = data.x \n",
    "Y = data.y"
   ]
  },
  {
   "cell_type": "markdown",
   "id": "803f271b-8cf1-4a3b-852a-feba42dd2fd3",
   "metadata": {},
   "source": [
    "Below here we have a look at our data. The blue points is the data which we want to represent with some model. We represent the data with some model by finding the line of best fit for our data. The line of best fit is the line that best expresses a relationship between all the poitnts. As we can see the red line (bad model) below does not represent our data well. We know this because its very far from any of our data. There is also the green line (better model). This line seems to represent our data a lot better but we can still do better than this. In the sections below I will go over how we can learn which parameters (m, b) will give us the best line (model) for our data."
   ]
  },
  {
   "cell_type": "code",
   "execution_count": 5,
   "id": "c68e349e-fca0-40a6-bbfd-c3390c2674ac",
   "metadata": {},
   "outputs": [
    {
     "data": {
      "image/png": "[encoded data removed]",
      "text/plain": [
       "<Figure size 432x288 with 1 Axes>"
      ]
     },
     "metadata": {
      "needs_background": "light"
     },
     "output_type": "display_data"
    }
   ],
   "source": [
    "plt.scatter(X, Y, color='b') # the data\n",
    "plt.plot(X, (1*X)+70, '-', color='red') # random bad parameters\n",
    "plt.plot(X, (1*X)+30, '-', color='green') # random better parameters\n",
    "plt.legend([\"bad model\", \"better model\"], loc =\"lower right\")\n",
    "plt.xlabel('x')\n",
    "plt.ylabel('y')\n",
    "plt.show();"
   ]
  },
  {
   "cell_type": "markdown",
   "id": "86abe0e0-e172-4c54-b9c7-6393226bf1c6",
   "metadata": {},
   "source": [
    "# The Math of Gradient Descent\n",
    "Now that we understand what we are actually trying to achieve we can now get into how to actaully do it. As I mentioned earlier we want to learn which parameters will fit our model best. So our current model is $m*x+b$. Here $x$ represents our data. $m$ represents our slope, and $b$ represents our y intercept. One way of trying to learn which parameters will be good for our data is by randomly setting values for $m$ and $b$. This of course is not a good method because it will take a while to manauly change the values of our model. So this is why we do gradient descent. In calculus the gradient tells .... So what we are going to do is take the negative gradient. But what exactly are we taking the gradient of and why? Since we want to minimize the cost (make the error small) of our model we are going to be taking the gradient of our cost function. And we are doing this to see which $m$ and $b$ values give us the smallest error. So we will be taking the derivative of our cost function with respect to $m$ and $b$. In other words how much does $m$ and $b$ affect our cost. Our cost function in this is going to be this: \n",
    "$$ sse = \\sum_{i=1}^n (\\hat{y}-y)^2 $$\n",
    "\n",
    "This might look confusing to some but I'll break it down. $\\hat{y}$ represents the prediction of our model. $y$ represents the actual value. So what we are doing in subtracting our prediction $\\hat{y}$ by the actual value $\\hat{y}$ and squaring that differnce. The $\\sum_{} $ means we are doing it for all of our data points (from 1 to n where n is the length of our data). Now we can start taking the gradient. The gradient is the vector of partial deritavites and as I mentioned we are taking the partial derivatives of our cost function with respect $m$ and $b$. \n",
    "\n",
    "First lets start by breaking down our cost function. Since we know our $\\hat{y}$ is our prediction, then we can say:\n",
    "\n",
    "$$ \\hat{y} = m*x+b $$\n",
    "So our cost function now looks like:\n",
    "\n",
    "$$ ((m*x+b)-y)^2$$.\n",
    "\n",
    "Now that we see where our $m$ and $b$ are coming from in our cost function we can take derivatives. When we take partial derivatives every variable thats not the one we care for is treated as constant. First lets take the partial derivative of the cost function $sse$ with respect to $m$.\n",
    "\n",
    "$$\\frac{dsse}{dm} = 2(mx+b - y)\\frac{dsse}{dm}(mx+b-y) = 2(mx+b -y)*x = 2(y'-y)x$$\n",
    "This is the derivative of our cost function with respect to the $m$.\n",
    "$$\\frac{dsse}{dm} = 2(y'-y)x$$\n",
    "Now lets continue and take the partial derivative of our cost function with respect to $b$.\n",
    "$$\\frac{dsse}{dm} = 2(mx+b - y)\\frac{dsse}{db}(mx+b-y) = 2(mx+b -y)(1) = 2(y'-y)$$\n",
    "So the derivative of our cost function with respect to the $b$.\n",
    "$$\\frac{dsse}{db} = 2(y'-y)$$\n",
    "\n",
    "These functions below :\n",
    "$$ b += -(2(y'-y)x) \\hspace{10mm} m += -(2(y'-y))$$\n",
    "Will tell us in which direction we must move our $m$ and $b$ variables to. Should we increase or decrease these values to fit our data. Now we will actually do some code to peform gradient descent."
   ]
  },
  {
   "cell_type": "markdown",
   "id": "75a79ca1-7c0e-4697-8175-d52ac6d904f5",
   "metadata": {},
   "source": [
    "# Performing Gradient Descent\n",
    "Now that we gone over some of the math involved in gradient descent its time to implement it in code. Below is the code implementation of gradient descent. I will also graph the model that we get doing gradient descent."
   ]
  },
  {
   "cell_type": "code",
   "execution_count": 6,
   "id": "8bffafad",
   "metadata": {},
   "outputs": [],
   "source": [
    "def gradient_descent(X, y, learning_rate=0.000001, epochs=1000):\n",
    "    \"\"\"\n",
    "    Function to perform gradient descent. We do this by getting a prediction with our\n",
    "    current model (ex, m+X+b). We take the derivative of our cost function with respect\n",
    "    to 'm' and 'b'. We multiply this by our learning rate which will tell us which direction\n",
    "    to move by and by how much. Lastly we add that to our current 'm' and 'b' variables. We\n",
    "    repeat this for as many epochs as we have.\n",
    "    Parameters\n",
    "    ----------\n",
    "    X : dataframe\n",
    "        The column holding the x values in some linear data in a pandas dataframe. \n",
    "    y: dataframe\n",
    "        The column holding the y values in some linear data in a pandas dataframe. \n",
    "    learning_rate : float\n",
    "        The learning rate out our model (default is at 0.000001)\n",
    "    epochs: int\n",
    "        The number of iterations we are going to peform graident descent (default 1000)\n",
    "    \n",
    "    Returns\n",
    "    -------\n",
    "    int\n",
    "        The coefficient for m in our linear model with least error.\n",
    "    int\n",
    "        The coefficient for b in our linear model with least error.\n",
    "    \"\"\"\n",
    "    m = 0\n",
    "    b = 0\n",
    "    for i in range(epochs):\n",
    "        y_pred = (m*X) + b\n",
    "        derivative_m = 2 * sum((y_pred-y)*X)\n",
    "        derivative_b = 2 * sum(y_pred-y)\n",
    "        m += - learning_rate * derivative_m\n",
    "        b += - learning_rate * derivative_b\n",
    "    return m, b"
   ]
  },
  {
   "cell_type": "code",
   "execution_count": 7,
   "id": "323db27a",
   "metadata": {},
   "outputs": [],
   "source": [
    "m, b = gradient_descent(X, Y)"
   ]
  },
  {
   "cell_type": "markdown",
   "id": "e8d7772c",
   "metadata": {},
   "source": [
    "Below is a graph that shows our data and the line (model) given by performing gradient descent. As we can see the line is a lot more centered to the entired data meaning the error is much lower. We have now learned the correct value for our paramters `m` and `b`."
   ]
  },
  {
   "cell_type": "code",
   "execution_count": 8,
   "id": "224d3cc5-a1f9-4edc-897a-e0cf6e9c139d",
   "metadata": {},
   "outputs": [
    {
     "data": {
      "image/png": "[encoded data removed]",
      "text/plain": [
       "<Figure size 432x288 with 1 Axes>"
      ]
     },
     "metadata": {
      "needs_background": "light"
     },
     "output_type": "display_data"
    }
   ],
   "source": [
    "plt.scatter(X, Y, color='b')\n",
    "plt.plot(X, (m*X)+b, '-', color='red')\n",
    "plt.show()"
   ]
  },
  {
   "cell_type": "markdown",
   "id": "bf1a6e98",
   "metadata": {},
   "source": [
    "# What is Happening While We Train?\n",
    "We have now learned how we implement gradient descent to learn the best values for our model. Now I am going to visualy explain what happens when we train. To better understand this instead of using two paramters `m` and `b` I am only going to be using `m`. What I will be doing is trying different values for our paramter `m`. I will get the error produced by that value and we will graph that. Below is some code to implement that. "
   ]
  },
  {
   "cell_type": "code",
   "execution_count": 9,
   "id": "b0f8b9f9-3e0a-4d96-b3ee-fd6a672c0c52",
   "metadata": {},
   "outputs": [],
   "source": [
    "def sse(X, y, m):\n",
    "    \"\"\"Function to get the error of our model with our current coefficient.\n",
    "    \n",
    "    Parameters:\n",
    "    __________\n",
    "    X : data\n",
    "        The x values in our data\n",
    "    y : data\n",
    "        The y values in our data\n",
    "    m : int\n",
    "        The current coefficient for the model\n",
    "    \n",
    "    Returns:\n",
    "    _______\n",
    "    \n",
    "    \n",
    "    \"\"\"\n",
    "    y_pred = [((m * x)) for x in X]\n",
    "    return sum((y_pred - y)**2)"
   ]
  },
  {
   "cell_type": "code",
   "execution_count": 10,
   "id": "0c2114e7-3319-4857-a41a-ccd25b6548ac",
   "metadata": {},
   "outputs": [],
   "source": [
    "def get_error_by_coefficient(x, y):\n",
    "    coefficient_errors = []\n",
    "    for i in range(-4, 6):\n",
    "        coef_m = i\n",
    "        error = sse(x, y, coef_m)\n",
    "        coefficient_errors.append([coef_m, error])\n",
    "    errors = pd.DataFrame(coefficient_errors, columns=[\"Coef\", \"Error\"])\n",
    "    return errors"
   ]
  },
  {
   "cell_type": "code",
   "execution_count": 11,
   "id": "381c7390-8b83-4145-9368-5dd5a154ca57",
   "metadata": {},
   "outputs": [],
   "source": [
    "errors = get_error_by_coefficient(X, Y)"
   ]
  },
  {
   "cell_type": "code",
   "execution_count": 12,
   "id": "e74df8c1-3679-4782-b87c-f78906d9e067",
   "metadata": {},
   "outputs": [
    {
     "data": {
      "text/html": [
       "<div>\n",
       "<style scoped>\n",
       "    .dataframe tbody tr th:only-of-type {\n",
       "        vertical-align: middle;\n",
       "    }\n",
       "\n",
       "    .dataframe tbody tr th {\n",
       "        vertical-align: top;\n",
       "    }\n",
       "\n",
       "    .dataframe thead th {\n",
       "        text-align: right;\n",
       "    }\n",
       "</style>\n",
       "<table border=\"1\" class=\"dataframe\">\n",
       "  <thead>\n",
       "    <tr style=\"text-align: right;\">\n",
       "      <th></th>\n",
       "      <th>Coef</th>\n",
       "      <th>Error</th>\n",
       "    </tr>\n",
       "  </thead>\n",
       "  <tbody>\n",
       "    <tr>\n",
       "      <th>0</th>\n",
       "      <td>-4</td>\n",
       "      <td>7.490330e+06</td>\n",
       "    </tr>\n",
       "    <tr>\n",
       "      <th>1</th>\n",
       "      <td>-3</td>\n",
       "      <td>5.009587e+06</td>\n",
       "    </tr>\n",
       "    <tr>\n",
       "      <th>2</th>\n",
       "      <td>-2</td>\n",
       "      <td>3.027036e+06</td>\n",
       "    </tr>\n",
       "    <tr>\n",
       "      <th>3</th>\n",
       "      <td>-1</td>\n",
       "      <td>1.542677e+06</td>\n",
       "    </tr>\n",
       "    <tr>\n",
       "      <th>4</th>\n",
       "      <td>0</td>\n",
       "      <td>5.565108e+05</td>\n",
       "    </tr>\n",
       "  </tbody>\n",
       "</table>\n",
       "</div>"
      ],
      "text/plain": [
       "   Coef         Error\n",
       "0    -4  7.490330e+06\n",
       "1    -3  5.009587e+06\n",
       "2    -2  3.027036e+06\n",
       "3    -1  1.542677e+06\n",
       "4     0  5.565108e+05"
      ]
     },
     "execution_count": 12,
     "metadata": {},
     "output_type": "execute_result"
    }
   ],
   "source": [
    "# A dataframe containing the coefficient in one column and the error produced in the other\n",
    "errors.head()"
   ]
  },
  {
   "cell_type": "markdown",
   "id": "4d0c2cc7-87bb-4bce-bfff-fc4f7c8eadbf",
   "metadata": {},
   "source": [
    "Here is the graph. "
   ]
  },
  {
   "cell_type": "markdown",
   "id": "f217b4ac-5641-4186-a16e-95a8dd5592c7",
   "metadata": {},
   "source": [
    "Below is the graph of the data we just obtained. Every blue dot here is the coefficient (`x`) and the error (`y`). The coefficient that we learned using gradient descent is in red. We can see that that coefficient is the one with the least error. We can also see that the data we got from trying random coefficients forms this upside down bell curve. This makes sense since our error function is raised to the second power. But it also makes sense why our best coefficient `(red dot)` is at the center of it. At that point our slope is 0 which also means our error is zero. It may not actually be zero but its as close to zero as it can. Now if we think about what happens when we train we can think of our model starting at the left and slowly coming down to the center every iteration. This is where the learning rate comes into play. If we set a large learning rate it will overshoot. For example it will go from `coefficient=7` to `coefficient=4`. Instead we want to take small steps into the right direction. We do this by setting a smaller learning rate. "
   ]
  },
  {
   "cell_type": "code",
   "execution_count": 13,
   "id": "92d34641-f3f3-45ec-90f3-140089322b43",
   "metadata": {},
   "outputs": [
    {
     "data": {
      "text/plain": [
       "<matplotlib.collections.PathCollection at 0x2787dfbdcc0>"
      ]
     },
     "execution_count": 13,
     "metadata": {},
     "output_type": "execute_result"
    },
    {
     "data": {
      "image/png": "[encoded data removed]",
      "text/plain": [
       "<Figure size 432x288 with 1 Axes>"
      ]
     },
     "metadata": {
      "needs_background": "light"
     },
     "output_type": "display_data"
    }
   ],
   "source": [
    "plt.xlabel(\"Coefficient (m)\") # label for x axis\n",
    "plt.ylabel(\"Error\") # label for y axis\n",
    "plt.plot(m, sse(X, Y, m), \"ro\") # our best coefficent and its error\n",
    "plt.title('Error of Linear Model Given by Coefficient (m)')\n",
    "plt.scatter(errors[\"Coef\"], errors[\"Error\"]) # other coeficents and their errors"
   ]
  },
  {
   "cell_type": "markdown",
   "id": "a74b842f-f89c-4550-a3ac-196c7fd58008",
   "metadata": {},
   "source": [
    "In this notebook I have explained the basics of gradient descent. This is was a very basic example but it is a really important algorithm that can be applied to other parts of deep learning. If you want to learn more about gradien desent you can read more [here](https://en.wikipedia.org/wiki/Gradient_descent)"
   ]
  },
  {
   "cell_type": "code",
   "execution_count": null,
   "id": "39548c69-86f0-4ad4-9033-27478cb6b10e",
   "metadata": {},
   "outputs": [],
   "source": []
  }
 ],
 "metadata": {
  "kernelspec": {
   "display_name": "Python 3 (ipykernel)",
   "language": "python",
   "name": "python3"
  },
  "language_info": {
   "codemirror_mode": {
    "name": "ipython",
    "version": 3
   },
   "file_extension": ".py",
   "mimetype": "text/x-python",
   "name": "python",
   "nbconvert_exporter": "python",
   "pygments_lexer": "ipython3",
   "version": "3.10.4"
  }
 },
 "nbformat": 4,
 "nbformat_minor": 5
}
