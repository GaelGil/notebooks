{
 "cells": [
  {
   "cell_type": "markdown",
   "id": "0e51b806-7f36-4530-b0d7-23acff5ee99f",
   "metadata": {},
   "source": [
    "# Introduction/Project Overview:\n",
    "\n",
    "In this notebook, I will go over the World Health Organization Life Expectancy dataset. This dataset can be found on [kaggle](https://www.kaggle.com/datasets/kumarajarshi/life-expectancy-who). We are given data on a country, population, health issues, life expectancy, etc. Our goal would be to create a model that can accurately determine the life expectency given a some characteristics on a population. Throughout this notebook I will visualize the data, explain some data preprocessing techniques, construct and evaluate models and analyze the results.\n",
    "\n",
    "### Data Exploration & Preprocessing:\n",
    "I will go over the dataset, analyzing its various features, checking for missing values, and gaining insights into the distribution of variables. Prior to building the models, I will preprocess the data by handling missing values, encoding categorical variables, and scaling numerical features to ensure good model performance.\n",
    "\n",
    "### Model Building & Evaluation:\n",
    "In this notebook I will try implement a couple of models to try and see which ones are more accurate at predicting life expectancy. This is a supervised learning task since we are given the life expectancy of these population. Additionally this is a regression tasks because we are trying to predict a numerical value rather then put something into a category. For this notebook the models I chose is multiple linear regression, polynomial regression and a neural network. Lastly I will interpret the results of each model. \n",
    "\n",
    "\n",
    "### Conclusion:\n",
    "Finally, I will be discussing potential areas for model improvement, what stood out to me and what were some challanges. The conclusion serves more as a reflection for me on my time working on this notebook. This will serve as a good test for me to keep learning and testing my skills. Lets get to it!"
   ]
  },
  {
   "cell_type": "code",
   "execution_count": 1,
   "id": "b248c12e-b04c-4149-9126-4ff4d9abfa8b",
   "metadata": {},
   "outputs": [],
   "source": [
    "import pandas as pd\n",
    "import numpy as np\n",
    "import seaborn as sns \n",
    "import matplotlib.pyplot as plt"
   ]
  },
  {
   "cell_type": "markdown",
   "id": "d86e8cac-a333-4f75-be18-627b0cb61ad8",
   "metadata": {},
   "source": [
    "# Data Exploration & Preprocessing:\n",
    "As mentioned earlier I got the dataset from kaggle. The link to that can be found above in the project overview. The download came with a csv file. Since I have it locally on my computer I can eassily access the data as shown below. Some of the first steps we will do before creating a model is to see what our data looks like."
   ]
  },
  {
   "cell_type": "code",
   "execution_count": null,
   "id": "0819c909-3a95-4eb2-96d2-c3fd18db31f1",
   "metadata": {},
   "outputs": [],
   "source": [
    "data = pd.read_csv('./Life Expectancy Data.csv')"
   ]
  },
  {
   "cell_type": "markdown",
   "id": "5fc294f8-3624-45e8-8ee7-2bfcc7563c0e",
   "metadata": {},
   "source": [
    "Lets take a look at the first couple of entries in our dataset and what columns are int it."
   ]
  },
  {
   "cell_type": "code",
   "execution_count": null,
   "id": "037baaea-5794-4e6d-b21e-35bfa97e333e",
   "metadata": {},
   "outputs": [],
   "source": [
    "data.head(5)"
   ]
  },
  {
   "cell_type": "code",
   "execution_count": null,
   "id": "f1136c64-7f86-4ed7-a22c-27e91ce03f1b",
   "metadata": {},
   "outputs": [],
   "source": [
    "data.info()"
   ]
  },
  {
   "cell_type": "markdown",
   "id": "f34d23ab-8607-4a46-a862-a60c809dd7c9",
   "metadata": {},
   "source": [
    "So we have 22 columns in total. We have three categorical columns and 19 numeric columns. We also have quite some missing values so we will try and fill them later. The column names are pretty straight forward but if you would like to read more on them there are explanations on kaggle."
   ]
  },
  {
   "cell_type": "markdown",
   "id": "bf1f2ca2-fb07-4a66-ab42-433f18276dce",
   "metadata": {},
   "source": [
    "Lets see what other information we can get at a glance from our data. "
   ]
  },
  {
   "cell_type": "code",
   "execution_count": null,
   "id": "4074e95b-58b6-4bcb-b9cd-0ee8165c71d0",
   "metadata": {},
   "outputs": [],
   "source": [
    "data.describe()"
   ]
  },
  {
   "cell_type": "markdown",
   "id": "56a86bfb-d953-4ec7-991a-6e1091a3ef64",
   "metadata": {},
   "source": [
    "From the table we can see that the minimum life expectancy is 36 while the max is 89. The max adult mortality is 723 per thousand in population, while the min is 1. The average alcohol consumption per liters per capita is a lot lower than at I expected but the min is 0.01 which makes sense as some countries might have religious restrictions. It is also very disturbing seeing the low immunization coverage for some of the diseases. Especially when the average is pretty high for some. Overall this table gives us some interesting information on the distribution of the data. "
   ]
  },
  {
   "cell_type": "markdown",
   "id": "1e220301-9731-410a-afd4-271b1a175095",
   "metadata": {},
   "source": [
    "Below I am changing the column names because they previously gave me issues the way it was originally formated. "
   ]
  },
  {
   "cell_type": "code",
   "execution_count": null,
   "id": "fcc4000d-f630-4172-a0fa-6795ba1ba26a",
   "metadata": {},
   "outputs": [],
   "source": [
    "data.columns = [x.lower().strip().replace(' ', '_') for x in data.columns]"
   ]
  },
  {
   "cell_type": "markdown",
   "id": "e90b45fc-1488-4405-82d5-03d4155b0211",
   "metadata": {},
   "source": [
    "Now we are selecting the numerical and categorical columns so we can do some light data exploration."
   ]
  },
  {
   "cell_type": "code",
   "execution_count": null,
   "id": "786c8360-e05b-4316-b32b-4ee1acc81ba9",
   "metadata": {},
   "outputs": [],
   "source": [
    "numerical = data.select_dtypes(include=['float64', 'int64']).columns"
   ]
  },
  {
   "cell_type": "code",
   "execution_count": null,
   "id": "0115a9b3-30c4-4313-91f1-17c94cace5b6",
   "metadata": {},
   "outputs": [],
   "source": [
    "categorical = data.select_dtypes(include=['object']).columns"
   ]
  },
  {
   "cell_type": "markdown",
   "id": "00a68744-28d5-4939-9525-db2e2074c4b2",
   "metadata": {},
   "source": [
    "Lets start by checking the differences between developed and developing countries."
   ]
  },
  {
   "cell_type": "code",
   "execution_count": null,
   "id": "29679eea-5c91-4b06-8c42-aa937b6ecac0",
   "metadata": {},
   "outputs": [],
   "source": [
    "pd.pivot_table(data, index='status', values=numerical)"
   ]
  },
  {
   "cell_type": "markdown",
   "id": "f69ef643-8976-4eee-9b79-b15015116b9b",
   "metadata": {},
   "source": [
    "Above we can see that there are very big differences between the two types of countries. Developing countires have higher moratlity rates, and overall haelth issues. While the difference in immunization coverage for developed and developing countries is not a huge difference, developing countries still have less of it, which is important to note. Now lets take a look at the same data by each country."
   ]
  },
  {
   "cell_type": "code",
   "execution_count": null,
   "id": "12724a5f-7965-4b1a-a476-8c41d39dff5b",
   "metadata": {},
   "outputs": [],
   "source": [
    "pd.pivot_table(data, index='country', values=numerical)"
   ]
  },
  {
   "cell_type": "markdown",
   "id": "eceb5ad8-3207-4fed-a3de-c061f6817b8b",
   "metadata": {},
   "source": [
    "I realized that there are way too many countries to do some analysis on. I did not know that there was this many in the dataset. Regardless we can see that all these countries have distinct values. It would be interesting to see if we could possibly plot this. "
   ]
  },
  {
   "cell_type": "markdown",
   "id": "18289a3e-2cb3-41b5-aa46-91bc153c5cef",
   "metadata": {},
   "source": [
    "Now we are going to be ploting life expectancy against all other numerical columns to see if there is a relationship. We are using life expectancy because this is the column of interest that we are trying to predict later."
   ]
  },
  {
   "cell_type": "code",
   "execution_count": null,
   "id": "6f556ae7-77c9-4cf8-9364-a0863c739eec",
   "metadata": {},
   "outputs": [],
   "source": [
    "fig, axes = plt.subplots(nrows=5, ncols=4, figsize=(20, 15))\n",
    "axes = axes.flatten()\n",
    "for i, col in enumerate(numerical):\n",
    "    axes[i].scatter(data[col], data['life_expectancy'])  \n",
    "    axes[i].set_title(f'{col} vs life_expectancy')\n",
    "    axes[i].set_xlabel(col)\n",
    "    axes[i].set_ylabel('life_expectancy')\n",
    "plt.tight_layout()\n",
    "plt.show()"
   ]
  },
  {
   "cell_type": "markdown",
   "id": "fe360c5e-620c-44f2-9a14-15a2c734df7e",
   "metadata": {},
   "source": [
    "From the graphs above there does not seem to be much of a relationship between life expectancy and the other columns in the dataset. By that I mean that there is no very noticable relationship.  The columns that seem to have some relationship are adult mortality (makes sense), infant deaths, percentage expenditure, under five deaths, hiv/aids, and income composition of resources. Of these adult mortality and income composition of resources seem to be the most coralated. It is also interesting to see infant deaths and under five deaths seem very similar. Same for the thiness columns.\n",
    "\n",
    "Lastly there seems to be a group of populations that are constant in their life expectancy. For example if we look at income composition of resources we see that even at 0.0 the life expectancy changes up and down. This pattern can be seen through most graphs above. It might be some inconsistent or false reporting. \n",
    "\n",
    "Now we move on to graphing the distribution of the columns. "
   ]
  },
  {
   "cell_type": "code",
   "execution_count": null,
   "id": "6595330a-337e-4d44-8261-2220c8dfa935",
   "metadata": {},
   "outputs": [],
   "source": [
    "fig, axes = plt.subplots(nrows=5, ncols=4, figsize=(20, 15))  \n",
    "axes = axes.flatten()\n",
    "for i, col in enumerate(numerical):\n",
    "    axes[i].hist(data[col])\n",
    "    axes[i].set_title(col)\n",
    "plt.tight_layout()\n",
    "plt.show()"
   ]
  },
  {
   "cell_type": "markdown",
   "id": "3657b644-2223-43b9-8459-ce2c057e1ac0",
   "metadata": {},
   "source": [
    "Everything seems alright, theres no big outliers. We will normalize and scale the data later. Lets now count the number of developed and devloping countries. "
   ]
  },
  {
   "cell_type": "code",
   "execution_count": null,
   "id": "33999082-5608-40b9-970c-13452970877c",
   "metadata": {},
   "outputs": [],
   "source": [
    "data['status'].value_counts() "
   ]
  },
  {
   "cell_type": "markdown",
   "id": "0b2d5eed-dc94-488b-98da-0605a2013329",
   "metadata": {},
   "source": [
    "## Filling missing Values\n",
    "Now that we have taken a look at our data, checked patterns, etc lets see what we can do about the missing values. First we must count how many values we are missing and where. "
   ]
  },
  {
   "cell_type": "code",
   "execution_count": null,
   "id": "dfc60f73-6159-484a-9d0b-929b974a376a",
   "metadata": {},
   "outputs": [],
   "source": [
    "data.isnull().sum()"
   ]
  },
  {
   "cell_type": "markdown",
   "id": "3b25e0c8-a77f-47ed-8b44-01d7f8259488",
   "metadata": {},
   "source": [
    "We have a lot of missing values all through out the columns. Most missing value is population, hepatitis and gdp. We can look into some patterns of which countries have missing values and try to see why. We can then start looking into countries that are similar to fill in the values. We'll start by seperating the data that has missing values."
   ]
  },
  {
   "cell_type": "code",
   "execution_count": null,
   "id": "9e5413a0-81c9-4b22-9d12-ad00cf19ddbb",
   "metadata": {},
   "outputs": [],
   "source": [
    "missing_data = data[data.isnull().any(axis=1)]"
   ]
  },
  {
   "cell_type": "code",
   "execution_count": null,
   "id": "b6a669c3-1e35-416b-881c-a620ca4abb4b",
   "metadata": {},
   "outputs": [],
   "source": [
    "missing_data.head(5)"
   ]
  },
  {
   "cell_type": "code",
   "execution_count": null,
   "id": "ac4d2985-e2b1-45a2-89c7-e57200249567",
   "metadata": {},
   "outputs": [],
   "source": [
    "missing_data.country.value_counts()"
   ]
  },
  {
   "cell_type": "markdown",
   "id": "69d3c179-1da7-4ead-9223-f3e33bee5bcf",
   "metadata": {},
   "source": [
    "The cell above tells us which countries seem to appear in the missing dataframe more often. We can use this to see if its a reocurring issue or a one time thing. If these countries appear often or if their values are missing often then we could look into it."
   ]
  },
  {
   "cell_type": "code",
   "execution_count": null,
   "id": "fce2757b-7e29-4fb1-9fb5-63598bd14fe7",
   "metadata": {},
   "outputs": [],
   "source": [
    "missing_data.status.value_counts()"
   ]
  },
  {
   "cell_type": "markdown",
   "id": "7505de84-ea04-4d83-822b-edfaa9ed77cd",
   "metadata": {},
   "source": [
    "For now lets look at other interesting details. There seems to be more developing countires with missing values whihc makes sense because they might not have the infrustructure to keep count of all the data. "
   ]
  },
  {
   "cell_type": "markdown",
   "id": "3104bac4-12a4-4f58-b2d0-c434f4047bc7",
   "metadata": {},
   "source": [
    "Now we want to check the rows and see the ones that only have 1 missing value."
   ]
  },
  {
   "cell_type": "code",
   "execution_count": null,
   "id": "971377bb-5ad2-425d-bbed-612a9d879624",
   "metadata": {},
   "outputs": [],
   "source": [
    "missing_counts = missing_data.isnull().sum(axis=1)\n",
    "df_one_missing = missing_data[missing_counts == 1]"
   ]
  },
  {
   "cell_type": "code",
   "execution_count": null,
   "id": "720a435e-2cf6-4ac9-ae39-d8ea7ade2d2b",
   "metadata": {},
   "outputs": [],
   "source": [
    "# missing_data[(missing_data['country'] == 'female') & (data['Pclass'] == 1) & (data['Fare'] >= 80) &"
   ]
  },
  {
   "cell_type": "code",
   "execution_count": null,
   "id": "6820621e-31f8-41d8-8757-17d3bc3b4f32",
   "metadata": {},
   "outputs": [],
   "source": [
    "len(df_one_missing)"
   ]
  },
  {
   "cell_type": "code",
   "execution_count": null,
   "id": "fa5181eb-72fe-4ccb-9427-284dd469cafa",
   "metadata": {},
   "outputs": [],
   "source": [
    "df_one_missing.isnull().sum()"
   ]
  },
  {
   "cell_type": "code",
   "execution_count": null,
   "id": "2a2a9934-bcf6-480f-948c-76a2c7be0274",
   "metadata": {},
   "outputs": [],
   "source": []
  }
 ],
 "metadata": {
  "kernelspec": {
   "display_name": "Python 3 (ipykernel)",
   "language": "python",
   "name": "python3"
  },
  "language_info": {
   "codemirror_mode": {
    "name": "ipython",
    "version": 3
   },
   "file_extension": ".py",
   "mimetype": "text/x-python",
   "name": "python",
   "nbconvert_exporter": "python",
   "pygments_lexer": "ipython3",
   "version": "3.9.6"
  }
 },
 "nbformat": 4,
 "nbformat_minor": 5
}
