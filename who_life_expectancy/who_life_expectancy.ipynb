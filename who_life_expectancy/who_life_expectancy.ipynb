{
 "cells": [
  {
   "cell_type": "markdown",
   "id": "0e51b806-7f36-4530-b0d7-23acff5ee99f",
   "metadata": {},
   "source": [
    "# Introduction/Project Overview:\n",
    "\n",
    "In this notebook, I will go over the World Health Organization Life Expectancy dataset. I found a version on kaggle that had been updated and had a higher usability score so I chose to use that. It is linked here if you want to read more about it. [dataset](https://www.kaggle.com/datasets/lashagoch/life-expectancy-who-updated). We are given data on a country, population, health issues, life expectancy, etc. Our goal would be to create a model that can accurately determine the life expectency given a some characteristics on a population. Throughout this notebook I will visualize the data, explain some data preprocessing techniques, construct and evaluate models and analyze the results.\n",
    "\n",
    "### Data Exploration & Preprocessing:\n",
    "I will go over the dataset, analyzing its various features, checking for missing values, and gaining insights into the distribution of variables. Prior to building the models, I will preprocess the data by handling missing values, encoding categorical variables, and scaling numerical features to ensure good model performance.\n",
    "\n",
    "### Model Building & Evaluation:\n",
    "In this notebook I will try implement a couple of models to try and see which ones are more accurate at predicting life expectancy. This is a supervised learning task since we are given the life expectancy of these population. Additionally this is a regression tasks because we are trying to predict a numerical value rather then put something into a category. For this notebook the models I chose is multiple linear regression, polynomial regression and a neural network. Lastly I will interpret the results of each model. \n",
    "\n",
    "\n",
    "### Conclusion:\n",
    "Finally, I will be discussing potential areas for model improvement, what stood out to me and what were some challanges. The conclusion serves more as a reflection for me on my time working on this notebook. This will serve as a good test for me to keep learning and testing my skills. Lets get to it!"
   ]
  },
  {
   "cell_type": "code",
   "execution_count": 27,
   "id": "b248c12e-b04c-4149-9126-4ff4d9abfa8b",
   "metadata": {},
   "outputs": [],
   "source": [
    "import pandas as pd\n",
    "import numpy as np\n",
    "import seaborn as sns \n",
    "import matplotlib.pyplot as plt"
   ]
  },
  {
   "cell_type": "markdown",
   "id": "d86e8cac-a333-4f75-be18-627b0cb61ad8",
   "metadata": {},
   "source": [
    "# Data Exploration & Preprocessing:\n",
    "As mentioned earlier I got the dataset from kaggle. The link to that can be found above in the project overview. The download came with a csv file. Since I have it locally on my computer I can eassily access the data as shown below. Some of the first steps we will do before creating a model is to see what our data looks like."
   ]
  },
  {
   "cell_type": "code",
   "execution_count": 28,
   "id": "0819c909-3a95-4eb2-96d2-c3fd18db31f1",
   "metadata": {},
   "outputs": [],
   "source": [
    "data = pd.read_csv('./data.csv')"
   ]
  },
  {
   "cell_type": "markdown",
   "id": "5fc294f8-3624-45e8-8ee7-2bfcc7563c0e",
   "metadata": {},
   "source": [
    "Lets take a look at the first couple of entries in our dataset and what columns are int it."
   ]
  },
  {
   "cell_type": "code",
   "execution_count": 29,
   "id": "037baaea-5794-4e6d-b21e-35bfa97e333e",
   "metadata": {},
   "outputs": [
    {
     "data": {
      "text/html": [
       "<div>\n",
       "<style scoped>\n",
       "    .dataframe tbody tr th:only-of-type {\n",
       "        vertical-align: middle;\n",
       "    }\n",
       "\n",
       "    .dataframe tbody tr th {\n",
       "        vertical-align: top;\n",
       "    }\n",
       "\n",
       "    .dataframe thead th {\n",
       "        text-align: right;\n",
       "    }\n",
       "</style>\n",
       "<table border=\"1\" class=\"dataframe\">\n",
       "  <thead>\n",
       "    <tr style=\"text-align: right;\">\n",
       "      <th></th>\n",
       "      <th>Country</th>\n",
       "      <th>Region</th>\n",
       "      <th>Year</th>\n",
       "      <th>Infant_deaths</th>\n",
       "      <th>Under_five_deaths</th>\n",
       "      <th>Adult_mortality</th>\n",
       "      <th>Alcohol_consumption</th>\n",
       "      <th>Hepatitis_B</th>\n",
       "      <th>Measles</th>\n",
       "      <th>BMI</th>\n",
       "      <th>...</th>\n",
       "      <th>Diphtheria</th>\n",
       "      <th>Incidents_HIV</th>\n",
       "      <th>GDP_per_capita</th>\n",
       "      <th>Population_mln</th>\n",
       "      <th>Thinness_ten_nineteen_years</th>\n",
       "      <th>Thinness_five_nine_years</th>\n",
       "      <th>Schooling</th>\n",
       "      <th>Economy_status_Developed</th>\n",
       "      <th>Economy_status_Developing</th>\n",
       "      <th>Life_expectancy</th>\n",
       "    </tr>\n",
       "  </thead>\n",
       "  <tbody>\n",
       "    <tr>\n",
       "      <th>0</th>\n",
       "      <td>Turkiye</td>\n",
       "      <td>Middle East</td>\n",
       "      <td>2015</td>\n",
       "      <td>11.1</td>\n",
       "      <td>13.0</td>\n",
       "      <td>105.8240</td>\n",
       "      <td>1.32</td>\n",
       "      <td>97</td>\n",
       "      <td>65</td>\n",
       "      <td>27.8</td>\n",
       "      <td>...</td>\n",
       "      <td>97</td>\n",
       "      <td>0.08</td>\n",
       "      <td>11006</td>\n",
       "      <td>78.53</td>\n",
       "      <td>4.9</td>\n",
       "      <td>4.8</td>\n",
       "      <td>7.8</td>\n",
       "      <td>0</td>\n",
       "      <td>1</td>\n",
       "      <td>76.5</td>\n",
       "    </tr>\n",
       "    <tr>\n",
       "      <th>1</th>\n",
       "      <td>Spain</td>\n",
       "      <td>European Union</td>\n",
       "      <td>2015</td>\n",
       "      <td>2.7</td>\n",
       "      <td>3.3</td>\n",
       "      <td>57.9025</td>\n",
       "      <td>10.35</td>\n",
       "      <td>97</td>\n",
       "      <td>94</td>\n",
       "      <td>26.0</td>\n",
       "      <td>...</td>\n",
       "      <td>97</td>\n",
       "      <td>0.09</td>\n",
       "      <td>25742</td>\n",
       "      <td>46.44</td>\n",
       "      <td>0.6</td>\n",
       "      <td>0.5</td>\n",
       "      <td>9.7</td>\n",
       "      <td>1</td>\n",
       "      <td>0</td>\n",
       "      <td>82.8</td>\n",
       "    </tr>\n",
       "    <tr>\n",
       "      <th>2</th>\n",
       "      <td>India</td>\n",
       "      <td>Asia</td>\n",
       "      <td>2007</td>\n",
       "      <td>51.5</td>\n",
       "      <td>67.9</td>\n",
       "      <td>201.0765</td>\n",
       "      <td>1.57</td>\n",
       "      <td>60</td>\n",
       "      <td>35</td>\n",
       "      <td>21.2</td>\n",
       "      <td>...</td>\n",
       "      <td>64</td>\n",
       "      <td>0.13</td>\n",
       "      <td>1076</td>\n",
       "      <td>1183.21</td>\n",
       "      <td>27.1</td>\n",
       "      <td>28.0</td>\n",
       "      <td>5.0</td>\n",
       "      <td>0</td>\n",
       "      <td>1</td>\n",
       "      <td>65.4</td>\n",
       "    </tr>\n",
       "    <tr>\n",
       "      <th>3</th>\n",
       "      <td>Guyana</td>\n",
       "      <td>South America</td>\n",
       "      <td>2006</td>\n",
       "      <td>32.8</td>\n",
       "      <td>40.5</td>\n",
       "      <td>222.1965</td>\n",
       "      <td>5.68</td>\n",
       "      <td>93</td>\n",
       "      <td>74</td>\n",
       "      <td>25.3</td>\n",
       "      <td>...</td>\n",
       "      <td>93</td>\n",
       "      <td>0.79</td>\n",
       "      <td>4146</td>\n",
       "      <td>0.75</td>\n",
       "      <td>5.7</td>\n",
       "      <td>5.5</td>\n",
       "      <td>7.9</td>\n",
       "      <td>0</td>\n",
       "      <td>1</td>\n",
       "      <td>67.0</td>\n",
       "    </tr>\n",
       "    <tr>\n",
       "      <th>4</th>\n",
       "      <td>Costa Rica</td>\n",
       "      <td>Central America and Caribbean</td>\n",
       "      <td>2006</td>\n",
       "      <td>9.8</td>\n",
       "      <td>11.2</td>\n",
       "      <td>95.2200</td>\n",
       "      <td>4.19</td>\n",
       "      <td>88</td>\n",
       "      <td>86</td>\n",
       "      <td>26.4</td>\n",
       "      <td>...</td>\n",
       "      <td>89</td>\n",
       "      <td>0.16</td>\n",
       "      <td>9110</td>\n",
       "      <td>4.35</td>\n",
       "      <td>2.0</td>\n",
       "      <td>1.9</td>\n",
       "      <td>7.9</td>\n",
       "      <td>0</td>\n",
       "      <td>1</td>\n",
       "      <td>78.2</td>\n",
       "    </tr>\n",
       "  </tbody>\n",
       "</table>\n",
       "<p>5 rows × 21 columns</p>\n",
       "</div>"
      ],
      "text/plain": [
       "      Country                         Region  Year  Infant_deaths  \\\n",
       "0     Turkiye                    Middle East  2015           11.1   \n",
       "1       Spain                 European Union  2015            2.7   \n",
       "2       India                           Asia  2007           51.5   \n",
       "3      Guyana                  South America  2006           32.8   \n",
       "4  Costa Rica  Central America and Caribbean  2006            9.8   \n",
       "\n",
       "   Under_five_deaths  Adult_mortality  Alcohol_consumption  Hepatitis_B  \\\n",
       "0               13.0         105.8240                 1.32           97   \n",
       "1                3.3          57.9025                10.35           97   \n",
       "2               67.9         201.0765                 1.57           60   \n",
       "3               40.5         222.1965                 5.68           93   \n",
       "4               11.2          95.2200                 4.19           88   \n",
       "\n",
       "   Measles   BMI  ...  Diphtheria  Incidents_HIV  GDP_per_capita  \\\n",
       "0       65  27.8  ...          97           0.08           11006   \n",
       "1       94  26.0  ...          97           0.09           25742   \n",
       "2       35  21.2  ...          64           0.13            1076   \n",
       "3       74  25.3  ...          93           0.79            4146   \n",
       "4       86  26.4  ...          89           0.16            9110   \n",
       "\n",
       "   Population_mln  Thinness_ten_nineteen_years  Thinness_five_nine_years  \\\n",
       "0           78.53                          4.9                       4.8   \n",
       "1           46.44                          0.6                       0.5   \n",
       "2         1183.21                         27.1                      28.0   \n",
       "3            0.75                          5.7                       5.5   \n",
       "4            4.35                          2.0                       1.9   \n",
       "\n",
       "   Schooling  Economy_status_Developed  Economy_status_Developing  \\\n",
       "0        7.8                         0                          1   \n",
       "1        9.7                         1                          0   \n",
       "2        5.0                         0                          1   \n",
       "3        7.9                         0                          1   \n",
       "4        7.9                         0                          1   \n",
       "\n",
       "   Life_expectancy  \n",
       "0             76.5  \n",
       "1             82.8  \n",
       "2             65.4  \n",
       "3             67.0  \n",
       "4             78.2  \n",
       "\n",
       "[5 rows x 21 columns]"
      ]
     },
     "execution_count": 29,
     "metadata": {},
     "output_type": "execute_result"
    }
   ],
   "source": [
    "data.head(5)"
   ]
  },
  {
   "cell_type": "code",
   "execution_count": 30,
   "id": "f1136c64-7f86-4ed7-a22c-27e91ce03f1b",
   "metadata": {},
   "outputs": [
    {
     "name": "stdout",
     "output_type": "stream",
     "text": [
      "<class 'pandas.core.frame.DataFrame'>\n",
      "RangeIndex: 2848 entries, 0 to 2847\n",
      "Data columns (total 21 columns):\n",
      " #   Column                       Non-Null Count  Dtype  \n",
      "---  ------                       --------------  -----  \n",
      " 0   Country                      2848 non-null   object \n",
      " 1   Region                       2848 non-null   object \n",
      " 2   Year                         2848 non-null   int64  \n",
      " 3   Infant_deaths                2848 non-null   float64\n",
      " 4   Under_five_deaths            2848 non-null   float64\n",
      " 5   Adult_mortality              2848 non-null   float64\n",
      " 6   Alcohol_consumption          2848 non-null   float64\n",
      " 7   Hepatitis_B                  2848 non-null   int64  \n",
      " 8   Measles                      2848 non-null   int64  \n",
      " 9   BMI                          2848 non-null   float64\n",
      " 10  Polio                        2848 non-null   int64  \n",
      " 11  Diphtheria                   2848 non-null   int64  \n",
      " 12  Incidents_HIV                2848 non-null   float64\n",
      " 13  GDP_per_capita               2848 non-null   int64  \n",
      " 14  Population_mln               2848 non-null   float64\n",
      " 15  Thinness_ten_nineteen_years  2848 non-null   float64\n",
      " 16  Thinness_five_nine_years     2848 non-null   float64\n",
      " 17  Schooling                    2848 non-null   float64\n",
      " 18  Economy_status_Developed     2848 non-null   int64  \n",
      " 19  Economy_status_Developing    2848 non-null   int64  \n",
      " 20  Life_expectancy              2848 non-null   float64\n",
      "dtypes: float64(11), int64(8), object(2)\n",
      "memory usage: 467.4+ KB\n"
     ]
    }
   ],
   "source": [
    "data.info()"
   ]
  },
  {
   "cell_type": "markdown",
   "id": "f34d23ab-8607-4a46-a862-a60c809dd7c9",
   "metadata": {},
   "source": [
    "So we have 22 columns in total. We have three categorical columns and 19 numeric columns. We also have quite some missing values so we will try and fill them later. The column names are pretty straight forward but if you would like to read more on them there are explanations on kaggle."
   ]
  },
  {
   "cell_type": "markdown",
   "id": "bf1f2ca2-fb07-4a66-ab42-433f18276dce",
   "metadata": {},
   "source": [
    "Lets see what other information we can get at a glance from our data. "
   ]
  },
  {
   "cell_type": "code",
   "execution_count": 31,
   "id": "4074e95b-58b6-4bcb-b9cd-0ee8165c71d0",
   "metadata": {},
   "outputs": [
    {
     "data": {
      "text/html": [
       "<div>\n",
       "<style scoped>\n",
       "    .dataframe tbody tr th:only-of-type {\n",
       "        vertical-align: middle;\n",
       "    }\n",
       "\n",
       "    .dataframe tbody tr th {\n",
       "        vertical-align: top;\n",
       "    }\n",
       "\n",
       "    .dataframe thead th {\n",
       "        text-align: right;\n",
       "    }\n",
       "</style>\n",
       "<table border=\"1\" class=\"dataframe\">\n",
       "  <thead>\n",
       "    <tr style=\"text-align: right;\">\n",
       "      <th></th>\n",
       "      <th>Year</th>\n",
       "      <th>Infant_deaths</th>\n",
       "      <th>Under_five_deaths</th>\n",
       "      <th>Adult_mortality</th>\n",
       "      <th>Alcohol_consumption</th>\n",
       "      <th>Hepatitis_B</th>\n",
       "      <th>Measles</th>\n",
       "      <th>BMI</th>\n",
       "      <th>Polio</th>\n",
       "      <th>Diphtheria</th>\n",
       "      <th>Incidents_HIV</th>\n",
       "      <th>GDP_per_capita</th>\n",
       "      <th>Population_mln</th>\n",
       "      <th>Thinness_ten_nineteen_years</th>\n",
       "      <th>Thinness_five_nine_years</th>\n",
       "      <th>Schooling</th>\n",
       "      <th>Economy_status_Developed</th>\n",
       "      <th>Economy_status_Developing</th>\n",
       "      <th>Life_expectancy</th>\n",
       "    </tr>\n",
       "  </thead>\n",
       "  <tbody>\n",
       "    <tr>\n",
       "      <th>count</th>\n",
       "      <td>2848.000000</td>\n",
       "      <td>2848.000000</td>\n",
       "      <td>2848.000000</td>\n",
       "      <td>2848.000000</td>\n",
       "      <td>2848.000000</td>\n",
       "      <td>2848.00000</td>\n",
       "      <td>2848.000000</td>\n",
       "      <td>2848.000000</td>\n",
       "      <td>2848.000000</td>\n",
       "      <td>2848.000000</td>\n",
       "      <td>2848.000000</td>\n",
       "      <td>2848.000000</td>\n",
       "      <td>2848.000000</td>\n",
       "      <td>2848.000000</td>\n",
       "      <td>2848.000000</td>\n",
       "      <td>2848.000000</td>\n",
       "      <td>2848.000000</td>\n",
       "      <td>2848.000000</td>\n",
       "      <td>2848.000000</td>\n",
       "    </tr>\n",
       "    <tr>\n",
       "      <th>mean</th>\n",
       "      <td>2007.500000</td>\n",
       "      <td>30.510955</td>\n",
       "      <td>43.150456</td>\n",
       "      <td>192.962955</td>\n",
       "      <td>4.833032</td>\n",
       "      <td>84.21875</td>\n",
       "      <td>77.250351</td>\n",
       "      <td>25.023455</td>\n",
       "      <td>86.456110</td>\n",
       "      <td>86.227879</td>\n",
       "      <td>0.898862</td>\n",
       "      <td>11430.386938</td>\n",
       "      <td>36.840976</td>\n",
       "      <td>4.886763</td>\n",
       "      <td>4.921173</td>\n",
       "      <td>7.604951</td>\n",
       "      <td>0.202247</td>\n",
       "      <td>0.797753</td>\n",
       "      <td>68.789010</td>\n",
       "    </tr>\n",
       "    <tr>\n",
       "      <th>std</th>\n",
       "      <td>4.610582</td>\n",
       "      <td>27.545025</td>\n",
       "      <td>44.604702</td>\n",
       "      <td>114.837818</td>\n",
       "      <td>3.989790</td>\n",
       "      <td>16.00973</td>\n",
       "      <td>18.667562</td>\n",
       "      <td>2.196260</td>\n",
       "      <td>15.111162</td>\n",
       "      <td>15.566384</td>\n",
       "      <td>2.387287</td>\n",
       "      <td>16916.391089</td>\n",
       "      <td>136.851020</td>\n",
       "      <td>4.441881</td>\n",
       "      <td>4.528915</td>\n",
       "      <td>3.159514</td>\n",
       "      <td>0.401746</td>\n",
       "      <td>0.401746</td>\n",
       "      <td>9.388885</td>\n",
       "    </tr>\n",
       "    <tr>\n",
       "      <th>min</th>\n",
       "      <td>2000.000000</td>\n",
       "      <td>1.800000</td>\n",
       "      <td>2.300000</td>\n",
       "      <td>49.384000</td>\n",
       "      <td>0.000000</td>\n",
       "      <td>12.00000</td>\n",
       "      <td>10.000000</td>\n",
       "      <td>19.800000</td>\n",
       "      <td>8.000000</td>\n",
       "      <td>16.000000</td>\n",
       "      <td>0.010000</td>\n",
       "      <td>148.000000</td>\n",
       "      <td>0.080000</td>\n",
       "      <td>0.100000</td>\n",
       "      <td>0.100000</td>\n",
       "      <td>1.100000</td>\n",
       "      <td>0.000000</td>\n",
       "      <td>0.000000</td>\n",
       "      <td>39.400000</td>\n",
       "    </tr>\n",
       "    <tr>\n",
       "      <th>25%</th>\n",
       "      <td>2003.750000</td>\n",
       "      <td>8.200000</td>\n",
       "      <td>9.800000</td>\n",
       "      <td>108.346000</td>\n",
       "      <td>1.197500</td>\n",
       "      <td>78.00000</td>\n",
       "      <td>64.000000</td>\n",
       "      <td>23.200000</td>\n",
       "      <td>81.000000</td>\n",
       "      <td>81.000000</td>\n",
       "      <td>0.080000</td>\n",
       "      <td>1404.250000</td>\n",
       "      <td>2.070000</td>\n",
       "      <td>1.600000</td>\n",
       "      <td>1.600000</td>\n",
       "      <td>5.000000</td>\n",
       "      <td>0.000000</td>\n",
       "      <td>1.000000</td>\n",
       "      <td>62.675000</td>\n",
       "    </tr>\n",
       "    <tr>\n",
       "      <th>50%</th>\n",
       "      <td>2007.500000</td>\n",
       "      <td>19.800000</td>\n",
       "      <td>23.200000</td>\n",
       "      <td>164.422250</td>\n",
       "      <td>4.055000</td>\n",
       "      <td>89.00000</td>\n",
       "      <td>83.000000</td>\n",
       "      <td>25.500000</td>\n",
       "      <td>93.000000</td>\n",
       "      <td>93.000000</td>\n",
       "      <td>0.160000</td>\n",
       "      <td>4169.000000</td>\n",
       "      <td>7.925000</td>\n",
       "      <td>3.400000</td>\n",
       "      <td>3.400000</td>\n",
       "      <td>7.800000</td>\n",
       "      <td>0.000000</td>\n",
       "      <td>1.000000</td>\n",
       "      <td>71.300000</td>\n",
       "    </tr>\n",
       "    <tr>\n",
       "      <th>75%</th>\n",
       "      <td>2011.250000</td>\n",
       "      <td>47.725000</td>\n",
       "      <td>66.325000</td>\n",
       "      <td>248.099750</td>\n",
       "      <td>7.810000</td>\n",
       "      <td>96.00000</td>\n",
       "      <td>93.000000</td>\n",
       "      <td>26.400000</td>\n",
       "      <td>97.000000</td>\n",
       "      <td>97.000000</td>\n",
       "      <td>0.470000</td>\n",
       "      <td>12255.750000</td>\n",
       "      <td>23.850000</td>\n",
       "      <td>7.200000</td>\n",
       "      <td>7.300000</td>\n",
       "      <td>10.300000</td>\n",
       "      <td>0.000000</td>\n",
       "      <td>1.000000</td>\n",
       "      <td>75.400000</td>\n",
       "    </tr>\n",
       "    <tr>\n",
       "      <th>max</th>\n",
       "      <td>2015.000000</td>\n",
       "      <td>138.100000</td>\n",
       "      <td>224.900000</td>\n",
       "      <td>719.360500</td>\n",
       "      <td>17.870000</td>\n",
       "      <td>99.00000</td>\n",
       "      <td>99.000000</td>\n",
       "      <td>32.100000</td>\n",
       "      <td>99.000000</td>\n",
       "      <td>99.000000</td>\n",
       "      <td>21.680000</td>\n",
       "      <td>112418.000000</td>\n",
       "      <td>1379.860000</td>\n",
       "      <td>27.700000</td>\n",
       "      <td>28.600000</td>\n",
       "      <td>14.100000</td>\n",
       "      <td>1.000000</td>\n",
       "      <td>1.000000</td>\n",
       "      <td>83.800000</td>\n",
       "    </tr>\n",
       "  </tbody>\n",
       "</table>\n",
       "</div>"
      ],
      "text/plain": [
       "              Year  Infant_deaths  Under_five_deaths  Adult_mortality  \\\n",
       "count  2848.000000    2848.000000        2848.000000      2848.000000   \n",
       "mean   2007.500000      30.510955          43.150456       192.962955   \n",
       "std       4.610582      27.545025          44.604702       114.837818   \n",
       "min    2000.000000       1.800000           2.300000        49.384000   \n",
       "25%    2003.750000       8.200000           9.800000       108.346000   \n",
       "50%    2007.500000      19.800000          23.200000       164.422250   \n",
       "75%    2011.250000      47.725000          66.325000       248.099750   \n",
       "max    2015.000000     138.100000         224.900000       719.360500   \n",
       "\n",
       "       Alcohol_consumption  Hepatitis_B      Measles          BMI  \\\n",
       "count          2848.000000   2848.00000  2848.000000  2848.000000   \n",
       "mean              4.833032     84.21875    77.250351    25.023455   \n",
       "std               3.989790     16.00973    18.667562     2.196260   \n",
       "min               0.000000     12.00000    10.000000    19.800000   \n",
       "25%               1.197500     78.00000    64.000000    23.200000   \n",
       "50%               4.055000     89.00000    83.000000    25.500000   \n",
       "75%               7.810000     96.00000    93.000000    26.400000   \n",
       "max              17.870000     99.00000    99.000000    32.100000   \n",
       "\n",
       "             Polio   Diphtheria  Incidents_HIV  GDP_per_capita  \\\n",
       "count  2848.000000  2848.000000    2848.000000     2848.000000   \n",
       "mean     86.456110    86.227879       0.898862    11430.386938   \n",
       "std      15.111162    15.566384       2.387287    16916.391089   \n",
       "min       8.000000    16.000000       0.010000      148.000000   \n",
       "25%      81.000000    81.000000       0.080000     1404.250000   \n",
       "50%      93.000000    93.000000       0.160000     4169.000000   \n",
       "75%      97.000000    97.000000       0.470000    12255.750000   \n",
       "max      99.000000    99.000000      21.680000   112418.000000   \n",
       "\n",
       "       Population_mln  Thinness_ten_nineteen_years  Thinness_five_nine_years  \\\n",
       "count     2848.000000                  2848.000000               2848.000000   \n",
       "mean        36.840976                     4.886763                  4.921173   \n",
       "std        136.851020                     4.441881                  4.528915   \n",
       "min          0.080000                     0.100000                  0.100000   \n",
       "25%          2.070000                     1.600000                  1.600000   \n",
       "50%          7.925000                     3.400000                  3.400000   \n",
       "75%         23.850000                     7.200000                  7.300000   \n",
       "max       1379.860000                    27.700000                 28.600000   \n",
       "\n",
       "         Schooling  Economy_status_Developed  Economy_status_Developing  \\\n",
       "count  2848.000000               2848.000000                2848.000000   \n",
       "mean      7.604951                  0.202247                   0.797753   \n",
       "std       3.159514                  0.401746                   0.401746   \n",
       "min       1.100000                  0.000000                   0.000000   \n",
       "25%       5.000000                  0.000000                   1.000000   \n",
       "50%       7.800000                  0.000000                   1.000000   \n",
       "75%      10.300000                  0.000000                   1.000000   \n",
       "max      14.100000                  1.000000                   1.000000   \n",
       "\n",
       "       Life_expectancy  \n",
       "count      2848.000000  \n",
       "mean         68.789010  \n",
       "std           9.388885  \n",
       "min          39.400000  \n",
       "25%          62.675000  \n",
       "50%          71.300000  \n",
       "75%          75.400000  \n",
       "max          83.800000  "
      ]
     },
     "execution_count": 31,
     "metadata": {},
     "output_type": "execute_result"
    }
   ],
   "source": [
    "data.describe()"
   ]
  },
  {
   "cell_type": "markdown",
   "id": "56a86bfb-d953-4ec7-991a-6e1091a3ef64",
   "metadata": {},
   "source": [
    "From the table we can see that the minimum life expectancy is 36 while the max is 89. The max adult mortality is 723 per thousand in population, while the min is 1. The average alcohol consumption per liters per capita is a lot lower than at I expected but the min is 0.01 which makes sense as some countries might have religious restrictions. It is also very disturbing seeing the low immunization coverage for some of the diseases. Especially when the average is pretty high for some. Overall this table gives us some interesting information on the distribution of the data. "
   ]
  },
  {
   "cell_type": "markdown",
   "id": "1e220301-9731-410a-afd4-271b1a175095",
   "metadata": {},
   "source": [
    "Below I am changing the column names to be lower case because they previously gave me issues the way it was originally formated. "
   ]
  },
  {
   "cell_type": "code",
   "execution_count": 32,
   "id": "fcc4000d-f630-4172-a0fa-6795ba1ba26a",
   "metadata": {},
   "outputs": [],
   "source": [
    "data.columns = data.columns.str.lower()"
   ]
  },
  {
   "cell_type": "markdown",
   "id": "e90b45fc-1488-4405-82d5-03d4155b0211",
   "metadata": {},
   "source": [
    "Now we are selecting the numerical and categorical columns so we can do some light data exploration."
   ]
  },
  {
   "cell_type": "code",
   "execution_count": 33,
   "id": "786c8360-e05b-4316-b32b-4ee1acc81ba9",
   "metadata": {},
   "outputs": [],
   "source": [
    "numerical = data.select_dtypes(include=['float64', 'int64']).columns"
   ]
  },
  {
   "cell_type": "code",
   "execution_count": 34,
   "id": "5673a966-6504-4a0d-9d2e-90b75d948497",
   "metadata": {},
   "outputs": [],
   "source": [
    "categorical = data.select_dtypes(include=['object']).columns"
   ]
  },
  {
   "cell_type": "markdown",
   "id": "00a68744-28d5-4939-9525-db2e2074c4b2",
   "metadata": {},
   "source": [
    "Lets start by checking the differences between developed and developing countries."
   ]
  },
  {
   "cell_type": "code",
   "execution_count": 35,
   "id": "29679eea-5c91-4b06-8c42-aa937b6ecac0",
   "metadata": {},
   "outputs": [
    {
     "ename": "ValueError",
     "evalue": "Grouper for 'economy_status_developed' not 1-dimensional",
     "output_type": "error",
     "traceback": [
      "\u001b[0;31m---------------------------------------------------------------------------\u001b[0m",
      "\u001b[0;31mValueError\u001b[0m                                Traceback (most recent call last)",
      "Cell \u001b[0;32mIn[35], line 1\u001b[0m\n\u001b[0;32m----> 1\u001b[0m \u001b[43mpd\u001b[49m\u001b[38;5;241;43m.\u001b[39;49m\u001b[43mpivot_table\u001b[49m\u001b[43m(\u001b[49m\u001b[43mdata\u001b[49m\u001b[43m,\u001b[49m\u001b[43m \u001b[49m\u001b[43mindex\u001b[49m\u001b[38;5;241;43m=\u001b[39;49m\u001b[38;5;124;43m'\u001b[39;49m\u001b[38;5;124;43meconomy_status_developed\u001b[39;49m\u001b[38;5;124;43m'\u001b[39;49m\u001b[43m,\u001b[49m\u001b[43m \u001b[49m\u001b[43mvalues\u001b[49m\u001b[38;5;241;43m=\u001b[39;49m\u001b[43mnumerical\u001b[49m\u001b[43m)\u001b[49m\n",
      "File \u001b[0;32m~/git_repos/notebooks/who_life_expectancy/env/lib/python3.9/site-packages/pandas/core/reshape/pivot.py:102\u001b[0m, in \u001b[0;36mpivot_table\u001b[0;34m(data, values, index, columns, aggfunc, fill_value, margins, dropna, margins_name, observed, sort)\u001b[0m\n\u001b[1;32m     99\u001b[0m     table \u001b[38;5;241m=\u001b[39m concat(pieces, keys\u001b[38;5;241m=\u001b[39mkeys, axis\u001b[38;5;241m=\u001b[39m\u001b[38;5;241m1\u001b[39m)\n\u001b[1;32m    100\u001b[0m     \u001b[38;5;28;01mreturn\u001b[39;00m table\u001b[38;5;241m.\u001b[39m__finalize__(data, method\u001b[38;5;241m=\u001b[39m\u001b[38;5;124m\"\u001b[39m\u001b[38;5;124mpivot_table\u001b[39m\u001b[38;5;124m\"\u001b[39m)\n\u001b[0;32m--> 102\u001b[0m table \u001b[38;5;241m=\u001b[39m \u001b[43m__internal_pivot_table\u001b[49m\u001b[43m(\u001b[49m\n\u001b[1;32m    103\u001b[0m \u001b[43m    \u001b[49m\u001b[43mdata\u001b[49m\u001b[43m,\u001b[49m\n\u001b[1;32m    104\u001b[0m \u001b[43m    \u001b[49m\u001b[43mvalues\u001b[49m\u001b[43m,\u001b[49m\n\u001b[1;32m    105\u001b[0m \u001b[43m    \u001b[49m\u001b[43mindex\u001b[49m\u001b[43m,\u001b[49m\n\u001b[1;32m    106\u001b[0m \u001b[43m    \u001b[49m\u001b[43mcolumns\u001b[49m\u001b[43m,\u001b[49m\n\u001b[1;32m    107\u001b[0m \u001b[43m    \u001b[49m\u001b[43maggfunc\u001b[49m\u001b[43m,\u001b[49m\n\u001b[1;32m    108\u001b[0m \u001b[43m    \u001b[49m\u001b[43mfill_value\u001b[49m\u001b[43m,\u001b[49m\n\u001b[1;32m    109\u001b[0m \u001b[43m    \u001b[49m\u001b[43mmargins\u001b[49m\u001b[43m,\u001b[49m\n\u001b[1;32m    110\u001b[0m \u001b[43m    \u001b[49m\u001b[43mdropna\u001b[49m\u001b[43m,\u001b[49m\n\u001b[1;32m    111\u001b[0m \u001b[43m    \u001b[49m\u001b[43mmargins_name\u001b[49m\u001b[43m,\u001b[49m\n\u001b[1;32m    112\u001b[0m \u001b[43m    \u001b[49m\u001b[43mobserved\u001b[49m\u001b[43m,\u001b[49m\n\u001b[1;32m    113\u001b[0m \u001b[43m    \u001b[49m\u001b[43msort\u001b[49m\u001b[43m,\u001b[49m\n\u001b[1;32m    114\u001b[0m \u001b[43m\u001b[49m\u001b[43m)\u001b[49m\n\u001b[1;32m    115\u001b[0m \u001b[38;5;28;01mreturn\u001b[39;00m table\u001b[38;5;241m.\u001b[39m__finalize__(data, method\u001b[38;5;241m=\u001b[39m\u001b[38;5;124m\"\u001b[39m\u001b[38;5;124mpivot_table\u001b[39m\u001b[38;5;124m\"\u001b[39m)\n",
      "File \u001b[0;32m~/git_repos/notebooks/who_life_expectancy/env/lib/python3.9/site-packages/pandas/core/reshape/pivot.py:172\u001b[0m, in \u001b[0;36m__internal_pivot_table\u001b[0;34m(data, values, index, columns, aggfunc, fill_value, margins, dropna, margins_name, observed, sort)\u001b[0m\n\u001b[1;32m    169\u001b[0m     values \u001b[38;5;241m=\u001b[39m \u001b[38;5;28mlist\u001b[39m(values)\n\u001b[1;32m    171\u001b[0m observed_bool \u001b[38;5;241m=\u001b[39m \u001b[38;5;28;01mFalse\u001b[39;00m \u001b[38;5;28;01mif\u001b[39;00m observed \u001b[38;5;129;01mis\u001b[39;00m lib\u001b[38;5;241m.\u001b[39mno_default \u001b[38;5;28;01melse\u001b[39;00m observed\n\u001b[0;32m--> 172\u001b[0m grouped \u001b[38;5;241m=\u001b[39m \u001b[43mdata\u001b[49m\u001b[38;5;241;43m.\u001b[39;49m\u001b[43mgroupby\u001b[49m\u001b[43m(\u001b[49m\u001b[43mkeys\u001b[49m\u001b[43m,\u001b[49m\u001b[43m \u001b[49m\u001b[43mobserved\u001b[49m\u001b[38;5;241;43m=\u001b[39;49m\u001b[43mobserved_bool\u001b[49m\u001b[43m,\u001b[49m\u001b[43m \u001b[49m\u001b[43msort\u001b[49m\u001b[38;5;241;43m=\u001b[39;49m\u001b[43msort\u001b[49m\u001b[43m,\u001b[49m\u001b[43m \u001b[49m\u001b[43mdropna\u001b[49m\u001b[38;5;241;43m=\u001b[39;49m\u001b[43mdropna\u001b[49m\u001b[43m)\u001b[49m\n\u001b[1;32m    173\u001b[0m \u001b[38;5;28;01mif\u001b[39;00m observed \u001b[38;5;129;01mis\u001b[39;00m lib\u001b[38;5;241m.\u001b[39mno_default \u001b[38;5;129;01mand\u001b[39;00m \u001b[38;5;28many\u001b[39m(\n\u001b[1;32m    174\u001b[0m     ping\u001b[38;5;241m.\u001b[39m_passed_categorical \u001b[38;5;28;01mfor\u001b[39;00m ping \u001b[38;5;129;01min\u001b[39;00m grouped\u001b[38;5;241m.\u001b[39m_grouper\u001b[38;5;241m.\u001b[39mgroupings\n\u001b[1;32m    175\u001b[0m ):\n\u001b[1;32m    176\u001b[0m     warnings\u001b[38;5;241m.\u001b[39mwarn(\n\u001b[1;32m    177\u001b[0m         \u001b[38;5;124m\"\u001b[39m\u001b[38;5;124mThe default value of observed=False is deprecated and will change \u001b[39m\u001b[38;5;124m\"\u001b[39m\n\u001b[1;32m    178\u001b[0m         \u001b[38;5;124m\"\u001b[39m\u001b[38;5;124mto observed=True in a future version of pandas. Specify \u001b[39m\u001b[38;5;124m\"\u001b[39m\n\u001b[0;32m   (...)\u001b[0m\n\u001b[1;32m    181\u001b[0m         stacklevel\u001b[38;5;241m=\u001b[39mfind_stack_level(),\n\u001b[1;32m    182\u001b[0m     )\n",
      "File \u001b[0;32m~/git_repos/notebooks/who_life_expectancy/env/lib/python3.9/site-packages/pandas/core/frame.py:9190\u001b[0m, in \u001b[0;36mDataFrame.groupby\u001b[0;34m(self, by, axis, level, as_index, sort, group_keys, observed, dropna)\u001b[0m\n\u001b[1;32m   9187\u001b[0m \u001b[38;5;28;01mif\u001b[39;00m level \u001b[38;5;129;01mis\u001b[39;00m \u001b[38;5;28;01mNone\u001b[39;00m \u001b[38;5;129;01mand\u001b[39;00m by \u001b[38;5;129;01mis\u001b[39;00m \u001b[38;5;28;01mNone\u001b[39;00m:\n\u001b[1;32m   9188\u001b[0m     \u001b[38;5;28;01mraise\u001b[39;00m \u001b[38;5;167;01mTypeError\u001b[39;00m(\u001b[38;5;124m\"\u001b[39m\u001b[38;5;124mYou have to supply one of \u001b[39m\u001b[38;5;124m'\u001b[39m\u001b[38;5;124mby\u001b[39m\u001b[38;5;124m'\u001b[39m\u001b[38;5;124m and \u001b[39m\u001b[38;5;124m'\u001b[39m\u001b[38;5;124mlevel\u001b[39m\u001b[38;5;124m'\u001b[39m\u001b[38;5;124m\"\u001b[39m)\n\u001b[0;32m-> 9190\u001b[0m \u001b[38;5;28;01mreturn\u001b[39;00m \u001b[43mDataFrameGroupBy\u001b[49m\u001b[43m(\u001b[49m\n\u001b[1;32m   9191\u001b[0m \u001b[43m    \u001b[49m\u001b[43mobj\u001b[49m\u001b[38;5;241;43m=\u001b[39;49m\u001b[38;5;28;43mself\u001b[39;49m\u001b[43m,\u001b[49m\n\u001b[1;32m   9192\u001b[0m \u001b[43m    \u001b[49m\u001b[43mkeys\u001b[49m\u001b[38;5;241;43m=\u001b[39;49m\u001b[43mby\u001b[49m\u001b[43m,\u001b[49m\n\u001b[1;32m   9193\u001b[0m \u001b[43m    \u001b[49m\u001b[43maxis\u001b[49m\u001b[38;5;241;43m=\u001b[39;49m\u001b[43maxis\u001b[49m\u001b[43m,\u001b[49m\n\u001b[1;32m   9194\u001b[0m \u001b[43m    \u001b[49m\u001b[43mlevel\u001b[49m\u001b[38;5;241;43m=\u001b[39;49m\u001b[43mlevel\u001b[49m\u001b[43m,\u001b[49m\n\u001b[1;32m   9195\u001b[0m \u001b[43m    \u001b[49m\u001b[43mas_index\u001b[49m\u001b[38;5;241;43m=\u001b[39;49m\u001b[43mas_index\u001b[49m\u001b[43m,\u001b[49m\n\u001b[1;32m   9196\u001b[0m \u001b[43m    \u001b[49m\u001b[43msort\u001b[49m\u001b[38;5;241;43m=\u001b[39;49m\u001b[43msort\u001b[49m\u001b[43m,\u001b[49m\n\u001b[1;32m   9197\u001b[0m \u001b[43m    \u001b[49m\u001b[43mgroup_keys\u001b[49m\u001b[38;5;241;43m=\u001b[39;49m\u001b[43mgroup_keys\u001b[49m\u001b[43m,\u001b[49m\n\u001b[1;32m   9198\u001b[0m \u001b[43m    \u001b[49m\u001b[43mobserved\u001b[49m\u001b[38;5;241;43m=\u001b[39;49m\u001b[43mobserved\u001b[49m\u001b[43m,\u001b[49m\n\u001b[1;32m   9199\u001b[0m \u001b[43m    \u001b[49m\u001b[43mdropna\u001b[49m\u001b[38;5;241;43m=\u001b[39;49m\u001b[43mdropna\u001b[49m\u001b[43m,\u001b[49m\n\u001b[1;32m   9200\u001b[0m \u001b[43m\u001b[49m\u001b[43m)\u001b[49m\n",
      "File \u001b[0;32m~/git_repos/notebooks/who_life_expectancy/env/lib/python3.9/site-packages/pandas/core/groupby/groupby.py:1329\u001b[0m, in \u001b[0;36mGroupBy.__init__\u001b[0;34m(self, obj, keys, axis, level, grouper, exclusions, selection, as_index, sort, group_keys, observed, dropna)\u001b[0m\n\u001b[1;32m   1326\u001b[0m \u001b[38;5;28mself\u001b[39m\u001b[38;5;241m.\u001b[39mdropna \u001b[38;5;241m=\u001b[39m dropna\n\u001b[1;32m   1328\u001b[0m \u001b[38;5;28;01mif\u001b[39;00m grouper \u001b[38;5;129;01mis\u001b[39;00m \u001b[38;5;28;01mNone\u001b[39;00m:\n\u001b[0;32m-> 1329\u001b[0m     grouper, exclusions, obj \u001b[38;5;241m=\u001b[39m \u001b[43mget_grouper\u001b[49m\u001b[43m(\u001b[49m\n\u001b[1;32m   1330\u001b[0m \u001b[43m        \u001b[49m\u001b[43mobj\u001b[49m\u001b[43m,\u001b[49m\n\u001b[1;32m   1331\u001b[0m \u001b[43m        \u001b[49m\u001b[43mkeys\u001b[49m\u001b[43m,\u001b[49m\n\u001b[1;32m   1332\u001b[0m \u001b[43m        \u001b[49m\u001b[43maxis\u001b[49m\u001b[38;5;241;43m=\u001b[39;49m\u001b[43maxis\u001b[49m\u001b[43m,\u001b[49m\n\u001b[1;32m   1333\u001b[0m \u001b[43m        \u001b[49m\u001b[43mlevel\u001b[49m\u001b[38;5;241;43m=\u001b[39;49m\u001b[43mlevel\u001b[49m\u001b[43m,\u001b[49m\n\u001b[1;32m   1334\u001b[0m \u001b[43m        \u001b[49m\u001b[43msort\u001b[49m\u001b[38;5;241;43m=\u001b[39;49m\u001b[43msort\u001b[49m\u001b[43m,\u001b[49m\n\u001b[1;32m   1335\u001b[0m \u001b[43m        \u001b[49m\u001b[43mobserved\u001b[49m\u001b[38;5;241;43m=\u001b[39;49m\u001b[38;5;28;43;01mFalse\u001b[39;49;00m\u001b[43m \u001b[49m\u001b[38;5;28;43;01mif\u001b[39;49;00m\u001b[43m \u001b[49m\u001b[43mobserved\u001b[49m\u001b[43m \u001b[49m\u001b[38;5;129;43;01mis\u001b[39;49;00m\u001b[43m \u001b[49m\u001b[43mlib\u001b[49m\u001b[38;5;241;43m.\u001b[39;49m\u001b[43mno_default\u001b[49m\u001b[43m \u001b[49m\u001b[38;5;28;43;01melse\u001b[39;49;00m\u001b[43m \u001b[49m\u001b[43mobserved\u001b[49m\u001b[43m,\u001b[49m\n\u001b[1;32m   1336\u001b[0m \u001b[43m        \u001b[49m\u001b[43mdropna\u001b[49m\u001b[38;5;241;43m=\u001b[39;49m\u001b[38;5;28;43mself\u001b[39;49m\u001b[38;5;241;43m.\u001b[39;49m\u001b[43mdropna\u001b[49m\u001b[43m,\u001b[49m\n\u001b[1;32m   1337\u001b[0m \u001b[43m    \u001b[49m\u001b[43m)\u001b[49m\n\u001b[1;32m   1339\u001b[0m \u001b[38;5;28;01mif\u001b[39;00m observed \u001b[38;5;129;01mis\u001b[39;00m lib\u001b[38;5;241m.\u001b[39mno_default:\n\u001b[1;32m   1340\u001b[0m     \u001b[38;5;28;01mif\u001b[39;00m \u001b[38;5;28many\u001b[39m(ping\u001b[38;5;241m.\u001b[39m_passed_categorical \u001b[38;5;28;01mfor\u001b[39;00m ping \u001b[38;5;129;01min\u001b[39;00m grouper\u001b[38;5;241m.\u001b[39mgroupings):\n",
      "File \u001b[0;32m~/git_repos/notebooks/who_life_expectancy/env/lib/python3.9/site-packages/pandas/core/groupby/grouper.py:1038\u001b[0m, in \u001b[0;36mget_grouper\u001b[0;34m(obj, key, axis, level, sort, observed, validate, dropna)\u001b[0m\n\u001b[1;32m   1034\u001b[0m     in_axis, name, gpr \u001b[38;5;241m=\u001b[39m \u001b[38;5;28;01mTrue\u001b[39;00m, gpr, obj[gpr]\n\u001b[1;32m   1035\u001b[0m     \u001b[38;5;28;01mif\u001b[39;00m gpr\u001b[38;5;241m.\u001b[39mndim \u001b[38;5;241m!=\u001b[39m \u001b[38;5;241m1\u001b[39m:\n\u001b[1;32m   1036\u001b[0m         \u001b[38;5;66;03m# non-unique columns; raise here to get the name in the\u001b[39;00m\n\u001b[1;32m   1037\u001b[0m         \u001b[38;5;66;03m# exception message\u001b[39;00m\n\u001b[0;32m-> 1038\u001b[0m         \u001b[38;5;28;01mraise\u001b[39;00m \u001b[38;5;167;01mValueError\u001b[39;00m(\u001b[38;5;124mf\u001b[39m\u001b[38;5;124m\"\u001b[39m\u001b[38;5;124mGrouper for \u001b[39m\u001b[38;5;124m'\u001b[39m\u001b[38;5;132;01m{\u001b[39;00mname\u001b[38;5;132;01m}\u001b[39;00m\u001b[38;5;124m'\u001b[39m\u001b[38;5;124m not 1-dimensional\u001b[39m\u001b[38;5;124m\"\u001b[39m)\n\u001b[1;32m   1039\u001b[0m     exclusions\u001b[38;5;241m.\u001b[39madd(name)\n\u001b[1;32m   1040\u001b[0m \u001b[38;5;28;01melif\u001b[39;00m obj\u001b[38;5;241m.\u001b[39m_is_level_reference(gpr, axis\u001b[38;5;241m=\u001b[39maxis):\n",
      "\u001b[0;31mValueError\u001b[0m: Grouper for 'economy_status_developed' not 1-dimensional"
     ]
    }
   ],
   "source": [
    "pd.pivot_table(data, index='economy_status_developed', values=numerical)"
   ]
  },
  {
   "cell_type": "markdown",
   "id": "f69ef643-8976-4eee-9b79-b15015116b9b",
   "metadata": {},
   "source": [
    "Above we can see that there are very big differences between the two types of countries. Developing countires have higher moratlity rates, and overall haelth issues. While the difference in immunization coverage for developed and developing countries is not a huge difference, developing countries still have less of it, which is important to note. Now lets take a look at the same data by each country."
   ]
  },
  {
   "cell_type": "code",
   "execution_count": null,
   "id": "12724a5f-7965-4b1a-a476-8c41d39dff5b",
   "metadata": {},
   "outputs": [],
   "source": [
    "pd.pivot_table(data, index='country', values=numerical)"
   ]
  },
  {
   "cell_type": "markdown",
   "id": "eceb5ad8-3207-4fed-a3de-c061f6817b8b",
   "metadata": {},
   "source": [
    "I realized that there are way too many countries to do some analysis on. I did not know that there was this many in the dataset. Regardless we can see that all these countries have distinct values. It would be interesting to see if we could possibly plot this. "
   ]
  },
  {
   "cell_type": "markdown",
   "id": "18289a3e-2cb3-41b5-aa46-91bc153c5cef",
   "metadata": {},
   "source": [
    "Now we are going to be ploting life expectancy against all other numerical columns to see if there is a relationship. We are using life expectancy because this is the column of interest that we are trying to predict later."
   ]
  },
  {
   "cell_type": "code",
   "execution_count": null,
   "id": "6f556ae7-77c9-4cf8-9364-a0863c739eec",
   "metadata": {},
   "outputs": [],
   "source": [
    "fig, axes = plt.subplots(nrows=5, ncols=4, figsize=(20, 15))\n",
    "axes = axes.flatten()\n",
    "for i, col in enumerate(numerical):\n",
    "    axes[i].scatter(data[col], data['life_expectancy'])  \n",
    "    axes[i].set_title(f'{col} vs life_expectancy')\n",
    "    axes[i].set_xlabel(col)\n",
    "    axes[i].set_ylabel('life_expectancy')\n",
    "plt.tight_layout()\n",
    "plt.show()"
   ]
  },
  {
   "cell_type": "markdown",
   "id": "fe360c5e-620c-44f2-9a14-15a2c734df7e",
   "metadata": {},
   "source": [
    "From the graphs above there does not seem to be much of a relationship between life expectancy and the other columns in the dataset. By that I mean that there is no very noticable relationship.  The columns that seem to have some relationship are adult mortality (makes sense), infant deaths, percentage expenditure, under five deaths, hiv/aids, and income composition of resources. Of these adult mortality and income composition of resources seem to be the most coralated. It is also interesting to see infant deaths and under five deaths seem very similar. Same for the thiness columns.\n",
    "\n",
    "Lastly there seems to be a group of populations that are constant in their life expectancy. For example if we look at income composition of resources we see that even at 0.0 the life expectancy changes up and down. This pattern can be seen through most graphs above. It might be some inconsistent or false reporting. \n",
    "\n",
    "Now we move on to graphing the distribution of the columns. "
   ]
  },
  {
   "cell_type": "code",
   "execution_count": null,
   "id": "6595330a-337e-4d44-8261-2220c8dfa935",
   "metadata": {},
   "outputs": [],
   "source": [
    "fig, axes = plt.subplots(nrows=5, ncols=4, figsize=(20, 15))  \n",
    "axes = axes.flatten()\n",
    "for i, col in enumerate(numerical):\n",
    "    axes[i].hist(data[col])\n",
    "    axes[i].set_title(col)\n",
    "plt.tight_layout()\n",
    "plt.show()"
   ]
  },
  {
   "cell_type": "markdown",
   "id": "3657b644-2223-43b9-8459-ce2c057e1ac0",
   "metadata": {},
   "source": [
    "Everything seems alright, theres no big outliers. We will normalize and scale the data later. Lets now count the number of developed and devloping countries. "
   ]
  },
  {
   "cell_type": "code",
   "execution_count": null,
   "id": "33999082-5608-40b9-970c-13452970877c",
   "metadata": {},
   "outputs": [],
   "source": [
    "data['status'].value_counts() "
   ]
  },
  {
   "cell_type": "markdown",
   "id": "0b2d5eed-dc94-488b-98da-0605a2013329",
   "metadata": {},
   "source": [
    "## Filling missing Values\n",
    "Now that we have taken a look at our data, checked patterns, etc lets see what we can do about the missing values. First we must count how many values we are missing and where. "
   ]
  },
  {
   "cell_type": "code",
   "execution_count": null,
   "id": "dfc60f73-6159-484a-9d0b-929b974a376a",
   "metadata": {},
   "outputs": [],
   "source": [
    "data.isnull().sum()"
   ]
  },
  {
   "cell_type": "markdown",
   "id": "3b25e0c8-a77f-47ed-8b44-01d7f8259488",
   "metadata": {},
   "source": [
    "We have a lot of missing values all through out the columns. Most missing value is population, hepatitis and gdp. We can look into some patterns of which countries have missing values and try to see why. We can then start looking into countries that are similar to fill in the values. We'll start by seperating the data that has missing values."
   ]
  },
  {
   "cell_type": "code",
   "execution_count": null,
   "id": "9e5413a0-81c9-4b22-9d12-ad00cf19ddbb",
   "metadata": {},
   "outputs": [],
   "source": [
    "missing_data = data[data.isnull().any(axis=1)]"
   ]
  },
  {
   "cell_type": "code",
   "execution_count": null,
   "id": "b6a669c3-1e35-416b-881c-a620ca4abb4b",
   "metadata": {},
   "outputs": [],
   "source": [
    "missing_data.head(5)"
   ]
  },
  {
   "cell_type": "code",
   "execution_count": null,
   "id": "ac4d2985-e2b1-45a2-89c7-e57200249567",
   "metadata": {},
   "outputs": [],
   "source": [
    "missing_data.country.value_counts()"
   ]
  },
  {
   "cell_type": "markdown",
   "id": "69d3c179-1da7-4ead-9223-f3e33bee5bcf",
   "metadata": {},
   "source": [
    "The cell above tells us which countries seem to appear in the missing dataframe more often. We can use this to see if its a reocurring issue or a one time thing. If these countries appear often or if their values are missing often then we could look into it."
   ]
  },
  {
   "cell_type": "code",
   "execution_count": null,
   "id": "fce2757b-7e29-4fb1-9fb5-63598bd14fe7",
   "metadata": {},
   "outputs": [],
   "source": [
    "missing_data.status.value_counts()"
   ]
  },
  {
   "cell_type": "markdown",
   "id": "7505de84-ea04-4d83-822b-edfaa9ed77cd",
   "metadata": {},
   "source": [
    "For now lets look at other interesting details. There seems to be more developing countires with missing values whihc makes sense because they might not have the infrustructure to keep count of all the data. "
   ]
  },
  {
   "cell_type": "markdown",
   "id": "3104bac4-12a4-4f58-b2d0-c434f4047bc7",
   "metadata": {},
   "source": [
    "Now we want to check the rows and see the ones that only have 1 missing value."
   ]
  },
  {
   "cell_type": "code",
   "execution_count": null,
   "id": "971377bb-5ad2-425d-bbed-612a9d879624",
   "metadata": {},
   "outputs": [],
   "source": [
    "missing_counts = missing_data.isnull().sum(axis=1)\n",
    "df_one_missing = missing_data[missing_counts == 1]"
   ]
  },
  {
   "cell_type": "code",
   "execution_count": null,
   "id": "720a435e-2cf6-4ac9-ae39-d8ea7ade2d2b",
   "metadata": {},
   "outputs": [],
   "source": [
    "# missing_data[(missing_data['country'] == 'female') & (data['Pclass'] == 1) & (data['Fare'] >= 80) &"
   ]
  },
  {
   "cell_type": "code",
   "execution_count": null,
   "id": "6820621e-31f8-41d8-8757-17d3bc3b4f32",
   "metadata": {},
   "outputs": [],
   "source": [
    "len(df_one_missing)"
   ]
  },
  {
   "cell_type": "code",
   "execution_count": null,
   "id": "fa5181eb-72fe-4ccb-9427-284dd469cafa",
   "metadata": {},
   "outputs": [],
   "source": [
    "df_one_missing.isnull().sum()"
   ]
  },
  {
   "cell_type": "code",
   "execution_count": null,
   "id": "2a2a9934-bcf6-480f-948c-76a2c7be0274",
   "metadata": {},
   "outputs": [],
   "source": []
  }
 ],
 "metadata": {
  "kernelspec": {
   "display_name": "Python 3 (ipykernel)",
   "language": "python",
   "name": "python3"
  },
  "language_info": {
   "codemirror_mode": {
    "name": "ipython",
    "version": 3
   },
   "file_extension": ".py",
   "mimetype": "text/x-python",
   "name": "python",
   "nbconvert_exporter": "python",
   "pygments_lexer": "ipython3",
   "version": "3.9.6"
  }
 },
 "nbformat": 4,
 "nbformat_minor": 5
}
