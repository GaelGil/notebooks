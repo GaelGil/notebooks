{
 "cells": [
  {
   "cell_type": "code",
   "execution_count": 145,
   "id": "8ebda9ed-b8bf-4af8-952d-46d106ce79e0",
   "metadata": {},
   "outputs": [],
   "source": [
    "from matplotlib.colors import ListedColormap # for grgphing decision boundaries\n",
    "import matplotlib.pyplot as plt\n",
    "import numpy as np\n",
    "import pandas as pd\n",
    "from sklearn.model_selection import train_test_split"
   ]
  },
  {
   "cell_type": "code",
   "execution_count": 146,
   "id": "2c6dded6-d6a6-400c-94d1-323ca822f9b0",
   "metadata": {},
   "outputs": [
    {
     "name": "stdout",
     "output_type": "stream",
     "text": [
      "X_test.csv  X_train.csv y_test.csv  y_train.csv\n"
     ]
    }
   ],
   "source": [
    "# location of the data\n",
    "! ls data2"
   ]
  },
  {
   "cell_type": "code",
   "execution_count": 147,
   "id": "b068107d-664c-490c-820e-1b9b56638219",
   "metadata": {},
   "outputs": [],
   "source": [
    "data_folder = 'data2'"
   ]
  },
  {
   "cell_type": "code",
   "execution_count": 148,
   "id": "ed6cbb53-529a-4dd9-bea9-752801fcd916",
   "metadata": {},
   "outputs": [],
   "source": [
    "X_train = pd.read_csv(f'./{data_folder}/X_train.csv')\n",
    "y_train = pd.read_csv(f'./{data_folder}/y_train.csv')\n",
    "X_test = pd.read_csv(f'./{data_folder}/X_test.csv')\n",
    "y_test = pd.read_csv(f'./{data_folder}/y_test.csv')"
   ]
  },
  {
   "cell_type": "code",
   "execution_count": 149,
   "id": "198fae32-033b-49f4-9499-b960189a26a7",
   "metadata": {},
   "outputs": [
    {
     "data": {
      "text/plain": [
       "0       1.543795\n",
       "1       0.284362\n",
       "2      -0.818905\n",
       "3       0.991271\n",
       "4       1.181948\n",
       "          ...   \n",
       "1120   -0.159182\n",
       "1121    0.533185\n",
       "1122    1.120973\n",
       "1123    0.803148\n",
       "1124   -0.505339\n",
       "Name: x_1, Length: 1125, dtype: float64"
      ]
     },
     "execution_count": 149,
     "metadata": {},
     "output_type": "execute_result"
    }
   ],
   "source": [
    "X_train['x_1']"
   ]
  },
  {
   "cell_type": "code",
   "execution_count": 150,
   "id": "d07cd574-3d77-4597-9bf3-77024323eed5",
   "metadata": {},
   "outputs": [],
   "source": [
    "inputs = X_train['x_1']"
   ]
  },
  {
   "cell_type": "code",
   "execution_count": 151,
   "id": "3358d0f1-7a16-4aa2-a1f7-c1e9c8096991",
   "metadata": {},
   "outputs": [],
   "source": [
    "inputs = inputs.append(X_train['x_2'])"
   ]
  },
  {
   "cell_type": "code",
   "execution_count": 152,
   "id": "c6316427-dcae-4f22-84a2-c9bd4462c5e9",
   "metadata": {},
   "outputs": [],
   "source": [
    "weights = [0.5] * len(inputs)"
   ]
  },
  {
   "cell_type": "code",
   "execution_count": 153,
   "id": "656464bb-d344-4cb5-96c0-1c60a1c305b7",
   "metadata": {},
   "outputs": [],
   "source": [
    "treshold = 0.5"
   ]
  },
  {
   "cell_type": "code",
   "execution_count": 154,
   "id": "0b716c16-0ecf-4008-aae2-c3d83a2a458b",
   "metadata": {},
   "outputs": [],
   "source": [
    "def step(weighted_sum):\n",
    "    if weighted_sum > treshold:\n",
    "        return 1\n",
    "    else:\n",
    "        return 0"
   ]
  },
  {
   "cell_type": "code",
   "execution_count": 155,
   "id": "6df7704c-e9a1-4c82-889a-2166ede4047f",
   "metadata": {},
   "outputs": [],
   "source": [
    "def perceptron():\n",
    "    weighted_sum = 0\n",
    "    for x,y in zip(inputs, weights):\n",
    "        weighted_sum += x*y\n",
    "    return step(weighted_sum)"
   ]
  },
  {
   "cell_type": "code",
   "execution_count": 156,
   "id": "7fcff891-2354-4c37-b1e4-2e4b688e4440",
   "metadata": {},
   "outputs": [],
   "source": [
    "output = perceptron()"
   ]
  },
  {
   "cell_type": "code",
   "execution_count": 157,
   "id": "796dc651-f982-403c-828b-21f85be8bb9d",
   "metadata": {},
   "outputs": [
    {
     "data": {
      "text/plain": [
       "1"
      ]
     },
     "execution_count": 157,
     "metadata": {},
     "output_type": "execute_result"
    }
   ],
   "source": [
    "output"
   ]
  },
  {
   "cell_type": "code",
   "execution_count": null,
   "id": "0712b440-f2e7-4b24-b33a-777b22835c54",
   "metadata": {},
   "outputs": [],
   "source": []
  }
 ],
 "metadata": {
  "kernelspec": {
   "display_name": "Python 3 (ipykernel)",
   "language": "python",
   "name": "python3"
  },
  "language_info": {
   "codemirror_mode": {
    "name": "ipython",
    "version": 3
   },
   "file_extension": ".py",
   "mimetype": "text/x-python",
   "name": "python",
   "nbconvert_exporter": "python",
   "pygments_lexer": "ipython3",
   "version": "3.8.2"
  }
 },
 "nbformat": 4,
 "nbformat_minor": 5
}
