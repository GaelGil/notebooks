{
 "cells": [
  {
   "cell_type": "markdown",
   "metadata": {},
   "source": [
    "# Project Description\n",
    "This notebook will demonstrate different machine learning models for classification on non linear data. I will explain what the problem is and what we are trying to do and different techniques and how to do it. In this notebook we have some non linear data where there are two categories that are not linearly separable that we are trying to classify. This notebook will show different classification algorithms (logistic regression, k nearest neighbors, decision trees and random forests) to analyse their performance and see how well they solve the problem. I will explain a little bit about what the model is doing, how they work and their limitations. In the end the notebook will also explain what each result means and if they are any good. Lastly, I will also explain which algorithms worked best to solve this problem. \n",
    "\n",
    "This notebook requires some basic understanding of machine learning algorithms. However I will be going over each algorithm and give a simple explanation about how they work. This notebook is also written in python so some basic understanding of python would be helpful but there are also comments of what everything is doing as well. "
   ]
  },
  {
   "cell_type": "markdown",
   "metadata": {},
   "source": [
    "# Imports"
   ]
  },
  {
   "cell_type": "code",
   "execution_count": 33,
   "metadata": {},
   "outputs": [],
   "source": [
    "from matplotlib.colors import ListedColormap # for grgphing decision boundaries\n",
    "import matplotlib.pyplot as plt\n",
    "import numpy as np\n",
    "import pandas as pd\n",
    "from sklearn.metrics import f1_score\n",
    "from sklearn.model_selection import train_test_split"
   ]
  },
  {
   "cell_type": "markdown",
   "metadata": {},
   "source": [
    "# Loading Data\n",
    "The data comes from the other notebook in this directory `make_dataset`. I created the dataset using sklearn and using the make moons function with a little bit of noise (more overlaps in data). The data is then stored in the `data2` folder. Originally I had a make moons dataset with no noise so using all these algorithms on the data was a bit boring because everything worked well. That data can be found in `data`. If you are interested in seeing more about how the data was created check out the `make_dataset` notebook. "
   ]
  },
  {
   "cell_type": "code",
   "execution_count": 34,
   "metadata": {},
   "outputs": [
    {
     "name": "stdout",
     "output_type": "stream",
     "text": [
      "X_test.csv  X_train.csv y_test.csv  y_train.csv\n"
     ]
    }
   ],
   "source": [
    "# location of the data\n",
    "! ls data2"
   ]
  },
  {
   "cell_type": "code",
   "execution_count": 35,
   "metadata": {},
   "outputs": [],
   "source": [
    "data_folder = 'data2'"
   ]
  },
  {
   "cell_type": "code",
   "execution_count": 36,
   "metadata": {},
   "outputs": [],
   "source": [
    "X_train = pd.read_csv(f'./{data_folder}/X_train.csv')\n",
    "y_train = pd.read_csv(f'./{data_folder}/y_train.csv')\n",
    "X_test = pd.read_csv(f'./{data_folder}/X_test.csv')\n",
    "y_test = pd.read_csv(f'./{data_folder}/y_test.csv')"
   ]
  },
  {
   "cell_type": "code",
   "execution_count": 37,
   "metadata": {},
   "outputs": [
    {
     "data": {
      "text/html": [
       "<div>\n",
       "<style scoped>\n",
       "    .dataframe tbody tr th:only-of-type {\n",
       "        vertical-align: middle;\n",
       "    }\n",
       "\n",
       "    .dataframe tbody tr th {\n",
       "        vertical-align: top;\n",
       "    }\n",
       "\n",
       "    .dataframe thead th {\n",
       "        text-align: right;\n",
       "    }\n",
       "</style>\n",
       "<table border=\"1\" class=\"dataframe\">\n",
       "  <thead>\n",
       "    <tr style=\"text-align: right;\">\n",
       "      <th></th>\n",
       "      <th>x_1</th>\n",
       "      <th>x_2</th>\n",
       "    </tr>\n",
       "  </thead>\n",
       "  <tbody>\n",
       "    <tr>\n",
       "      <th>0</th>\n",
       "      <td>1.543795</td>\n",
       "      <td>-0.242409</td>\n",
       "    </tr>\n",
       "    <tr>\n",
       "      <th>1</th>\n",
       "      <td>0.284362</td>\n",
       "      <td>-0.289493</td>\n",
       "    </tr>\n",
       "    <tr>\n",
       "      <th>2</th>\n",
       "      <td>-0.818905</td>\n",
       "      <td>0.053129</td>\n",
       "    </tr>\n",
       "    <tr>\n",
       "      <th>3</th>\n",
       "      <td>0.991271</td>\n",
       "      <td>0.331274</td>\n",
       "    </tr>\n",
       "    <tr>\n",
       "      <th>4</th>\n",
       "      <td>1.181948</td>\n",
       "      <td>0.330166</td>\n",
       "    </tr>\n",
       "    <tr>\n",
       "      <th>...</th>\n",
       "      <td>...</td>\n",
       "      <td>...</td>\n",
       "    </tr>\n",
       "    <tr>\n",
       "      <th>1120</th>\n",
       "      <td>-0.159182</td>\n",
       "      <td>0.768414</td>\n",
       "    </tr>\n",
       "    <tr>\n",
       "      <th>1121</th>\n",
       "      <td>0.533185</td>\n",
       "      <td>0.754607</td>\n",
       "    </tr>\n",
       "    <tr>\n",
       "      <th>1122</th>\n",
       "      <td>1.120973</td>\n",
       "      <td>-0.339045</td>\n",
       "    </tr>\n",
       "    <tr>\n",
       "      <th>1123</th>\n",
       "      <td>0.803148</td>\n",
       "      <td>0.695908</td>\n",
       "    </tr>\n",
       "    <tr>\n",
       "      <th>1124</th>\n",
       "      <td>-0.505339</td>\n",
       "      <td>1.088991</td>\n",
       "    </tr>\n",
       "  </tbody>\n",
       "</table>\n",
       "<p>1125 rows × 2 columns</p>\n",
       "</div>"
      ],
      "text/plain": [
       "           x_1       x_2\n",
       "0     1.543795 -0.242409\n",
       "1     0.284362 -0.289493\n",
       "2    -0.818905  0.053129\n",
       "3     0.991271  0.331274\n",
       "4     1.181948  0.330166\n",
       "...        ...       ...\n",
       "1120 -0.159182  0.768414\n",
       "1121  0.533185  0.754607\n",
       "1122  1.120973 -0.339045\n",
       "1123  0.803148  0.695908\n",
       "1124 -0.505339  1.088991\n",
       "\n",
       "[1125 rows x 2 columns]"
      ]
     },
     "execution_count": 37,
     "metadata": {},
     "output_type": "execute_result"
    }
   ],
   "source": [
    "# here is the X_train data containg our two variables x_1 and x_2\n",
    "X_train"
   ]
  },
  {
   "cell_type": "markdown",
   "metadata": {},
   "source": [
    "# Graphing the Data\n",
    "Down here is some code to graph the data. First I had to split the data by category so that there can be a clear visual difference between the categories. In the graph there are two clusters, one of them in red and the other in blue. There can also be seen that they overlap so the color coding was very helpful. From the graph we can see what data looks like. Clearly this is not linear data and it's not linearly separable. This will be what we are trying to do which is testing machine learning models for classification on this non linear data. \n",
    "\n",
    "Below that graphed data there is also another graphing function (`graph_boundary`). This function will be used later to graph the data as well but with a decision boundary. The decision boundary will be used to see how the model is predicting and see if there is any overfitting going on or if it mis-classifies something."
   ]
  },
  {
   "cell_type": "code",
   "execution_count": 38,
   "metadata": {},
   "outputs": [],
   "source": [
    "def seperate_categories(df):\n",
    "    \"\"\"function to seperate dataframes by category\"\"\"\n",
    "    category_zero = df.loc[df['output'] == 0]\n",
    "    category_one = df.loc[df['output'] == 1]\n",
    "    return category_zero, category_one"
   ]
  },
  {
   "cell_type": "code",
   "execution_count": 39,
   "metadata": {},
   "outputs": [],
   "source": [
    "X_df = pd.DataFrame(data=X_train)\n",
    "y_df = pd.DataFrame(data=y_train)\n",
    "dataframes = [X_df, y_df]\n",
    "result = pd.concat(dataframes, axis=1)\n",
    "class_one, class_two = seperate_categories(result)"
   ]
  },
  {
   "cell_type": "code",
   "execution_count": 40,
   "metadata": {},
   "outputs": [
    {
     "data": {
      "image/png": "[encoded data removed]",
      "text/plain": [
       "<Figure size 432x288 with 1 Axes>"
      ]
     },
     "metadata": {
      "needs_background": "light"
     },
     "output_type": "display_data"
    }
   ],
   "source": [
    "%matplotlib inline \n",
    "plt.scatter(class_one['x_1'], class_one['x_2'], color='r')\n",
    "plt.scatter(class_two['x_1'], class_two['x_2'], color='b')\n",
    "plt.xlabel('x_1')\n",
    "plt.ylabel('y_2')\n",
    "plt.grid(True)\n",
    "plt.show();"
   ]
  },
  {
   "cell_type": "code",
   "execution_count": 41,
   "metadata": {},
   "outputs": [],
   "source": [
    "def graph_boundary(model, class_one, class_two):\n",
    "    # colors for graphing decision boundary\n",
    "    cmap_light = ListedColormap(['#FFAAAA', '#AAFFAA', '#AAAAFF'])\n",
    "    xx, yy = np.mgrid[-5:5:.01, -5:5:.01]\n",
    "    Z = model.predict(np.c_[xx.ravel(), yy.ravel()])\n",
    "    Z = Z.reshape(xx.shape)\n",
    "    plt.pcolormesh(xx, yy, Z, cmap=cmap_light, shading=\"auto\")\n",
    "    # plot the data by categories \n",
    "    plt.scatter(class_one['x_1'], class_one['x_2'], color='r')\n",
    "    plt.scatter(class_two['x_1'], class_two['x_2'], color='b')\n",
    "    # set the x and y limits of the graph\n",
    "    plt.xlim([min(X_train['x_1']), max(X_train['x_1'])])\n",
    "    plt.ylim([min(X_train['x_2']), max(X_train['x_2'])])\n",
    "    plt.show()"
   ]
  },
  {
   "cell_type": "code",
   "execution_count": 42,
   "metadata": {},
   "outputs": [],
   "source": [
    "# reformat data to numpy array so we can use it more easily\n",
    "y_train = y_train['output']"
   ]
  },
  {
   "cell_type": "markdown",
   "metadata": {},
   "source": [
    "# Using Logistic Regression\n",
    "- describe what type of algorithm it is (classification)\n",
    "The first classification algorithm I'm starting with is logistic regression. \n",
    "\n",
    "$ sigmoid(z)= \\frac{1}{1+e^{-z}} $ where $z=mx+b$ \n",
    "- describe overview of how it works \n",
    "- describe logic of how it works (how is it useful)\n",
    "- describe training and prediction complexity\n",
    "- limitations\n",
    "Logistic regression has some limitations that I will talk more about later as I analyze the results of the algorithm."
   ]
  },
  {
   "cell_type": "code",
   "execution_count": 43,
   "metadata": {},
   "outputs": [],
   "source": [
    "# import model\n",
    "from sklearn.linear_model import LogisticRegression "
   ]
  },
  {
   "cell_type": "code",
   "execution_count": 44,
   "metadata": {},
   "outputs": [],
   "source": [
    "# create the model \n",
    "logistic_regression = LogisticRegression()"
   ]
  },
  {
   "cell_type": "code",
   "execution_count": 45,
   "metadata": {},
   "outputs": [],
   "source": [
    " # train model on the training data\n",
    "logistic_regression = logistic_regression.fit(X_train, y_train)"
   ]
  },
  {
   "cell_type": "markdown",
   "metadata": {},
   "source": [
    "Here are the train and the test accuracy. We can see that the scores are fairly high. Although the test score is the lowest of these algorithms it is still a pretty high score. It gets a good number of the examples correctly but we can always improve and get a higher score. To understand more about the model and what it's doing there is a graph of a confusion matrix and a graph of the decision boundary below. This will help us understand how the model is predicting and how it's making its decisions. I will also explain what a confusion matrix and decision boundary is. "
   ]
  },
  {
   "cell_type": "code",
   "execution_count": 46,
   "metadata": {},
   "outputs": [
    {
     "data": {
      "text/plain": [
       "'Training Accuracy: 0.88'"
      ]
     },
     "execution_count": 46,
     "metadata": {},
     "output_type": "execute_result"
    }
   ],
   "source": [
    "# get train accuracy\n",
    "f'Training Accuracy: {logistic_regression.score(X_train, y_train)}'"
   ]
  },
  {
   "cell_type": "code",
   "execution_count": 47,
   "metadata": {},
   "outputs": [
    {
     "data": {
      "text/plain": [
       "'Test Accuracy: 0.8746666666666667'"
      ]
     },
     "execution_count": 47,
     "metadata": {},
     "output_type": "execute_result"
    }
   ],
   "source": [
    "# get test accuracy\n",
    "f'Test Accuracy: {logistic_regression.score(X_test, y_test) }'"
   ]
  },
  {
   "cell_type": "markdown",
   "metadata": {},
   "source": [
    "This is a confusion matrix. A confusion matrix can also show us more into how our model is working and what it's doing. As we can see this validates that our train and test scores are alright and that the model is performing pretty well. From this matrix we can tell it performs well because for example if we look at the `true label` axis for the class `0` we see that the predicted label for `zero` (the correct label) is so much higher for `1` . This means that the model predicted the true label correctly `170` times and predicted the false label `27` times. The same can be said for the class `1` as well."
   ]
  },
  {
   "cell_type": "code",
   "execution_count": 48,
   "metadata": {
    "tags": []
   },
   "outputs": [],
   "source": [
    "from sklearn.metrics import plot_confusion_matrix"
   ]
  },
  {
   "cell_type": "code",
   "execution_count": 49,
   "metadata": {
    "tags": []
   },
   "outputs": [
    {
     "data": {
      "image/png": "[encoded data removed]",
      "text/plain": [
       "<Figure size 432x288 with 2 Axes>"
      ]
     },
     "metadata": {
      "needs_background": "light"
     },
     "output_type": "display_data"
    }
   ],
   "source": [
    "plot_confusion_matrix(logistic_regression, X_test, y_test)  \n",
    "plt.show() "
   ]
  },
  {
   "cell_type": "markdown",
   "metadata": {},
   "source": [
    "Lastly, here is a graph of the decision boundary. The decision boundary is the boundary that shows how our model is classifying data. For example here is the graph of the decision boundary for logistic regression for our problem. As we can see there is a line running through both categories/clusters. That line is what the model uses to separate and predict categories. Meaning if we want to classify a new example and it's in the blue section/below the line it will belong to that class.\n",
    "\n",
    "We can see that the model gets the majority of the data correctly but fails to classify the middle examples. As mentioned earlier we can also see that the logistic regression decision boundary is just a line. This is because logistic regression is best for solving linearly separable problems. What this means is that if we have some data where there are two categories that we can separate and classify them by drawing a line through them. That's why the boundary here is just a line. However because this is non linear data it can't do any better than that. This is one of the limitations of logistic regression. "
   ]
  },
  {
   "cell_type": "code",
   "execution_count": 50,
   "metadata": {},
   "outputs": [
    {
     "data": {
      "image/png": "[encoded data removed]",
      "text/plain": [
       "<Figure size 432x288 with 1 Axes>"
      ]
     },
     "metadata": {
      "needs_background": "light"
     },
     "output_type": "display_data"
    }
   ],
   "source": [
    "graph_boundary(logistic_regression, class_one, class_two)"
   ]
  },
  {
   "cell_type": "markdown",
   "metadata": {},
   "source": [
    "The limitations are that it can't learn the data if the data does not have a linear relationship. This can also be seen has logistic regression having a [bias error](https://en.wikipedia.org/wiki/Bias%E2%80%93variance_tradeoff). Algorithms that have a bias error are algorithms fail to learn the relationships between their datas inputs and outputs (usually underfit) and thats what logistic regression is doing here. Altough it gets a good amount of examples correct it fails to learn the edges where the data start to overlap but not fully overlap. Another reason for logistic regression having a bias error is for logistic regression making assumptions of the data. It assumes the data will be linear data which this data is not. But it did perform a lot better than I expected. "
   ]
  },
  {
   "cell_type": "markdown",
   "metadata": {},
   "source": [
    "# Using KNN\n",
    "Now we will be using another classification algorithm which is knn (k nearest neighbors). The way this algorithm works is that if we want to classify something we find some odd number $k$. This odd number is how many nearby examples we will check. For example if our $k=3$ we will check for the three closests neighbors of our example we are trying to classify. The majority category in those three neighbors is what the algorithm predicts. One thing to note is that we check how close the neighbors are by taking the distance from one example to our example. A common distance is the Euclidean distance where distance equals $ d=\\sqrt{(x_2-x_1)^2+(y_2-y_1)^2} $ snd $ (x_1,y_1) $ are one point and $ (x_2,y_2) $ is another point. This function returns the distance between those two points. This is how we find what is closest to our example we are trying to classify. Here is a visual example"
   ]
  },
  {
   "cell_type": "code",
   "execution_count": 51,
   "metadata": {},
   "outputs": [],
   "source": [
    "# import model\n",
    "from sklearn.neighbors import KNeighborsClassifier"
   ]
  },
  {
   "cell_type": "markdown",
   "metadata": {},
   "source": [
    "A big part of `k nearest neighbors` is the hyperparameter $k$. Here we have our $k$ equal to seven. As mentioned earlier this is the number of neighbors the algorithm will check to make a prediction. There are many ways we can choose our $k$ one way is just manually trying a bunch of different values and checking what gives us better outcomes. This of course can work but is not a good solution to manualy check because there can be many hyper parameters meaning many combonations. Another way is making some decisions on what would be a good value. For example I knew the number needed to be odd and I knew that if I chose a small odd number like three I could possibly risk overfitting. Here is an example using a number I thought would be a good fit. "
   ]
  },
  {
   "cell_type": "code",
   "execution_count": 52,
   "metadata": {},
   "outputs": [],
   "source": [
    "# create model with 7 neighbors to define\n",
    "manual_knn = KNeighborsClassifier(n_neighbors=7)"
   ]
  },
  {
   "cell_type": "code",
   "execution_count": 53,
   "metadata": {},
   "outputs": [],
   "source": [
    "# train the model\n",
    "manual_knn = manual_knn.fit(X_train, y_train)"
   ]
  },
  {
   "cell_type": "code",
   "execution_count": 54,
   "metadata": {},
   "outputs": [
    {
     "data": {
      "text/plain": [
       "'Training Accuracy: 0.9795555555555555'"
      ]
     },
     "execution_count": 54,
     "metadata": {},
     "output_type": "execute_result"
    }
   ],
   "source": [
    "# get training accuracy\n",
    "f'Training Accuracy: {manual_knn.fit(X_train, y_train).score(X_train, y_train)}'"
   ]
  },
  {
   "cell_type": "code",
   "execution_count": 55,
   "metadata": {},
   "outputs": [
    {
     "data": {
      "text/plain": [
       "'Test Accuracy: 0.9733333333333334'"
      ]
     },
     "execution_count": 55,
     "metadata": {},
     "output_type": "execute_result"
    }
   ],
   "source": [
    "# get test accuracy\n",
    "f'Test Accuracy: {manual_knn.score(X_test, y_test)}'"
   ]
  },
  {
   "cell_type": "markdown",
   "metadata": {},
   "source": [
    "Looking at the confusion matrix for this algorithm we can see that it also performs really well. We know it performs better because as I explained earlier if we look at the `true label` axis for the class $0$ we see that the predicted label for zero (the correct label) is so much higher for class $1$. It's actually perfect; it doesn't even predict class $1$ at all. Same for the other class. The test score is higher and the matrix shows the algorithm gets the correct label most of the times. From this we know this algorithm works well."
   ]
  },
  {
   "cell_type": "code",
   "execution_count": 56,
   "metadata": {},
   "outputs": [
    {
     "data": {
      "image/png": "[encoded data removed]",
      "text/plain": [
       "<Figure size 432x288 with 2 Axes>"
      ]
     },
     "metadata": {
      "needs_background": "light"
     },
     "output_type": "display_data"
    }
   ],
   "source": [
    "plot_confusion_matrix(manual_knn, X_test, y_test, values_format = '.2f')\n",
    "plt.show()"
   ]
  },
  {
   "cell_type": "markdown",
   "metadata": {},
   "source": [
    "The desicion boundary here is very different compared to the logistic regression one. While the logistic regression one was just a straight line through the category the decision boundary for knn circles around both categories seperating them. We can see that it doesn't perfectly classify every example. This can be seen by some blue points in the red boundary and some red points in the blue boundary. Of course this is also a good thing because if it perfectly categories everything then that means that there is some overfitting. If we overfit that means we are memorizing the training data and our model will fail on new examples."
   ]
  },
  {
   "cell_type": "code",
   "execution_count": 57,
   "metadata": {},
   "outputs": [
    {
     "data": {
      "image/png": "[encoded data removed]",
      "text/plain": [
       "<Figure size 432x288 with 1 Axes>"
      ]
     },
     "metadata": {
      "needs_background": "light"
     },
     "output_type": "display_data"
    }
   ],
   "source": [
    "graph_boundary(manual_knn, class_one, class_two)"
   ]
  },
  {
   "cell_type": "markdown",
   "metadata": {},
   "source": [
    "In the example above I manually set the hyperparameter $k=7$. Another way of getting a hyperparameter is using hyperparameter optimization which is using machine learning to learn which parameters are best for our algorithm. An example of this is [linear regression with gradient desecent](https://github.com/GaelGil/notebooks/blob/master/linear_regression/gradient_descent.ipynb). In gradient descent we take the gradient of the sum of the squared errors to find the best parameters for our algorithm. Here is an example of knn using a method of hyper parameter optimization called grid search. In grid search we provide some values we want to try and"
   ]
  },
  {
   "cell_type": "code",
   "execution_count": 58,
   "metadata": {},
   "outputs": [],
   "source": [
    "from sklearn.model_selection import GridSearchCV"
   ]
  },
  {
   "cell_type": "code",
   "execution_count": 59,
   "metadata": {},
   "outputs": [],
   "source": [
    "grid_search_knn = GridSearchCV(KNeighborsClassifier(),{\n",
    "    'n_neighbors': [1, 3, 5, 7, 9, 11]\n",
    "}, return_train_score=False)"
   ]
  },
  {
   "cell_type": "code",
   "execution_count": 60,
   "metadata": {},
   "outputs": [
    {
     "data": {
      "text/plain": [
       "GridSearchCV(estimator=KNeighborsClassifier(),\n",
       "             param_grid={'n_neighbors': [1, 3, 5, 7, 9, 11]})"
      ]
     },
     "execution_count": 60,
     "metadata": {},
     "output_type": "execute_result"
    }
   ],
   "source": [
    "# warning: this cell takes a long time to run\n",
    "grid_search_knn.fit(X_train, y_train)"
   ]
  },
  {
   "cell_type": "code",
   "execution_count": 61,
   "metadata": {},
   "outputs": [],
   "source": [
    "# turn results into dataframe\n",
    "grid_search_knn_results = pd.DataFrame(grid_search_knn.cv_results_) "
   ]
  },
  {
   "cell_type": "markdown",
   "metadata": {},
   "source": [
    "From this dataframe here we can tell that any parameter would be good. Some parameters would give us a slightly better test score but overall they are all good and very similar. A reason for all these parameters being good is because if we take a look at the data graphed. A majority of the data is fairly close to each other meaning the closest neighbor will always be the correct class. However in the edges where the data overlaps this won't always be true. We can see that some red dots are directly next to the majority blue meaning its closest neighbor is not the category it belongs to."
   ]
  },
  {
   "cell_type": "code",
   "execution_count": 62,
   "metadata": {},
   "outputs": [
    {
     "data": {
      "text/html": [
       "<div>\n",
       "<style scoped>\n",
       "    .dataframe tbody tr th:only-of-type {\n",
       "        vertical-align: middle;\n",
       "    }\n",
       "\n",
       "    .dataframe tbody tr th {\n",
       "        vertical-align: top;\n",
       "    }\n",
       "\n",
       "    .dataframe thead th {\n",
       "        text-align: right;\n",
       "    }\n",
       "</style>\n",
       "<table border=\"1\" class=\"dataframe\">\n",
       "  <thead>\n",
       "    <tr style=\"text-align: right;\">\n",
       "      <th></th>\n",
       "      <th>param_n_neighbors</th>\n",
       "      <th>mean_test_score</th>\n",
       "    </tr>\n",
       "  </thead>\n",
       "  <tbody>\n",
       "    <tr>\n",
       "      <th>0</th>\n",
       "      <td>1</td>\n",
       "      <td>0.967111</td>\n",
       "    </tr>\n",
       "    <tr>\n",
       "      <th>1</th>\n",
       "      <td>3</td>\n",
       "      <td>0.973333</td>\n",
       "    </tr>\n",
       "    <tr>\n",
       "      <th>2</th>\n",
       "      <td>5</td>\n",
       "      <td>0.978667</td>\n",
       "    </tr>\n",
       "    <tr>\n",
       "      <th>3</th>\n",
       "      <td>7</td>\n",
       "      <td>0.978667</td>\n",
       "    </tr>\n",
       "    <tr>\n",
       "      <th>4</th>\n",
       "      <td>9</td>\n",
       "      <td>0.977778</td>\n",
       "    </tr>\n",
       "    <tr>\n",
       "      <th>5</th>\n",
       "      <td>11</td>\n",
       "      <td>0.976889</td>\n",
       "    </tr>\n",
       "  </tbody>\n",
       "</table>\n",
       "</div>"
      ],
      "text/plain": [
       "  param_n_neighbors  mean_test_score\n",
       "0                 1         0.967111\n",
       "1                 3         0.973333\n",
       "2                 5         0.978667\n",
       "3                 7         0.978667\n",
       "4                 9         0.977778\n",
       "5                11         0.976889"
      ]
     },
     "execution_count": 62,
     "metadata": {},
     "output_type": "execute_result"
    }
   ],
   "source": [
    "# display grid search results\n",
    "grid_search_knn_results[['param_n_neighbors', 'mean_test_score']]"
   ]
  },
  {
   "cell_type": "markdown",
   "metadata": {},
   "source": [
    "Here is a graph of how the test score changes as our hyper parameter $k$ increases. We can see that the higher the value is the better the test score is. The biggest visual jump is from $k=1$ to $k=3$.  After that the score increases but then starts to lower. This could possibly because at those values the model starts to overfit. Overall we can see that our manual chosen hyperparameter $k=7$ was a good choce. \n",
    "\n",
    "One thing to note however is that this graph can be misleading. Although we see that as $k$ changes so does `mean_test_score` the change is so small that if we graphed it with whole numbers they would be in a line. But because we are zoomed in it seems as though there is a drastic change. The change is so small that if we take a look at the numbers they are all pretty much the same  $0.967111, 0.973333, 0.978667, 0.978667$. To better visualize this there is a comment below that you can remove that will plot the data if we were not zoomed in to better understand how small the change is. "
   ]
  },
  {
   "cell_type": "code",
   "execution_count": 63,
   "metadata": {},
   "outputs": [
    {
     "data": {
      "image/png": "[encoded data removed]",
      "text/plain": [
       "<Figure size 432x288 with 1 Axes>"
      ]
     },
     "metadata": {
      "needs_background": "light"
     },
     "output_type": "display_data"
    }
   ],
   "source": [
    "%matplotlib inline \n",
    "plt.scatter(grid_search_knn_results['param_n_neighbors'], grid_search_knn_results['mean_test_score'])\n",
    "plt.xlabel('value of k')\n",
    "plt.ylabel('mean test score')\n",
    "plt.grid(True)\n",
    "# remove the comment below to see how close these values are\n",
    "# plt.ylim(0, 1.5) \n",
    "plt.show();"
   ]
  },
  {
   "cell_type": "markdown",
   "metadata": {},
   "source": [
    "# Using Decision Trees\n",
    "Another great classification algorithm is decision trees. The way this model works is the model takes in some data. The model then takes each example and splits them all into binary categories. It stops until there are no more categories we can split the examples into. To simplify it the model creates a bunch of if statements that each example fits into. When we want to classify a new example we just put the example through our tree and it gets fit into one of these statements until it can't go further. "
   ]
  },
  {
   "cell_type": "code",
   "execution_count": 64,
   "metadata": {},
   "outputs": [],
   "source": [
    "# import model\n",
    "from sklearn import tree"
   ]
  },
  {
   "cell_type": "code",
   "execution_count": 65,
   "metadata": {},
   "outputs": [],
   "source": [
    "tree_clf = tree.DecisionTreeClassifier()"
   ]
  },
  {
   "cell_type": "code",
   "execution_count": 66,
   "metadata": {},
   "outputs": [],
   "source": [
    "tree_clf = tree_clf.fit(X_train, y_train)"
   ]
  },
  {
   "cell_type": "code",
   "execution_count": 67,
   "metadata": {},
   "outputs": [
    {
     "data": {
      "text/plain": [
       "'Training Accuracy: 1.0'"
      ]
     },
     "execution_count": 67,
     "metadata": {},
     "output_type": "execute_result"
    }
   ],
   "source": [
    "f'Training Accuracy: {tree_clf.score(X_train, y_train)}'"
   ]
  },
  {
   "cell_type": "code",
   "execution_count": 68,
   "metadata": {},
   "outputs": [
    {
     "data": {
      "text/plain": [
       "'Test Accuracy: 0.9706666666666667'"
      ]
     },
     "execution_count": 68,
     "metadata": {},
     "output_type": "execute_result"
    }
   ],
   "source": [
    "f'Test Accuracy: {tree_clf.score(X_test, y_test)}'"
   ]
  },
  {
   "cell_type": "markdown",
   "metadata": {},
   "source": [
    "As we can see the decision boundary here has no curves but rather straight lines that take turns left or right. This makes sense of course because as I mentioned earlier our algorithm breaks down everything into binary categories meaning it can go one way or the other and there's no in between. From this graph we can also tell that the model is overfitting. We know this because at around $y=-.25$ and through $x=0.5$ and $x=1.5$ there is a thin red line trying to catch the red dots that are in the blue boundary. "
   ]
  },
  {
   "cell_type": "code",
   "execution_count": 69,
   "metadata": {},
   "outputs": [
    {
     "data": {
      "image/png": "[encoded data removed]",
      "text/plain": [
       "<Figure size 432x288 with 1 Axes>"
      ]
     },
     "metadata": {
      "needs_background": "light"
     },
     "output_type": "display_data"
    }
   ],
   "source": [
    "graph_boundary(tree_clf, class_one, class_two)"
   ]
  },
  {
   "cell_type": "markdown",
   "metadata": {},
   "source": [
    "# Using Random Forests\n",
    "The way random forests works is by."
   ]
  },
  {
   "cell_type": "code",
   "execution_count": 70,
   "metadata": {},
   "outputs": [],
   "source": [
    "# import model\n",
    "from sklearn.ensemble import RandomForestClassifier"
   ]
  },
  {
   "cell_type": "markdown",
   "metadata": {},
   "source": [
    "Because random forests has some hyper parameters I am going to be using grid search once again to find the best values for those hyperparameters `(hyperparameter optimization)`. Once I have the results we can analyze them and see what will be best for our model."
   ]
  },
  {
   "cell_type": "code",
   "execution_count": 71,
   "metadata": {},
   "outputs": [],
   "source": [
    "grid_search_random_forest = GridSearchCV(RandomForestClassifier(),{\n",
    "    'max_depth': [1, 2, 3, 4, 5, 6],\n",
    "    'random_state': [0, 1]\n",
    "}, return_train_score=False)"
   ]
  },
  {
   "cell_type": "code",
   "execution_count": 72,
   "metadata": {},
   "outputs": [
    {
     "data": {
      "text/plain": [
       "GridSearchCV(estimator=RandomForestClassifier(),\n",
       "             param_grid={'max_depth': [1, 2, 3, 4, 5, 6],\n",
       "                         'random_state': [0, 1]})"
      ]
     },
     "execution_count": 72,
     "metadata": {},
     "output_type": "execute_result"
    }
   ],
   "source": [
    "# perform grid search to find best hyperparamters\n",
    "grid_search_random_forest.fit(X_train, y_train)"
   ]
  },
  {
   "cell_type": "code",
   "execution_count": 73,
   "metadata": {},
   "outputs": [],
   "source": [
    "# turn the results into a dataframe\n",
    "grid_search_random_forest_results = pd.DataFrame(grid_search_random_forest.cv_results_)"
   ]
  },
  {
   "cell_type": "markdown",
   "metadata": {},
   "source": [
    "Here we have the results displayed. We can see that as the `max_depth` increases the `mean_test_score` does as well. The hyperparameter `random_state` however doesn't seem to have such a drastic change to our `mean_test_score`. For example we can see on `row 2` that when our `max_depth` is equal to $2$ and our `random_state` is $0$ it performs slightly better than that of `row 3` where the `max_depth` is the same but our `random_state` is equal to $1$. For this reason I will be using a random state of $0$. If this was confusing I have a visual example below explaining how the `mean_test_score` is affected by the value of our hyperparameters."
   ]
  },
  {
   "cell_type": "code",
   "execution_count": 74,
   "metadata": {},
   "outputs": [
    {
     "data": {
      "text/html": [
       "<div>\n",
       "<style scoped>\n",
       "    .dataframe tbody tr th:only-of-type {\n",
       "        vertical-align: middle;\n",
       "    }\n",
       "\n",
       "    .dataframe tbody tr th {\n",
       "        vertical-align: top;\n",
       "    }\n",
       "\n",
       "    .dataframe thead th {\n",
       "        text-align: right;\n",
       "    }\n",
       "</style>\n",
       "<table border=\"1\" class=\"dataframe\">\n",
       "  <thead>\n",
       "    <tr style=\"text-align: right;\">\n",
       "      <th></th>\n",
       "      <th>param_max_depth</th>\n",
       "      <th>param_random_state</th>\n",
       "      <th>mean_test_score</th>\n",
       "    </tr>\n",
       "  </thead>\n",
       "  <tbody>\n",
       "    <tr>\n",
       "      <th>0</th>\n",
       "      <td>1</td>\n",
       "      <td>0</td>\n",
       "      <td>0.873778</td>\n",
       "    </tr>\n",
       "    <tr>\n",
       "      <th>1</th>\n",
       "      <td>1</td>\n",
       "      <td>1</td>\n",
       "      <td>0.887111</td>\n",
       "    </tr>\n",
       "    <tr>\n",
       "      <th>2</th>\n",
       "      <td>2</td>\n",
       "      <td>0</td>\n",
       "      <td>0.919111</td>\n",
       "    </tr>\n",
       "    <tr>\n",
       "      <th>3</th>\n",
       "      <td>2</td>\n",
       "      <td>1</td>\n",
       "      <td>0.915556</td>\n",
       "    </tr>\n",
       "    <tr>\n",
       "      <th>4</th>\n",
       "      <td>3</td>\n",
       "      <td>0</td>\n",
       "      <td>0.923556</td>\n",
       "    </tr>\n",
       "    <tr>\n",
       "      <th>5</th>\n",
       "      <td>3</td>\n",
       "      <td>1</td>\n",
       "      <td>0.922667</td>\n",
       "    </tr>\n",
       "    <tr>\n",
       "      <th>6</th>\n",
       "      <td>4</td>\n",
       "      <td>0</td>\n",
       "      <td>0.926222</td>\n",
       "    </tr>\n",
       "    <tr>\n",
       "      <th>7</th>\n",
       "      <td>4</td>\n",
       "      <td>1</td>\n",
       "      <td>0.929778</td>\n",
       "    </tr>\n",
       "    <tr>\n",
       "      <th>8</th>\n",
       "      <td>5</td>\n",
       "      <td>0</td>\n",
       "      <td>0.968889</td>\n",
       "    </tr>\n",
       "    <tr>\n",
       "      <th>9</th>\n",
       "      <td>5</td>\n",
       "      <td>1</td>\n",
       "      <td>0.967111</td>\n",
       "    </tr>\n",
       "    <tr>\n",
       "      <th>10</th>\n",
       "      <td>6</td>\n",
       "      <td>0</td>\n",
       "      <td>0.972444</td>\n",
       "    </tr>\n",
       "    <tr>\n",
       "      <th>11</th>\n",
       "      <td>6</td>\n",
       "      <td>1</td>\n",
       "      <td>0.975111</td>\n",
       "    </tr>\n",
       "  </tbody>\n",
       "</table>\n",
       "</div>"
      ],
      "text/plain": [
       "   param_max_depth param_random_state  mean_test_score\n",
       "0                1                  0         0.873778\n",
       "1                1                  1         0.887111\n",
       "2                2                  0         0.919111\n",
       "3                2                  1         0.915556\n",
       "4                3                  0         0.923556\n",
       "5                3                  1         0.922667\n",
       "6                4                  0         0.926222\n",
       "7                4                  1         0.929778\n",
       "8                5                  0         0.968889\n",
       "9                5                  1         0.967111\n",
       "10               6                  0         0.972444\n",
       "11               6                  1         0.975111"
      ]
     },
     "execution_count": 74,
     "metadata": {},
     "output_type": "execute_result"
    }
   ],
   "source": [
    "# display the results\n",
    "grid_search_random_forest_results[['param_max_depth', 'param_random_state', 'mean_test_score']]"
   ]
  },
  {
   "cell_type": "markdown",
   "metadata": {},
   "source": [
    "Here are the results above but in a graph. There are two points at each max value because each is being tested with `random_state` true or false. However we can see that the higher the `max_depth` is the better the `mean_test_score`. From the results and this graph we can tell that the best value for our hyperparameter `max_depth` is $6$ and for our other hyperparameter `random_state` the best value is $0$. I will now use these values for our model.\n",
    "\n",
    "Another reminder that this graph below is misleading. All these scores are very close to each other with only very minor differences. There is a comment below you can removew to see how close these scores are."
   ]
  },
  {
   "cell_type": "code",
   "execution_count": 75,
   "metadata": {},
   "outputs": [
    {
     "data": {
      "image/png": "[encoded data removed]",
      "text/plain": [
       "<Figure size 432x288 with 1 Axes>"
      ]
     },
     "metadata": {
      "needs_background": "light"
     },
     "output_type": "display_data"
    }
   ],
   "source": [
    "%matplotlib inline \n",
    "plt.scatter(grid_search_random_forest_results['param_max_depth'], grid_search_random_forest_results['mean_test_score'])\n",
    "plt.xlabel('max depth value')\n",
    "plt.ylabel('mean test score')\n",
    "plt.grid(True)\n",
    "# remove the comment below to see how close these values are\n",
    "# plt.ylim(0, 1.5) \n",
    "plt.show();"
   ]
  },
  {
   "cell_type": "code",
   "execution_count": 76,
   "metadata": {},
   "outputs": [
    {
     "data": {
      "text/plain": [
       "RandomForestClassifier(max_depth=6, random_state=0)"
      ]
     },
     "execution_count": 76,
     "metadata": {},
     "output_type": "execute_result"
    }
   ],
   "source": [
    "# use the hyperparameter that we found using grid search\n",
    "random_forest_clf = RandomForestClassifier(max_depth=6, random_state=0)\n",
    "random_forest_clf.fit(X_train, y_train)"
   ]
  },
  {
   "cell_type": "markdown",
   "metadata": {},
   "source": [
    "These scores are relly good. Lastly we'll take a look at the decision boundary.`"
   ]
  },
  {
   "cell_type": "code",
   "execution_count": 77,
   "metadata": {},
   "outputs": [
    {
     "data": {
      "text/plain": [
       "'Training Accuracy: 0.984'"
      ]
     },
     "execution_count": 77,
     "metadata": {},
     "output_type": "execute_result"
    }
   ],
   "source": [
    "f'Training Accuracy: {random_forest_clf.score(X_train, y_train)}'"
   ]
  },
  {
   "cell_type": "code",
   "execution_count": 78,
   "metadata": {},
   "outputs": [
    {
     "data": {
      "text/plain": [
       "'Test Accuracy: 0.976'"
      ]
     },
     "execution_count": 78,
     "metadata": {},
     "output_type": "execute_result"
    }
   ],
   "source": [
    "f'Test Accuracy: {random_forest_clf.score(X_test, y_test)}'"
   ]
  },
  {
   "cell_type": "markdown",
   "metadata": {},
   "source": [
    "From graphing the decision boundary we can see that this model performs well. We can see that unlike decision trees this model does not overfit by trying to get everything correctly. By that I mean that the decision boundary doesn't overstep into the red points to classify one blue point. "
   ]
  },
  {
   "cell_type": "code",
   "execution_count": 79,
   "metadata": {},
   "outputs": [
    {
     "data": {
      "image/png": "[encoded data removed]",
      "text/plain": [
       "<Figure size 432x288 with 1 Axes>"
      ]
     },
     "metadata": {
      "needs_background": "light"
     },
     "output_type": "display_data"
    }
   ],
   "source": [
    "graph_boundary(random_forest_clf, class_one, class_two)"
   ]
  },
  {
   "cell_type": "markdown",
   "metadata": {},
   "source": [
    "# Conclusion"
   ]
  },
  {
   "cell_type": "markdown",
   "metadata": {},
   "source": [
    "In the end altough logistic regression performed better than I had initually thought because of its bias error and its limitations it is not a good algorithm for this data. It's bias error does't allow it to learn non linearly seperable data which is what we are specifically trying to do and because of that limitation it is not so useful here. Even though its score is pretty high we know we can do a lot better. \n",
    "\n",
    "K Nearest Neighbors was a algorithm I tought would be the best performing and altought was really good it had its limitations. Because of its variance error the knn would overfit as we sawwhen we graphed the decision boundary. \n",
    "\n",
    "Decision trees was a algortihm that also performed well but it has a high variance error as well. We watched on the decison boundary how it overfit a the data a lot. Despite this it classified our non liearn data really well. However because of its high variance error I don't know it it would keep preforming well if the data was more noisy (more overlap in the classes). I think overall it's good at classifying non linear data but if the data is very noisy thats where I could see it possibly failing a more and overfitting. \n",
    "\n",
    "Lastly random forests. Going into this project I wasn't too familiar with this algorithm. From what I read about how it is similar to decision trees I assumed it would perform well but might easily overfit or have a high variance error. I also did not know it had hyper parameters so using them twice in this notebook as cool. It also gave the opportunity to explain hyper parameters optimiation with more than hyper parameter. In the end the algorithm performed well and did not easily overfit. I think this algorithm performed the best out of all of them. This is because even tho knn did very well at the best value for $k$ it still overfit as we saw in the decisioun boundary. This did not happen in random forests it did not overfit at its best hyper parameter values. Because of this I think its the best algorithm to solve our issue. \n",
    "\n",
    "In conclusion all these alorithms performed well and solved our problem of classifying non linear data. Even logistic regression. All of them had their bias and variance error and of course limiations but they all did well."
   ]
  },
  {
   "cell_type": "code",
   "execution_count": null,
   "metadata": {},
   "outputs": [],
   "source": []
  }
 ],
 "metadata": {
  "kernelspec": {
   "display_name": "Python 3 (ipykernel)",
   "language": "python",
   "name": "python3"
  },
  "language_info": {
   "codemirror_mode": {
    "name": "ipython",
    "version": 3
   },
   "file_extension": ".py",
   "mimetype": "text/x-python",
   "name": "python",
   "nbconvert_exporter": "python",
   "pygments_lexer": "ipython3",
   "version": "3.8.2"
  }
 },
 "nbformat": 4,
 "nbformat_minor": 4
}
