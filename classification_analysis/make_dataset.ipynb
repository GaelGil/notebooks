{
 "cells": [
  {
   "cell_type": "code",
   "execution_count": 71,
   "id": "043dd897-17b0-4500-9db1-4ab33317ffb3",
   "metadata": {},
   "outputs": [],
   "source": [
    "from sklearn import datasets\n",
    "import pandas as pd\n",
    "import matplotlib.pyplot as plt\n",
    "data= datasets.make_moons(n_samples=100, shuffle=True, noise=.09, random_state=None)"
   ]
  },
  {
   "cell_type": "code",
   "execution_count": 77,
   "id": "4e8b9ce3-6670-438d-98f9-f24d860dd963",
   "metadata": {},
   "outputs": [
    {
     "data": {
      "text/plain": [
       "(100,)"
      ]
     },
     "execution_count": 77,
     "metadata": {},
     "output_type": "execute_result"
    }
   ],
   "source": [
    "y = data[1]"
   ]
  },
  {
   "cell_type": "code",
   "execution_count": 73,
   "id": "d4894418-390b-4105-a181-b6d8be26020d",
   "metadata": {},
   "outputs": [],
   "source": [
    "x_1 = data[0][0:100:,0]"
   ]
  },
  {
   "cell_type": "code",
   "execution_count": 74,
   "id": "e45b34e5-9ddc-4d39-afca-9197036beb9b",
   "metadata": {},
   "outputs": [],
   "source": [
    "x_2 = data[0][0:100:,1]"
   ]
  },
  {
   "cell_type": "code",
   "execution_count": 91,
   "id": "85719b64-29c3-4be7-b4c5-37b3b70c8c23",
   "metadata": {},
   "outputs": [],
   "source": [
    "category_0 = []\n",
    "category_1 = []\n",
    "for i in range(100):\n",
    "    example = data[0][i]\n",
    "    category = data[1][0]\n",
    "    if category == 0:\n",
    "        category_0.append(example)\n",
    "    else:\n",
    "        category_1.apend(example)"
   ]
  },
  {
   "cell_type": "code",
   "execution_count": 93,
   "id": "83b33cfa-7d21-497f-9bf7-fcd6b6ac2bc9",
   "metadata": {},
   "outputs": [
    {
     "data": {
      "text/plain": [
       "[array([0.93242163, 0.66116715]),\n",
       " array([ 0.52476494, -0.44098173]),\n",
       " array([0.75047655, 0.70476531]),\n",
       " array([ 1.51238847, -0.36831699]),\n",
       " array([2.16910872, 0.33857236]),\n",
       " array([ 0.40133423, -0.06799611]),\n",
       " array([-0.44411198,  0.89740839]),\n",
       " array([ 1.0605884 , -0.03552671]),\n",
       " array([ 0.68304638, -0.37554573]),\n",
       " array([0.71850478, 0.61666954]),\n",
       " array([2.12882133, 0.57776406]),\n",
       " array([ 0.97236284, -0.48428029]),\n",
       " array([0.10075179, 0.37203624]),\n",
       " array([1.0405442 , 0.20659532]),\n",
       " array([ 1.41158327, -0.54087026]),\n",
       " array([-0.80986894,  0.63419202]),\n",
       " array([0.263841  , 0.92969221]),\n",
       " array([1.94529238, 0.27703224]),\n",
       " array([ 0.98734193, -0.50939765]),\n",
       " array([2.10366452, 0.02176272]),\n",
       " array([0.25800202, 0.02480442]),\n",
       " array([0.2306941 , 0.88132654]),\n",
       " array([0.33595246, 0.939417  ]),\n",
       " array([ 0.53737675, -0.40835578]),\n",
       " array([ 1.81447861, -0.15240857]),\n",
       " array([ 0.77129106, -0.3941659 ]),\n",
       " array([0.88941981, 0.4251958 ]),\n",
       " array([0.66715272, 0.66847089]),\n",
       " array([1.01211667, 0.16708344]),\n",
       " array([ 0.38194234, -0.17299738]),\n",
       " array([-0.96186575,  0.10241596]),\n",
       " array([ 1.6927431 , -0.15752746]),\n",
       " array([0.27102498, 0.98919618]),\n",
       " array([-0.85397896,  0.18719746]),\n",
       " array([0.48789179, 0.71351764]),\n",
       " array([-0.00150509,  0.16531688]),\n",
       " array([-0.52593813,  0.9371648 ]),\n",
       " array([ 1.0441338, -0.5942373]),\n",
       " array([-0.92121951,  0.1705239 ]),\n",
       " array([-0.71856074,  0.5698062 ]),\n",
       " array([2.00316582, 0.0891712 ]),\n",
       " array([0.15966697, 0.02822243]),\n",
       " array([ 0.38277946, -0.18122328]),\n",
       " array([-0.22244379,  0.83905183]),\n",
       " array([0.00857079, 0.97603461]),\n",
       " array([ 0.79817348, -0.47429686]),\n",
       " array([1.12498495, 0.12900656]),\n",
       " array([ 1.35835447, -0.55848701]),\n",
       " array([-0.34341222,  0.90391989]),\n",
       " array([0.93047119, 0.28169749]),\n",
       " array([0.39684885, 0.77968183]),\n",
       " array([-0.05215905,  0.99934173]),\n",
       " array([ 1.48973648, -0.34779075]),\n",
       " array([ 0.26879227, -0.25000511]),\n",
       " array([-0.03216408,  0.35793117]),\n",
       " array([1.98008844, 0.33449386]),\n",
       " array([ 1.66197998, -0.42329468]),\n",
       " array([0.86690742, 0.50255169]),\n",
       " array([ 1.45411935, -0.30311477]),\n",
       " array([0.02488928, 1.01482504]),\n",
       " array([ 0.89776583, -0.31766421]),\n",
       " array([ 0.99204173, -0.00717788]),\n",
       " array([-0.55110701,  0.79479538]),\n",
       " array([-0.82215122,  0.41563988]),\n",
       " array([ 0.89725355, -0.40391432]),\n",
       " array([-0.60050993,  0.67564193]),\n",
       " array([-0.16559986,  0.84830514]),\n",
       " array([0.95702276, 0.31742191]),\n",
       " array([0.06369883, 0.21098544]),\n",
       " array([0.17658644, 0.11517544]),\n",
       " array([-0.99561015,  0.33909885]),\n",
       " array([ 1.64398243, -0.43189157]),\n",
       " array([ 0.12682949, -0.14703322]),\n",
       " array([ 1.86422175, -0.01820332]),\n",
       " array([-0.14301359,  0.92967984]),\n",
       " array([0.6995592 , 0.88786831]),\n",
       " array([ 0.99238261, -0.57596237]),\n",
       " array([0.43514958, 0.98483015]),\n",
       " array([0.09788144, 0.92195717]),\n",
       " array([2.01283392, 0.49219451]),\n",
       " array([0.25619722, 0.95886185]),\n",
       " array([ 1.08567623, -0.37831142]),\n",
       " array([-0.99778393,  0.12188531]),\n",
       " array([1.95739913, 0.10236621]),\n",
       " array([-0.05624851,  0.40069684]),\n",
       " array([-0.45233159,  0.91854352]),\n",
       " array([ 1.8443725 , -0.01176836]),\n",
       " array([-0.94255454,  0.50434004]),\n",
       " array([-0.58033365,  0.92560684]),\n",
       " array([0.48155139, 0.72177787]),\n",
       " array([-0.91392546,  0.51010622]),\n",
       " array([-0.83301453,  0.07892015]),\n",
       " array([-0.0565493 ,  0.14736932]),\n",
       " array([-0.10804735,  0.40404609]),\n",
       " array([ 0.45014205, -0.13873683]),\n",
       " array([ 1.51358173, -0.44668638]),\n",
       " array([-0.4034357 ,  0.75707132]),\n",
       " array([ 0.69016526, -0.44591109]),\n",
       " array([ 1.87212634, -0.08668062]),\n",
       " array([-0.70815405,  0.67391051])]"
      ]
     },
     "execution_count": 93,
     "metadata": {},
     "output_type": "execute_result"
    }
   ],
   "source": [
    "category_0"
   ]
  },
  {
   "cell_type": "code",
   "execution_count": 76,
   "id": "d121dc53-5673-4cc0-aa91-6e5999d2c0c8",
   "metadata": {},
   "outputs": [
    {
     "data": {
      "image/png": "[encoded data removed]",
      "text/plain": [
       "<Figure size 432x288 with 1 Axes>"
      ]
     },
     "metadata": {
      "needs_background": "light"
     },
     "output_type": "display_data"
    }
   ],
   "source": [
    "%matplotlib inline \n",
    "plt.scatter(x_1, x_2, color='b')\n",
    "plt.xlabel('x')\n",
    "plt.ylabel('y')\n",
    "plt.grid(True)\n",
    "plt.show();"
   ]
  },
  {
   "cell_type": "code",
   "execution_count": null,
   "id": "466083ca-f68d-4bb0-8370-9f285041a354",
   "metadata": {},
   "outputs": [],
   "source": []
  }
 ],
 "metadata": {
  "kernelspec": {
   "display_name": "Python 3 (ipykernel)",
   "language": "python",
   "name": "python3"
  },
  "language_info": {
   "codemirror_mode": {
    "name": "ipython",
    "version": 3
   },
   "file_extension": ".py",
   "mimetype": "text/x-python",
   "name": "python",
   "nbconvert_exporter": "python",
   "pygments_lexer": "ipython3",
   "version": "3.7.3"
  }
 },
 "nbformat": 4,
 "nbformat_minor": 5
}
