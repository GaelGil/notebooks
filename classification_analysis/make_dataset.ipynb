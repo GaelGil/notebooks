{
 "cells": [
  {
   "cell_type": "code",
   "execution_count": 35,
   "id": "44d0f1b8-f21a-4877-bee9-8c9f2bcc5a0c",
   "metadata": {},
   "outputs": [],
   "source": [
    "from sklearn import datasets\n",
    "import pandas as pd\n",
    "import matplotlib.pyplot as plt"
   ]
  },
  {
   "cell_type": "code",
   "execution_count": 36,
   "id": "f9b2c9c1-b44f-4e62-b367-ead33b4bd96c",
   "metadata": {},
   "outputs": [],
   "source": [
    "def make_dataset(num_samples, noise):\n",
    "    data = datasets.make_moons(n_samples=num_samples, shuffle=True, noise=noise, random_state=None)\n",
    "    return data"
   ]
  },
  {
   "cell_type": "code",
   "execution_count": 37,
   "id": "ac6ff095-7dfd-4eea-a907-cbeecdd39418",
   "metadata": {},
   "outputs": [],
   "source": [
    "data = make_dataset(10000, 0.1)"
   ]
  },
  {
   "cell_type": "code",
   "execution_count": 38,
   "id": "3502c73b-0845-4512-b387-8f9a7ed33177",
   "metadata": {},
   "outputs": [],
   "source": [
    "def create_dataframe(data):\n",
    "    data = {'x_1': data[0][0:len(data[1]):,0], 'x_2': data[0][0:len(data[1]):,1], 'output': data[1]}\n",
    "    df = pd.DataFrame(data=data)\n",
    "    return df"
   ]
  },
  {
   "cell_type": "code",
   "execution_count": 39,
   "id": "cf33de44-9c4a-4de0-945e-e66086493164",
   "metadata": {},
   "outputs": [],
   "source": [
    "dataframe = create_dataframe(data)                                                     "
   ]
  },
  {
   "cell_type": "code",
   "execution_count": 40,
   "id": "6ae4b066-fd90-4432-b2e1-d5ee23016b74",
   "metadata": {},
   "outputs": [],
   "source": [
    "def seperate_categories(df):\n",
    "    category_zero = df.loc[df['output'] == 0]\n",
    "    category_one = df.loc[df['output'] == 1]\n",
    "    return category_zero, category_one"
   ]
  },
  {
   "cell_type": "code",
   "execution_count": 41,
   "id": "eda86a7f-a150-458b-9e20-172d1ca24af7",
   "metadata": {},
   "outputs": [],
   "source": [
    "class_one, class_two = seperate_categories(dataframe)"
   ]
  },
  {
   "cell_type": "code",
   "execution_count": 42,
   "id": "dc684edb-8cbe-4f12-a1c9-e4026c3a38bc",
   "metadata": {},
   "outputs": [
    {
     "data": {
      "image/png": "[encoded data removed]",
      "text/plain": [
       "<Figure size 432x288 with 1 Axes>"
      ]
     },
     "metadata": {
      "needs_background": "light"
     },
     "output_type": "display_data"
    }
   ],
   "source": [
    "%matplotlib inline \n",
    "plt.scatter(class_one['x_1'], class_one['x_2'], color='b')\n",
    "plt.scatter(class_two['x_1'], class_two['x_2'], color='r')\n",
    "plt.xlabel('x')\n",
    "plt.ylabel('y')\n",
    "plt.grid(True)\n",
    "plt.show();"
   ]
  },
  {
   "cell_type": "code",
   "execution_count": null,
   "id": "466083ca-f68d-4bb0-8370-9f285041a354",
   "metadata": {},
   "outputs": [],
   "source": []
  }
 ],
 "metadata": {
  "kernelspec": {
   "display_name": "Python 3 (ipykernel)",
   "language": "python",
   "name": "python3"
  },
  "language_info": {
   "codemirror_mode": {
    "name": "ipython",
    "version": 3
   },
   "file_extension": ".py",
   "mimetype": "text/x-python",
   "name": "python",
   "nbconvert_exporter": "python",
   "pygments_lexer": "ipython3",
   "version": "3.7.3"
  }
 },
 "nbformat": 4,
 "nbformat_minor": 5
}
