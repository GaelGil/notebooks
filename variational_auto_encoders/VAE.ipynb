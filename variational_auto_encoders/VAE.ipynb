{
 "cells": [
  {
   "cell_type": "markdown",
   "id": "b822ebd7",
   "metadata": {},
   "source": [
    "\n",
    "# Variational Auto Encoders\n",
    "## Project Description\n",
    "\n",
    "In this notebook I will go over some of the basics of Variational Auto Encoders. This notebook will cover what Variational Auto Encoders are, how they are trained and what we can use them for. At the end of explaining the basics I will build a Variational Auto Encoder using pytorch. I am doing this project because I wanted to expand my knowledge on computer vision and learn how to use pytorch while implementing these models. Some knowledge of neural networks would be helpful for this project as well as some python knowledge. If you want to learn more about convolutional neural networks I have a notebook where I explain the math and implement one from scratch here.\n"
   ]
  },
  {
   "cell_type": "markdown",
   "id": "08701f00",
   "metadata": {},
   "source": []
  },
  {
   "cell_type": "code",
   "execution_count": null,
   "id": "f328134c",
   "metadata": {
    "vscode": {
     "languageId": "plaintext"
    }
   },
   "outputs": [],
   "source": [
    "import numpy as np\n",
    "import matplotlib.pyplot as plt\n",
    "import seaborn as sns"
   ]
  },
  {
   "cell_type": "markdown",
   "id": "2b165d0e",
   "metadata": {},
   "source": [
    "# Why use VAE's\n",
    "\n",
    "Just like in regular feed forward neural networks, in convolutional networks we also have layers. We have the convolutional layer, pooling layer, activation layer and the feed forward part of our network. This is a photo of what it looks like. We will go over each part later in the notebook."
   ]
  }
 ],
 "metadata": {
  "language_info": {
   "name": "python"
  }
 },
 "nbformat": 4,
 "nbformat_minor": 5
}
