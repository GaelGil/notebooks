{
 "cells": [
  {
   "cell_type": "markdown",
   "id": "81d61fa2-ccf5-4c7c-aa5d-7bc6b784a21f",
   "metadata": {},
   "source": [
    "# Probability Theory\n",
    "I recently took a a probability theory course at San Jose State (Math 163). In this class I was able to learn a lot and wanted to share that here. In the course we reviwed permutations, combinations, the axioms of probability, conditional probability and independence. What seperates this course from regular probability and statistics is that we went further into deriving variance, mean, as well as functions of random variables and their distrobutions, etc. This class was very difficult but I really enjoyed sitting in that class and learning the material. The purpose of this notebook will be to recap and share what I learned in the class. "
   ]
  },
  {
   "cell_type": "markdown",
   "id": "75d7b955-3977-4583-bd65-b0eaab5ab587",
   "metadata": {},
   "source": [
    "## Terminology\n",
    "- **Experiment**: A situation of proccess of which we cannot predict with 100% cerntanty.\n",
    "    - EX) a six sided dice roll\n",
    "- **Sample Space**: All the possible outcomes of an expiriment.\n",
    "   - EX) $S=\\set{1 ,2, 3, 4, 5, 6}$\n",
    "- **Event**: Subset of the sample space\n",
    "    - EX) Event where it lands on 4 $E = \\set{4}$\n",
    "- **Union**:\n",
    "- **Intersection**\n",
    "- **Complement**"
   ]
  },
  {
   "cell_type": "markdown",
   "id": "5f1637f1-fc17-4ad7-aa00-2f3d04e83e2e",
   "metadata": {},
   "source": [
    "## Axioums of Probability\n",
    "The Axioms of probability are quite simple here they are written in latex.\n",
    "$$P(S) = 1 \\text{where S is the sample space}$$ \n",
    "$$P(A) \\geq 0 \\forall \\text{events} A$$ \n",
    "For any collectionn of mutually exclusinve event $A_1, A_2, .....$\n",
    "$$P(A_1 \\cup A_2, \\cup ....) = P(A_1) + P(A_2) + ......$$\n",
    "\n",
    "The first axiom says that probability of a sample space should be 1. One way we can see this is by thinking of all the events that happened. If we add up all their probabilities the number should be 1. Here is an example. \n",
    "\n",
    "\n",
    "The second axiom says that the probability of any event should be greater than or equal to zero. Probability cannot be negative.\n",
    "\n",
    "The last probability says that if we have mutally exclusive events lets say $A_1, A_2, A_3$ then the probability of the union of those events should be the same as the probability of the individual events summed up. This of course makes sense because if they are mutally exclusive that means that $A_1$ is not in $A_2$ or $A_3$ and so on. "
   ]
  },
  {
   "cell_type": "markdown",
   "id": "87ecb702-723c-4a84-97ba-6cc7857128f7",
   "metadata": {},
   "source": [
    "## Combinations & Permutations"
   ]
  },
  {
   "cell_type": "markdown",
   "id": "2503e703-f970-485f-ab6f-f6cfdf544d3e",
   "metadata": {},
   "source": [
    "## Conditional probability\n",
    "## Independence\n",
    "## Random Variables and Their Distrobutions\n",
    "## Special Probability Distributions\n",
    "## Distributions of a Function of a Random Variable\n",
    "## Jointly Distributed Random Variables\n",
    "## Distributions of Functions of Random Variables"
   ]
  },
  {
   "cell_type": "code",
   "execution_count": null,
   "id": "a0c9e934-3501-4700-ac17-80d530df40a0",
   "metadata": {},
   "outputs": [],
   "source": []
  },
  {
   "cell_type": "code",
   "execution_count": null,
   "id": "c4fc4ab3-80dd-4f04-908f-beb31f291813",
   "metadata": {},
   "outputs": [],
   "source": []
  }
 ],
 "metadata": {
  "kernelspec": {
   "display_name": "Python 3 (ipykernel)",
   "language": "python",
   "name": "python3"
  },
  "language_info": {
   "codemirror_mode": {
    "name": "ipython",
    "version": 3
   },
   "file_extension": ".py",
   "mimetype": "text/x-python",
   "name": "python",
   "nbconvert_exporter": "python",
   "pygments_lexer": "ipython3",
   "version": "3.9.6"
  }
 },
 "nbformat": 4,
 "nbformat_minor": 5
}
