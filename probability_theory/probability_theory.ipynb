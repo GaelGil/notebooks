{
 "cells": [
  {
   "cell_type": "markdown",
   "id": "81d61fa2-ccf5-4c7c-aa5d-7bc6b784a21f",
   "metadata": {},
   "source": [
    "# Probability Theory\n",
    "I recently took a a probability theory course at San Jose State (Math 163). In this class I was able to learn a lot and wanted to share that here. In the course we reviwed permutations, combinations, the axioms of probability, conditional probability and independence. What seperates this course from regular probability and statistics is that we went further into deriving variance, mean, as well as functions of random variables and their distrobutions, etc. This class was a really fun challange. I really ejoyed learning the material. The purpose of this notebook will be to recap and share what I learned in the class. "
   ]
  },
  {
   "cell_type": "markdown",
   "id": "75d7b955-3977-4583-bd65-b0eaab5ab587",
   "metadata": {},
   "source": [
    "## Terminology\n",
    "- **Experiment**: A situation or proccess which we cannot predict with 100% cerntanty.\n",
    "    - EX) a six sided dice roll\n",
    "- **Sample Space**: All the possible outcomes of an expiriment. Denoted $S$\n",
    "   - EX) The sample space of rolling a dice once, $S=\\set{1 ,2, 3, 4, 5, 6}$\n",
    "- **Event**: Subset of the sample space\n",
    "    - EX) Event where it lands on 4 $E = \\set{4}$\n",
    "- **Union**: The union of two events A and B is the set that contains both A or B\n",
    "   - EX) Let $S$ be the sample space of rolling a pair dice. Let A be the the set where the dice are both odd   $A \\cup B =\\set{1 ,2, 3, 4, 5, 6}$\n",
    "- **Intersection**:  The union of two events A and B is the set that contains both A and B\n",
    "- \n",
    "- **Complement**: The complement is the set of events not in a event A. Denoted $A^c$"
   ]
  },
  {
   "cell_type": "markdown",
   "id": "5f1637f1-fc17-4ad7-aa00-2f3d04e83e2e",
   "metadata": {},
   "source": [
    "## Axioums of Probability\n",
    "The Axioms of probability are quite simple here they are written in latex.\n",
    "$$P(S) = 1 \\text{ where S is the sample space}$$ \n",
    "This says that probability of a sample space should be 1. One way we can see this is by thinking of all the events that happened. If we add up all their probabilities the number should be 1. Here is an example with a fair coin toss. $P(H)=0.5$ and $P(T)=0.5$. These two outcomes add up to 1 and that includes the whole sample space. \n",
    "\n",
    "\n",
    "$$P(A) \\geq 0 \\forall \\text{ events } A$$ \n",
    "The second axiom says that the probability of any event should be greater than or equal to zero. Probability cannot be negative.\n",
    "\n",
    "For any collectionn of mutually exclusive events $A_1, A_2, .....$\n",
    "$$P(A_1 \\cup A_2, \\cup \\dots \\cup A_n) = P(A_1) + P(A_2) + \\dots + P(A_n)$$\n",
    "\n",
    "\n",
    "This last axioum says that if we have mutally exclusive events lets say $A_1, A_2, A_3 \\dots A_n$ and so on then the probability of the union of those events should be the same as the probability of the individual events summed up. We can use the example of the fair coin toss to understand this. Since $P(H)$ and $P(T)$ are mutually exlusive events then $P(H \\cup T)$ would just be equal to $P(H)+P(H)$"
   ]
  },
  {
   "cell_type": "markdown",
   "id": "87ecb702-723c-4a84-97ba-6cc7857128f7",
   "metadata": {},
   "source": [
    "## Combinations & Permutations\n",
    "Because we are using a frequentist approach we will go over some basic counting techniques. This helps us layout the sample space and events. First lets define what a permutation is. A permutation is a set of ordered objects in which each object is unique. A combination is a collection of objects in which a order does matter. Here is an example of both a permutation and combination using the numbers $1, 2, 3$\n",
    "\n",
    "Permutations: $\\{1, 2, 3\\}, \\{2, 3, 1\\}, \\{3, 2, 1\\}, \\{3, 1, 2\\}, \\{1, 3, 2\\}, \\{2, 1, 3\\}$\n",
    "\n",
    "Combinations: $\\{1, 2, 3\\}$\n",
    "\n",
    "As we can see in the permutations the order matters, if we arrange the position of the numbers we will get a different permutation. However there is one combination of those 3 numbers because we don't care for the order. \n",
    "\n",
    "Lets do some more counting! If wanted to shuffle a deck of cards then there are $52!$ ways to do that. That is . We arrived at this answer by thinking of our options at each possible index. For example at our first index of cards we can have any of the 52 cards, then at the next index of the order we can only have 51 since one of them (does not matter which just a card) is already in position 52. Then 50 options for the next index and so on and so on.\n",
    "\n",
    "Now we will use a counting technique called the multiplication rule which simply says that if we have $n$ ways to do something and $m$ ways to do another thing then the number of ways to do and $n$ and $m$ things would be $n*m$. For example lets say we have an option of choosing."
   ]
  },
  {
   "cell_type": "markdown",
   "id": "3706c728-1cde-4cf6-816d-02817eea3469",
   "metadata": {},
   "source": [
    "## Conditional probability\n",
    "In conditional probability we are interested in the probability that an event happening given another event has already happened. We denote this like this.\n",
    "$$P(A | B)$$\n",
    "This translates to the probability of event A has happens given that event B has happened. The formula to calculate this is probability is.\n",
    "$$P(A|B) = \\frac{P(A \\cap B)}{P(B)}$$\n",
    "Now lets try to explain why this works. First we can think of reducing the sample space. Similar to how we count the probability of a pair of dice landing on a even number, we first consider all the options and that is our sample space of size $6$. Then we just count how many possible dice are even and that is $3$. Then our probability is $\\frac{1}{2}$. \n",
    "\n",
    "Now in the context of conditional probability we can say that our sample space is $B$. So calculating to probability of event $B$ happening would\n",
    "We say that our sample space is all the events of $B$. So now our sample space is $B$ and we want to figure out how many events  "
   ]
  },
  {
   "cell_type": "markdown",
   "id": "ac544792-09b4-4a66-82c5-01c7b02739a7",
   "metadata": {},
   "source": [
    "## Independence\n",
    "## Random Variables and Their Distrobutions\n",
    "## Special Probability Distributions\n",
    "## Distributions of a Function of a Random Variable\n",
    "## Jointly Distributed Random Variables\n",
    "## Distributions of Functions of Random Variables"
   ]
  },
  {
   "cell_type": "code",
   "execution_count": null,
   "id": "a0c9e934-3501-4700-ac17-80d530df40a0",
   "metadata": {},
   "outputs": [],
   "source": []
  },
  {
   "cell_type": "code",
   "execution_count": null,
   "id": "c4fc4ab3-80dd-4f04-908f-beb31f291813",
   "metadata": {},
   "outputs": [],
   "source": []
  }
 ],
 "metadata": {
  "kernelspec": {
   "display_name": "Python 3 (ipykernel)",
   "language": "python",
   "name": "python3"
  },
  "language_info": {
   "codemirror_mode": {
    "name": "ipython",
    "version": 3
   },
   "file_extension": ".py",
   "mimetype": "text/x-python",
   "name": "python",
   "nbconvert_exporter": "python",
   "pygments_lexer": "ipython3",
   "version": "3.9.6"
  }
 },
 "nbformat": 4,
 "nbformat_minor": 5
}
