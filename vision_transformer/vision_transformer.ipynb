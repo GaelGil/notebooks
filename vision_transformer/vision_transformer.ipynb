{
 "cells": [
  {
   "cell_type": "markdown",
   "id": "07f1da84-1bbe-4fa6-a574-4fa874cca1f1",
   "metadata": {},
   "source": [
    "# Vision Transformer"
   ]
  },
  {
   "cell_type": "markdown",
   "id": "92783e21-8c5a-449e-b6ec-e4d42116a57d",
   "metadata": {},
   "source": [
    "## Project Description"
   ]
  },
  {
   "cell_type": "markdown",
   "id": "c0392fea-568c-4a14-a3ca-2871989d44a7",
   "metadata": {},
   "source": [
    "## Background"
   ]
  },
  {
   "cell_type": "markdown",
   "id": "0f093cb0-19ad-4728-afb3-a0ac5adf7ee8",
   "metadata": {},
   "source": [
    "## Model Architecture"
   ]
  },
  {
   "cell_type": "markdown",
   "id": "ad9b62d1-1d5e-411b-9109-96ca14935c22",
   "metadata": {},
   "source": []
  }
 ],
 "metadata": {
  "kernelspec": {
   "display_name": "Python 3 (ipykernel)",
   "language": "python",
   "name": "python3"
  },
  "language_info": {
   "codemirror_mode": {
    "name": "ipython",
    "version": 3
   },
   "file_extension": ".py",
   "mimetype": "text/x-python",
   "name": "python",
   "nbconvert_exporter": "python",
   "pygments_lexer": "ipython3",
   "version": "3.13.1"
  }
 },
 "nbformat": 4,
 "nbformat_minor": 5
}
