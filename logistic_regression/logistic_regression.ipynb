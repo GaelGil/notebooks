{
 "cells": [
  {
   "cell_type": "markdown",
   "metadata": {},
   "source": [
    "# Logistic Regression\n",
    "Using logistic regression we can predict a class using some features. In this project I used one feature which is `weight` to try to see if we can predict a class. The idea of this is to see of we can predict a class given some weight or if weight even has any correlation to the class. In this notebook I will show some of my steps that I did in this project and lastly evaluate my model.\n",
    "### Table of Contents\n",
    "- 1. Data Acquisition\n",
    "- 2. Data cleaning\n",
    "- 3. Data visualization\n",
    "- 4. Modeling \n",
    "- 5. Model evaluation "
   ]
  },
  {
   "cell_type": "markdown",
   "metadata": {},
   "source": [
    "### Imports\n",
    "These are just some basic imports, pandas for the data, and sklearn for the model and model evaluation, as well as matplotlib for visualisation"
   ]
  },
  {
   "cell_type": "code",
   "execution_count": 2,
   "metadata": {},
   "outputs": [],
   "source": [
    "import numpy as np \n",
    "import math\n",
    "import pandas as pd \n",
    "\n",
    "%matplotlib inline\n",
    "from matplotlib import pyplot as plt\n",
    "from matplotlib import style\n",
    "from sklearn.metrics import classification_report\n",
    "from sklearn import linear_model\n",
    "from sklearn.linear_model import LogisticRegression"
   ]
  },
  {
   "cell_type": "markdown",
   "metadata": {},
   "source": [
    "\n",
    "## 1. Data aquasition\n",
    "I have the data in a csv file that I downloaded previously from kaggle which you can get <a href=\"https://www.kaggle.com/mustafaali96/weight-height\">here.</a> "
   ]
  },
  {
   "cell_type": "code",
   "execution_count": 3,
   "metadata": {},
   "outputs": [],
   "source": [
    "data = pd.read_csv(\"../knn/train\", names=[\"gender\", \"height\", \"weight\"])"
   ]
  },
  {
   "cell_type": "code",
   "execution_count": 4,
   "metadata": {},
   "outputs": [
    {
     "data": {
      "text/html": [
       "<div>\n",
       "<style scoped>\n",
       "    .dataframe tbody tr th:only-of-type {\n",
       "        vertical-align: middle;\n",
       "    }\n",
       "\n",
       "    .dataframe tbody tr th {\n",
       "        vertical-align: top;\n",
       "    }\n",
       "\n",
       "    .dataframe thead th {\n",
       "        text-align: right;\n",
       "    }\n",
       "</style>\n",
       "<table border=\"1\" class=\"dataframe\">\n",
       "  <thead>\n",
       "    <tr style=\"text-align: right;\">\n",
       "      <th></th>\n",
       "      <th>gender</th>\n",
       "      <th>height</th>\n",
       "      <th>weight</th>\n",
       "    </tr>\n",
       "  </thead>\n",
       "  <tbody>\n",
       "    <tr>\n",
       "      <th>5640</th>\n",
       "      <td>Female</td>\n",
       "      <td>66.766157</td>\n",
       "      <td>152.944405</td>\n",
       "    </tr>\n",
       "    <tr>\n",
       "      <th>8220</th>\n",
       "      <td>Female</td>\n",
       "      <td>63.881197</td>\n",
       "      <td>137.170886</td>\n",
       "    </tr>\n",
       "    <tr>\n",
       "      <th>2415</th>\n",
       "      <td>Male</td>\n",
       "      <td>68.720243</td>\n",
       "      <td>182.455923</td>\n",
       "    </tr>\n",
       "    <tr>\n",
       "      <th>7442</th>\n",
       "      <td>Female</td>\n",
       "      <td>62.834020</td>\n",
       "      <td>132.169244</td>\n",
       "    </tr>\n",
       "    <tr>\n",
       "      <th>3182</th>\n",
       "      <td>Male</td>\n",
       "      <td>70.962617</td>\n",
       "      <td>195.017206</td>\n",
       "    </tr>\n",
       "    <tr>\n",
       "      <th>...</th>\n",
       "      <td>...</td>\n",
       "      <td>...</td>\n",
       "      <td>...</td>\n",
       "    </tr>\n",
       "    <tr>\n",
       "      <th>2866</th>\n",
       "      <td>Male</td>\n",
       "      <td>68.932069</td>\n",
       "      <td>187.626609</td>\n",
       "    </tr>\n",
       "    <tr>\n",
       "      <th>4579</th>\n",
       "      <td>Male</td>\n",
       "      <td>64.746174</td>\n",
       "      <td>176.948433</td>\n",
       "    </tr>\n",
       "    <tr>\n",
       "      <th>4056</th>\n",
       "      <td>Male</td>\n",
       "      <td>69.741240</td>\n",
       "      <td>206.636440</td>\n",
       "    </tr>\n",
       "    <tr>\n",
       "      <th>7843</th>\n",
       "      <td>Female</td>\n",
       "      <td>62.536789</td>\n",
       "      <td>128.357712</td>\n",
       "    </tr>\n",
       "    <tr>\n",
       "      <th>5928</th>\n",
       "      <td>Female</td>\n",
       "      <td>62.196274</td>\n",
       "      <td>120.008199</td>\n",
       "    </tr>\n",
       "  </tbody>\n",
       "</table>\n",
       "<p>8000 rows × 3 columns</p>\n",
       "</div>"
      ],
      "text/plain": [
       "      gender     height      weight\n",
       "5640  Female  66.766157  152.944405\n",
       "8220  Female  63.881197  137.170886\n",
       "2415    Male  68.720243  182.455923\n",
       "7442  Female  62.834020  132.169244\n",
       "3182    Male  70.962617  195.017206\n",
       "...      ...        ...         ...\n",
       "2866    Male  68.932069  187.626609\n",
       "4579    Male  64.746174  176.948433\n",
       "4056    Male  69.741240  206.636440\n",
       "7843  Female  62.536789  128.357712\n",
       "5928  Female  62.196274  120.008199\n",
       "\n",
       "[8000 rows x 3 columns]"
      ]
     },
     "execution_count": 4,
     "metadata": {},
     "output_type": "execute_result"
    }
   ],
   "source": [
    "data"
   ]
  },
  {
   "cell_type": "markdown",
   "metadata": {},
   "source": [
    "These two varaibles i'll use for graph to show the relationship between the two. I also had to normalize the gender column so that I could predict something ()"
   ]
  },
  {
   "cell_type": "code",
   "execution_count": 5,
   "metadata": {},
   "outputs": [],
   "source": [
    "x_1 = data['weight']\n",
    "x_2 = data['height']"
   ]
  },
  {
   "cell_type": "code",
   "execution_count": 6,
   "metadata": {},
   "outputs": [],
   "source": [
    "data = pd.get_dummies(data, columns=['gender'])"
   ]
  },
  {
   "cell_type": "code",
   "execution_count": 28,
   "metadata": {},
   "outputs": [
    {
     "data": {
      "text/html": [
       "<div>\n",
       "<style scoped>\n",
       "    .dataframe tbody tr th:only-of-type {\n",
       "        vertical-align: middle;\n",
       "    }\n",
       "\n",
       "    .dataframe tbody tr th {\n",
       "        vertical-align: top;\n",
       "    }\n",
       "\n",
       "    .dataframe thead th {\n",
       "        text-align: right;\n",
       "    }\n",
       "</style>\n",
       "<table border=\"1\" class=\"dataframe\">\n",
       "  <thead>\n",
       "    <tr style=\"text-align: right;\">\n",
       "      <th></th>\n",
       "      <th>height</th>\n",
       "      <th>weight</th>\n",
       "      <th>gender_Female</th>\n",
       "      <th>gender_Male</th>\n",
       "      <th>prediction</th>\n",
       "      <th>pred_class</th>\n",
       "    </tr>\n",
       "  </thead>\n",
       "  <tbody>\n",
       "    <tr>\n",
       "      <th>5640</th>\n",
       "      <td>66.766157</td>\n",
       "      <td>152.944405</td>\n",
       "      <td>1</td>\n",
       "      <td>0</td>\n",
       "      <td>0.253184</td>\n",
       "      <td>0</td>\n",
       "    </tr>\n",
       "    <tr>\n",
       "      <th>8220</th>\n",
       "      <td>63.881197</td>\n",
       "      <td>137.170886</td>\n",
       "      <td>1</td>\n",
       "      <td>0</td>\n",
       "      <td>0.038634</td>\n",
       "      <td>0</td>\n",
       "    </tr>\n",
       "    <tr>\n",
       "      <th>2415</th>\n",
       "      <td>68.720243</td>\n",
       "      <td>182.455923</td>\n",
       "      <td>0</td>\n",
       "      <td>1</td>\n",
       "      <td>0.948248</td>\n",
       "      <td>1</td>\n",
       "    </tr>\n",
       "    <tr>\n",
       "      <th>7442</th>\n",
       "      <td>62.834020</td>\n",
       "      <td>132.169244</td>\n",
       "      <td>1</td>\n",
       "      <td>0</td>\n",
       "      <td>0.020027</td>\n",
       "      <td>0</td>\n",
       "    </tr>\n",
       "    <tr>\n",
       "      <th>3182</th>\n",
       "      <td>70.962617</td>\n",
       "      <td>195.017206</td>\n",
       "      <td>0</td>\n",
       "      <td>1</td>\n",
       "      <td>0.990111</td>\n",
       "      <td>1</td>\n",
       "    </tr>\n",
       "    <tr>\n",
       "      <th>...</th>\n",
       "      <td>...</td>\n",
       "      <td>...</td>\n",
       "      <td>...</td>\n",
       "      <td>...</td>\n",
       "      <td>...</td>\n",
       "      <td>...</td>\n",
       "    </tr>\n",
       "    <tr>\n",
       "      <th>2866</th>\n",
       "      <td>68.932069</td>\n",
       "      <td>187.626609</td>\n",
       "      <td>0</td>\n",
       "      <td>1</td>\n",
       "      <td>0.973589</td>\n",
       "      <td>1</td>\n",
       "    </tr>\n",
       "    <tr>\n",
       "      <th>4579</th>\n",
       "      <td>64.746174</td>\n",
       "      <td>176.948433</td>\n",
       "      <td>0</td>\n",
       "      <td>1</td>\n",
       "      <td>0.896930</td>\n",
       "      <td>1</td>\n",
       "    </tr>\n",
       "    <tr>\n",
       "      <th>4056</th>\n",
       "      <td>69.741240</td>\n",
       "      <td>206.636440</td>\n",
       "      <td>0</td>\n",
       "      <td>1</td>\n",
       "      <td>0.997928</td>\n",
       "      <td>1</td>\n",
       "    </tr>\n",
       "    <tr>\n",
       "      <th>7843</th>\n",
       "      <td>62.536789</td>\n",
       "      <td>128.357712</td>\n",
       "      <td>1</td>\n",
       "      <td>0</td>\n",
       "      <td>0.012060</td>\n",
       "      <td>0</td>\n",
       "    </tr>\n",
       "    <tr>\n",
       "      <th>5928</th>\n",
       "      <td>62.196274</td>\n",
       "      <td>120.008199</td>\n",
       "      <td>1</td>\n",
       "      <td>0</td>\n",
       "      <td>0.003932</td>\n",
       "      <td>0</td>\n",
       "    </tr>\n",
       "  </tbody>\n",
       "</table>\n",
       "<p>8000 rows × 6 columns</p>\n",
       "</div>"
      ],
      "text/plain": [
       "         height      weight  gender_Female  gender_Male  prediction  \\\n",
       "5640  66.766157  152.944405              1            0    0.253184   \n",
       "8220  63.881197  137.170886              1            0    0.038634   \n",
       "2415  68.720243  182.455923              0            1    0.948248   \n",
       "7442  62.834020  132.169244              1            0    0.020027   \n",
       "3182  70.962617  195.017206              0            1    0.990111   \n",
       "...         ...         ...            ...          ...         ...   \n",
       "2866  68.932069  187.626609              0            1    0.973589   \n",
       "4579  64.746174  176.948433              0            1    0.896930   \n",
       "4056  69.741240  206.636440              0            1    0.997928   \n",
       "7843  62.536789  128.357712              1            0    0.012060   \n",
       "5928  62.196274  120.008199              1            0    0.003932   \n",
       "\n",
       "      pred_class  \n",
       "5640           0  \n",
       "8220           0  \n",
       "2415           1  \n",
       "7442           0  \n",
       "3182           1  \n",
       "...          ...  \n",
       "2866           1  \n",
       "4579           1  \n",
       "4056           1  \n",
       "7843           0  \n",
       "5928           0  \n",
       "\n",
       "[8000 rows x 6 columns]"
      ]
     },
     "execution_count": 28,
     "metadata": {},
     "output_type": "execute_result"
    }
   ],
   "source": [
    "data"
   ]
  },
  {
   "cell_type": "markdown",
   "metadata": {},
   "source": [
    "### 3. Data Visualization\n",
    "Here I graphed the data by `x` being weight and the `y` being height"
   ]
  },
  {
   "cell_type": "code",
   "execution_count": 27,
   "metadata": {},
   "outputs": [
    {
     "data": {
      "image/png": "[encoded data removed]",
      "text/plain": [
       "<Figure size 432x288 with 1 Axes>"
      ]
     },
     "metadata": {
      "needs_background": "light"
     },
     "output_type": "display_data"
    }
   ],
   "source": [
    "# plot the relationship between height and weight\n",
    "%matplotlib inline \n",
    "plt.scatter(x_1, x_2, color='b')\n",
    "plt.xlabel('weight')\n",
    "plt.ylabel('height')\n",
    "plt.grid(True)\n",
    "plt.show();"
   ]
  },
  {
   "cell_type": "markdown",
   "metadata": {},
   "source": [
    "Here I visualized it with a focus on where the values align on when we are between 0 and 1 (or beloning to a class or not)"
   ]
  },
  {
   "cell_type": "code",
   "execution_count": 9,
   "metadata": {},
   "outputs": [
    {
     "data": {
      "image/png": "[encoded data removed]",
      "text/plain": [
       "<Figure size 432x288 with 1 Axes>"
      ]
     },
     "metadata": {
      "needs_background": "light"
     },
     "output_type": "display_data"
    }
   ],
   "source": [
    "%matplotlib inline \n",
    "plt.scatter(x_1, data['gender_Male'], color='b')\n",
    "plt.xlabel('weight')\n",
    "plt.ylabel('class')\n",
    "plt.grid(True)\n",
    "plt.show();"
   ]
  },
  {
   "cell_type": "code",
   "execution_count": 10,
   "metadata": {},
   "outputs": [],
   "source": [
    "# this is what we will be trying to predict\n",
    "y = data['gender_Male']"
   ]
  },
  {
   "cell_type": "markdown",
   "metadata": {},
   "source": [
    "### 4. Modeling\n",
    "I used logistic regression as my model. Logistic regression is used for predicting the class of something as I explained earlier. I used `model.predict_proba()` because I wanted to get the probability of a weight beloning to a class, rather then using `model.predict()` which would give me the class it belongs to. The reason I wanted the probablities was so that I could later graph the curve of the function."
   ]
  },
  {
   "cell_type": "code",
   "execution_count": 11,
   "metadata": {},
   "outputs": [],
   "source": [
    "model = LogisticRegression()"
   ]
  },
  {
   "cell_type": "code",
   "execution_count": 12,
   "metadata": {},
   "outputs": [],
   "source": [
    "x = x_1.values.reshape(-1,1)"
   ]
  },
  {
   "cell_type": "code",
   "execution_count": 13,
   "metadata": {},
   "outputs": [
    {
     "data": {
      "text/plain": [
       "LogisticRegression(C=1.0, class_weight=None, dual=False, fit_intercept=True,\n",
       "                   intercept_scaling=1, l1_ratio=None, max_iter=100,\n",
       "                   multi_class='auto', n_jobs=None, penalty='l2',\n",
       "                   random_state=None, solver='lbfgs', tol=0.0001, verbose=0,\n",
       "                   warm_start=False)"
      ]
     },
     "execution_count": 13,
     "metadata": {},
     "output_type": "execute_result"
    }
   ],
   "source": [
    "model.fit(x, y)"
   ]
  },
  {
   "cell_type": "code",
   "execution_count": 14,
   "metadata": {},
   "outputs": [
    {
     "data": {
      "text/plain": [
       "array([[0.74681553, 0.25318447],\n",
       "       [0.96136618, 0.03863382],\n",
       "       [0.05175168, 0.94824832],\n",
       "       ...,\n",
       "       [0.00207176, 0.99792824],\n",
       "       [0.98794014, 0.01205986],\n",
       "       [0.9960676 , 0.0039324 ]])"
      ]
     },
     "execution_count": 14,
     "metadata": {},
     "output_type": "execute_result"
    }
   ],
   "source": [
    "# get probablilites of of it belonging to a class\n",
    "model.predict_proba(x)"
   ]
  },
  {
   "cell_type": "code",
   "execution_count": 15,
   "metadata": {},
   "outputs": [
    {
     "data": {
      "text/plain": [
       "array([0.25318447, 0.03863382, 0.94824832, ..., 0.99792824, 0.01205986,\n",
       "       0.0039324 ])"
      ]
     },
     "execution_count": 15,
     "metadata": {},
     "output_type": "execute_result"
    }
   ],
   "source": [
    "# select the second column \n",
    "model.predict_proba(x)[:,1] "
   ]
  },
  {
   "cell_type": "code",
   "execution_count": 16,
   "metadata": {},
   "outputs": [],
   "source": [
    "# add probabilities to our dataframe\n",
    "data[\"prediction\"] = model.predict_proba(x)[:,1]"
   ]
  },
  {
   "cell_type": "code",
   "execution_count": 17,
   "metadata": {},
   "outputs": [
    {
     "data": {
      "text/html": [
       "<div>\n",
       "<style scoped>\n",
       "    .dataframe tbody tr th:only-of-type {\n",
       "        vertical-align: middle;\n",
       "    }\n",
       "\n",
       "    .dataframe tbody tr th {\n",
       "        vertical-align: top;\n",
       "    }\n",
       "\n",
       "    .dataframe thead th {\n",
       "        text-align: right;\n",
       "    }\n",
       "</style>\n",
       "<table border=\"1\" class=\"dataframe\">\n",
       "  <thead>\n",
       "    <tr style=\"text-align: right;\">\n",
       "      <th></th>\n",
       "      <th>height</th>\n",
       "      <th>weight</th>\n",
       "      <th>gender_Female</th>\n",
       "      <th>gender_Male</th>\n",
       "      <th>prediction</th>\n",
       "    </tr>\n",
       "  </thead>\n",
       "  <tbody>\n",
       "    <tr>\n",
       "      <th>5640</th>\n",
       "      <td>66.766157</td>\n",
       "      <td>152.944405</td>\n",
       "      <td>1</td>\n",
       "      <td>0</td>\n",
       "      <td>0.253184</td>\n",
       "    </tr>\n",
       "    <tr>\n",
       "      <th>8220</th>\n",
       "      <td>63.881197</td>\n",
       "      <td>137.170886</td>\n",
       "      <td>1</td>\n",
       "      <td>0</td>\n",
       "      <td>0.038634</td>\n",
       "    </tr>\n",
       "    <tr>\n",
       "      <th>2415</th>\n",
       "      <td>68.720243</td>\n",
       "      <td>182.455923</td>\n",
       "      <td>0</td>\n",
       "      <td>1</td>\n",
       "      <td>0.948248</td>\n",
       "    </tr>\n",
       "    <tr>\n",
       "      <th>7442</th>\n",
       "      <td>62.834020</td>\n",
       "      <td>132.169244</td>\n",
       "      <td>1</td>\n",
       "      <td>0</td>\n",
       "      <td>0.020027</td>\n",
       "    </tr>\n",
       "    <tr>\n",
       "      <th>3182</th>\n",
       "      <td>70.962617</td>\n",
       "      <td>195.017206</td>\n",
       "      <td>0</td>\n",
       "      <td>1</td>\n",
       "      <td>0.990111</td>\n",
       "    </tr>\n",
       "    <tr>\n",
       "      <th>...</th>\n",
       "      <td>...</td>\n",
       "      <td>...</td>\n",
       "      <td>...</td>\n",
       "      <td>...</td>\n",
       "      <td>...</td>\n",
       "    </tr>\n",
       "    <tr>\n",
       "      <th>2866</th>\n",
       "      <td>68.932069</td>\n",
       "      <td>187.626609</td>\n",
       "      <td>0</td>\n",
       "      <td>1</td>\n",
       "      <td>0.973589</td>\n",
       "    </tr>\n",
       "    <tr>\n",
       "      <th>4579</th>\n",
       "      <td>64.746174</td>\n",
       "      <td>176.948433</td>\n",
       "      <td>0</td>\n",
       "      <td>1</td>\n",
       "      <td>0.896930</td>\n",
       "    </tr>\n",
       "    <tr>\n",
       "      <th>4056</th>\n",
       "      <td>69.741240</td>\n",
       "      <td>206.636440</td>\n",
       "      <td>0</td>\n",
       "      <td>1</td>\n",
       "      <td>0.997928</td>\n",
       "    </tr>\n",
       "    <tr>\n",
       "      <th>7843</th>\n",
       "      <td>62.536789</td>\n",
       "      <td>128.357712</td>\n",
       "      <td>1</td>\n",
       "      <td>0</td>\n",
       "      <td>0.012060</td>\n",
       "    </tr>\n",
       "    <tr>\n",
       "      <th>5928</th>\n",
       "      <td>62.196274</td>\n",
       "      <td>120.008199</td>\n",
       "      <td>1</td>\n",
       "      <td>0</td>\n",
       "      <td>0.003932</td>\n",
       "    </tr>\n",
       "  </tbody>\n",
       "</table>\n",
       "<p>8000 rows × 5 columns</p>\n",
       "</div>"
      ],
      "text/plain": [
       "         height      weight  gender_Female  gender_Male  prediction\n",
       "5640  66.766157  152.944405              1            0    0.253184\n",
       "8220  63.881197  137.170886              1            0    0.038634\n",
       "2415  68.720243  182.455923              0            1    0.948248\n",
       "7442  62.834020  132.169244              1            0    0.020027\n",
       "3182  70.962617  195.017206              0            1    0.990111\n",
       "...         ...         ...            ...          ...         ...\n",
       "2866  68.932069  187.626609              0            1    0.973589\n",
       "4579  64.746174  176.948433              0            1    0.896930\n",
       "4056  69.741240  206.636440              0            1    0.997928\n",
       "7843  62.536789  128.357712              1            0    0.012060\n",
       "5928  62.196274  120.008199              1            0    0.003932\n",
       "\n",
       "[8000 rows x 5 columns]"
      ]
     },
     "execution_count": 17,
     "metadata": {},
     "output_type": "execute_result"
    }
   ],
   "source": [
    "data"
   ]
  },
  {
   "cell_type": "code",
   "execution_count": 18,
   "metadata": {},
   "outputs": [],
   "source": [
    "pred = data['prediction']"
   ]
  },
  {
   "cell_type": "markdown",
   "metadata": {},
   "source": [
    "Here is where I use the probabilites that I got from `model.predict_proba()`. I can now graph each weight (x) and the probabilty (y). This will show us the graph of the function."
   ]
  },
  {
   "cell_type": "code",
   "execution_count": 49,
   "metadata": {},
   "outputs": [
    {
     "data": {
      "image/png": "[encoded data removed]",
      "text/plain": [
       "<Figure size 432x288 with 1 Axes>"
      ]
     },
     "metadata": {
      "needs_background": "light"
     },
     "output_type": "display_data"
    }
   ],
   "source": [
    "%matplotlib inline \n",
    "plt.scatter(x, y, color='b')\n",
    "plt.scatter(x, pred, color='r')\n",
    "plt.xlabel('weight')\n",
    "plt.ylabel('class')\n",
    "plt.grid(True)\n",
    "plt.show();"
   ]
  },
  {
   "cell_type": "code",
   "execution_count": 20,
   "metadata": {},
   "outputs": [
    {
     "data": {
      "text/plain": [
       "array([[0.00506632, 0.99493368]])"
      ]
     },
     "execution_count": 20,
     "metadata": {},
     "output_type": "execute_result"
    }
   ],
   "source": [
    "model.predict_proba([[200]])"
   ]
  },
  {
   "cell_type": "code",
   "execution_count": 21,
   "metadata": {},
   "outputs": [
    {
     "data": {
      "text/plain": [
       "array([[0.98498693, 0.01501307]])"
      ]
     },
     "execution_count": 21,
     "metadata": {},
     "output_type": "execute_result"
    }
   ],
   "source": [
    "model.predict_proba([[130]])"
   ]
  },
  {
   "cell_type": "markdown",
   "metadata": {},
   "source": [
    "### 5. Model evaluation\n",
    "Here I evalute my model using a confusion matrix and a f1 score to check its a accuracy. The F1 score gets the accuracy by\n",
    "<!-- - make a confusion matrix -->\n",
    "<!-- - get the f score -->\n",
    "<!-- - google other ways to evaluate binary logistic regression (use them as well) -->\n",
    "<!-- - figure out how much each variable influences y -->"
   ]
  },
  {
   "cell_type": "code",
   "execution_count": 22,
   "metadata": {},
   "outputs": [],
   "source": [
    "# imports to evalute the model\n",
    "from sklearn.metrics import confusion_matrix, f1_score"
   ]
  },
  {
   "cell_type": "code",
   "execution_count": 23,
   "metadata": {},
   "outputs": [],
   "source": [
    "data[\"pred_class\"] = model.predict(x)\n",
    "y_true = y\n",
    "y_pred = data['pred_class']"
   ]
  },
  {
   "cell_type": "code",
   "execution_count": 24,
   "metadata": {},
   "outputs": [
    {
     "data": {
      "text/plain": [
       "array([[3625,  378],\n",
       "       [ 369, 3628]])"
      ]
     },
     "execution_count": 24,
     "metadata": {},
     "output_type": "execute_result"
    }
   ],
   "source": [
    "# a confusion matrix\n",
    "confusion_matrix(y_true, y_pred)"
   ]
  },
  {
   "cell_type": "code",
   "execution_count": 25,
   "metadata": {},
   "outputs": [
    {
     "data": {
      "text/plain": [
       "0.9066249606074163"
      ]
     },
     "execution_count": 25,
     "metadata": {},
     "output_type": "execute_result"
    }
   ],
   "source": [
    "# the fscore\n",
    "f1_score(y_true, y_pred, average='weighted')"
   ]
  },
  {
   "cell_type": "code",
   "execution_count": 48,
   "metadata": {},
   "outputs": [
    {
     "data": {
      "image/png": "[encoded data removed]",
      "text/plain": [
       "<Figure size 432x288 with 2 Axes>"
      ]
     },
     "metadata": {
      "needs_background": "light"
     },
     "output_type": "display_data"
    }
   ],
   "source": [
    "labels = ['gender_Male', 'pred_class']\n",
    "cm = confusion_matrix(y_true, y_pred, labels=[0,1])\n",
    "# print(cm)\n",
    "fig = plt.figure()\n",
    "ax = fig.add_subplot(111)\n",
    "cax = ax.matshow(cm)\n",
    "plt.title('Confusion matrix of the classifier')\n",
    "fig.colorbar(cax)\n",
    "ax.set_xticklabels([''] + labels)\n",
    "ax.set_yticklabels([''] + labels)\n",
    "plt.xlabel('Predicted')\n",
    "plt.ylabel('True')\n",
    "plt.show()"
   ]
  },
  {
   "cell_type": "code",
   "execution_count": null,
   "metadata": {},
   "outputs": [],
   "source": []
  }
 ],
 "metadata": {
  "kernelspec": {
   "display_name": "Python 3",
   "language": "python",
   "name": "python3"
  },
  "language_info": {
   "codemirror_mode": {
    "name": "ipython",
    "version": 3
   },
   "file_extension": ".py",
   "mimetype": "text/x-python",
   "name": "python",
   "nbconvert_exporter": "python",
   "pygments_lexer": "ipython3",
   "version": "3.7.3"
  }
 },
 "nbformat": 4,
 "nbformat_minor": 4
}
