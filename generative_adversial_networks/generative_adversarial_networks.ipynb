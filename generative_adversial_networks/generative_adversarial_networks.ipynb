{
 "cells": [
  {
   "cell_type": "markdown",
   "id": "c684f6a0-da31-4908-8add-7339fc43a923",
   "metadata": {},
   "source": [
    "# Introduction/Project Overview:\n",
    "\n",
    "In this notebook I will go over generative adversarial networks also known as gans. I will briefly explain their history, model architechture and the math behind them. This notebook will cover the standard GAN, convolutional GANS and the proggresive growing of GANS. I have used these vidoes here as guides and inspiration for this project. [video]() . This notebook will mainly be markdown but the code will be in the src folder in this repo. "
   ]
  },
  {
   "cell_type": "markdown",
   "id": "9d943895-c95f-4235-9f31-2f63dc0f2168",
   "metadata": {},
   "source": [
    "## Generative Adversarial Networks \n",
    "A generative adversarial network (aka GAN) is a model that generates new data that is similar to its training data. As the name implies in this neural network architechture there are two networks competing with each other. We have the `generator` which is responsible for generating data similar to the training data and the `discriminator` whos goal is to goal is to correctly classify real data. The idea of GANs is to train the generator to be generate new examples of data so similar to its training examples that the discrimiantor classifies them as real data. Initially we start with random noise and through each iteration the generator learns to generate real looking data.\n",
    "\n",
    "This is the example of the noise we will start with ...\n",
    "\n",
    "And through iterations we will get improvements ...\n",
    "\n",
    "and then end up with something like this ...\n",
    "\n",
    "The basic architecture for this is ...\n",
    "\n",
    "Some use cases of this are generating new data, merging images, generating high resolution images from low ones, and generating audio. Lets go over our first gan!!!\n"
   ]
  },
  {
   "cell_type": "markdown",
   "id": "40425e61-9db9-4a41-8e27-cd8b70722aa2",
   "metadata": {},
   "source": [
    "## Deep Convolutional Gans\n",
    "With deep convolutional gans we use the power of convolutions to get help us generate images. As with classification convolutions are very powerful at learning important features in images. We will use this to help us learn features to generate some higher quality data. With the standard GAN mentioned above we have a basic neural network architecture. In this example it is similar but we add convolutional layers to generate features in the generator and also add some in the discriminator to improve its classification ability.\n",
    "\n",
    "### Architecture\n",
    "\n",
    "### Training\n",
    "\n",
    "### Results"
   ]
  },
  {
   "cell_type": "markdown",
   "id": "c1f1730a-f7bb-4022-adad-aae5f9ead1f4",
   "metadata": {},
   "source": [
    "## Progressive Growing of Gans (ProGan)\n",
    "\n",
    "### Architecture\n",
    "\n",
    "### Training\n",
    "\n",
    "### Results"
   ]
  },
  {
   "cell_type": "markdown",
   "id": "57929283-71a8-4d5a-9698-24d373c7e443",
   "metadata": {},
   "source": [
    "## Conclusion"
   ]
  }
 ],
 "metadata": {
  "kernelspec": {
   "display_name": "Python 3 (ipykernel)",
   "language": "python",
   "name": "python3"
  },
  "language_info": {
   "codemirror_mode": {
    "name": "ipython",
    "version": 3
   },
   "file_extension": ".py",
   "mimetype": "text/x-python",
   "name": "python",
   "nbconvert_exporter": "python",
   "pygments_lexer": "ipython3",
   "version": "3.9.6"
  }
 },
 "nbformat": 4,
 "nbformat_minor": 5
}
