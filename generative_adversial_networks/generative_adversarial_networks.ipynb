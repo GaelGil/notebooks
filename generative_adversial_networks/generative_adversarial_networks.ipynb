{
 "cells": [
  {
   "cell_type": "markdown",
   "id": "c684f6a0-da31-4908-8add-7339fc43a923",
   "metadata": {},
   "source": [
    "# Introduction/Project Overview:\n",
    "\n",
    "In this notebook, I will present my solution and analysis of the California Housing Prices dataset. This dataset can be found on [Kaggle](https://www.kaggle.com/datasets/camnugent/california-housing-prices). The dataset contains data from the California 1990 census. The goal of this is to be able create a model to predict a numerical value for a house given some of its characteristics. For example if we are given houses and their features we should be able to put that through some sort of modle and get back a number that represents the price. This means that this is a regression task. Throughout this notebook I will visualize the data, explain some data preprocessing techniques, construct and evaluate models and analyze the results.\n",
    "\n",
    "### Data Exploration & Preprocessing:\n",
    "I will go over the dataset, analyzing its various features, checking for missing values, and gaining insights into the distribution of variables. Prior to building the models, I will preprocess the data by handling missing values, encoding categorical variables, and scaling numerical features to ensure good model performance. As well as visualize to see if we can recognize any patterns in the dataset that can help us. \n",
    "\n",
    "### Model Building & Evaluation:\n",
    "In this notebook I will try implement a couple of models to try and accurately predict the value of a given house. This is a supervised learning task as we are given the labels (housing prices). For this project the models I have choosen are multiple linear regression, polynomial regression and a neural network. \n",
    "\n",
    "### Conclusion:\n",
    "Finally, I will interpret the results of the models and discussing potential areas for model improvement. This dataset is a good challange to test my knowledge. This will serve as a good test for me to keep learning and testing my skills."
   ]
  },
  {
   "cell_type": "code",
   "execution_count": null,
   "id": "f25ea21a-7cf0-45e8-8b83-f888a8c5769e",
   "metadata": {},
   "outputs": [],
   "source": []
  }
 ],
 "metadata": {
  "kernelspec": {
   "display_name": "Python 3 (ipykernel)",
   "language": "python",
   "name": "python3"
  },
  "language_info": {
   "codemirror_mode": {
    "name": "ipython",
    "version": 3
   },
   "file_extension": ".py",
   "mimetype": "text/x-python",
   "name": "python",
   "nbconvert_exporter": "python",
   "pygments_lexer": "ipython3",
   "version": "3.11.4"
  }
 },
 "nbformat": 4,
 "nbformat_minor": 5
}
