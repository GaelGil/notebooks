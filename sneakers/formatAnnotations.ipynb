{
 "cells": [
  {
   "cell_type": "code",
   "execution_count": 26,
   "metadata": {},
   "outputs": [],
   "source": [
    "import pandas as pd\n",
    "import csv"
   ]
  },
  {
   "cell_type": "code",
   "execution_count": 27,
   "metadata": {},
   "outputs": [],
   "source": [
    "# df = pd.DataFrame(columns=['index', 'image', 'num', 'height', 'width', 'x', 'y'])\n",
    "colNames = ['index', 'image', 'num', 'height', 'width', 'x', 'y']"
   ]
  },
  {
   "cell_type": "code",
   "execution_count": null,
   "metadata": {},
   "outputs": [],
   "source": []
  },
  {
   "cell_type": "code",
   "execution_count": 28,
   "metadata": {},
   "outputs": [],
   "source": [
    "df = pd.read_csv('testData.csv', names=colNames, header=None)"
   ]
  },
  {
   "cell_type": "code",
   "execution_count": 29,
   "metadata": {},
   "outputs": [
    {
     "data": {
      "text/html": [
       "<div>\n",
       "<style scoped>\n",
       "    .dataframe tbody tr th:only-of-type {\n",
       "        vertical-align: middle;\n",
       "    }\n",
       "\n",
       "    .dataframe tbody tr th {\n",
       "        vertical-align: top;\n",
       "    }\n",
       "\n",
       "    .dataframe thead th {\n",
       "        text-align: right;\n",
       "    }\n",
       "</style>\n",
       "<table border=\"1\" class=\"dataframe\">\n",
       "  <thead>\n",
       "    <tr style=\"text-align: right;\">\n",
       "      <th></th>\n",
       "      <th>index</th>\n",
       "      <th>image</th>\n",
       "      <th>num</th>\n",
       "      <th>height</th>\n",
       "      <th>width</th>\n",
       "      <th>x</th>\n",
       "      <th>y</th>\n",
       "    </tr>\n",
       "  </thead>\n",
       "  <tbody>\n",
       "    <tr>\n",
       "      <th>0</th>\n",
       "      <td>Screen Shot 2020-09-19 at 11.07.55 PM.png</td>\n",
       "      <td>1</td>\n",
       "      <td>NaN</td>\n",
       "      <td>23</td>\n",
       "      <td>375</td>\n",
       "      <td>163</td>\n",
       "      <td>358</td>\n",
       "    </tr>\n",
       "    <tr>\n",
       "      <th>1</th>\n",
       "      <td>Screen Shot 2020-09-19 at 11.08.01 PM.png</td>\n",
       "      <td>1</td>\n",
       "      <td>NaN</td>\n",
       "      <td>337</td>\n",
       "      <td>511</td>\n",
       "      <td>28</td>\n",
       "      <td>333</td>\n",
       "    </tr>\n",
       "    <tr>\n",
       "      <th>2</th>\n",
       "      <td>Screen Shot 2020-09-19 at 11.08.01 PM.png</td>\n",
       "      <td>2</td>\n",
       "      <td>NaN</td>\n",
       "      <td>27</td>\n",
       "      <td>311</td>\n",
       "      <td>25</td>\n",
       "      <td>326</td>\n",
       "    </tr>\n",
       "    <tr>\n",
       "      <th>3</th>\n",
       "      <td>Screen Shot 2020-09-19 at 11.08.08 PM.png</td>\n",
       "      <td>1</td>\n",
       "      <td>NaN</td>\n",
       "      <td>889</td>\n",
       "      <td>1182</td>\n",
       "      <td>200</td>\n",
       "      <td>479</td>\n",
       "    </tr>\n",
       "    <tr>\n",
       "      <th>4</th>\n",
       "      <td>Screen Shot 2020-09-19 at 11.08.08 PM.png</td>\n",
       "      <td>2</td>\n",
       "      <td>NaN</td>\n",
       "      <td>1210</td>\n",
       "      <td>1396</td>\n",
       "      <td>199</td>\n",
       "      <td>490</td>\n",
       "    </tr>\n",
       "    <tr>\n",
       "      <th>5</th>\n",
       "      <td>Screen Shot 2020-09-19 at 11.08.08 PM.png</td>\n",
       "      <td>3</td>\n",
       "      <td>NaN</td>\n",
       "      <td>363</td>\n",
       "      <td>614</td>\n",
       "      <td>252</td>\n",
       "      <td>402</td>\n",
       "    </tr>\n",
       "  </tbody>\n",
       "</table>\n",
       "</div>"
      ],
      "text/plain": [
       "                                       index  image  num  height  width    x  \\\n",
       "0  Screen Shot 2020-09-19 at 11.07.55 PM.png      1  NaN      23    375  163   \n",
       "1  Screen Shot 2020-09-19 at 11.08.01 PM.png      1  NaN     337    511   28   \n",
       "2  Screen Shot 2020-09-19 at 11.08.01 PM.png      2  NaN      27    311   25   \n",
       "3  Screen Shot 2020-09-19 at 11.08.08 PM.png      1  NaN     889   1182  200   \n",
       "4  Screen Shot 2020-09-19 at 11.08.08 PM.png      2  NaN    1210   1396  199   \n",
       "5  Screen Shot 2020-09-19 at 11.08.08 PM.png      3  NaN     363    614  252   \n",
       "\n",
       "     y  \n",
       "0  358  \n",
       "1  333  \n",
       "2  326  \n",
       "3  479  \n",
       "4  490  \n",
       "5  402  "
      ]
     },
     "execution_count": 29,
     "metadata": {},
     "output_type": "execute_result"
    }
   ],
   "source": [
    "df"
   ]
  },
  {
   "cell_type": "code",
   "execution_count": 30,
   "metadata": {},
   "outputs": [],
   "source": [
    "def getCoords(label):\n",
    "    sframe = []\n",
    "    for index, row in df.iterrows():\n",
    "        imageInfo = {}\n",
    "        x1 = row[\"height\"]\n",
    "        x2 = row[\"x\"]\n",
    "        y1 = row[\"width\"]\n",
    "        y2 = row[\"y\"]\n",
    "        xCenter = (x1 + x2)/2\n",
    "        yCenter = (y1+y2)/2\n",
    "        imageInfo[\"coordinates\"] = {\"height\": row[\"height\"], \"width\": row[\"width\"], \"x\": xCenter, \"y\": yCenter}\n",
    "        imageInfo[\"label\"] = label\n",
    "        dictionary_copy = imageInfo.copy()\n",
    "        sframe.append(dictionary_copy)\n",
    "    return sframe"
   ]
  },
  {
   "cell_type": "code",
   "execution_count": 31,
   "metadata": {},
   "outputs": [
    {
     "data": {
      "text/plain": [
       "[{'coordinates': {'height': 23, 'width': 375, 'x': 93.0, 'y': 366.5},\n",
       "  'label': 'jordan_three'},\n",
       " {'coordinates': {'height': 337, 'width': 511, 'x': 182.5, 'y': 422.0},\n",
       "  'label': 'jordan_three'},\n",
       " {'coordinates': {'height': 27, 'width': 311, 'x': 26.0, 'y': 318.5},\n",
       "  'label': 'jordan_three'},\n",
       " {'coordinates': {'height': 889, 'width': 1182, 'x': 544.5, 'y': 830.5},\n",
       "  'label': 'jordan_three'},\n",
       " {'coordinates': {'height': 1210, 'width': 1396, 'x': 704.5, 'y': 943.0},\n",
       "  'label': 'jordan_three'},\n",
       " {'coordinates': {'height': 363, 'width': 614, 'x': 307.5, 'y': 508.0},\n",
       "  'label': 'jordan_three'}]"
      ]
     },
     "execution_count": 31,
     "metadata": {},
     "output_type": "execute_result"
    }
   ],
   "source": [
    "getCoords(\"jordan_three\")"
   ]
  },
  {
   "cell_type": "code",
   "execution_count": null,
   "metadata": {},
   "outputs": [],
   "source": []
  },
  {
   "cell_type": "code",
   "execution_count": null,
   "metadata": {},
   "outputs": [],
   "source": []
  }
 ],
 "metadata": {
  "kernelspec": {
   "display_name": "Python 3",
   "language": "python",
   "name": "python3"
  },
  "language_info": {
   "codemirror_mode": {
    "name": "ipython",
    "version": 3
   },
   "file_extension": ".py",
   "mimetype": "text/x-python",
   "name": "python",
   "nbconvert_exporter": "python",
   "pygments_lexer": "ipython3",
   "version": "3.7.3"
  }
 },
 "nbformat": 4,
 "nbformat_minor": 4
}
