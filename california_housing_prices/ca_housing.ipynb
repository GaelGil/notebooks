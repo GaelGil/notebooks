{
 "cells": [
  {
   "cell_type": "code",
   "execution_count": 1,
   "id": "4f2ce2ce-cb6b-4361-bc72-a898ce2d2a3b",
   "metadata": {},
   "outputs": [],
   "source": [
    "# TODO: write a description of what the notebook will be\n",
    "# TODO: comment each line for what im doing\n",
    "# what model am i selecting\n",
    "# why am i selecting the model\n",
    "# evaluate the results\n",
    "# use test data\n",
    "# possibly try another model\n",
    "# end with conclusion"
   ]
  },
  {
   "cell_type": "code",
   "execution_count": null,
   "id": "4f03eab2-f4b5-4115-9cca-3fc799d02a92",
   "metadata": {},
   "outputs": [],
   "source": [
    "import numpy as np"
   ]
  }
 ],
 "metadata": {
  "kernelspec": {
   "display_name": "Python 3 (ipykernel)",
   "language": "python",
   "name": "python3"
  },
  "language_info": {
   "codemirror_mode": {
    "name": "ipython",
    "version": 3
   },
   "file_extension": ".py",
   "mimetype": "text/x-python",
   "name": "python",
   "nbconvert_exporter": "python",
   "pygments_lexer": "ipython3",
   "version": "3.9.6"
  }
 },
 "nbformat": 4,
 "nbformat_minor": 5
}
