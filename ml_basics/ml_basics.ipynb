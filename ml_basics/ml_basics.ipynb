{
 "cells": [
  {
   "cell_type": "markdown",
   "id": "31cf9d1b-57f0-46db-948d-ed756c225552",
   "metadata": {},
   "source": [
    "# ML Basics\n",
    "## Project Overview"
   ]
  },
  {
   "cell_type": "code",
   "execution_count": 1,
   "id": "479441f9-4ecc-472b-8c17-24bd56b377c5",
   "metadata": {},
   "outputs": [],
   "source": [
    "import numpy as np\n",
    "import pandas as pd\n",
    "import seaborn as sns"
   ]
  },
  {
   "cell_type": "code",
   "execution_count": null,
   "id": "00458f1a-b83c-40c1-a400-aae2981618cb",
   "metadata": {},
   "outputs": [],
   "source": []
  }
 ],
 "metadata": {
  "kernelspec": {
   "display_name": "Python 3 (ipykernel)",
   "language": "python",
   "name": "python3"
  },
  "language_info": {
   "codemirror_mode": {
    "name": "ipython",
    "version": 3
   },
   "file_extension": ".py",
   "mimetype": "text/x-python",
   "name": "python",
   "nbconvert_exporter": "python",
   "pygments_lexer": "ipython3",
   "version": "3.13.1"
  }
 },
 "nbformat": 4,
 "nbformat_minor": 5
}
