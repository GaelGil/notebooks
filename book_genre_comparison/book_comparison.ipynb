{
 "cells": [
  {
   "cell_type": "markdown",
   "id": "c5329f1c-a112-4676-b7d6-d7da89d69875",
   "metadata": {},
   "source": [
    "# Project Description\n",
    "In this project I am going to see if I can visualize graphically the difference between two different types of book genres. The two book genres I am choosing to compare are cook books and gothic/horror. Before I do that tho I will start with a smaller example. First I will try to visualize positive and negative words. The way in which I will do this is by embedding some word data. This means I will turn some word `positive_word` into a vector (`[34 , 423, 5, ....  6456 , 343]`). I will get the word embeddings by using the BERT model. Once I have the embeddings I will use dimensionality reduction algorithms (PCA, TSNE) to get them down to a vector of two components. Lastly once I have done this I will then use the book data to do the same. This notebook will not go too much into the techincal aspects of BERT, PCA, TSNE. I am simply using tools to visualize text data."
   ]
  },
  {
   "cell_type": "markdown",
   "id": "ea5b0c16-d042-46b3-a99b-ae98fc2cd282",
   "metadata": {},
   "source": [
    "# The Data\n",
    "First lets take a look at our data. As I mentioned first I will be using a small dataset that I created. The data can be found in the folder `./data/csv/words.csv`. It consists of two columns (word, label). Here are two examples `word=love,label=positive, word=hate,label=negative`. I will put each word through the bert model to get some embeddings. Then I will use a dimensionalty reduction algorithm to plot each word. \n",
    "Later on I will be using book data. This data has two columns. I got this data from [here](https://www.gutenberg.org/). First we will import some useful tools that will help us."
   ]
  },
  {
   "cell_type": "code",
   "execution_count": 1,
   "id": "4912f135-7f92-4522-8e44-72ba2ab74374",
   "metadata": {},
   "outputs": [],
   "source": [
    "import pandas as pd\n",
    "import torch\n",
    "import matplotlib.pyplot as plt\n",
    "import numpy as np\n",
    "from sklearn.manifold import TSNE\n",
    "from sklearn.decomposition import PCA\n",
    "from sklearn.metrics.pairwise import cosine_similarity\n",
    "from transformers import BertTokenizer, BertModel"
   ]
  },
  {
   "cell_type": "markdown",
   "id": "b99b6f46-a0b2-4156-8099-ab05da70675e",
   "metadata": {},
   "source": [
    "# First Example"
   ]
  },
  {
   "cell_type": "code",
   "execution_count": 2,
   "id": "d22075b8-aeb9-4923-98a4-21a77e1ded4d",
   "metadata": {},
   "outputs": [],
   "source": [
    "data = pd.read_csv('./data/csv/words.csv')"
   ]
  },
  {
   "cell_type": "markdown",
   "id": "bf8f163e-e231-459a-8751-4bda01508674",
   "metadata": {},
   "source": [
    "Here is our data. As we can see it is really simple. We have a word and its label."
   ]
  },
  {
   "cell_type": "code",
   "execution_count": 3,
   "id": "959e5989-2766-46d3-a75f-dda344bcc678",
   "metadata": {},
   "outputs": [
    {
     "data": {
      "text/html": [
       "<div>\n",
       "<style scoped>\n",
       "    .dataframe tbody tr th:only-of-type {\n",
       "        vertical-align: middle;\n",
       "    }\n",
       "\n",
       "    .dataframe tbody tr th {\n",
       "        vertical-align: top;\n",
       "    }\n",
       "\n",
       "    .dataframe thead th {\n",
       "        text-align: right;\n",
       "    }\n",
       "</style>\n",
       "<table border=\"1\" class=\"dataframe\">\n",
       "  <thead>\n",
       "    <tr style=\"text-align: right;\">\n",
       "      <th></th>\n",
       "      <th>word</th>\n",
       "      <th>label</th>\n",
       "    </tr>\n",
       "  </thead>\n",
       "  <tbody>\n",
       "    <tr>\n",
       "      <th>0</th>\n",
       "      <td>love</td>\n",
       "      <td>positive</td>\n",
       "    </tr>\n",
       "    <tr>\n",
       "      <th>1</th>\n",
       "      <td>terrific</td>\n",
       "      <td>positive</td>\n",
       "    </tr>\n",
       "    <tr>\n",
       "      <th>2</th>\n",
       "      <td>admired</td>\n",
       "      <td>positive</td>\n",
       "    </tr>\n",
       "    <tr>\n",
       "      <th>3</th>\n",
       "      <td>jolly</td>\n",
       "      <td>positive</td>\n",
       "    </tr>\n",
       "    <tr>\n",
       "      <th>4</th>\n",
       "      <td>brave</td>\n",
       "      <td>positive</td>\n",
       "    </tr>\n",
       "  </tbody>\n",
       "</table>\n",
       "</div>"
      ],
      "text/plain": [
       "       word     label\n",
       "0      love  positive\n",
       "1  terrific  positive\n",
       "2   admired  positive\n",
       "3     jolly  positive\n",
       "4     brave  positive"
      ]
     },
     "execution_count": 3,
     "metadata": {},
     "output_type": "execute_result"
    }
   ],
   "source": [
    "data.head()"
   ]
  },
  {
   "cell_type": "code",
   "execution_count": 4,
   "id": "4068b662-cb69-4691-b0ac-3a70d148fb10",
   "metadata": {},
   "outputs": [
    {
     "name": "stderr",
     "output_type": "stream",
     "text": [
      "Some weights of the model checkpoint at bert-base-uncased were not used when initializing BertModel: ['cls.seq_relationship.bias', 'cls.predictions.transform.LayerNorm.weight', 'cls.predictions.transform.LayerNorm.bias', 'cls.predictions.bias', 'cls.predictions.decoder.weight', 'cls.seq_relationship.weight', 'cls.predictions.transform.dense.bias', 'cls.predictions.transform.dense.weight']\n",
      "- This IS expected if you are initializing BertModel from the checkpoint of a model trained on another task or with another architecture (e.g. initializing a BertForSequenceClassification model from a BertForPreTraining model).\n",
      "- This IS NOT expected if you are initializing BertModel from the checkpoint of a model that you expect to be exactly identical (initializing a BertForSequenceClassification model from a BertForSequenceClassification model).\n"
     ]
    }
   ],
   "source": [
    "tokenizer = BertTokenizer.from_pretrained('bert-base-uncased')\n",
    "model = BertModel.from_pretrained(\"bert-base-uncased\")"
   ]
  },
  {
   "cell_type": "code",
   "execution_count": 5,
   "id": "368c8384-2a91-494b-a416-0190e2a3005c",
   "metadata": {},
   "outputs": [],
   "source": [
    "# tokenize every word in the dataframe\n",
    "encoded_data = [tokenizer(i, return_tensors='pt') for i in data.word]"
   ]
  },
  {
   "cell_type": "code",
   "execution_count": 6,
   "id": "dc138070-ef87-4b3a-95b0-cb587116d081",
   "metadata": {},
   "outputs": [
    {
     "data": {
      "text/plain": [
       "{'input_ids': tensor([[ 101, 2293,  102]]), 'token_type_ids': tensor([[0, 0, 0]]), 'attention_mask': tensor([[1, 1, 1]])}"
      ]
     },
     "execution_count": 6,
     "metadata": {},
     "output_type": "execute_result"
    }
   ],
   "source": [
    "# Our words have been encoded into a list of ids that look like this: tensor([[ 101, 3866,  102]]). \n",
    "# 101 and 102 are for start and stop. 3866 is the id of our actual word embedding and its what we actually\n",
    "# need. We will extract this later.\n",
    "encoded_data[0]"
   ]
  },
  {
   "cell_type": "code",
   "execution_count": 7,
   "id": "af9f59d6-f391-4166-897a-e0f758547c9b",
   "metadata": {},
   "outputs": [],
   "source": [
    "# Get the embeddings from our encoded data\n",
    "word_embeddings = [model(**i) for i in encoded_data]"
   ]
  },
  {
   "cell_type": "code",
   "execution_count": 8,
   "id": "faf004c6-f9ef-4716-a57c-479106e85665",
   "metadata": {},
   "outputs": [
    {
     "data": {
      "text/plain": [
       "torch.Size([1, 3, 768])"
      ]
     },
     "execution_count": 8,
     "metadata": {},
     "output_type": "execute_result"
    }
   ],
   "source": [
    "word_embeddings[0].last_hidden_state.shape"
   ]
  },
  {
   "cell_type": "code",
   "execution_count": 9,
   "id": "1cc2ccff-9da3-4f1c-ba8b-d2c459fd306f",
   "metadata": {},
   "outputs": [],
   "source": [
    "# Get the last hidden state for each of the embeddings\n",
    "embeddings = [i.last_hidden_state for i in word_embeddings]"
   ]
  },
  {
   "cell_type": "code",
   "execution_count": 10,
   "id": "ffdad094-4b12-49e4-9cc9-2388812b5809",
   "metadata": {},
   "outputs": [],
   "source": [
    "# Get the actual word embeddings. \n",
    "embeddings = [i[0][1] for i in embeddings]"
   ]
  },
  {
   "cell_type": "code",
   "execution_count": 11,
   "id": "8cce1c06-9584-44dc-9bd6-b46bb2dddd77",
   "metadata": {},
   "outputs": [],
   "source": [
    "# Turn tensor to numpy array\n",
    "embeddings = [i.detach().numpy() for i in embeddings]"
   ]
  },
  {
   "cell_type": "code",
   "execution_count": 12,
   "id": "d0c886c5-b204-45a6-a3f3-ac42db24801c",
   "metadata": {},
   "outputs": [],
   "source": [
    "# Add the embeddings to our dataframe\n",
    "data['word_embeddings'] = embeddings"
   ]
  },
  {
   "cell_type": "markdown",
   "id": "f0f38184-7fff-4a5b-8667-b6f261e06d46",
   "metadata": {},
   "source": [
    "We now have all the embeddings for our words. We can see this in the dataframe below in the column `word_embeddings`. Now that we have our embeddings we will reduce the vectors."
   ]
  },
  {
   "cell_type": "code",
   "execution_count": 13,
   "id": "a20381e6-76a2-4d9f-9dfa-69733968cb08",
   "metadata": {},
   "outputs": [
    {
     "data": {
      "text/html": [
       "<div>\n",
       "<style scoped>\n",
       "    .dataframe tbody tr th:only-of-type {\n",
       "        vertical-align: middle;\n",
       "    }\n",
       "\n",
       "    .dataframe tbody tr th {\n",
       "        vertical-align: top;\n",
       "    }\n",
       "\n",
       "    .dataframe thead th {\n",
       "        text-align: right;\n",
       "    }\n",
       "</style>\n",
       "<table border=\"1\" class=\"dataframe\">\n",
       "  <thead>\n",
       "    <tr style=\"text-align: right;\">\n",
       "      <th></th>\n",
       "      <th>word</th>\n",
       "      <th>label</th>\n",
       "      <th>word_embeddings</th>\n",
       "    </tr>\n",
       "  </thead>\n",
       "  <tbody>\n",
       "    <tr>\n",
       "      <th>0</th>\n",
       "      <td>love</td>\n",
       "      <td>positive</td>\n",
       "      <td>[0.3864911, 0.36188018, 0.23423323, -0.3957976...</td>\n",
       "    </tr>\n",
       "    <tr>\n",
       "      <th>1</th>\n",
       "      <td>terrific</td>\n",
       "      <td>positive</td>\n",
       "      <td>[0.33330113, -0.20869666, -0.16522153, -0.0631...</td>\n",
       "    </tr>\n",
       "    <tr>\n",
       "      <th>2</th>\n",
       "      <td>admired</td>\n",
       "      <td>positive</td>\n",
       "      <td>[-0.25650173, 0.022439439, 0.25480777, -0.0880...</td>\n",
       "    </tr>\n",
       "    <tr>\n",
       "      <th>3</th>\n",
       "      <td>jolly</td>\n",
       "      <td>positive</td>\n",
       "      <td>[-0.22022377, -0.20243204, 0.10135944, -0.3264...</td>\n",
       "    </tr>\n",
       "    <tr>\n",
       "      <th>4</th>\n",
       "      <td>brave</td>\n",
       "      <td>positive</td>\n",
       "      <td>[-0.08306653, -0.118995346, -0.46022722, -0.43...</td>\n",
       "    </tr>\n",
       "  </tbody>\n",
       "</table>\n",
       "</div>"
      ],
      "text/plain": [
       "       word     label                                    word_embeddings\n",
       "0      love  positive  [0.3864911, 0.36188018, 0.23423323, -0.3957976...\n",
       "1  terrific  positive  [0.33330113, -0.20869666, -0.16522153, -0.0631...\n",
       "2   admired  positive  [-0.25650173, 0.022439439, 0.25480777, -0.0880...\n",
       "3     jolly  positive  [-0.22022377, -0.20243204, 0.10135944, -0.3264...\n",
       "4     brave  positive  [-0.08306653, -0.118995346, -0.46022722, -0.43..."
      ]
     },
     "execution_count": 13,
     "metadata": {},
     "output_type": "execute_result"
    }
   ],
   "source": [
    "data.head()"
   ]
  },
  {
   "cell_type": "markdown",
   "id": "8edeea62-bf47-4eaf-86c1-48f22308198c",
   "metadata": {},
   "source": [
    "# Visualizing\n",
    "A issue with our data is that it is very high dimensional. As we can see below the shape for one example is very big. We can't just graph this so we are going to be using a some dimensionality reduction algorithms. First we are going to use PCA (prinicpal component analysis) and TSNE (T-distributed Stochastic Neighbourhood Embedding). I will not go into how these algorthims work here but you can read about them here [TSNE](https://en.wikipedia.org/wiki/T-distributed_stochastic_neighbor_embedding) [PCA](https://en.wikipedia.org/wiki/Principal_component_analysis#:~:text=Principal%20component%20analysis%20(PCA)%20is,components%20and%20ignoring%20the%20rest.)"
   ]
  },
  {
   "cell_type": "code",
   "execution_count": 14,
   "id": "e9b2ffc3-067b-4bc5-94c1-da2bd7ddae67",
   "metadata": {},
   "outputs": [
    {
     "data": {
      "text/plain": [
       "(768,)"
      ]
     },
     "execution_count": 14,
     "metadata": {},
     "output_type": "execute_result"
    }
   ],
   "source": [
    "data.word_embeddings[0].shape"
   ]
  },
  {
   "cell_type": "code",
   "execution_count": 15,
   "id": "049c4eba-1a26-4bdb-a754-9400e4b44c70",
   "metadata": {},
   "outputs": [],
   "source": [
    "pca = PCA(n_components=2)\n",
    "principal_components = pca.fit_transform(list(data.word_embeddings))\n",
    "principal_df = pd.DataFrame(data = principal_components, columns=['pc_one', 'pc_two'])"
   ]
  },
  {
   "cell_type": "code",
   "execution_count": 16,
   "id": "9172a977-1c8d-4e5a-8772-ec08457363eb",
   "metadata": {},
   "outputs": [
    {
     "data": {
      "text/html": [
       "<div>\n",
       "<style scoped>\n",
       "    .dataframe tbody tr th:only-of-type {\n",
       "        vertical-align: middle;\n",
       "    }\n",
       "\n",
       "    .dataframe tbody tr th {\n",
       "        vertical-align: top;\n",
       "    }\n",
       "\n",
       "    .dataframe thead th {\n",
       "        text-align: right;\n",
       "    }\n",
       "</style>\n",
       "<table border=\"1\" class=\"dataframe\">\n",
       "  <thead>\n",
       "    <tr style=\"text-align: right;\">\n",
       "      <th></th>\n",
       "      <th>pc_one</th>\n",
       "      <th>pc_two</th>\n",
       "    </tr>\n",
       "  </thead>\n",
       "  <tbody>\n",
       "    <tr>\n",
       "      <th>0</th>\n",
       "      <td>1.714281</td>\n",
       "      <td>0.511747</td>\n",
       "    </tr>\n",
       "    <tr>\n",
       "      <th>1</th>\n",
       "      <td>-0.681739</td>\n",
       "      <td>-3.310147</td>\n",
       "    </tr>\n",
       "    <tr>\n",
       "      <th>2</th>\n",
       "      <td>-1.780258</td>\n",
       "      <td>0.753338</td>\n",
       "    </tr>\n",
       "    <tr>\n",
       "      <th>3</th>\n",
       "      <td>-3.881720</td>\n",
       "      <td>-0.769071</td>\n",
       "    </tr>\n",
       "    <tr>\n",
       "      <th>4</th>\n",
       "      <td>-2.737801</td>\n",
       "      <td>0.931425</td>\n",
       "    </tr>\n",
       "  </tbody>\n",
       "</table>\n",
       "</div>"
      ],
      "text/plain": [
       "     pc_one    pc_two\n",
       "0  1.714281  0.511747\n",
       "1 -0.681739 -3.310147\n",
       "2 -1.780258  0.753338\n",
       "3 -3.881720 -0.769071\n",
       "4 -2.737801  0.931425"
      ]
     },
     "execution_count": 16,
     "metadata": {},
     "output_type": "execute_result"
    }
   ],
   "source": [
    "# Our data reduced to two components by pca\n",
    "principal_df.head()"
   ]
  },
  {
   "cell_type": "code",
   "execution_count": 17,
   "id": "28101e0a-6f77-4665-b66e-5f3e3665f110",
   "metadata": {},
   "outputs": [],
   "source": [
    "# Add our reduced data to our main dataframe\n",
    "data = pd.concat([data, principal_df], axis=1)"
   ]
  },
  {
   "cell_type": "code",
   "execution_count": 18,
   "id": "7f3918c1-9481-4fc5-83d9-89c60efca0ce",
   "metadata": {},
   "outputs": [
    {
     "data": {
      "text/html": [
       "<div>\n",
       "<style scoped>\n",
       "    .dataframe tbody tr th:only-of-type {\n",
       "        vertical-align: middle;\n",
       "    }\n",
       "\n",
       "    .dataframe tbody tr th {\n",
       "        vertical-align: top;\n",
       "    }\n",
       "\n",
       "    .dataframe thead th {\n",
       "        text-align: right;\n",
       "    }\n",
       "</style>\n",
       "<table border=\"1\" class=\"dataframe\">\n",
       "  <thead>\n",
       "    <tr style=\"text-align: right;\">\n",
       "      <th></th>\n",
       "      <th>word</th>\n",
       "      <th>label</th>\n",
       "      <th>word_embeddings</th>\n",
       "      <th>pc_one</th>\n",
       "      <th>pc_two</th>\n",
       "    </tr>\n",
       "  </thead>\n",
       "  <tbody>\n",
       "    <tr>\n",
       "      <th>0</th>\n",
       "      <td>love</td>\n",
       "      <td>positive</td>\n",
       "      <td>[0.3864911, 0.36188018, 0.23423323, -0.3957976...</td>\n",
       "      <td>1.714281</td>\n",
       "      <td>0.511747</td>\n",
       "    </tr>\n",
       "    <tr>\n",
       "      <th>1</th>\n",
       "      <td>terrific</td>\n",
       "      <td>positive</td>\n",
       "      <td>[0.33330113, -0.20869666, -0.16522153, -0.0631...</td>\n",
       "      <td>-0.681739</td>\n",
       "      <td>-3.310147</td>\n",
       "    </tr>\n",
       "    <tr>\n",
       "      <th>2</th>\n",
       "      <td>admired</td>\n",
       "      <td>positive</td>\n",
       "      <td>[-0.25650173, 0.022439439, 0.25480777, -0.0880...</td>\n",
       "      <td>-1.780258</td>\n",
       "      <td>0.753338</td>\n",
       "    </tr>\n",
       "    <tr>\n",
       "      <th>3</th>\n",
       "      <td>jolly</td>\n",
       "      <td>positive</td>\n",
       "      <td>[-0.22022377, -0.20243204, 0.10135944, -0.3264...</td>\n",
       "      <td>-3.881720</td>\n",
       "      <td>-0.769071</td>\n",
       "    </tr>\n",
       "    <tr>\n",
       "      <th>4</th>\n",
       "      <td>brave</td>\n",
       "      <td>positive</td>\n",
       "      <td>[-0.08306653, -0.118995346, -0.46022722, -0.43...</td>\n",
       "      <td>-2.737801</td>\n",
       "      <td>0.931425</td>\n",
       "    </tr>\n",
       "  </tbody>\n",
       "</table>\n",
       "</div>"
      ],
      "text/plain": [
       "       word     label                                    word_embeddings  \\\n",
       "0      love  positive  [0.3864911, 0.36188018, 0.23423323, -0.3957976...   \n",
       "1  terrific  positive  [0.33330113, -0.20869666, -0.16522153, -0.0631...   \n",
       "2   admired  positive  [-0.25650173, 0.022439439, 0.25480777, -0.0880...   \n",
       "3     jolly  positive  [-0.22022377, -0.20243204, 0.10135944, -0.3264...   \n",
       "4     brave  positive  [-0.08306653, -0.118995346, -0.46022722, -0.43...   \n",
       "\n",
       "     pc_one    pc_two  \n",
       "0  1.714281  0.511747  \n",
       "1 -0.681739 -3.310147  \n",
       "2 -1.780258  0.753338  \n",
       "3 -3.881720 -0.769071  \n",
       "4 -2.737801  0.931425  "
      ]
     },
     "execution_count": 18,
     "metadata": {},
     "output_type": "execute_result"
    }
   ],
   "source": [
    "data.head()"
   ]
  },
  {
   "cell_type": "code",
   "execution_count": 19,
   "id": "8e0ccaee-3e05-439e-bb35-6f87aced5d6c",
   "metadata": {},
   "outputs": [],
   "source": [
    "# split the word embeddings by label (positive/negative)\n",
    "positive = data.query('label.str.contains(\"positive\")', engine='python')\n",
    "negative = data.query('label.str.contains(\"negative\")', engine='python')"
   ]
  },
  {
   "cell_type": "markdown",
   "id": "7367fe23-43f8-4a11-a173-914b31a43398",
   "metadata": {},
   "source": [
    "<!-- Below we is a graph of our words graphed. We can see that the positive words are on the upper left of the chart and the negative words are in the middle to the right of the positive words. We can also see that they slightly overlap in the middle. We can also see that there are words that -->"
   ]
  },
  {
   "cell_type": "markdown",
   "id": "0e8734b2-e150-4794-a342-7cfe8958ca26",
   "metadata": {},
   "source": [
    "Below I have graphed our data in its reduced form by pca. As we can see there is some noticeable difference but not much. We can see that there are more negative words in the upper right of the graph. And generally most positive words are in the bottom left. One of the reasons why this did not work as we expected is because pca is meant for linear data which our data is not. Now we are going to use TSNE to see if we can get a better result."
   ]
  },
  {
   "cell_type": "code",
   "execution_count": 20,
   "id": "7be7cb24-0f1f-459e-9002-0c20c9746fbe",
   "metadata": {},
   "outputs": [
    {
     "data": {
      "image/png": "[encoded data removed]",
      "text/plain": [
       "<Figure size 432x288 with 1 Axes>"
      ]
     },
     "metadata": {
      "needs_background": "light"
     },
     "output_type": "display_data"
    }
   ],
   "source": [
    "plt.scatter(positive.pc_one, positive.pc_two, color='b')\n",
    "plt.scatter(negative.pc_one, negative.pc_two, color='r')\n",
    "plt.legend(['positive words', 'negative words'], loc ='upper right')\n",
    "plt.title('Reduced Word Embeddings')\n",
    "plt.xlabel('x')\n",
    "plt.ylabel('y')\n",
    "plt.show();"
   ]
  },
  {
   "cell_type": "code",
   "execution_count": 21,
   "id": "24695d4e-adeb-4fbe-8deb-d93b1dd57918",
   "metadata": {},
   "outputs": [],
   "source": [
    "def compare_words(data):\n",
    "    \"\"\"\n",
    "    Function to compare a word to other words in a pandas dataframe.\n",
    "    \"\"\"\n",
    "    similarities = {}\n",
    "    for i in range(len(data)):\n",
    "        current_embedding = data.loc[i].word_embeddings.reshape(1, -1)\n",
    "        current_word = data.loc[i].word\n",
    "        most_similar = 0\n",
    "        for j in range(len(data)):\n",
    "            other_embedding = data.loc[j].word_embeddings.reshape(1, -1)\n",
    "            other_word = data.loc[j].word\n",
    "            similarity = cosine_similarity(current_embedding, other_embedding)\n",
    "            if similarity >= most_similar and current_word != other_word:\n",
    "                similarities[current_word] = other_word\n",
    "                most_similar = similarity\n",
    "    return similarities"
   ]
  },
  {
   "cell_type": "markdown",
   "id": "91f8167b-ea81-404c-9739-703e9b392ba0",
   "metadata": {},
   "source": [
    "# TODO: Explain the similarities below"
   ]
  },
  {
   "cell_type": "code",
   "execution_count": 22,
   "id": "fd64b3f8-6bdf-4456-8da8-7ca8c64f4729",
   "metadata": {},
   "outputs": [
    {
     "data": {
      "text/plain": [
       "{'love': 'hate',\n",
       " 'terrific': 'wonderful',\n",
       " 'admired': 'courageous',\n",
       " 'jolly': 'lively',\n",
       " 'brave': 'courageous',\n",
       " 'fun': 'nice',\n",
       " 'engaged': 'courageous',\n",
       " 'happy': 'sad',\n",
       " 'wonderful': 'amazing',\n",
       " 'hopeful': 'frustrated',\n",
       " 'free': 'frustrated',\n",
       " 'confident': 'frustrated',\n",
       " 'secure': 'confident',\n",
       " 'lively': 'jolly',\n",
       " 'amazing': 'awesome',\n",
       " 'friendly': 'failure',\n",
       " 'awesome': 'amazing',\n",
       " 'beautiful': 'amazing',\n",
       " 'kind': 'frustrated',\n",
       " 'strong': 'helpless',\n",
       " 'joyful': 'happy',\n",
       " 'courageous': 'brave',\n",
       " 'carefree': 'joyful',\n",
       " 'nice': 'strong',\n",
       " 'rejected': 'admired',\n",
       " 'afraid': 'scared',\n",
       " 'regretful': 'displeased',\n",
       " 'coward': 'helpless',\n",
       " 'embarrassed': 'disgusted',\n",
       " 'sad': 'lonely',\n",
       " 'lonely': 'frustrated',\n",
       " 'alone': 'lonely',\n",
       " 'displeased': 'disgusted',\n",
       " 'panic': 'terrified',\n",
       " 'terrified': 'scared',\n",
       " 'loser': 'failure',\n",
       " 'frustrated': 'scared',\n",
       " 'lost': 'loser',\n",
       " 'feeble': 'displeased',\n",
       " 'failure': 'rejected',\n",
       " 'helpless': 'terrified',\n",
       " 'disgusted': 'embarrassed',\n",
       " 'ugly': 'disgusting',\n",
       " 'horrible': 'terrible',\n",
       " 'unhappy': 'frustrated',\n",
       " 'disgusting': 'horrible',\n",
       " 'terrible': 'horrible',\n",
       " 'scared': 'terrified',\n",
       " 'hate': 'frustrated'}"
      ]
     },
     "execution_count": 22,
     "metadata": {},
     "output_type": "execute_result"
    }
   ],
   "source": [
    "similarities = compare_words(data)\n",
    "similarities"
   ]
  },
  {
   "cell_type": "code",
   "execution_count": 23,
   "id": "6ea84339-2d13-46cb-b6b8-1af659456ee9",
   "metadata": {},
   "outputs": [
    {
     "name": "stdout",
     "output_type": "stream",
     "text": [
      "[t-SNE] Computing 49 nearest neighbors...\n",
      "[t-SNE] Indexed 50 samples in 0.001s...\n",
      "[t-SNE] Computed neighbors for 50 samples in 0.001s...\n",
      "[t-SNE] Computed conditional probabilities for sample 50 / 50\n",
      "[t-SNE] Mean sigma: 5.554680\n",
      "[t-SNE] KL divergence after 250 iterations with early exaggeration: 49.597054\n",
      "[t-SNE] KL divergence after 1000 iterations: 0.430304\n"
     ]
    },
    {
     "name": "stderr",
     "output_type": "stream",
     "text": [
      "C:\\Users\\Gael Gil\\Desktop\\git-repos\\notebooks\\book_genre_comparison\\env\\lib\\site-packages\\sklearn\\manifold\\_t_sne.py:780: FutureWarning: The default initialization in TSNE will change from 'random' to 'pca' in 1.2.\n",
      "  warnings.warn(\n",
      "C:\\Users\\Gael Gil\\Desktop\\git-repos\\notebooks\\book_genre_comparison\\env\\lib\\site-packages\\sklearn\\manifold\\_t_sne.py:790: FutureWarning: The default learning rate in TSNE will change from 200.0 to 'auto' in 1.2.\n",
      "  warnings.warn(\n"
     ]
    }
   ],
   "source": [
    "tsne = TSNE(n_components=2, verbose=1, random_state=123)\n",
    "z = tsne.fit_transform(list(data.word_embeddings))"
   ]
  },
  {
   "cell_type": "code",
   "execution_count": 24,
   "id": "2466d2d4-0ea9-41ad-b7ad-b4a2903ddb6b",
   "metadata": {},
   "outputs": [],
   "source": [
    "df = pd.DataFrame()\n",
    "# get our first component\n",
    "df[\"comp_one\"] = z[:,0]\n",
    "# get our second component\n",
    "df[\"comp_two\"] = z[:,1]\n",
    "# add our reduced data into our dataframe\n",
    "data = pd.concat([data, df], axis=1)"
   ]
  },
  {
   "cell_type": "code",
   "execution_count": 25,
   "id": "93060483-8302-4d97-a087-6b5ba072c8fa",
   "metadata": {},
   "outputs": [],
   "source": [
    "positive = data.query('label.str.contains(\"positive\")', engine='python')\n",
    "negative = data.query('label.str.contains(\"negative\")', engine='python')"
   ]
  },
  {
   "cell_type": "markdown",
   "id": "d2cbedb6-b1e7-453e-b9c9-daa905814aa6",
   "metadata": {},
   "source": [
    "Below I have graphed our data in its reduced form by tsne. # TODO: Finish explaning the graph below"
   ]
  },
  {
   "cell_type": "code",
   "execution_count": 26,
   "id": "58f6f3df-95c5-4e03-9775-9e8947dcdaaa",
   "metadata": {},
   "outputs": [
    {
     "data": {
      "image/png": "[encoded data removed]",
      "text/plain": [
       "<Figure size 432x288 with 1 Axes>"
      ]
     },
     "metadata": {
      "needs_background": "light"
     },
     "output_type": "display_data"
    }
   ],
   "source": [
    "plt.scatter(positive.comp_one, positive.comp_two, color='b')\n",
    "plt.scatter(negative.comp_one, negative.comp_two, color='r')\n",
    "plt.xlabel('x')\n",
    "plt.ylabel('y')\n",
    "plt.show();"
   ]
  },
  {
   "cell_type": "markdown",
   "id": "db4396e3-4d30-40ac-a269-22c17dce8a60",
   "metadata": {},
   "source": [
    "# Using the Book Dataset\n",
    "Now we are going to attempt to see if we can try and do the same for a whole book."
   ]
  },
  {
   "cell_type": "code",
   "execution_count": 27,
   "id": "575b451d-2846-4084-8512-71fab9d3984b",
   "metadata": {},
   "outputs": [],
   "source": [
    "books = pd.read_csv('./data/csv/data.csv')"
   ]
  },
  {
   "cell_type": "code",
   "execution_count": 28,
   "id": "e1052684-6858-4ae4-88e2-7beb9f0fd245",
   "metadata": {},
   "outputs": [
    {
     "data": {
      "text/html": [
       "<div>\n",
       "<style scoped>\n",
       "    .dataframe tbody tr th:only-of-type {\n",
       "        vertical-align: middle;\n",
       "    }\n",
       "\n",
       "    .dataframe tbody tr th {\n",
       "        vertical-align: top;\n",
       "    }\n",
       "\n",
       "    .dataframe thead th {\n",
       "        text-align: right;\n",
       "    }\n",
       "</style>\n",
       "<table border=\"1\" class=\"dataframe\">\n",
       "  <thead>\n",
       "    <tr style=\"text-align: right;\">\n",
       "      <th></th>\n",
       "      <th>book</th>\n",
       "      <th>words</th>\n",
       "    </tr>\n",
       "  </thead>\n",
       "  <tbody>\n",
       "    <tr>\n",
       "      <th>0</th>\n",
       "      <td>./data/cook_book_one.txt</td>\n",
       "      <td>project gutenberg's the whitehouse cookbook by...</td>\n",
       "    </tr>\n",
       "    <tr>\n",
       "      <th>1</th>\n",
       "      <td>./data/cook_book_three.txt</td>\n",
       "      <td>the project gutenberg ebook of new royal cook ...</td>\n",
       "    </tr>\n",
       "    <tr>\n",
       "      <th>2</th>\n",
       "      <td>./data/gothic_novel_four.txt</td>\n",
       "      <td>the project gutenberg ebook of the works of ed...</td>\n",
       "    </tr>\n",
       "    <tr>\n",
       "      <th>3</th>\n",
       "      <td>./data/gothic_novel_six.txt</td>\n",
       "      <td>the project gutenberg ebook of northanger abbe...</td>\n",
       "    </tr>\n",
       "    <tr>\n",
       "      <th>4</th>\n",
       "      <td>./data/gothic_novel_two.txt</td>\n",
       "      <td>project gutenberg’s the complete works of will...</td>\n",
       "    </tr>\n",
       "    <tr>\n",
       "      <th>5</th>\n",
       "      <td>./data/gothic_novel_three.txt</td>\n",
       "      <td>the project gutenberg ebook of dracula by bram...</td>\n",
       "    </tr>\n",
       "    <tr>\n",
       "      <th>6</th>\n",
       "      <td>./data/cook_book_four.txt</td>\n",
       "      <td>the project gutenberg ebook of the italian coo...</td>\n",
       "    </tr>\n",
       "    <tr>\n",
       "      <th>7</th>\n",
       "      <td>./data/gothic_novel_ten.txt</td>\n",
       "      <td>the project gutenberg ebook of the castle of o...</td>\n",
       "    </tr>\n",
       "    <tr>\n",
       "      <th>8</th>\n",
       "      <td>./data/gothic_novel_eight.txt</td>\n",
       "      <td>the project gutenberg ebook of the vampyre a t...</td>\n",
       "    </tr>\n",
       "    <tr>\n",
       "      <th>9</th>\n",
       "      <td>./data/gothic_novel_nine.txt</td>\n",
       "      <td>the project gutenberg ebook of the masque of t...</td>\n",
       "    </tr>\n",
       "    <tr>\n",
       "      <th>10</th>\n",
       "      <td>./data/cook_book.txt</td>\n",
       "      <td>the project gutenberg ebook of california mexi...</td>\n",
       "    </tr>\n",
       "    <tr>\n",
       "      <th>11</th>\n",
       "      <td>./data/cook_book_ten.txt</td>\n",
       "      <td>the project gutenberg ebook of seventy five re...</td>\n",
       "    </tr>\n",
       "    <tr>\n",
       "      <th>12</th>\n",
       "      <td>./data/cook_book_nine.txt</td>\n",
       "      <td>the project gutenberg ebook of mrs wilson's co...</td>\n",
       "    </tr>\n",
       "    <tr>\n",
       "      <th>13</th>\n",
       "      <td>./data/cook_book_eight.txt</td>\n",
       "      <td>the project gutenberg ebook of a plain cookery...</td>\n",
       "    </tr>\n",
       "    <tr>\n",
       "      <th>14</th>\n",
       "      <td>./data/gothic_novel.txt</td>\n",
       "      <td>the project gutenberg ebook of the phantom of ...</td>\n",
       "    </tr>\n",
       "    <tr>\n",
       "      <th>15</th>\n",
       "      <td>./data/gothic_novel_five.txt</td>\n",
       "      <td>the project gutenberg ebook of the woman in wh...</td>\n",
       "    </tr>\n",
       "    <tr>\n",
       "      <th>16</th>\n",
       "      <td>./data/cook_book_six.txt</td>\n",
       "      <td>the project gutenberg ebook of twenty five cen...</td>\n",
       "    </tr>\n",
       "    <tr>\n",
       "      <th>17</th>\n",
       "      <td>./data/cook_book_two.txt</td>\n",
       "      <td>the project gutenberg ebook old cookery books ...</td>\n",
       "    </tr>\n",
       "    <tr>\n",
       "      <th>18</th>\n",
       "      <td>./data/gothic_novel_seven.txt</td>\n",
       "      <td>the project gutenberg ebook of frankenstein by...</td>\n",
       "    </tr>\n",
       "    <tr>\n",
       "      <th>19</th>\n",
       "      <td>./data/gothic_novel_one.txt</td>\n",
       "      <td>the project gutenberg ebook of the works of ed...</td>\n",
       "    </tr>\n",
       "    <tr>\n",
       "      <th>20</th>\n",
       "      <td>./data/cook_book_seven.txt</td>\n",
       "      <td>the project gutenberg ebook of the belgian coo...</td>\n",
       "    </tr>\n",
       "    <tr>\n",
       "      <th>21</th>\n",
       "      <td>./data/cook_book_five.txt</td>\n",
       "      <td>project gutenberg's the complete book of chees...</td>\n",
       "    </tr>\n",
       "  </tbody>\n",
       "</table>\n",
       "</div>"
      ],
      "text/plain": [
       "                             book  \\\n",
       "0        ./data/cook_book_one.txt   \n",
       "1      ./data/cook_book_three.txt   \n",
       "2    ./data/gothic_novel_four.txt   \n",
       "3     ./data/gothic_novel_six.txt   \n",
       "4     ./data/gothic_novel_two.txt   \n",
       "5   ./data/gothic_novel_three.txt   \n",
       "6       ./data/cook_book_four.txt   \n",
       "7     ./data/gothic_novel_ten.txt   \n",
       "8   ./data/gothic_novel_eight.txt   \n",
       "9    ./data/gothic_novel_nine.txt   \n",
       "10           ./data/cook_book.txt   \n",
       "11       ./data/cook_book_ten.txt   \n",
       "12      ./data/cook_book_nine.txt   \n",
       "13     ./data/cook_book_eight.txt   \n",
       "14        ./data/gothic_novel.txt   \n",
       "15   ./data/gothic_novel_five.txt   \n",
       "16       ./data/cook_book_six.txt   \n",
       "17       ./data/cook_book_two.txt   \n",
       "18  ./data/gothic_novel_seven.txt   \n",
       "19    ./data/gothic_novel_one.txt   \n",
       "20     ./data/cook_book_seven.txt   \n",
       "21      ./data/cook_book_five.txt   \n",
       "\n",
       "                                                words  \n",
       "0   project gutenberg's the whitehouse cookbook by...  \n",
       "1   the project gutenberg ebook of new royal cook ...  \n",
       "2   the project gutenberg ebook of the works of ed...  \n",
       "3   the project gutenberg ebook of northanger abbe...  \n",
       "4   project gutenberg’s the complete works of will...  \n",
       "5   the project gutenberg ebook of dracula by bram...  \n",
       "6   the project gutenberg ebook of the italian coo...  \n",
       "7   the project gutenberg ebook of the castle of o...  \n",
       "8   the project gutenberg ebook of the vampyre a t...  \n",
       "9   the project gutenberg ebook of the masque of t...  \n",
       "10  the project gutenberg ebook of california mexi...  \n",
       "11  the project gutenberg ebook of seventy five re...  \n",
       "12  the project gutenberg ebook of mrs wilson's co...  \n",
       "13  the project gutenberg ebook of a plain cookery...  \n",
       "14  the project gutenberg ebook of the phantom of ...  \n",
       "15  the project gutenberg ebook of the woman in wh...  \n",
       "16  the project gutenberg ebook of twenty five cen...  \n",
       "17  the project gutenberg ebook old cookery books ...  \n",
       "18  the project gutenberg ebook of frankenstein by...  \n",
       "19  the project gutenberg ebook of the works of ed...  \n",
       "20  the project gutenberg ebook of the belgian coo...  \n",
       "21  project gutenberg's the complete book of chees...  "
      ]
     },
     "execution_count": 28,
     "metadata": {},
     "output_type": "execute_result"
    }
   ],
   "source": [
    "books"
   ]
  },
  {
   "cell_type": "code",
   "execution_count": null,
   "id": "1adbe3d8-0d74-42a6-a4e1-9b799db6f32b",
   "metadata": {},
   "outputs": [],
   "source": []
  }
 ],
 "metadata": {
  "kernelspec": {
   "display_name": "Python 3 (ipykernel)",
   "language": "python",
   "name": "python3"
  },
  "language_info": {
   "codemirror_mode": {
    "name": "ipython",
    "version": 3
   },
   "file_extension": ".py",
   "mimetype": "text/x-python",
   "name": "python",
   "nbconvert_exporter": "python",
   "pygments_lexer": "ipython3",
   "version": "3.10.4"
  }
 },
 "nbformat": 4,
 "nbformat_minor": 5
}
