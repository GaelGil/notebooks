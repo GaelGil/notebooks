{
 "cells": [
  {
   "cell_type": "markdown",
   "id": "864c5645-dd5e-4d7e-914f-ef43d6a1aef6",
   "metadata": {},
   "source": [
    "# Statistics Lecture 1.5: Sampling Techniques. How to Develop a Random Sample"
   ]
  },
  {
   "cell_type": "markdown",
   "id": "0f2d6139-c444-42d7-bf09-54eb768ef0e7",
   "metadata": {},
   "source": [
    "**Observation vs Experiment**:\n",
    "- **Observations**:\n",
    "    - Measures specifict traits but does **not** modify the subjects.\n",
    "- **Experiment**:\n",
    "    - Apply a **treatment** and then measure the effect on the subjects.\n",
    "    \n",
    "**Random**: Each member of a population has an equal chance of getting selected in a sample.\n",
    "\n",
    "**Simple Random**: Each group of a size `n` has an equal chance of being selected.\n",
    "\n",
    "**4 Common Sampling Techniques**:\n",
    "- **1) Convenience**: Use the results that are easy to get (not random)\n",
    "\n",
    "- **2) Systematic Sampling**: Put a population in some order and every $k^{th}$ member\n",
    "\n",
    "- **3) Stratified Sample**: Break population to subgroups based on some characteristic and then take a simple random sample of each subgroup.\n",
    "\n",
    "- **4) Cluster Sample**: Divide population into clusters (regarless of characteristics) randomly select a certain number of clusters and then collect data from the entire cluster. \n"
   ]
  },
  {
   "cell_type": "code",
   "execution_count": null,
   "id": "f458c50c-2279-46b0-afe5-19c10d4e8ea2",
   "metadata": {},
   "outputs": [],
   "source": []
  }
 ],
 "metadata": {
  "kernelspec": {
   "display_name": "Python 3 (ipykernel)",
   "language": "python",
   "name": "python3"
  },
  "language_info": {
   "codemirror_mode": {
    "name": "ipython",
    "version": 3
   },
   "file_extension": ".py",
   "mimetype": "text/x-python",
   "name": "python",
   "nbconvert_exporter": "python",
   "pygments_lexer": "ipython3",
   "version": "3.9.10"
  }
 },
 "nbformat": 4,
 "nbformat_minor": 5
}
