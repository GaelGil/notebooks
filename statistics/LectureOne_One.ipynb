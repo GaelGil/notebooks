{
 "cells": [
  {
   "cell_type": "markdown",
   "id": "24340aec-3a17-4f29-a8fb-1ada08da7b76",
   "metadata": {},
   "source": [
    "# Statistics Lecture 1.1: The Key Words and Definitions For Elementary Statistics"
   ]
  },
  {
   "cell_type": "markdown",
   "id": "59ef3976-8d2d-4e26-adf1-80d5b2a58ca8",
   "metadata": {},
   "source": [
    "<ins>**Data**</ins>: Any observations that have been collected.\n",
    "\n",
    "<ins>**Statistics**</ins>: Collecting, Analyze, Summarize, Intepret and Draw conclusions from data.\n",
    "\n",
    "<ins>**Population**</ins>: The complete set of all elements being studied.\n",
    "\n",
    "<ins>**Samples**</ins>: Some subset of a population.\n",
    "\n",
    "<ins>**Census**</ins>: Collecting from every member of a population.\n",
    "\n",
    "If you collect a sample it must me collected <ins>**randomly**</ins>\n",
    "\n",
    "<ins>**Types of Data**</ins>:\n",
    "- <ins>**Parameter**</ins>: a characteristic of a <ins>population</ins>\n",
    "- <ins>**Statistic**</ins>: A characteristic of a <ins>sample</ins>\n",
    "\n",
    "<!-- <ins>****</ins> -->"
   ]
  },
  {
   "cell_type": "code",
   "execution_count": null,
   "id": "4f009aaa-ac97-407d-a5e3-5c5dbbf01bb3",
   "metadata": {},
   "outputs": [],
   "source": []
  }
 ],
 "metadata": {
  "kernelspec": {
   "display_name": "Python 3 (ipykernel)",
   "language": "python",
   "name": "python3"
  },
  "language_info": {
   "codemirror_mode": {
    "name": "ipython",
    "version": 3
   },
   "file_extension": ".py",
   "mimetype": "text/x-python",
   "name": "python",
   "nbconvert_exporter": "python",
   "pygments_lexer": "ipython3",
   "version": "3.9.10"
  }
 },
 "nbformat": 4,
 "nbformat_minor": 5
}
