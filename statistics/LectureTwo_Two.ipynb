{
 "cells": [
  {
   "cell_type": "markdown",
   "id": "dda6390f-d7cb-4b66-8db9-21d6005f8c30",
   "metadata": {},
   "source": [
    "# Statistics Lecture 2.2: Creating Frequency Distribution and Histograms"
   ]
  },
  {
   "cell_type": "markdown",
   "id": "2b488b66-c697-47b4-ac23-8c9982be3e61",
   "metadata": {},
   "source": [
    "**Frequency Distribution**: A list of values with corresponding frequences. \n",
    "\n",
    "**Class Widths**: Difference between two lower class limits. \n",
    "\n",
    "**Lower Class Limit**: Smallest value beloning to a class.\n",
    "\n",
    "**Upper Class Limit**: Largest value belonging to a class.\n",
    "\n",
    "**Steps**: \n",
    "- 1) Determine the number of classes.\n",
    "- 2) Find class width $(max value - min value)/number classes $\n",
    "    - $(44-18)/8 = 26/8 = 3.25 = 4 $ (round up)\n",
    "    - class width = 4\n",
    "    \n",
    "- 3) Start with the smallest value: 18\n",
    "- 4) Create classes with class width\n",
    "\n",
    "- **Class Width**: $ 4 $\n",
    "- **Lower Class Limit**: $ 18,22,26,..46 $\n",
    "- **Upper Class Limit**: $ 21,25,...49$ \n",
    "- **Class Midpoint**:\n",
    "    - (Upper Class Limit - Lower Class Limit)/2\n",
    "    - $(21-18)/2 = 19.5, 23.5, 27.5, 31.5, 35.5, 39.5, 47.5$s\n",
    "- **Class Boundaries**: Used to seperate classes without gaps.\n",
    "    - $ 21.5, 25.5, 29.5, 33.5, 37.5, 41.5, 45.5, 49.5 $\n",
    "    \n",
    "- **Relative Frequency Distribution Percentage**\n",
    "    - Freqency of class/sum of class\n",
    "- **Cumulative Frequency Distribution**: Adds sequential classes together\n",
    "\n",
    "| Age   | Frequency | Relative Frequency | Cumulative| \n",
    "| :---  | :--- | :--- | :--- |\n",
    "| 18-21 | 25 | 58.1% | 25 | \n",
    "| 22-25 | 10 | 23.3% | 35 | \n",
    "| 26-29 | 4 | 9.3%% | 39 | \n",
    "| 30-33 | 2 | 4.7% | 41 |\n",
    "| 34-37 | 1 | 2.3% | 42 |\n",
    "| 38-41 | 0 | 0% | 42 |\n",
    "| 42-45 | 1 | 2.3% | 43 |\n",
    "| 46-49 | 0 | 0% | 43 |\n",
    "| n | n = 43 | 0 | 0 |"
   ]
  },
  {
   "cell_type": "code",
   "execution_count": null,
   "id": "23d2b866-fd73-4408-8553-7185f91303a8",
   "metadata": {},
   "outputs": [],
   "source": []
  }
 ],
 "metadata": {
  "kernelspec": {
   "display_name": "Python 3 (ipykernel)",
   "language": "python",
   "name": "python3"
  },
  "language_info": {
   "codemirror_mode": {
    "name": "ipython",
    "version": 3
   },
   "file_extension": ".py",
   "mimetype": "text/x-python",
   "name": "python",
   "nbconvert_exporter": "python",
   "pygments_lexer": "ipython3",
   "version": "3.9.10"
  }
 },
 "nbformat": 4,
 "nbformat_minor": 5
}
