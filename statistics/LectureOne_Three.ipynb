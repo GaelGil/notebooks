{
 "cells": [
  {
   "cell_type": "markdown",
   "id": "1513f950-e1fd-4737-b2a1-4e9c0b867e48",
   "metadata": {},
   "source": [
    "# Statistics Lecture 1.3: Exploring Categories of Data, Levels of Measurement"
   ]
  },
  {
   "cell_type": "markdown",
   "id": "83ddc8fa-4a62-4b78-99a2-2208d1569d66",
   "metadata": {},
   "source": [
    "<ins>**Two Types of Data**</ins>:\n",
    "- <ins>**Qualitative**</ins>: <ins>non numerical</ins>\n",
    "    - color, gender, race, religion\n",
    "    - mathematical operations are <ins>meaningless</ins>\n",
    "    \n",
    "- <ins>**Quantitative**</ins>: <ins>numerical</ins>\n",
    "    - height, weight, wages, mph, temperature\n",
    "    - mathematical operations are <ins>meaningful</ins>\n",
    "    \n",
    "<ins>**Two Types of Qunatitative Data**</ins>:\n",
    "- <ins>**Discrete Data**</ins>: countable or finite\n",
    "    -  number of eggs (1 or 2 eggs no 1.5 ), dice (we can only get six possible choices), usually a count\n",
    "\n",
    "- <ins>**Continoues Data**</ins>: infinite possible number of possible values (not countable) \n",
    "    - usually a measurement (temperature)\n",
    "    \n",
    "    \n",
    "<ins>**4 Levels of Measurement**</ins>:\n",
    "- <ins>**Nominal**</ins>: Categories. <ins>NOT</ins> ordered\n",
    "- <ins>**Ordinal**</ins>: Can be ordered. \n",
    "    - Differences are meaningless (rank, color(spectrum))\n",
    "- <ins>**Interval**</ins>: It can be ordered, differences are meaningful. No \"Natural Zero\". For example temperature. If the tempreature is zero it doesn't mean there is no temperature. \n",
    "- <ins>**Ratio**</ins>: Just like interval but with a <ins>narual zero</ins>. For example if you have 0 money that means you have no money. "
   ]
  },
  {
   "cell_type": "code",
   "execution_count": null,
   "id": "d81bf169-f446-4f6a-a7d3-3b98c47aa352",
   "metadata": {},
   "outputs": [],
   "source": []
  }
 ],
 "metadata": {
  "kernelspec": {
   "display_name": "Python 3 (ipykernel)",
   "language": "python",
   "name": "python3"
  },
  "language_info": {
   "codemirror_mode": {
    "name": "ipython",
    "version": 3
   },
   "file_extension": ".py",
   "mimetype": "text/x-python",
   "name": "python",
   "nbconvert_exporter": "python",
   "pygments_lexer": "ipython3",
   "version": "3.9.10"
  }
 },
 "nbformat": 4,
 "nbformat_minor": 5
}
