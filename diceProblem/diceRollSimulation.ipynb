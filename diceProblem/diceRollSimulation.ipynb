{
 "cells": [
  {
   "cell_type": "code",
   "execution_count": 111,
   "id": "downtown-operator",
   "metadata": {},
   "outputs": [],
   "source": [
    "import random\n",
    "import numpy as np\n",
    "DICE = [1,2,3,4,5,6]\n",
    "COIN = [0,1]"
   ]
  },
  {
   "cell_type": "code",
   "execution_count": 112,
   "id": "amazing-variation",
   "metadata": {},
   "outputs": [],
   "source": [
    "def rollDiceThreeTimes():\n",
    "    \"\"\"\n",
    "    This function rollls a dice three times and adds up the\n",
    "    sum of those dice.\n",
    "    \"\"\"\n",
    "    numOne = random.choice(DICE)\n",
    "    numTwo = random.choice(DICE)\n",
    "    numThree = random.choice(DICE)\n",
    "    return 0"
   ]
  },
  {
   "cell_type": "code",
   "execution_count": 113,
   "id": "processed-trustee",
   "metadata": {},
   "outputs": [],
   "source": [
    "def rollOneDice():\n",
    "    \"\"\"\n",
    "    This function rolls a dice once and retuns the number\n",
    "    \"\"\"\n",
    "    num =  random.choice(DICE)\n",
    "    return num"
   ]
  },
  {
   "cell_type": "code",
   "execution_count": 114,
   "id": "pleased-october",
   "metadata": {},
   "outputs": [],
   "source": [
    "def rollDice():\n",
    "    \"\"\"\n",
    "    This function rolls a dice once and retuns the number\n",
    "    \"\"\"\n",
    "    numOne =  random.choice(DICE)\n",
    "    numTwo = random.choice(DICE)\n",
    "    return numOne, numTwo"
   ]
  },
  {
   "cell_type": "code",
   "execution_count": 115,
   "id": "asian-digit",
   "metadata": {},
   "outputs": [],
   "source": [
    "def probability_of_sum(n, k, bootstrap=10000):\n",
    "    \"\"\"\n",
    "    This function returns the probability of getting a sum greater than\n",
    "    or equal to k given n dice rolls. This function uses \"bootstrapping\"\n",
    "    (repeated random sampling) to get an approximate answer. The higher\n",
    "    the bootstrap value, the more accurate the estimate will be.\n",
    "    \"\"\"\n",
    "    results = []\n",
    "    for i in range(n):\n",
    "        total = 0\n",
    "        numOne, numTwo = rollDice()\n",
    "        total += numOne\n",
    "        total += numTwo\n",
    "        results.append(total)\n",
    "        \n",
    "    kOrAbove = [i for i in results if i >= k]\n",
    "\n",
    "\n",
    "    return (len(kOrAbove)/n)"
   ]
  },
  {
   "cell_type": "code",
   "execution_count": 116,
   "id": "spatial-white",
   "metadata": {},
   "outputs": [],
   "source": [
    "def flipCoin():\n",
    "    return random.choice(COIN)"
   ]
  },
  {
   "cell_type": "code",
   "execution_count": 117,
   "id": "included-sessions",
   "metadata": {},
   "outputs": [],
   "source": [
    "def binomial_probability(n, k, p):\n",
    "    \"\"\"\n",
    "    This function returns the probability of getting k \"successes\" in\n",
    "    n trials, where the probability of a success in each trial is equal\n",
    "    to p.\n",
    "    For instance, the probability of getting two Heads (successes) in\n",
    "    two fair coin flips (fair means the probability of success = 0.5)\n",
    "    is 0.25, because you can get two heads (HH) with probability:\n",
    "    0.5 * 0.5 = 0.25. You can also think about the total sample space:\n",
    "    {HH, HT, TH, TT} and the \"probability mass function\" that assigns\n",
    "    each of these possible outcomes with a probability:\n",
    "    {HH: 0.25, HT: 0.25, TH: 0.25, TT: 0.25}. In this simple case, the\n",
    "    probabilities are all the same (0.25) so we call the function that\n",
    "    generates these probabilities \"uniform\" - a binomial function is\n",
    "    different. Also, notice that the probability of getting exactly one\n",
    "    head is p(HT) + p(TH) = 0.25 + 0.25 = 0.5.\n",
    "    \"\"\"\n",
    "\n",
    "    nFactorial = np.math.factorial(n)\n",
    "    \n",
    "    kFactorial = np.math.factorial(k)\n",
    "    \n",
    "    nMinusK = np.math.factorial(n-k)\n",
    "    \n",
    "    denominator = kFactorial*(nMinusK)\n",
    "    \n",
    "    nChooseK = ((nFactorial)/denominator)\n",
    "\n",
    "    theEquation = (p**k*(1-p)**(n-k))\n",
    "    \n",
    "        \n",
    "    return (nChooseK*theEquation)"
   ]
  },
  {
   "cell_type": "code",
   "execution_count": 118,
   "id": "least-ensemble",
   "metadata": {},
   "outputs": [],
   "source": [
    "def doProbs():\n",
    "    probsDict = {}\n",
    "    for i in range(0, 5):\n",
    "        prob = binomial_probability(5, i, 0.5)\n",
    "        probsDict[i] = prob\n",
    "        \n",
    "    print(probsDict)"
   ]
  },
  {
   "cell_type": "code",
   "execution_count": 119,
   "id": "textile-extraction",
   "metadata": {},
   "outputs": [
    {
     "name": "stdout",
     "output_type": "stream",
     "text": [
      "{0: 0.03125, 1: 0.15625, 2: 0.3125, 3: 0.3125, 4: 0.15625}\n"
     ]
    }
   ],
   "source": [
    "doProbs()"
   ]
  },
  {
   "cell_type": "code",
   "execution_count": 120,
   "id": "printable-soundtrack",
   "metadata": {},
   "outputs": [
    {
     "ename": "ValueError",
     "evalue": "factorial() not defined for negative values",
     "output_type": "error",
     "traceback": [
      "\u001b[0;31m---------------------------------------------------------------------------\u001b[0m",
      "\u001b[0;31mValueError\u001b[0m                                Traceback (most recent call last)",
      "\u001b[0;32m<ipython-input-120-4cd00d563638>\u001b[0m in \u001b[0;36m<module>\u001b[0;34m\u001b[0m\n\u001b[0;32m----> 1\u001b[0;31m \u001b[0mbinomial_probability\u001b[0m\u001b[0;34m(\u001b[0m\u001b[0;36m5\u001b[0m\u001b[0;34m,\u001b[0m \u001b[0;36m6\u001b[0m\u001b[0;34m,\u001b[0m \u001b[0;36m0.5\u001b[0m\u001b[0;34m)\u001b[0m\u001b[0;34m\u001b[0m\u001b[0;34m\u001b[0m\u001b[0m\n\u001b[0m",
      "\u001b[0;32m<ipython-input-117-15221c758afa>\u001b[0m in \u001b[0;36mbinomial_probability\u001b[0;34m(n, k, p)\u001b[0m\n\u001b[1;32m     21\u001b[0m     \u001b[0mkFactorial\u001b[0m \u001b[0;34m=\u001b[0m \u001b[0mnp\u001b[0m\u001b[0;34m.\u001b[0m\u001b[0mmath\u001b[0m\u001b[0;34m.\u001b[0m\u001b[0mfactorial\u001b[0m\u001b[0;34m(\u001b[0m\u001b[0mk\u001b[0m\u001b[0;34m)\u001b[0m\u001b[0;34m\u001b[0m\u001b[0;34m\u001b[0m\u001b[0m\n\u001b[1;32m     22\u001b[0m \u001b[0;34m\u001b[0m\u001b[0m\n\u001b[0;32m---> 23\u001b[0;31m     \u001b[0mnMinusK\u001b[0m \u001b[0;34m=\u001b[0m \u001b[0mnp\u001b[0m\u001b[0;34m.\u001b[0m\u001b[0mmath\u001b[0m\u001b[0;34m.\u001b[0m\u001b[0mfactorial\u001b[0m\u001b[0;34m(\u001b[0m\u001b[0mn\u001b[0m\u001b[0;34m-\u001b[0m\u001b[0mk\u001b[0m\u001b[0;34m)\u001b[0m\u001b[0;34m\u001b[0m\u001b[0;34m\u001b[0m\u001b[0m\n\u001b[0m\u001b[1;32m     24\u001b[0m \u001b[0;34m\u001b[0m\u001b[0m\n\u001b[1;32m     25\u001b[0m     \u001b[0mdenominator\u001b[0m \u001b[0;34m=\u001b[0m \u001b[0mkFactorial\u001b[0m\u001b[0;34m*\u001b[0m\u001b[0;34m(\u001b[0m\u001b[0mnMinusK\u001b[0m\u001b[0;34m)\u001b[0m\u001b[0;34m\u001b[0m\u001b[0;34m\u001b[0m\u001b[0m\n",
      "\u001b[0;31mValueError\u001b[0m: factorial() not defined for negative values"
     ]
    }
   ],
   "source": []
  },
  {
   "cell_type": "code",
   "execution_count": null,
   "id": "rubber-oxford",
   "metadata": {},
   "outputs": [],
   "source": []
  },
  {
   "cell_type": "code",
   "execution_count": null,
   "id": "suspended-supplier",
   "metadata": {},
   "outputs": [],
   "source": []
  },
  {
   "cell_type": "code",
   "execution_count": null,
   "id": "bound-burning",
   "metadata": {},
   "outputs": [],
   "source": []
  }
 ],
 "metadata": {
  "kernelspec": {
   "display_name": "Python 3",
   "language": "python",
   "name": "python3"
  },
  "language_info": {
   "codemirror_mode": {
    "name": "ipython",
    "version": 3
   },
   "file_extension": ".py",
   "mimetype": "text/x-python",
   "name": "python",
   "nbconvert_exporter": "python",
   "pygments_lexer": "ipython3",
   "version": "3.7.3"
  }
 },
 "nbformat": 4,
 "nbformat_minor": 5
}
