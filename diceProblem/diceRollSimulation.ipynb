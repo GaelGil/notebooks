{
 "cells": [
  {
   "cell_type": "code",
   "execution_count": 54,
   "id": "authorized-negative",
   "metadata": {},
   "outputs": [],
   "source": [
    "import random\n",
    "import numpy as np\n",
    "DICE = [1,2,3,4,5,6]\n",
    "COIN = [0,1]"
   ]
  },
  {
   "cell_type": "code",
   "execution_count": 55,
   "id": "mexican-capability",
   "metadata": {},
   "outputs": [],
   "source": [
    "def rollDiceThreeTimes():\n",
    "    \"\"\"\n",
    "    This function rollls a dice three times and adds up the\n",
    "    sum of those dice.\n",
    "    \"\"\"\n",
    "    numOne = random.choice(DICE)\n",
    "    numTwo = random.choice(DICE)\n",
    "    numThree = random.choice(DICE)\n",
    "    return 0"
   ]
  },
  {
   "cell_type": "code",
   "execution_count": 56,
   "id": "undefined-gates",
   "metadata": {},
   "outputs": [],
   "source": [
    "def rollOneDice():\n",
    "    \"\"\"\n",
    "    This function rolls a dice once and retuns the number\n",
    "    \"\"\"\n",
    "    num =  random.choice(DICE)\n",
    "    return num"
   ]
  },
  {
   "cell_type": "code",
   "execution_count": 57,
   "id": "opposite-northeast",
   "metadata": {},
   "outputs": [],
   "source": [
    "def rollDice():\n",
    "    \"\"\"\n",
    "    This function rolls a dice once and retuns the number\n",
    "    \"\"\"\n",
    "    numOne =  random.choice(DICE)\n",
    "    numTwo = random.choice(DICE)\n",
    "    return numOne, numTwo"
   ]
  },
  {
   "cell_type": "code",
   "execution_count": 58,
   "id": "classified-piano",
   "metadata": {},
   "outputs": [],
   "source": [
    "def probability_of_sum(n, k, bootstrap=10000):\n",
    "    \"\"\"\n",
    "    This function returns the probability of getting a sum greater than\n",
    "    or equal to k given n dice rolls. This function uses \"bootstrapping\"\n",
    "    (repeated random sampling) to get an approximate answer. The higher\n",
    "    the bootstrap value, the more accurate the estimate will be.\n",
    "    \"\"\"\n",
    "    results = []\n",
    "    for i in range(n):\n",
    "        total = 0\n",
    "        numOne, numTwo = rollDice()\n",
    "        total += numOne\n",
    "        total += numTwo\n",
    "        results.append(total)\n",
    "        \n",
    "    kOrAbove = [i for i in results if i >= k]\n",
    "\n",
    "\n",
    "    return (len(kOrAbove)/n)"
   ]
  },
  {
   "cell_type": "code",
   "execution_count": 59,
   "id": "entire-biotechnology",
   "metadata": {},
   "outputs": [],
   "source": [
    "def flipCoin():\n",
    "    return random.choice(COIN)"
   ]
  },
  {
   "cell_type": "code",
   "execution_count": 60,
   "id": "accessory-breath",
   "metadata": {},
   "outputs": [],
   "source": [
    "def binomial_probability(n, k, p):\n",
    "    \"\"\"\n",
    "    This function returns the probability of getting k \"successes\" in\n",
    "    n trials, where the probability of a success in each trial is equal\n",
    "    to p.\n",
    "    For instance, the probability of getting two Heads (successes) in\n",
    "    two fair coin flips (fair means the probability of success = 0.5)\n",
    "    is 0.25, because you can get two heads (HH) with probability:\n",
    "    0.5 * 0.5 = 0.25. You can also think about the total sample space:\n",
    "    {HH, HT, TH, TT} and the \"probability mass function\" that assigns\n",
    "    each of these possible outcomes with a probability:\n",
    "    {HH: 0.25, HT: 0.25, TH: 0.25, TT: 0.25}. In this simple case, the\n",
    "    probabilities are all the same (0.25) so we call the function that\n",
    "    generates these probabilities \"uniform\" - a binomial function is\n",
    "    different. Also, notice that the probability of getting exactly one\n",
    "    head is p(HT) + p(TH) = 0.25 + 0.25 = 0.5.\n",
    "    \"\"\"\n",
    "\n",
    "    nFactorial = np.math.factorial(n)\n",
    "    \n",
    "    kFactorial = np.math.factorial(k)\n",
    "    \n",
    "    nMinusK = np.math.factorial(n-k)\n",
    "    \n",
    "    denominator = kFactorial*(nMinusK)\n",
    "    \n",
    "    nChooseK = ((nFactorial)/denominator)\n",
    "\n",
    "    theEquation = (p**k*(1-p)**(n-k))\n",
    "    \n",
    "    \n",
    "    return (nChooseK*theEquation)"
   ]
  },
  {
   "cell_type": "code",
   "execution_count": 61,
   "id": "technological-minnesota",
   "metadata": {},
   "outputs": [
    {
     "data": {
      "text/plain": [
       "0.15625"
      ]
     },
     "execution_count": 61,
     "metadata": {},
     "output_type": "execute_result"
    }
   ],
   "source": [
    "binomial_probability(5, 1, 0.5)"
   ]
  },
  {
   "cell_type": "code",
   "execution_count": 62,
   "id": "labeled-snapshot",
   "metadata": {},
   "outputs": [
    {
     "data": {
      "text/plain": [
       "0.3125"
      ]
     },
     "execution_count": 62,
     "metadata": {},
     "output_type": "execute_result"
    }
   ],
   "source": [
    "binomial_probability(5, 2, 0.5)"
   ]
  },
  {
   "cell_type": "code",
   "execution_count": 63,
   "id": "aerial-portland",
   "metadata": {},
   "outputs": [
    {
     "data": {
      "text/plain": [
       "0.3125"
      ]
     },
     "execution_count": 63,
     "metadata": {},
     "output_type": "execute_result"
    }
   ],
   "source": [
    "binomial_probability(5, 3, 0.5)"
   ]
  },
  {
   "cell_type": "code",
   "execution_count": 64,
   "id": "sweet-cutting",
   "metadata": {},
   "outputs": [
    {
     "data": {
      "text/plain": [
       "0.15625"
      ]
     },
     "execution_count": 64,
     "metadata": {},
     "output_type": "execute_result"
    }
   ],
   "source": [
    "binomial_probability(5, 4, 0.5)"
   ]
  }
 ],
 "metadata": {
  "kernelspec": {
   "display_name": "Python 3",
   "language": "python",
   "name": "python3"
  },
  "language_info": {
   "codemirror_mode": {
    "name": "ipython",
    "version": 3
   },
   "file_extension": ".py",
   "mimetype": "text/x-python",
   "name": "python",
   "nbconvert_exporter": "python",
   "pygments_lexer": "ipython3",
   "version": "3.7.3"
  }
 },
 "nbformat": 4,
 "nbformat_minor": 5
}
