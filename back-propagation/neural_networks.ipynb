{
 "cells": [
  {
   "cell_type": "markdown",
   "id": "274261cc-ff9f-4d9b-9f72-81ef0e65b5d7",
   "metadata": {},
   "source": [
    "# Project Description\n",
    "In this notebook I will go over some of the basics of a fully connect feed forward neural network. I will mainly focus on their applications, how neural networks are formed, trained, and the math. To demonstrate this I will create my own neural network from scratch using `numpy` (a python library). \n",
    "\n",
    "First lets go over what data we are going to be using and what exactly we are trying to do. In this notebook I will use the use the [iris dataset](https://archive.ics.uci.edu/ml/datasets/iris) as an example. In this dataset we are given five columns `sepal length (cm), sepal width (cm), petal length (cm), petal width (cm)` and `class`. The first four are all size measurements of a flowers sepal and petal. The `class` (label) column is used to represent if a flower is one of these three flowers `Iris-versicolor, Iris-setosa, Iris-virginica`. So now what we will attempt to do is classify each of these flowers given these measurements.\n",
    "\n",
    "Now that we know what this notebook is going go over I have to mention some things that will be helpful to know before reading. This notebook goes into the math of neural networks. Some math knowledge of matrix multiplication and multivariable calculus will be useful. We will be doing all the math with numpy so python is important as well. "
   ]
  },
  {
   "cell_type": "code",
   "execution_count": 1,
   "id": "26541d35-ee3e-404c-8101-42409b2771bd",
   "metadata": {},
   "outputs": [],
   "source": [
    "import numpy as np\n",
    "import pandas as pd\n",
    "import random\n",
    "import matplotlib.pyplot as plt"
   ]
  },
  {
   "cell_type": "markdown",
   "id": "08e0d811-41c6-4de2-b752-98f50ab9484d",
   "metadata": {},
   "source": [
    "# The Data"
   ]
  },
  {
   "cell_type": "code",
   "execution_count": 2,
   "id": "84ef9278-e2e4-4b07-bce1-aac11da8e314",
   "metadata": {},
   "outputs": [],
   "source": [
    "data_folder = 'data'\n",
    "X_train = pd.read_csv(f'./{data_folder}/X_train.csv')\n",
    "y_train = pd.read_csv(f'./{data_folder}/y_train.csv')\n",
    "X_test = pd.read_csv(f'./{data_folder}/X_test.csv')\n",
    "y_test = pd.read_csv(f'./{data_folder}/y_test.csv')\n",
    "train_data = pd.concat([X_train, pd.get_dummies(y_train['class'])], axis=1)\n",
    "test_data = pd.concat([X_test, pd.get_dummies(y_test['class'])], axis=1)"
   ]
  },
  {
   "cell_type": "markdown",
   "id": "54daff26-8c49-4228-98d4-052d8fd10bdb",
   "metadata": {},
   "source": [
    "Taking a look at our data we can see that there are multiple variables. As I mentioned these variables are all size measurements of a flowers sepal and petal in cm."
   ]
  },
  {
   "cell_type": "code",
   "execution_count": 3,
   "id": "7382ffc7-d7cf-4b20-92f9-04b7452715eb",
   "metadata": {},
   "outputs": [
    {
     "data": {
      "text/html": [
       "<div>\n",
       "<style scoped>\n",
       "    .dataframe tbody tr th:only-of-type {\n",
       "        vertical-align: middle;\n",
       "    }\n",
       "\n",
       "    .dataframe tbody tr th {\n",
       "        vertical-align: top;\n",
       "    }\n",
       "\n",
       "    .dataframe thead th {\n",
       "        text-align: right;\n",
       "    }\n",
       "</style>\n",
       "<table border=\"1\" class=\"dataframe\">\n",
       "  <thead>\n",
       "    <tr style=\"text-align: right;\">\n",
       "      <th></th>\n",
       "      <th>sepal length (cm)</th>\n",
       "      <th>sepal width (cm)</th>\n",
       "      <th>petal length (cm)</th>\n",
       "      <th>petal width (cm)</th>\n",
       "      <th>Iris-setosa</th>\n",
       "      <th>Iris-versicolor</th>\n",
       "      <th>Iris-virginica</th>\n",
       "    </tr>\n",
       "  </thead>\n",
       "  <tbody>\n",
       "    <tr>\n",
       "      <th>0</th>\n",
       "      <td>5.5</td>\n",
       "      <td>2.4</td>\n",
       "      <td>3.7</td>\n",
       "      <td>1.0</td>\n",
       "      <td>0</td>\n",
       "      <td>1</td>\n",
       "      <td>0</td>\n",
       "    </tr>\n",
       "    <tr>\n",
       "      <th>1</th>\n",
       "      <td>4.8</td>\n",
       "      <td>3.0</td>\n",
       "      <td>1.4</td>\n",
       "      <td>0.1</td>\n",
       "      <td>1</td>\n",
       "      <td>0</td>\n",
       "      <td>0</td>\n",
       "    </tr>\n",
       "    <tr>\n",
       "      <th>2</th>\n",
       "      <td>5.5</td>\n",
       "      <td>2.6</td>\n",
       "      <td>4.4</td>\n",
       "      <td>1.2</td>\n",
       "      <td>0</td>\n",
       "      <td>1</td>\n",
       "      <td>0</td>\n",
       "    </tr>\n",
       "    <tr>\n",
       "      <th>3</th>\n",
       "      <td>5.0</td>\n",
       "      <td>3.2</td>\n",
       "      <td>1.2</td>\n",
       "      <td>0.2</td>\n",
       "      <td>1</td>\n",
       "      <td>0</td>\n",
       "      <td>0</td>\n",
       "    </tr>\n",
       "    <tr>\n",
       "      <th>4</th>\n",
       "      <td>6.9</td>\n",
       "      <td>3.1</td>\n",
       "      <td>5.1</td>\n",
       "      <td>2.3</td>\n",
       "      <td>0</td>\n",
       "      <td>0</td>\n",
       "      <td>1</td>\n",
       "    </tr>\n",
       "    <tr>\n",
       "      <th>...</th>\n",
       "      <td>...</td>\n",
       "      <td>...</td>\n",
       "      <td>...</td>\n",
       "      <td>...</td>\n",
       "      <td>...</td>\n",
       "      <td>...</td>\n",
       "      <td>...</td>\n",
       "    </tr>\n",
       "    <tr>\n",
       "      <th>107</th>\n",
       "      <td>6.3</td>\n",
       "      <td>2.7</td>\n",
       "      <td>4.9</td>\n",
       "      <td>1.8</td>\n",
       "      <td>0</td>\n",
       "      <td>0</td>\n",
       "      <td>1</td>\n",
       "    </tr>\n",
       "    <tr>\n",
       "      <th>108</th>\n",
       "      <td>7.2</td>\n",
       "      <td>3.0</td>\n",
       "      <td>5.8</td>\n",
       "      <td>1.6</td>\n",
       "      <td>0</td>\n",
       "      <td>0</td>\n",
       "      <td>1</td>\n",
       "    </tr>\n",
       "    <tr>\n",
       "      <th>109</th>\n",
       "      <td>5.8</td>\n",
       "      <td>4.0</td>\n",
       "      <td>1.2</td>\n",
       "      <td>0.2</td>\n",
       "      <td>1</td>\n",
       "      <td>0</td>\n",
       "      <td>0</td>\n",
       "    </tr>\n",
       "    <tr>\n",
       "      <th>110</th>\n",
       "      <td>5.2</td>\n",
       "      <td>3.4</td>\n",
       "      <td>1.4</td>\n",
       "      <td>0.2</td>\n",
       "      <td>1</td>\n",
       "      <td>0</td>\n",
       "      <td>0</td>\n",
       "    </tr>\n",
       "    <tr>\n",
       "      <th>111</th>\n",
       "      <td>7.2</td>\n",
       "      <td>3.2</td>\n",
       "      <td>6.0</td>\n",
       "      <td>1.8</td>\n",
       "      <td>0</td>\n",
       "      <td>0</td>\n",
       "      <td>1</td>\n",
       "    </tr>\n",
       "  </tbody>\n",
       "</table>\n",
       "<p>112 rows × 7 columns</p>\n",
       "</div>"
      ],
      "text/plain": [
       "     sepal length (cm)  sepal width (cm)  petal length (cm)  petal width (cm)  \\\n",
       "0                  5.5               2.4                3.7               1.0   \n",
       "1                  4.8               3.0                1.4               0.1   \n",
       "2                  5.5               2.6                4.4               1.2   \n",
       "3                  5.0               3.2                1.2               0.2   \n",
       "4                  6.9               3.1                5.1               2.3   \n",
       "..                 ...               ...                ...               ...   \n",
       "107                6.3               2.7                4.9               1.8   \n",
       "108                7.2               3.0                5.8               1.6   \n",
       "109                5.8               4.0                1.2               0.2   \n",
       "110                5.2               3.4                1.4               0.2   \n",
       "111                7.2               3.2                6.0               1.8   \n",
       "\n",
       "     Iris-setosa  Iris-versicolor  Iris-virginica  \n",
       "0              0                1               0  \n",
       "1              1                0               0  \n",
       "2              0                1               0  \n",
       "3              1                0               0  \n",
       "4              0                0               1  \n",
       "..           ...              ...             ...  \n",
       "107            0                0               1  \n",
       "108            0                0               1  \n",
       "109            1                0               0  \n",
       "110            1                0               0  \n",
       "111            0                0               1  \n",
       "\n",
       "[112 rows x 7 columns]"
      ]
     },
     "execution_count": 3,
     "metadata": {},
     "output_type": "execute_result"
    }
   ],
   "source": [
    "train_data"
   ]
  },
  {
   "cell_type": "markdown",
   "id": "8716d82a-6dfd-4f84-a542-72b169d77c84",
   "metadata": {},
   "source": [
    "<!-- Neural networks are very powerful tools that can help us solve problems with data that is non linear. For example if we have some data that is linear seperable we can easily draw a line to seperate and classify whatever it is we are trying to classify. But if we have some non linear data we can't do that. This is where neural networks come in. \n",
    "To further drive the point that simple logistic regression will not work we will graph the data to see what it looks like.  -->"
   ]
  },
  {
   "cell_type": "code",
   "execution_count": 13,
   "id": "432fa657-08a4-46bb-9036-8ee74a8cae1d",
   "metadata": {},
   "outputs": [],
   "source": [
    "# split the data by its label so we can graph it\n",
    "setosa = train_data.loc[train_data['Iris-setosa'] == 1] \n",
    "versicolor = train_data.loc[train_data['Iris-versicolor'] == 1]\n",
    "virginica = train_data.loc[train_data['Iris-virginica'] == 1]"
   ]
  },
  {
   "cell_type": "markdown",
   "id": "19b4c958-fbaa-4292-8963-706d796f37e3",
   "metadata": {},
   "source": [
    "# TODO: finish explaining the grpah\n",
    "Below is a graph of what our data looks like. "
   ]
  },
  {
   "cell_type": "code",
   "execution_count": 15,
   "id": "7a0d338f-e4ef-4496-9189-bccfae3738f6",
   "metadata": {},
   "outputs": [
    {
     "data": {
      "image/png": "[encoded data removed]",
      "text/plain": [
       "<Figure size 432x288 with 1 Axes>"
      ]
     },
     "metadata": {
      "needs_background": "light"
     },
     "output_type": "display_data"
    }
   ],
   "source": [
    "plt.scatter(setosa['sepal length (cm)'], setosa['sepal width (cm)'], color='b', label='setosa')\n",
    "plt.scatter(versicolor['sepal length (cm)'], versicolor['sepal width (cm)'], color='r', label='versicolor')\n",
    "plt.scatter(virginica['sepal length (cm)'], virginica['sepal width (cm)'], color='g', label='virginica')\n",
    "plt.legend(loc ='lower right')\n",
    "plt.xlabel('sepal length cm')\n",
    "plt.ylabel('sepal width cm')\n",
    "plt.legend(loc=\"lower right\")\n",
    "plt.show()"
   ]
  },
  {
   "cell_type": "markdown",
   "id": "7e4f5d89-6b8e-4e88-a91d-bf30d8079819",
   "metadata": {},
   "source": [
    "Now that we have taken a look at our data we can get into creating a neural network."
   ]
  },
  {
   "cell_type": "markdown",
   "id": "9e6254fd-8c7c-48cf-8d3d-302e3e0a5049",
   "metadata": {},
   "source": [
    "# Neural Network Anatomy\n",
    "A neural network is formed by an input layer, some number of hidden layers, and an ouput layer. All of these layers contain some number of neurons. The input layer has as many neurons as it does inputs. For example in our network our input layer will have four neurons for `sepal length (cm), sepal width (cm), petal length (cm), petal width (cm)`. Simiarly our output layer has as many neurons as it does classes. For example we have the three classes `Iris-versicolor, Iris-setosa, Iris-virginica` so we will have three output neurons. As I mentioned we can have as many hidden layers as we want. Within the hidden layers we can have as many neurons as we choose as well. To demonstrate what a nerual network looks like below is an image of the neural network that is made later in this notebook.\n",
    "# TODO add image of the neural network we are building\n",
    "\n",
    "The lines connecting the input layer to the first hidden layers are called weights same for the first hidden layer to the second hidden layers. These weights are what we will later be adjusting using back propogation.\n",
    "\n",
    "The idea of the nueral network is that we have some inputs and we want to pass them forward to through the network (from the input to hidden layers and to the output). The"
   ]
  },
  {
   "cell_type": "markdown",
   "id": "4cc3cad9-74c3-495f-ba16-e363c8bd3eb6",
   "metadata": {},
   "source": [
    "# The Math (Feeding Forward)\n",
    "To feed forward an input from the input layer to the first hidden layer we will multiply all inputs $\\vec{x}$ by all the weights connecting the input layer to h1 $W_1$ and add some bias $b_1$. Doing all that will give us $h_1$. We then apply some non linearity function to that and that will be our activations. In this case we are using relu. This looks like this: \n",
    "$$ \\vec{z_1} = relu(\\vec{h_1})$$\n",
    "$$ \\vec{h_1} = W_1 * \\vec{x} + \\vec{b_1} $$\n",
    "$$ \\vec{z_1} = relu(W_1 * \\vec{x} + \\vec{b_1})$$\n",
    "\n",
    "Now we just continue this unitl we get to the output layer. So to keep forwarding this input we would now do this: \n",
    "\n",
    "$$ \\vec{z_2} = \\vec{h_2}$$\n",
    "$$ \\vec{h_2} = W_2 * \\vec{z_1} + \\vec{b_2} $$\n",
    "$$ \\vec{z_2} = W_2 * \\vec{z_1} + \\vec{b_2}$$\n",
    "\n",
    "And lastly our ouput will simply just be:\n",
    "$$ \\hat{y} = softmax(\\vec{z_2}) $$ \n",
    "# TODO add transition from here to next paragraph"
   ]
  },
  {
   "cell_type": "markdown",
   "id": "20b9b866-5c46-44a6-a4ec-e0eee916eed6",
   "metadata": {},
   "source": [
    "# Back Propogation\n",
    "As I mentioned neural networks contain weights and biases. We can manually adjust them or set them to random variables to see which values give us the best result. This of course is not a good proccess seeing how our network has so many weights and biases. What we want to do instead is learn the values to our weights and biases that will minimise our loss. We can do this with calculus. We can do this by taking the negative gradient of our cost function ($ C = (\\hat{y}-y)^2$). The gradient gives the direction of fastest assent. So if we take the negative gradient we will approach a place in which our loss is as close to 0 as possible.  Below I will explain the math that allows us to learn the values for our weights and biases. This will involved mutlivariable calculus."
   ]
  },
  {
   "cell_type": "markdown",
   "id": "e009751c-da39-4b67-b374-e781e654b98d",
   "metadata": {},
   "source": [
    "This is a basic example of what our network looks like. We have an input($X$), two hidden layers ($h_1,h_2$) and two weights ($W_1,W_2$). \n",
    "$$ X ---W_1---> h_1 ---W_2---> h_2$$\n",
    "\n",
    "To calculate the error that our network produces we use the cost function $ C = (\\hat{y} - y)^2 $\n",
    "where $ \\hat{y} $ is the output vector/activations and $ y $ is the label as a vector. An example of what these look like is $ \\hat{y} = \\begin{bmatrix}\n",
    "0.8 \\\\\n",
    "0.1 \\\\\n",
    "0.1 \n",
    "\\end{bmatrix} $ and $ \\hat{y} = \\begin{bmatrix}\n",
    "1 \\\\\n",
    "0 \\\\\n",
    "0\n",
    "\\end{bmatrix} $\n",
    "\n",
    "As I mentioned our output is $\\hat{y}$ which is given by the follwing function $\\hat{y} = softmax(h_2)$. The activations $h_2$ are passed trough the softmax function. \n",
    "\n",
    "$$ \\hat{y} = softmax( W_2 * \\vec{h_1} + \\vec{b_2} ) $$\n",
    "\n",
    "As we saw above to feed forward and input we use a series of functions. For example to get the first hidden layers activations we do this $ \\vec{z_1} = relu(W_1 * \\vec{x} + \\vec{b_1})$. What we want to do now is see how much each weight and bias is affecting our cost. In other words whats the derivative of the cost function $C$ with respect to $W_1$. \n",
    "\n",
    "In the example below we will take the derivative of our cost function with respect to the second weights ($W_2$).\n",
    "$$ C = (\\hat{y}-y)^2  \\hspace{10mm} \\frac{\\partial C}  {\\partial \\hat{y}} = 2(\\hat{y} - y)$$\n",
    "\n",
    "$$ z^\\hat{y} = W_2 * \\vec{z_1} + \\vec{b_2}  \\hspace{10mm}  \\frac{\\partial z^\\hat{y}}{\\partial W_2} = \\vec{z_1}$$\n",
    "\n",
    "$$ \\frac{\\partial C}{\\partial W_2} = \\frac{\\partial C}{\\partial \\hat{y}} \\frac{\\partial z^\\hat{y}}{\\partial W_2} = 2(\\hat{y} - y) * \\vec{h_1} $$\n",
    "\n",
    "This will tell us by how much we should change the weights in $W_2$ Now we just continue this proccess until we reach the input layer. But first we need to calculate the error produced by the activations in the first hidden layer $\\frac{\\partial C}{\\partial h_1}$.\n",
    "\n",
    "$$ C = (\\hat{y}-y)^2  \\hspace{10mm} \\frac{\\partial C}  {\\partial \\hat{y}} = 2(\\hat{y} - y)$$\n",
    "$$ \\hat{y} = h_2  \\hspace{10mm} \\frac{\\partial \\hat{y}}  {\\partial h_2}$$\n",
    "$$ h_2 = W_2 *z_1 + b_1 \\hspace{10mm} \\frac{\\partial h_2}  {\\partial z_1} = W_2$$\n",
    "$$ z_1 = relu(h_1) \\hspace{10mm} \\frac{\\partial z_1}  {\\partial h_1} = relu`(h_1)$$\n",
    "\n",
    "\n",
    "\n",
    "$$ \\frac{\\partial C}{\\partial h_1} = \\frac{\\partial C}  {\\partial \\hat{y}} \\frac{\\partial \\hat{y}}  {\\partial h_2} \\frac{\\partial h_2}  {\\partial z_1} \\frac{\\partial z_1}  {\\partial h_1} = 2(\\hat{y} - y) *  W_2 * relu`(h_1)$$\n",
    "\n",
    "$$ 2(\\hat{y} - y) *  W_2 * relu`(h_1) $$ This will tell us the error in the first hidden layer. Now we can continue our back propogation. Our next derivative to get is going to be $\\frac{\\partial h_1}{\\partial W_1}$. This will tell use how to change the weights in $W_1$. Because we have calculated all of our chain rule deriatives all that is left is just now.\n",
    "\n",
    "$$ h_1 = \\vec{x}*W_1+b_1 \\hspace{10mm} \\frac{\\partial h_1}  {\\partial W_1} = \\vec{x}$$\n",
    "\n",
    "$$ \\frac{\\partial C}  {\\partial h_1} \\frac{\\partial h_1}  {\\partial W_1}  = \\vec{x}\\frac{\\partial C}  {\\partial h_1} $$\n",
    "\n"
   ]
  },
  {
   "cell_type": "markdown",
   "id": "465205f8-0be9-4c4e-b096-11d97e29aae9",
   "metadata": {},
   "source": [
    "Now that we have talked about how a neural network feeds forward an input to get and output. And that we have went over how we can learn the values of the weights and biases of our neural network, it is time to build one. Below is the code to a neural network class which we will train to classify dataset. The network below has an input layer of four nerons for our for inputs, 2 hidden layers one of two neurons and one of 3 output neurons. I will go over how a neural network is trained below as well but as mentioned it involves the calculus that is explained above."
   ]
  },
  {
   "cell_type": "markdown",
   "id": "a6e80ed6-9b67-4a33-baff-322cc4200ab2",
   "metadata": {},
   "source": [
    "# Creating the Network\n",
    "Below is the code for a neural network. As explained earlier our network will have a input layer, two hidden layers, and two weights. It has a function to feed forward an input and also to perform back propagation. Lastly it also has a function to train"
   ]
  },
  {
   "cell_type": "code",
   "execution_count": 5,
   "id": "ed078904-669e-48d0-a372-ae6da15c247e",
   "metadata": {},
   "outputs": [],
   "source": [
    "class Network:\n",
    "    def __init__(self):\n",
    "        # layers/activations\n",
    "        self.input = np.random.rand(4, 1)\n",
    "        self.h1 = np.random.rand(2, 1)\n",
    "        self.h2 = np.random.rand(3, 1)\n",
    "        \n",
    "        # weights \n",
    "        self.w_1 = np.random.rand(2, 4)\n",
    "        self.w_2 = np.random.rand(3, 2)\n",
    "        \n",
    "        # biases \n",
    "        self.b_1 = np.random.rand(2, 1)\n",
    "        self.b_2 = np.random.rand(3, 1)\n",
    "\n",
    "    def relu(self,activations):\n",
    "        return np.maximum(0, activations)\n",
    "\n",
    "    def relu_deriv(self, activations):\n",
    "        return activations > 0\n",
    "\n",
    "    def softmax(self, activations):\n",
    "        return np.exp(activations) / np.sum(np.exp(activations))\n",
    "    \n",
    "    def feed_forward(self, X):\n",
    "        # input\n",
    "        # reshapre the input into vector form.\n",
    "        # Example [1, 0, 0] -> [[1], [1], [1]]\n",
    "        self.input = np.reshape(X, (-1,1))\n",
    "        \n",
    "        # input -> h1\n",
    "        # the activations in the first hidden layer are given by the dot product \n",
    "        # of the weights by the input plus some biass its all then passed into\n",
    "        # our activation function. relu(W_1*x+b_1)\n",
    "        h1_activations = self.relu(np.dot(self.w_1, self.input) + self.b_1)\n",
    "        self.h1 = h1_activations\n",
    "\n",
    "        # h1 -> h2\n",
    "        # the activations in the seocnd hidden layer (h_2) are given by the dot product \n",
    "        # of the second weights (w_2) by the previous activations (h1) plus the bias(b_2).\n",
    "        # W_2*h1+b_2\n",
    "        h2_activations = (np.dot(self.w_2, h1_activations) + self.b_2)\n",
    "        self.h2 = h2_activations \n",
    "\n",
    "        # h2 -> output \n",
    "        # our output activtions/predictions are given by the second layer activations (h_2)\n",
    "        # put into the softmax function. \n",
    "        output = self.softmax(self.h2)\n",
    "        \n",
    "        return (output, max(output))\n",
    "    \n",
    "    def back_prop(self, output, y, learning_rate=0.01):\n",
    "        y = np.reshape(y, (-1,1))\n",
    "        \n",
    "        output_error = (2 * (output - y))\n",
    "        \n",
    "        dw_2 = -learning_rate * output_error.dot(self.h1.T)\n",
    "        b_2 = -learning_rate * output_error\n",
    "\n",
    "        h1_error = self.w_2.T.dot(output_error) * self.relu_deriv(self.h1)\n",
    "        dw_1 = -learning_rate * h1_error.dot(self.input.T)\n",
    "        b_1 = -learning_rate * h1_error\n",
    "        \n",
    "        # update all the weights\n",
    "        self.w_1 +=  dw_1\n",
    "        self.w_2 +=  dw_2\n",
    "        \n",
    "        # update all the biases\n",
    "        self.b_1 += b_1\n",
    "        self.b_2 += b_2\n",
    "        return 0\n",
    "       \n",
    "    def accuracy_and_cost(self, data):\n",
    "        total_correct = 0\n",
    "        cost = 0\n",
    "        for index, row in data.iterrows():\n",
    "            # Our input value is the first four colmuns in our dataset.\n",
    "            # Since each row is turned into a list here we select the\n",
    "            # first four elements in the list whihch will be our intput.\n",
    "            X = row.tolist()[:4] \n",
    "            # Our output value is the last three colmuns in our dataset.\n",
    "            # To select it we select the last three elemets in the list\n",
    "            # that will be our output.\n",
    "            y = row.tolist()[4:]\n",
    "            output, predicted = self.feed_forward(X)\n",
    "            # get the index of the label (ie index = 2 [0, 0, 1])\n",
    "            label_index = y.index(max(y))\n",
    "            # check if the index of the label is the same as our\n",
    "            # index as the max value in our output vector\n",
    "            predicted_index = np.where(output==predicted)[0][0]\n",
    "            # if they are the same index increase the correct counter\n",
    "            if label_index == predicted_index:\n",
    "                total_correct += 1\n",
    "            cost += (1-predicted)**2\n",
    "        return total_correct/data.shape[0], cost\n",
    "    \n",
    "    def train(self, data, iterations):\n",
    "        for i in range(iterations):\n",
    "            for index, row in data.iterrows():\n",
    "                # Our input value is the first four colmuns in our dataset.\n",
    "                # Since each row is turned into a list here we select the\n",
    "                # first four elements in the list whihch will be our intput.\n",
    "                X = row.tolist()[:4] \n",
    "                # Our output value is the last three colmuns in our dataset.\n",
    "                # To select it we select the last three elemets in the list\n",
    "                # that will be our output.\n",
    "                y = row.tolist()[4:]\n",
    "                output, predicted = self.feed_forward(X)\n",
    "                self.back_prop(output, y)\n",
    "        cost, training_accuracy = self.accuracy_and_cost(data)\n",
    "        return training_accuracy, cost\n",
    "    \n",
    "    def get_loss(self, X, y):\n",
    "        output, predicted = self.feed_forward(X)\n",
    "        return (1-predicted)"
   ]
  },
  {
   "cell_type": "markdown",
   "id": "f39db34c-512b-4caa-aeed-2cebe509dc2d",
   "metadata": {},
   "source": [
    "# Using the Network\n",
    "# TODO: explain what we are going to do ie. find how many iterations are best for this."
   ]
  },
  {
   "cell_type": "code",
   "execution_count": 6,
   "id": "08957323-14f7-4c32-92c8-4567b14267a9",
   "metadata": {},
   "outputs": [],
   "source": [
    "iterations = [1, 5, 10, 50, 100, 500, 1000, 1500, 2000, 2500, 3000, 3500, 4000]"
   ]
  },
  {
   "cell_type": "code",
   "execution_count": 7,
   "id": "a227d2cc-1c5a-4dd0-b85d-09f1ef028ad4",
   "metadata": {},
   "outputs": [],
   "source": [
    "def neural_network_info(iterations, train_data, test_data):\n",
    "    \"\"\"\n",
    "    This function will return data to graph how our neural network\n",
    "    changes as we increas the iterations. \n",
    "    \"\"\"\n",
    "    for i in range(iterations):\n",
    "        for index, row in train_data.iterrows():\n",
    "            # Our input value is the first four colmuns in our dataset.\n",
    "            # Since each row is turned into a list here we select the\n",
    "            # first four elements in the list whihch will be our intput.\n",
    "            X = row.tolist()[:4] \n",
    "            # Our output value is the last three colmuns in our dataset.\n",
    "            # To select it we select the last three elemets in the list\n",
    "            # that will be our output.\n",
    "            y = row.tolist()[4:]\n",
    "            output, predicted = self.feed_forward(X)\n",
    "            self.back_prop(output, y) \n",
    "    \n",
    "    \n",
    "    return trainin_data"
   ]
  },
  {
   "cell_type": "code",
   "execution_count": 8,
   "id": "799fcd8e-967f-498f-9721-16a0de7fe53a",
   "metadata": {},
   "outputs": [
    {
     "name": "stderr",
     "output_type": "stream",
     "text": [
      "/Users/gael/git-repos/notebooks/back-propagation/env/lib/python3.8/site-packages/pandas/core/dtypes/cast.py:881: VisibleDeprecationWarning: Creating an ndarray from ragged nested sequences (which is a list-or-tuple of lists-or-tuples-or ndarrays with different lengths or shapes) is deprecated. If you meant to do this, you must specify 'dtype=object' when creating the ndarray.\n",
      "  element = np.asarray(element)\n"
     ]
    }
   ],
   "source": [
    "df = neural_network_info(iterations, train_data, test_data)"
   ]
  },
  {
   "cell_type": "code",
   "execution_count": 9,
   "id": "d8816335-fb9e-4151-b25b-4f21108c9315",
   "metadata": {},
   "outputs": [
    {
     "data": {
      "text/html": [
       "<div>\n",
       "<style scoped>\n",
       "    .dataframe tbody tr th:only-of-type {\n",
       "        vertical-align: middle;\n",
       "    }\n",
       "\n",
       "    .dataframe tbody tr th {\n",
       "        vertical-align: top;\n",
       "    }\n",
       "\n",
       "    .dataframe thead th {\n",
       "        text-align: right;\n",
       "    }\n",
       "</style>\n",
       "<table border=\"1\" class=\"dataframe\">\n",
       "  <thead>\n",
       "    <tr style=\"text-align: right;\">\n",
       "      <th></th>\n",
       "      <th>iteration</th>\n",
       "      <th>training_cost</th>\n",
       "      <th>test_cost</th>\n",
       "    </tr>\n",
       "  </thead>\n",
       "  <tbody>\n",
       "    <tr>\n",
       "      <th>1</th>\n",
       "      <td>1</td>\n",
       "      <td>[23.951257182124372]</td>\n",
       "      <td>0.578947</td>\n",
       "    </tr>\n",
       "    <tr>\n",
       "      <th>5</th>\n",
       "      <td>5</td>\n",
       "      <td>[4.301418591385835]</td>\n",
       "      <td>0.631579</td>\n",
       "    </tr>\n",
       "    <tr>\n",
       "      <th>10</th>\n",
       "      <td>10</td>\n",
       "      <td>[3.948168095758673]</td>\n",
       "      <td>0.763158</td>\n",
       "    </tr>\n",
       "    <tr>\n",
       "      <th>50</th>\n",
       "      <td>50</td>\n",
       "      <td>[1.7482728254647806]</td>\n",
       "      <td>0.921053</td>\n",
       "    </tr>\n",
       "    <tr>\n",
       "      <th>100</th>\n",
       "      <td>100</td>\n",
       "      <td>[0.7954001712006808]</td>\n",
       "      <td>0.921053</td>\n",
       "    </tr>\n",
       "    <tr>\n",
       "      <th>500</th>\n",
       "      <td>500</td>\n",
       "      <td>[0.19801931958053334]</td>\n",
       "      <td>0.947368</td>\n",
       "    </tr>\n",
       "    <tr>\n",
       "      <th>1000</th>\n",
       "      <td>1000</td>\n",
       "      <td>[0.21813801023669588]</td>\n",
       "      <td>0.947368</td>\n",
       "    </tr>\n",
       "    <tr>\n",
       "      <th>1500</th>\n",
       "      <td>1500</td>\n",
       "      <td>[0.28731250876520137]</td>\n",
       "      <td>0.947368</td>\n",
       "    </tr>\n",
       "    <tr>\n",
       "      <th>2000</th>\n",
       "      <td>2000</td>\n",
       "      <td>[0.39192679156973703]</td>\n",
       "      <td>0.947368</td>\n",
       "    </tr>\n",
       "    <tr>\n",
       "      <th>2500</th>\n",
       "      <td>2500</td>\n",
       "      <td>[0.46485728474530874]</td>\n",
       "      <td>0.947368</td>\n",
       "    </tr>\n",
       "    <tr>\n",
       "      <th>3000</th>\n",
       "      <td>3000</td>\n",
       "      <td>[0.4813988716138651]</td>\n",
       "      <td>1.000000</td>\n",
       "    </tr>\n",
       "    <tr>\n",
       "      <th>3500</th>\n",
       "      <td>3500</td>\n",
       "      <td>[0.5148288968966979]</td>\n",
       "      <td>1.000000</td>\n",
       "    </tr>\n",
       "    <tr>\n",
       "      <th>4000</th>\n",
       "      <td>4000</td>\n",
       "      <td>[0.283965511992251]</td>\n",
       "      <td>1.000000</td>\n",
       "    </tr>\n",
       "  </tbody>\n",
       "</table>\n",
       "</div>"
      ],
      "text/plain": [
       "     iteration          training_cost  test_cost\n",
       "1            1   [23.951257182124372]   0.578947\n",
       "5            5    [4.301418591385835]   0.631579\n",
       "10          10    [3.948168095758673]   0.763158\n",
       "50          50   [1.7482728254647806]   0.921053\n",
       "100        100   [0.7954001712006808]   0.921053\n",
       "500        500  [0.19801931958053334]   0.947368\n",
       "1000      1000  [0.21813801023669588]   0.947368\n",
       "1500      1500  [0.28731250876520137]   0.947368\n",
       "2000      2000  [0.39192679156973703]   0.947368\n",
       "2500      2500  [0.46485728474530874]   0.947368\n",
       "3000      3000   [0.4813988716138651]   1.000000\n",
       "3500      3500   [0.5148288968966979]   1.000000\n",
       "4000      4000    [0.283965511992251]   1.000000"
      ]
     },
     "execution_count": 9,
     "metadata": {},
     "output_type": "execute_result"
    }
   ],
   "source": [
    "df"
   ]
  },
  {
   "cell_type": "code",
   "execution_count": 19,
   "id": "df41cc7d-c16d-4cdc-8596-2594b5b51334",
   "metadata": {},
   "outputs": [
    {
     "data": {
      "image/png": "[encoded data removed]",
      "text/plain": [
       "<Figure size 432x288 with 1 Axes>"
      ]
     },
     "metadata": {
      "needs_background": "light"
     },
     "output_type": "display_data"
    }
   ],
   "source": [
    "# plt.scatter(df['iteration'], df['training_cost'], color='b', label='training cost')\n",
    "# # plt.scatter(df['iteration'], df['test_cost'], color='b', label='test cost')\n",
    "# plt.xlabel('iterations')\n",
    "# plt.ylabel('cost')\n",
    "# plt.legend(loc=\"lower right\")\n",
    "# plt.title(\"Accuracy by Iteration\")\n",
    "# plt.show()"
   ]
  },
  {
   "cell_type": "code",
   "execution_count": 11,
   "id": "2c71f4d5-4105-4313-a5fe-24ffdcee7e89",
   "metadata": {},
   "outputs": [],
   "source": []
  },
  {
   "cell_type": "code",
   "execution_count": 12,
   "id": "5d8cfead-051a-454b-8eca-77d714d7c5f2",
   "metadata": {},
   "outputs": [],
   "source": [
    "# nn = Network()"
   ]
  },
  {
   "cell_type": "code",
   "execution_count": 13,
   "id": "7cbc3e8c-79ed-4242-8d4d-8de4c7b0fc48",
   "metadata": {},
   "outputs": [],
   "source": [
    "# training_accuracy = nn.train(data, 100)"
   ]
  },
  {
   "cell_type": "code",
   "execution_count": 14,
   "id": "a260a947-45c6-4d63-a721-7783cb7908fb",
   "metadata": {},
   "outputs": [],
   "source": [
    "# print(f'Training Accuracy: {training_accuracy}')"
   ]
  },
  {
   "cell_type": "code",
   "execution_count": 15,
   "id": "992bdbbb-1015-41c2-8d54-44b18ea6ff02",
   "metadata": {},
   "outputs": [],
   "source": [
    "# print(f'Test Accuracy: {nn.get_accuracy(data)}')"
   ]
  },
  {
   "cell_type": "markdown",
   "id": "517d552b-eff8-4086-8b62-f2dd0e13a2c9",
   "metadata": {},
   "source": [
    "# Explaning Further Topics of Neural Networks  # TODO: finish this section\n",
    "- > dropput\n",
    "- > training methods"
   ]
  },
  {
   "cell_type": "code",
   "execution_count": null,
   "id": "3be6b1ef-9e75-4ae8-9f39-e0897a9a59b8",
   "metadata": {},
   "outputs": [],
   "source": []
  },
  {
   "cell_type": "markdown",
   "id": "c3055ed1-11ee-4427-8302-4d217bea94a6",
   "metadata": {},
   "source": [
    "# Conclusion"
   ]
  },
  {
   "cell_type": "code",
   "execution_count": null,
   "id": "c4576778-e372-4fba-8ee6-6a715519f2d0",
   "metadata": {},
   "outputs": [],
   "source": []
  }
 ],
 "metadata": {
  "kernelspec": {
   "display_name": "Python 3 (ipykernel)",
   "language": "python",
   "name": "python3"
  },
  "language_info": {
   "codemirror_mode": {
    "name": "ipython",
    "version": 3
   },
   "file_extension": ".py",
   "mimetype": "text/x-python",
   "name": "python",
   "nbconvert_exporter": "python",
   "pygments_lexer": "ipython3",
   "version": "3.8.9"
  }
 },
 "nbformat": 4,
 "nbformat_minor": 5
}
