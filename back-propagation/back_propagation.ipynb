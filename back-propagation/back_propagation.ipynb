{
 "cells": [
  {
   "cell_type": "markdown",
   "id": "274261cc-ff9f-4d9b-9f72-81ef0e65b5d7",
   "metadata": {},
   "source": [
    "# Project Description\n",
    "In this notebook I will go over some of the basics of a fully connect feed forward neural network. I will mainly focus on applyling one to a problem, how neural networks are formed, trained, and the math behind them. To demonstrate this I will create my own neural network from scratch using `numpy` (a python library). In this notebook I will be using the mnist dataset (imported from tensorflow). In this dataset we are given a image a number (0-9) and its label (what number it is). I will go into more detail about the data later in the notebook. What we will do in this noktebook is create a neural network that takes a image of a hand written digit and classifies that image correctly. \n",
    " \n",
    "Now that we know what this notebook is goint to cover I have to mention some things that will be helpful to know before reading. This notebook goes into the math of neural networks. Some math knowledge of matrix multiplication and multivariable calculus will be useful. We will be doing all the math with numpy so python is important as well. "
   ]
  },
  {
   "cell_type": "code",
   "execution_count": 1,
   "id": "26541d35-ee3e-404c-8101-42409b2771bd",
   "metadata": {},
   "outputs": [],
   "source": [
    "import random\n",
    "import numpy as np\n",
    "import pandas as pd\n",
    "import tensorflow as tf\n",
    "from tensorflow.keras import datasets\n",
    "from sklearn.model_selection import train_test_split\n",
    "import matplotlib.pyplot as plt\n",
    "import scipy"
   ]
  },
  {
   "cell_type": "markdown",
   "id": "08e0d811-41c6-4de2-b752-98f50ab9484d",
   "metadata": {},
   "source": [
    "# The Data\n",
    "As I mentioned the data is the mnist dataset that we imported from tesorflow. We are given an image of a hand written digit (0-9) and its label. These are our X (digit) and y (label). The image of the digit is represented by a 28 by 28 matrix where each value of the matrix is a pixel in the image. The label is just simply a nuber. Below I have imported the data and split it into train and test sets. "
   ]
  },
  {
   "cell_type": "code",
   "execution_count": 2,
   "id": "84ef9278-e2e4-4b07-bce1-aac11da8e314",
   "metadata": {},
   "outputs": [],
   "source": [
    "(X_train, y_train), (X_test, y_test) = tf.keras.datasets.mnist.load_data()"
   ]
  },
  {
   "cell_type": "markdown",
   "id": "54daff26-8c49-4228-98d4-052d8fd10bdb",
   "metadata": {},
   "source": [
    "Below is an image of a digit in our dataset. We can clearly see that it is a number five. As I mentioned this is simply just a 28 by 28 matrix where each value in the pixel. So the black parts are a value in the matrix (pixel) that is probably 0. However the actual number 5 probably has higher values like 200. The gray parts are somewhere in between those two values. One of the reasons for why we are using a neural network in to classify these digits is because... This dataset is very high in dimensions. That means that our X (input) has a lot of dimensions. Each input has a size of `28*28=784`. We cannot graph this dataset without using a dimensionality algoritm like PCA or TSNE to reduce the dimensions so we can graph it. "
   ]
  },
  {
   "cell_type": "code",
   "execution_count": 3,
   "id": "ebbed065-7661-4726-ac66-76e677d503ce",
   "metadata": {},
   "outputs": [
    {
     "data": {
      "image/png": "[encoded data removed]",
      "text/plain": [
       "<Figure size 432x288 with 1 Axes>"
      ]
     },
     "metadata": {
      "needs_background": "light"
     },
     "output_type": "display_data"
    }
   ],
   "source": [
    "plt.gray()\n",
    "plt.title('A Digit in MNIST Dataset (label: 5)')\n",
    "plt.imshow(X_train[0]) \n",
    "plt.show()"
   ]
  },
  {
   "cell_type": "code",
   "execution_count": 4,
   "id": "5312eac5-221d-49ac-b836-1c7d0fab08a0",
   "metadata": {},
   "outputs": [],
   "source": [
    "y_train[0] # label of the digit above"
   ]
  },
  {
   "cell_type": "code",
   "execution_count": 4,
   "id": "af2f9e92-1d98-4737-986f-768a7be46c2f",
   "metadata": {},
   "outputs": [
    {
     "data": {
      "text/plain": [
       "5"
      ]
     },
     "execution_count": 4,
     "metadata": {},
     "output_type": "execute_result"
    }
   ],
   "source": []
  },
  {
   "cell_type": "markdown",
   "id": "4d460c1c-8491-4260-b06f-0422016ff418",
   "metadata": {},
   "source": [
    "Now that we have taken a look at our data we can get into creating a neural network.\n",
    "\n",
    "# Neural Network Anatomy\n",
    "A neural network is formed by an input layer, some number of hidden layers, and an ouput layer. All of these layers contain some number of neurons. The input layer has as many neurons as it does inputs. For example in our network our input layer will have 784 neuros one for each pixel in the image. Similarly our output will layer will have ten neurons one for each number 1 through 9. In terms of hidden layers we can have as many as we choose but we also wan't to make sure we have a correct ammount. If we have too many or too little it could affect the performance of the neural network (same goes for neurons in the hidden layers). In the neural network built later in this notebook I choose to have two hidden layesr with 10 neurons. This might be a lot to just think about so below is an image of what the neural network we are building later will look like. \n",
    "\n",
    "# TODO add image of the neural network we are building\n",
    "The lines that are connecting the layers in the image above are called weights. These weights are what we are trying to learn this value of. We want to adjust them carefully and into a direction that gives us the lowest error when training. W can choose to set them randomly or to chnage them manually but that is not an efficient system. But now that we know what makes up a neural network and now that we know that we are trying to learn the values of these weights how do we even use them?\n",
    "\n",
    "To answer that question I will first go over feeding forward. Below I will explain how it is done. \n",
    "\n",
    "# The Math (Feeding Forward)\n",
    "Below I will go over feeding forward in a nueral network. Feeding forward is when we pass a input through the neural network to get an output. I will use the example of how the neural network we are buidling later will feed forward an input to get an output. \n",
    "\n",
    "First to feed foward the input layer to the first hidden layer we will multiply all inputs $\\vec{x}$ by all the weights connecting the input layer to h1 $W_1$ and add some bias $b_1$. Doing all that will give us $h_1$. We then apply some non linearity function to that and that will be our activations. In this case we are using relu. This looks like this:\n",
    "\n",
    "$$ \\vec{h_1} = relu(\\vec{z_1})$$\n",
    "$$ \\vec{z_1} = W_1 * \\vec{x} + \\vec{b_1} $$\n",
    "$$ \\vec{h_1} = relu(W_1 * \\vec{x} + \\vec{b_1})$$\n",
    "\n",
    "Now we just continue this proccess unitl we get to the output layer. So to keep forwarding this input we would now do this: \n",
    "\n",
    "$$ \\vec{h_2} = relu(\\vec{z_2})$$\n",
    "$$ \\vec{h_2} = W_2 * \\vec{z_1} + \\vec{b_2} $$\n",
    "$$ \\vec{h_2} = relu(W_2 * \\vec{z_1} + \\vec{b_2})$$\n",
    "\n",
    "Next we will do:\n",
    "$$ \\vec{h_3} = \\vec{z_3}$$\n",
    "$$ \\vec{z_3} = W_3 * \\vec{z_2} + \\vec{b_3} $$\n",
    "$$ \\hat{y} = \\vec{h_3}$$\n",
    "\n",
    "\n",
    "And lastly our ouput will simply just be:\n",
    "$$ \\hat{y} = softmax(\\vec{h_3}) $$ \n",
    "Softmax will turn all of the probabilities in the output layer to be values between 0 and 1. Now that we know how the feed forward function works we need to understand how to get the correct output we want when we pass in a input. We do this using back propagation which I will explain in the next section. "
   ]
  },
  {
   "cell_type": "markdown",
   "id": "215472be-c1e3-4a5e-8b66-779f95dc32d4",
   "metadata": {},
   "source": [
    "# Back Propogation TODO: finish explaining back propagation\n",
    "The previous section went over how feed forward works in a neural network to get an output so we can classify (a image of a digit for example) something. \n",
    "As I mentioned neural networks contain weights and biases. We can manually adjust them or set them to random variables to see which values give us the best result. This of course is not a good proccess seeing how our network has so many weights and biases. What we want to do instead is learn the values to our weights and biases that will minimise our loss. We can do this with calculus. We can do this by taking the negative gradient of our cost function ($ C = (\\hat{y}-y)^2$). The gradient gives the direction of fastest assent. So if we take the negative gradient we will approach a place in which our loss is as close to 0 as possible.  Below I will explain the math that allows us to learn the values for our weights and biases. This will involved mutlivariable calculus.\n",
    "\n",
    "\n",
    "This is a basic example of what our network looks like. We have an input($X$), two hidden layers ($h_1,h_2$) and two weights ($W_1,W_2$). \n",
    "$$ X ---W_1---> h_1 ---W_2---> h_2$$\n",
    "\n",
    "To calculate the error that our network produces we use the cost function $ C = (\\hat{y} - y)^2 $\n",
    "where $ \\hat{y} $ is the output vector/activations and $ y $ is the label as a vector. An example of what these look like is $ \\hat{y} = \\begin{bmatrix}\n",
    "0.8 \\\\\n",
    "0.1 \\\\\n",
    "0.1 \n",
    "\\end{bmatrix} $ and $ \\hat{y} = \\begin{bmatrix}\n",
    "1 \\\\\n",
    "0 \\\\\n",
    "0\n",
    "\\end{bmatrix} $\n",
    "\n",
    "As I mentioned our output is $\\hat{y}$ which is given by the follwing function $\\hat{y} = softmax(h_2)$. The activations $h_2$ are passed trough the softmax function. \n",
    "\n",
    "$$ \\hat{y} = softmax( W_2 * \\vec{h_1} + \\vec{b_2} ) $$\n",
    "\n",
    "As we saw above to feed forward and input we use a series of functions. For example to get the first hidden layers activations we do this $ \\vec{z_1} = relu(W_1 * \\vec{x} + \\vec{b_1})$. What we want to do now is see how much each weight and bias is affecting our cost. In other words whats the derivative of the cost function $C$ with respect to $W_1$. \n",
    "\n",
    "In the example below we will take the derivative of our cost function with respect to the second weights ($W_2$).\n",
    "$$ C = (\\hat{y}-y)^2  \\hspace{10mm} \\frac{\\partial C}  {\\partial \\hat{y}} = 2(\\hat{y} - y)$$\n",
    "\n",
    "$$ z^\\hat{y} = W_2 * \\vec{z_1} + \\vec{b_2}  \\hspace{10mm}  \\frac{\\partial z^\\hat{y}}{\\partial W_2} = \\vec{z_1}$$\n",
    "\n",
    "$$ \\frac{\\partial C}{\\partial W_2} = \\frac{\\partial C}{\\partial \\hat{y}} \\frac{\\partial z^\\hat{y}}{\\partial W_2} = 2(\\hat{y} - y) * \\vec{h_1} $$\n",
    "\n",
    "This will tell us by how much we should change the weights in $W_2$ Now we just continue this proccess until we reach the input layer. But first we need to calculate the error produced by the activations in the first hidden layer $\\frac{\\partial C}{\\partial h_1}$.\n",
    "\n",
    "$$ C = (\\hat{y}-y)^2  \\hspace{10mm} \\frac{\\partial C}  {\\partial \\hat{y}} = 2(\\hat{y} - y)$$\n",
    "$$ \\hat{y} = h_2  \\hspace{10mm} \\frac{\\partial \\hat{y}}  {\\partial h_2}$$\n",
    "$$ h_2 = W_2 *z_1 + b_1 \\hspace{10mm} \\frac{\\partial h_2}  {\\partial z_1} = W_2$$\n",
    "$$ z_1 = relu(h_1) \\hspace{10mm} \\frac{\\partial z_1}  {\\partial h_1} = relu`(h_1)$$\n",
    "\n",
    "\n",
    "\n",
    "$$ \\frac{\\partial C}{\\partial h_1} = \\frac{\\partial C}  {\\partial \\hat{y}} \\frac{\\partial \\hat{y}}  {\\partial h_2} \\frac{\\partial h_2}  {\\partial z_1} \\frac{\\partial z_1}  {\\partial h_1} = 2(\\hat{y} - y) *  W_2 * relu`(h_1)$$\n",
    "\n",
    "$$ 2(\\hat{y} - y) *  W_2 * relu`(h_1) $$ This will tell us the error in the first hidden layer. Now we can continue our back propogation. Our next derivative to get is going to be $\\frac{\\partial h_1}{\\partial W_1}$. This will tell use how to change the weights in $W_1$. Because we have calculated all of our chain rule deriatives all that is left is just now.\n",
    "\n",
    "$$ h_1 = \\vec{x}*W_1+b_1 \\hspace{10mm} \\frac{\\partial h_1}  {\\partial W_1} = \\vec{x}$$\n",
    "\n",
    "$$ \\frac{\\partial C}  {\\partial h_1} \\frac{\\partial h_1}  {\\partial W_1}  = \\vec{x}\\frac{\\partial C}  {\\partial h_1} $$"
   ]
  },
  {
   "cell_type": "markdown",
   "id": "50e28e26-ec59-4abd-946e-cb3863fe764a",
   "metadata": {},
   "source": [
    "Now that we have talked about how a neural network feeds forward an input to get and output. And that we have went over how we can learn the values of the weights and biases of our neural network, it is time to build one. Below is the code to a neural network class which we will train to classify dataset. The network below has an input layer of four nerons for our for inputs, 2 hidden layers one of two neurons and one of 3 output neurons. I will go over how a neural network is trained below as well but as mentioned it involves the calculus that is explained above."
   ]
  },
  {
   "cell_type": "markdown",
   "id": "73c4065e-a752-45ac-8563-97770ba9bd97",
   "metadata": {},
   "source": [
    "# Creating the Network\n",
    "Now that we know how we feed forward a input to get a output and how we learn the correct values for the weights in our neural network we can start to implement it. Below is a class representing a nueral network. As explained earlier the network will have a input layer, three hidden layers and three weights and biases. The feed forward function will do the exact same thing that was explained above. Same for the back propagation. "
   ]
  },
  {
   "cell_type": "code",
   "execution_count": 5,
   "id": "8363207e-935e-4a20-b773-ea2469c6e725",
   "metadata": {},
   "outputs": [],
   "source": [
    "class NeuralNetwork:\n",
    "    def __init__(self, input_shape, h1_shape, h2_shape, output_shape):\n",
    "        # layers/activations\n",
    "        self.input = np.random.rand(input_shape, 1)- 0.5\n",
    "        self.h1 = np.random.rand(h1_shape, 1)- 0.5\n",
    "        self.h2 = np.random.rand(h2_shape, 1)- 0.5\n",
    "        self.h3 = np.random.rand(output_shape, 1)- 0.5\n",
    "        # weights \n",
    "        self.w_1 = np.random.rand(h1_shape, input_shape)- 0.5\n",
    "        self.w_2 = np.random.rand(h2_shape, h1_shape)-0.5\n",
    "        self.w_3 = np.random.rand(output_shape, h2_shape)- 0.5\n",
    "        \n",
    "        # biases \n",
    "        self.b_1 = np.random.rand(h1_shape, 1) - 0.5\n",
    "        self.b_2 = np.random.rand(h2_shape, 1) - 0.5\n",
    "        self.b_3 = np.random.rand(output_shape, 1) - 0.5 \n",
    "        \n",
    "    def relu(self,activations):\n",
    "        return np.maximum(0, activations)\n",
    "\n",
    "    def relu_deriv(self, activations):\n",
    "        return activations > 0\n",
    "\n",
    "    def softmax(self, activations):\n",
    "        return np.exp(activations) / np.sum(np.exp(activations))\n",
    "    \n",
    "    def feed_forward(self, X):\n",
    "        # input\n",
    "        # reshapre the input into vector form.\n",
    "        # Example [1, 0, 0] -> [[1], [1], [1]]\n",
    "        self.input = np.reshape(X, (-1,1))\n",
    "        \n",
    "        # input -> h1\n",
    "        # the activations in the first hidden layer are given by the dot product \n",
    "        # of the weights by the input plus some biass its all then passed into\n",
    "        # our activation function. relu(W_1*x+b_1)\n",
    "        z1 = self.relu(np.dot(self.w_1, self.input) + self.b_1)\n",
    "        self.h1 = z1\n",
    "        \n",
    "        # h1 -> h2\n",
    "        # the activations in the seocnd hidden layer (h_2) are given by the dot product \n",
    "        # of the second weights (w_2) by the previous activations (h1) plus the bias(b_2).\n",
    "        # W_2*h1+b_2\n",
    "        z2 =  self.relu(np.dot(self.w_2, z1) + self.b_2)\n",
    "        self.h2 = z2 \n",
    "        \n",
    "        \n",
    "        z3 = np.dot(self.w_3, z2) + self.b_3\n",
    "        self.h3 = z3\n",
    "        # h2 -> output \n",
    "        # our output activtions/predictions are given by the second layer activations (h_2)\n",
    "        # put into the softmax function. \n",
    "        output = self.softmax(self.h3)\n",
    "        \n",
    "        return output\n",
    "    \n",
    "    def back_prop(self, output, y, learning_rate=0.01):\n",
    "        # error produced by the output\n",
    "        output_error = (2 * (output - y))\n",
    "\n",
    "        # derivative of cosf function with respect to third weights\n",
    "        dw_3 = -learning_rate * output_error.dot(self.h2.T)\n",
    "        # derivative of cost function with respect to the third biases\n",
    "        db_3 = -learning_rate * output_error\n",
    "        \n",
    "        # error produced by the second hidden layer activations\n",
    "        h2_error = self.w_3.T.dot(output_error) * self.relu_deriv(self.h2)\n",
    "        # derivative of cost function with respect to second weights\n",
    "        dw_2 = -learning_rate * h2_error.dot(self.h1.T)\n",
    "        # derivative of the cost function with respect to second biases\n",
    "        db_2 = -learning_rate * h2_error\n",
    "\n",
    "        # error produced by the first hidden layer activations\n",
    "        h1_error = self.w_2.T.dot(h2_error) * self.relu_deriv(self.h1)\n",
    "        dw_1 = -learning_rate * h1_error.dot(self.input.T)\n",
    "        db_1 = -learning_rate * h1_error\n",
    "        \n",
    "        # update all the weights\n",
    "        self.w_1 += dw_1\n",
    "        self.w_2 += dw_2\n",
    "        self.w_3 += dw_3\n",
    "        \n",
    "        # update all the biases\n",
    "        self.b_1 += db_1\n",
    "        self.b_2 += db_2\n",
    "        self.b_3 += db_3\n",
    "        return 0\n",
    "\n",
    "    def get_y_vector(self, y):\n",
    "        vector = [1 if i == y else 0 for i in range(len(self.h2))]\n",
    "        vector = np.reshape(vector, (-1, 1))\n",
    "        return vector\n",
    "    \n",
    "    def predict(self, X):\n",
    "        prediction = self.feed_forward(np.array(X.flatten()))\n",
    "        return np.argmax(prediction)\n",
    "\n",
    "    def get_prediction(self, output_layer):\n",
    "        return np.argmax(output_layer)\n",
    "       \n",
    "    def accuracy(self, X_data, y_data):\n",
    "        correct = 0\n",
    "        for i in range(len(X_data)):\n",
    "            X = np.array(X_data[i].flatten())\n",
    "            y = self.get_y_vector(y_data[i])\n",
    "            output = self.feed_forward(X)  \n",
    "            prediction = self.get_prediction(output)\n",
    "            if np.argmax(y) == prediction:\n",
    "                correct += 1                \n",
    "        return correct/X_data.shape[0]\n",
    "    \n",
    "    def train(self, X_data, y_data, iterations):\n",
    "        for i in range(iterations):\n",
    "            for i in range(len(X_data)):\n",
    "                X = np.array(X_data[i].flatten())\n",
    "                y = self.get_y_vector(y_data[i])\n",
    "                output = self.feed_forward(X)\n",
    "                self.back_prop(output, y)\n",
    "        training_accuracy = self.accuracy(X_data, y_data)\n",
    "        return training_accuracy"
   ]
  },
  {
   "cell_type": "code",
   "execution_count": 6,
   "id": "dce48a95-b226-4103-b6a8-9e6ead4d5dad",
   "metadata": {},
   "outputs": [
    {
     "data": {
      "text/plain": [
       "784"
      ]
     },
     "execution_count": 6,
     "metadata": {},
     "output_type": "execute_result"
    }
   ],
   "source": [
    "input_shape = X_train[0].flatten().shape[0]\n",
    "input_shape"
   ]
  },
  {
   "cell_type": "code",
   "execution_count": 7,
   "id": "b2ee308b-156d-4cce-9545-f6aff018feaa",
   "metadata": {},
   "outputs": [
    {
     "data": {
      "text/plain": [
       "10"
      ]
     },
     "execution_count": 7,
     "metadata": {},
     "output_type": "execute_result"
    }
   ],
   "source": [
    "output_shape = len(list(set(y_train)))\n",
    "output_shape"
   ]
  },
  {
   "cell_type": "code",
   "execution_count": 8,
   "id": "0a211dd2-3fef-48b3-b3c8-4412c110f104",
   "metadata": {},
   "outputs": [],
   "source": [
    "neural_network = NeuralNetwork(input_shape=input_shape, h1_shape=10, h2_shape=10, output_shape=output_shape)"
   ]
  },
  {
   "cell_type": "code",
   "execution_count": 38,
   "id": "553cac4a-bb48-4d1b-bb22-45c5d363d4ff",
   "metadata": {},
   "outputs": [],
   "source": [
    "X_train = X_train/255"
   ]
  },
  {
   "cell_type": "code",
   "execution_count": 10,
   "id": "ca7cff5f-a674-42cd-a585-a96c85d946bb",
   "metadata": {},
   "outputs": [],
   "source": [
    "training_accuracy = neural_network.train(X_train, y_train, 100)"
   ]
  },
  {
   "cell_type": "code",
   "execution_count": 11,
   "id": "f2fdb259-76f4-4db3-84cd-fce0b3361149",
   "metadata": {},
   "outputs": [
    {
     "data": {
      "text/plain": [
       "0.9195833333333333"
      ]
     },
     "execution_count": 11,
     "metadata": {},
     "output_type": "execute_result"
    }
   ],
   "source": [
    "training_accuracy"
   ]
  },
  {
   "cell_type": "code",
   "execution_count": 12,
   "id": "1393e6c5-3f3e-4e3e-aa28-23d4ebebc38f",
   "metadata": {},
   "outputs": [
    {
     "data": {
      "text/plain": [
       "8"
      ]
     },
     "execution_count": 12,
     "metadata": {},
     "output_type": "execute_result"
    }
   ],
   "source": [
    "np.argmax(neural_network.h3)"
   ]
  },
  {
   "cell_type": "code",
   "execution_count": 39,
   "id": "1e1af926-ff6d-4c06-bafc-db6e6e9a5cc4",
   "metadata": {},
   "outputs": [],
   "source": [
    "X_test = X_test/255"
   ]
  },
  {
   "cell_type": "code",
   "execution_count": 14,
   "id": "5c94d837-3c58-4678-af9a-25b7e7afd30a",
   "metadata": {},
   "outputs": [],
   "source": [
    "test_accuracy = neural_network.accuracy(X_test, y_test)"
   ]
  },
  {
   "cell_type": "code",
   "execution_count": 15,
   "id": "db360984-4af8-463f-bbcd-998b4f4456c4",
   "metadata": {},
   "outputs": [
    {
     "data": {
      "text/plain": [
       "0.9092"
      ]
     },
     "execution_count": 15,
     "metadata": {},
     "output_type": "execute_result"
    }
   ],
   "source": [
    "test_accuracy"
   ]
  },
  {
   "cell_type": "code",
   "execution_count": 20,
   "id": "6bcda85c-1453-4417-b96e-6a73145ed846",
   "metadata": {},
   "outputs": [
    {
     "data": {
      "text/plain": [
       "2"
      ]
     },
     "execution_count": 20,
     "metadata": {},
     "output_type": "execute_result"
    }
   ],
   "source": [
    "y_test[1]"
   ]
  },
  {
   "cell_type": "code",
   "execution_count": 21,
   "id": "34031a1b-9ab9-4af9-838d-43c93ae272dd",
   "metadata": {},
   "outputs": [
    {
     "data": {
      "text/plain": [
       "2"
      ]
     },
     "execution_count": 21,
     "metadata": {},
     "output_type": "execute_result"
    }
   ],
   "source": [
    "neural_network.predict(X_test[1])"
   ]
  },
  {
   "cell_type": "code",
   "execution_count": 45,
   "id": "3b19cbc5-98de-4a71-b592-44548c3c8af4",
   "metadata": {},
   "outputs": [],
   "source": [
    "def get_info(train_X, train_y, test_X, test_y, iterations):\n",
    "    training_info = {'iteration': [], 'training': [], 'test': []}\n",
    "    for i in range(len(iterations)):\n",
    "        nn = NeuralNetwork(input_shape=input_shape, h1_shape=10, h2_shape=10, output_shape=output_shape)\n",
    "        training_accuracy = neural_network.train(train_X, train_y, iterations[i])\n",
    "\n",
    "        train_example = train_X[np.random.randint(low=0, high=train_X.shape[0])]\n",
    "        test_example = test_X[np.random.randint(low=0, high=test_X.shape[0])]\n",
    "        \n",
    "        train_output = nn.feed_forward(train_example)\n",
    "        test_output = nn.feed_forward(test_example)\n",
    "        \n",
    "        train_loss = ((np.argmax(train_output)-1)**2)/train_X.shape[0]\n",
    "        test_loss = ((np.argmax(test_output)-1)**2)/train_X.shape[0]\n",
    "        \n",
    "        training_info['iteration'].append(iterations[i])\n",
    "        training_info['training'].append(train_loss)\n",
    "        training_info['test'].append(test_loss)\n",
    "    training_info = pd.DataFrame(data=training_info)\n",
    "    return training_info"
   ]
  },
  {
   "cell_type": "code",
   "execution_count": 46,
   "id": "94e72cb8-3f82-4a0e-baae-dcb07e432383",
   "metadata": {},
   "outputs": [],
   "source": [
    "iterations = [i for i in range(1, 50, 10)]"
   ]
  },
  {
   "cell_type": "code",
   "execution_count": 47,
   "id": "1c9926e1-69f8-4c79-bfb5-c93bb44104c1",
   "metadata": {},
   "outputs": [],
   "source": [
    "data = get_info(X_train, y_train, X_test, y_train, iterations)"
   ]
  },
  {
   "cell_type": "code",
   "execution_count": 49,
   "id": "3d63674f-966c-4ccf-93d3-f6393161ad65",
   "metadata": {},
   "outputs": [
    {
     "name": "stderr",
     "output_type": "stream",
     "text": [
      "No artists with labels found to put in legend.  Note that artists whose label start with an underscore are ignored when legend() is called with no argument.\n"
     ]
    },
    {
     "data": {
      "image/png": "[encoded data removed]",
      "text/plain": [
       "<Figure size 432x288 with 1 Axes>"
      ]
     },
     "metadata": {
      "needs_background": "light"
     },
     "output_type": "display_data"
    }
   ],
   "source": [
    "# plt.plot(data['iteration'], data['training'], color='b', label='training loss')\n",
    "# plt.plot(data['iteration'], data['test'], color='r', label='test loss')\n",
    "# plt.scatter(data['iteration'], data['training'], color='b')\n",
    "plt.scatter(data['iteration'], data['test'], color='r')\n",
    "plt.xlabel('iterations')\n",
    "plt.ylabel('loss')\n",
    "plt.legend(loc=\"upper right\")\n",
    "plt.title(\"Loss by Iteration\")\n",
    "plt.show()"
   ]
  },
  {
   "cell_type": "markdown",
   "id": "517d552b-eff8-4086-8b62-f2dd0e13a2c9",
   "metadata": {},
   "source": [
    "# Further Topics of Neural Networks\n",
    "In this notebook I went over some basics of neural networks but there are somethings I wanted to mention as well. One of the things that we can implement in our neural network to give us better peformance is introduce a dropout layer. What a dropout layer is is a layer in which some number of neurons will turn to 0 no matter what. For example as we train our network and we are feeding forward an example we can choose to set 1 neuron in our layer to equal 0. This will make sure that the neural network doesn't just memorize the data and will prevent overfitting. It will make sure that it's actually learning the data and its important relationships. \n",
    "\n",
    "Another thing I wanted to go over was a different training method from the one used in this notebook. In this notebook we took the gradient of our cost function using our whole data. What we could do instead is do stocastic gradient descent which means instead of taking the gradient of our cost function for our whole data we take the gradient of our cost function using some mini batches. A mini batch is just our subset of our data. So instead of feeding all of our data for every iteration and performing back propagation we instead feed a mini batch of our data and calculate the gradient for that. Doing this will allow for faster training since we only have to take a smaller gradient for each mini batch."
   ]
  },
  {
   "cell_type": "markdown",
   "id": "c3055ed1-11ee-4427-8302-4d217bea94a6",
   "metadata": {},
   "source": [
    "# Conclusion"
   ]
  },
  {
   "cell_type": "code",
   "execution_count": null,
   "id": "c4576778-e372-4fba-8ee6-6a715519f2d0",
   "metadata": {},
   "outputs": [],
   "source": []
  }
 ],
 "metadata": {
  "kernelspec": {
   "display_name": "Python 3 (ipykernel)",
   "language": "python",
   "name": "python3"
  },
  "language_info": {
   "codemirror_mode": {
    "name": "ipython",
    "version": 3
   },
   "file_extension": ".py",
   "mimetype": "text/x-python",
   "name": "python",
   "nbconvert_exporter": "python",
   "pygments_lexer": "ipython3",
   "version": "3.10.4"
  }
 },
 "nbformat": 4,
 "nbformat_minor": 5
}
