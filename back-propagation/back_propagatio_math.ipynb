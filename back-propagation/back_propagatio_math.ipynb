{
 "cells": [
  {
   "cell_type": "markdown",
   "id": "70fdacc6-76f6-4fd5-918a-35c702b7c908",
   "metadata": {},
   "source": [
    "This is a basic example of what our network looks like. We have an input($X$), two hidden layers ($h_1,h_2$), three weights ($w_1,w_2,w_3$), and the output ($\\hat{y}$). \n",
    "$$ X ---w_1---> h_1 ---w_2---> h_2 ---w_3---> \\hat{y}$$"
   ]
  },
  {
   "cell_type": "markdown",
   "id": "7fb02b76-d9b5-4201-904f-3c82d284484f",
   "metadata": {},
   "source": [
    " "
   ]
  },
  {
   "cell_type": "markdown",
   "id": "afd28841-c973-4f12-83d5-7f13a27931bb",
   "metadata": {},
   "source": [
    "To calculate the error that our network produces we use the cost function $ C = (\\hat{y} - y)^2 $\n",
    "where $ \\hat{y} $ is the output vector/activations and $ y $ is the label as a vector. An example of what these look like is $ \\hat{y} = \\begin{bmatrix}\n",
    "0.8 \\\\\n",
    "0.1 \\\\\n",
    "0.1 \n",
    "\\end{bmatrix} $ and $ \\hat{y} = \\begin{bmatrix}\n",
    "1 \\\\\n",
    "0 \\\\\n",
    "0\n",
    "\\end{bmatrix} $"
   ]
  },
  {
   "cell_type": "markdown",
   "id": "827a5fc3-9345-469d-821d-210bccb2a109",
   "metadata": {},
   "source": [
    " "
   ]
  },
  {
   "cell_type": "markdown",
   "id": "2b840142-5ac1-4073-a666-1661f6ec8fe1",
   "metadata": {},
   "source": [
    "Going one step forward $\\hat{y}$ is given by the follwing function $\\hat{y} = \\sigma{(z^\\hat{y})}$. The activations $z^\\hat{y}$ are passed trough the sigmoid function. $z^\\hat{y}$ is given by this\n",
    "\n",
    "$$ z^\\hat{y} = \\vec{w_3} * \\vec{h_2} + \\vec{b_3}  $$\n",
    "\n",
    "In the euqation above we see that the output activations is given by the weights ($\\vec{w_3}$) multiplied by the previous layers activations ($\\vec{h_2}$) and lastly we add some bias ($\\vec{b_3}$) "
   ]
  },
  {
   "cell_type": "markdown",
   "id": "6b4bf5d5-7b09-47ab-ba0a-b47d6cadde5e",
   "metadata": {},
   "source": [
    "Now that we have defined all of our function we can see how they are all conected. Now we can take the gradient of our cost function $C$. Using the chain rule we can see how much the weights $\\vec{w_3}$ affect the cost function \n",
    "$$ \\frac{\\partial C}{\\partial w_3} = \\frac{\\partial C}{\\partial \\hat{y}} \\frac{\\partial \\hat{y}}{\\partial z^\\hat{y}} \\frac{\\partial z^\\hat{y}}{\\partial w_3} = 2(\\hat{y} - y) * \\sigma{(z^\\hat{y})} * \\vec{w_3} $$\n"
   ]
  },
  {
   "cell_type": "markdown",
   "id": "25067a1b-3907-486c-9acc-5cd0c51a0665",
   "metadata": {},
   "source": [
    "Now we will continue this proccess propagating the error backwards checking how the weights affect each layer. First I will update our previous $z^\\hat{y}$ function. It now looks like. $$ z^{h2} = \\vec{w_2} * \\vec{h_1} + \\vec{b_2}  $$\n",
    " So next our we will do $ \\frac{\\partial h_2}{\\partial w_2}$. This will look like this: $$ \\frac{\\partial h_2}{\\partial w_2} = \\frac{\\partial h_2}{\\partial z^{h_2}} \\frac{\\partial z^{h_2}}{\\partial w_2} \\frac{\\partial C}{\\partial w_3} = \\sigma{(h_2)} * h_1 * \\frac{\\partial C}{\\partial w_3} $$"
   ]
  },
  {
   "cell_type": "markdown",
   "id": "b1e1bd85-caed-49ca-a73a-537d8d07e9b3",
   "metadata": {},
   "source": [
    "Now we will continue this proccess propagating the error backwards checking how the weights affect each layer. First I will update our previous $z^{h2}$ function. It now looks like. $$ z^{h_1} = \\vec{w_1} * \\vec{X} + \\vec{b_1}  $$\n",
    " So next our we will do $ \\frac{\\partial h_1}{\\partial w_1}$. This will look like this: $$ \\frac{\\partial h_1}{\\partial w_1} = \\frac{\\partial h_1}{\\partial z^{h_1}} \\frac{\\partial z^{h_1}}{\\partial w_1} \\frac{\\partial C}{\\partial w_3} = \\sigma{(h_1)} * h_1 * \\frac{\\partial h_2}{\\partial w_2} *\\frac{\\partial C}{\\partial w_3} $$"
   ]
  },
  {
   "cell_type": "code",
   "execution_count": null,
   "id": "3db2147b-0815-4c03-af5d-af5cd8ba2275",
   "metadata": {},
   "outputs": [],
   "source": []
  }
 ],
 "metadata": {
  "kernelspec": {
   "display_name": "Python 3 (ipykernel)",
   "language": "python",
   "name": "python3"
  },
  "language_info": {
   "codemirror_mode": {
    "name": "ipython",
    "version": 3
   },
   "file_extension": ".py",
   "mimetype": "text/x-python",
   "name": "python",
   "nbconvert_exporter": "python",
   "pygments_lexer": "ipython3",
   "version": "3.8.9"
  }
 },
 "nbformat": 4,
 "nbformat_minor": 5
}
