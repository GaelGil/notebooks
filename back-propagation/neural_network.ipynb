{
 "cells": [
  {
   "cell_type": "code",
   "execution_count": 1,
   "id": "6dbb0df6-264e-4f31-8d4c-50dbb1cbbcfb",
   "metadata": {},
   "outputs": [],
   "source": [
    "from matplotlib.colors import ListedColormap # for grgphing decision boundaries\n",
    "import matplotlib.pyplot as plt\n",
    "import numpy as np\n",
    "import pandas as pd\n",
    "import random\n",
    "from sklearn.model_selection import train_test_split"
   ]
  },
  {
   "cell_type": "code",
   "execution_count": 2,
   "id": "26b89188-8ee5-45a7-b82e-1e8ffbcf16e0",
   "metadata": {},
   "outputs": [],
   "source": [
    "data_folder = 'data'\n",
    "X_train = pd.read_csv(f'./{data_folder}/X_train.csv')\n",
    "y_train = pd.read_csv(f'./{data_folder}/y_train.csv')\n",
    "X_test = pd.read_csv(f'./{data_folder}/X_test.csv')\n",
    "y_test = pd.read_csv(f'./{data_folder}/y_test.csv')"
   ]
  },
  {
   "cell_type": "code",
   "execution_count": 3,
   "id": "1e3f4671-84b2-44e5-ad53-b067585858a5",
   "metadata": {},
   "outputs": [],
   "source": [
    "class Network:\n",
    "    def __init__(self, sample_input, num_layers, neurons_per_layer):\n",
    "        self.layers = self.create_layers(sample_input, num_layers, neurons_per_layer)\n",
    "        self.weights = self.create_weights()\n",
    "        self.biases = [0 for i in range(num_layers+1)]\n",
    "        \n",
    "    @classmethod\n",
    "    def create_layers(self, sample_input, num_layers, neurons_per_layer):\n",
    "        \"\"\" function to create hidden layers, input/output layers \"\"\"\n",
    "        input_layer = [0 for i in sample_input]\n",
    "        output_layer = [0 for i in range(3)]\n",
    "        layers = [0] * (num_layers+1)\n",
    "        layers[0] = np.reshape(input_layer,(-1,1))\n",
    "        # for num of layers\n",
    "        for i in range(num_layers):\n",
    "            # create a empty list for neurons\n",
    "            current_layer = [[0] for j in  range(neurons_per_layer[i])]\n",
    "            layers[i+1] = np.reshape(current_layer, (-1,1))\n",
    "        layers.append(np.reshape(output_layer, (-1,1)))\n",
    "        return layers\n",
    "\n",
    "    def create_weights(self):\n",
    "        weights = []\n",
    "        layers = self.layers\n",
    "        for i in range(len(layers)-1):\n",
    "            # get the length of the current layer\n",
    "            current_layer = len(layers[i])\n",
    "            # get the length of the next layer\n",
    "            next_layer = len(layers[i+1])\n",
    "            # create a matrix and append to list using the lengths of the layers \n",
    "            weights.append(np.random.rand(next_layer, current_layer))\n",
    "        return weights \n",
    "        \n",
    "        \n",
    "    def sigmoid(self, activation):\n",
    "        return (1/(1+np.exp(-(activation))))\n",
    "    \n",
    "    def feed_forward(self, X):\n",
    "        # select the layers\n",
    "        layers = self.layers\n",
    "        # set the input as the input layer\n",
    "        layers[0] = np.reshape(X, (-1,1))\n",
    "        # feed the input forward\n",
    "        for i in range(len(layers)-1):\n",
    "            activations = self.sigmoid(np.dot(self.weights[i], layers[i]) + self.biases[i])\n",
    "            layers[i+1] = activations.copy()\n",
    "        return (layers[-1], max(layers[-1]))\n",
    "    \n",
    "    \n",
    "    def back_propagation(self, output, y):\n",
    "        layers = self.layers\n",
    "        weights = self.weights\n",
    "        biases = self.biases\n",
    "    \n",
    "        for i in range(1, len(layers)):\n",
    "            # select the layer (this will be -1 and then -2 so)\n",
    "            # so it will be in reverse \n",
    "            activations = layers[-i]\n",
    "            # select the layer before the current layer\n",
    "            prev_activations = layers[-(i+1)]\n",
    "            # select the weights\n",
    "            weight = weights[-i]\n",
    "            # select the bias\n",
    "            bias = biases[-i]\n",
    "            # this is the cost function\n",
    "            cost_function = 2 * (activations-y)\n",
    "            z = np.dot(weight, prev_activations) + bias\n",
    "            dc_dw = prev_activations.T * (self.sigmoid(z)*(1-self.sigmoid(z)))  * cost_function\n",
    "            dc_db =  (self.sigmoid(z)*(1-self.sigmoid(z)))  * cost_function\n",
    "            biases[-i] = dc_db\n",
    "            weights[-i] = dc_dw\n",
    "        return 0\n",
    "    \n",
    "    def train(self, X, y):\n",
    "#         for i in range(X):\n",
    "#             output_layer, predicted = self.feed_forward(X[i])\n",
    "#             self.back_propogation(output_layer, y[i])\n",
    "#             if i = 20:\n",
    "#         print(len(X))\n",
    "#         print(y)\n",
    "#         data = pd.concat([X, y])\n",
    "#         print(y.to_numeric())\n",
    "#         for index, row in data.iterrows():\n",
    "# #             print(row.tolist())\n",
    "# #             print(index)\n",
    "#                 print(row)\n",
    "#                 print()\n",
    "#             x = row.tolist()\n",
    "#             last_layer, predicted = self.feed_forward(x)\n",
    "#             back_propogation(output, )\n",
    "        return 0"
   ]
  },
  {
   "cell_type": "code",
   "execution_count": 4,
   "id": "6dc31842-9c14-434b-87d4-2e52ee716518",
   "metadata": {},
   "outputs": [],
   "source": [
    "sample = X_train.iloc[0]"
   ]
  },
  {
   "cell_type": "code",
   "execution_count": 5,
   "id": "03671062-40ff-4deb-b409-bfc5aedb0a71",
   "metadata": {},
   "outputs": [],
   "source": [
    "new_class = Network(sample ,2, [4,3])"
   ]
  },
  {
   "cell_type": "code",
   "execution_count": 6,
   "id": "da158637-5b46-4d0e-8c90-9b96c4ea6c11",
   "metadata": {},
   "outputs": [
    {
     "data": {
      "text/plain": [
       "0"
      ]
     },
     "execution_count": 6,
     "metadata": {},
     "output_type": "execute_result"
    }
   ],
   "source": [
    "new_class.train(X_train, y_train)"
   ]
  },
  {
   "cell_type": "code",
   "execution_count": null,
   "id": "bb61fa55-9472-49d8-a018-fa84106b8c2b",
   "metadata": {},
   "outputs": [],
   "source": []
  }
 ],
 "metadata": {
  "kernelspec": {
   "display_name": "Python 3 (ipykernel)",
   "language": "python",
   "name": "python3"
  },
  "language_info": {
   "codemirror_mode": {
    "name": "ipython",
    "version": 3
   },
   "file_extension": ".py",
   "mimetype": "text/x-python",
   "name": "python",
   "nbconvert_exporter": "python",
   "pygments_lexer": "ipython3",
   "version": "3.8.9"
  }
 },
 "nbformat": 4,
 "nbformat_minor": 5
}
