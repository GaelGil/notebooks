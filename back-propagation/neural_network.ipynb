{
 "cells": [
  {
   "cell_type": "code",
   "execution_count": 17,
   "id": "6dbb0df6-264e-4f31-8d4c-50dbb1cbbcfb",
   "metadata": {},
   "outputs": [],
   "source": [
    "from matplotlib.colors import ListedColormap # for grgphing decision boundaries\n",
    "import matplotlib.pyplot as plt\n",
    "import numpy as np\n",
    "import pandas as pd\n",
    "import random\n",
    "from sklearn.model_selection import train_test_split"
   ]
  },
  {
   "cell_type": "code",
   "execution_count": 18,
   "id": "26b89188-8ee5-45a7-b82e-1e8ffbcf16e0",
   "metadata": {},
   "outputs": [],
   "source": [
    "data_folder = 'data'\n",
    "X_train = pd.read_csv(f'./{data_folder}/X_train.csv')\n",
    "y_train = pd.read_csv(f'./{data_folder}/y_train.csv')\n",
    "X_test = pd.read_csv(f'./{data_folder}/X_test.csv')\n",
    "y_test = pd.read_csv(f'./{data_folder}/y_test.csv')"
   ]
  },
  {
   "cell_type": "code",
   "execution_count": 19,
   "id": "1e3f4671-84b2-44e5-ad53-b067585858a5",
   "metadata": {},
   "outputs": [],
   "source": [
    "class Network:\n",
    "    def __init__(self, sample_input, num_layers, neurons_per_layer):\n",
    "        self.layers = self.create_layers(sample_input, num_layers, neurons_per_layer)\n",
    "        self.weights = self.create_weights()\n",
    "        self.biases = [0 for i in range(num_layers+1)]\n",
    "        \n",
    "    @classmethod\n",
    "    def create_layers(self, sample_input, num_layers, neurons_per_layer):\n",
    "        \"\"\" function to create hidden layers, input/output layers \"\"\"\n",
    "        input_layer = [0 for i in sample_input]\n",
    "        output_layer = [0 for i in range(3)]\n",
    "        layers = [0] * (num_layers+1)\n",
    "        layers[0] = np.reshape(input_layer,(-1,1))\n",
    "        # for num of layers\n",
    "        for i in range(num_layers):\n",
    "            # create a empty list for neurons\n",
    "            current_layer = [[0] for j in  range(neurons_per_layer[i])]\n",
    "            layers[i+1] = np.reshape(current_layer, (-1,1))\n",
    "        layers.append(np.reshape(output_layer, (-1,1)))\n",
    "        return layers\n",
    "\n",
    "    def create_weights(self):\n",
    "        weights = []\n",
    "        layers = self.layers\n",
    "        for i in range(len(layers)-1):\n",
    "            # get the length of the current layer\n",
    "            current_layer = len(layers[i])\n",
    "            # get the length of the next layer\n",
    "            next_layer = len(layers[i+1])\n",
    "            # create a matrix and append to list using the lengths of the layers \n",
    "            weights.append(np.random.rand(next_layer, current_layer))\n",
    "        return weights \n",
    "        \n",
    "        \n",
    "    def sigmoid(self, activation):\n",
    "        return (1/(1+np.exp(-(activation))))\n",
    "    \n",
    "    def feed_forward(self, X):\n",
    "        # select the layers\n",
    "        layers = self.layers\n",
    "        # set the input as the input layer\n",
    "        layers[0] = np.reshape(X, (-1,1))\n",
    "        # feed the input forward\n",
    "        for i in range(len(layers)-1):\n",
    "            activations = self.sigmoid(np.dot(self.weights[i], layers[i]) + self.biases[i])\n",
    "            layers[i+1] = activations.copy()\n",
    "        return (layers[-1], max(layers[-1]))\n",
    "    \n",
    "    \n",
    "    def back_propagation(self, output, y):\n",
    "        layers = self.layers\n",
    "        weights = self.weights\n",
    "        biases = self.biases\n",
    "#         print(biases)\n",
    "#         print(f'biases{biases}')\n",
    "#         print(f'layers: {layers}')\n",
    "        for i in range(1, len(layers)):\n",
    "            # reshape the output layer to multiply with previous layer\n",
    "#             activations = np.reshape(layers[-i], (-1,1)) \n",
    "            activations = layers[-i]\n",
    "#             print(f'activations: {activations}')\n",
    "            # select previous layer\n",
    "            prev_activations = layers[-(i+1)]\n",
    "#             print(f'prev: {prev_activations}')\n",
    "#             print()\n",
    "            # select the weights\n",
    "            weight = weights[-i]\n",
    "            # select the bias\n",
    "            bias = biases[-i]\n",
    "            cost_function = 2 * (output-y)\n",
    "            print(f'prev:{prev_activations}')\n",
    "            print()\n",
    "            print('sigmoid_derivative')\n",
    "            print((self.sigmoid(activations)*(1-self.sigmoid(activations))))\n",
    "            print()\n",
    "            print('cost_function')\n",
    "            print(cost_function)\n",
    "            dc_dw = prev_activations * (self.sigmoid(activations)*(1-self.sigmoid(activations))) * cost_function\n",
    "\n",
    "#             dc_db = (self.sigmoid(activations)*(1+self.sigmoid(activations))) * cost_function\n",
    "#             biases[-i] = dc_db\n",
    "#             weights[-i] = dc_dw\n",
    "            print()\n",
    "        return 0"
   ]
  },
  {
   "cell_type": "code",
   "execution_count": 20,
   "id": "6dc31842-9c14-434b-87d4-2e52ee716518",
   "metadata": {},
   "outputs": [],
   "source": [
    "X = [X_train.iloc[1]['sepal length (cm)'], X_train.iloc[1]['sepal width (cm)'], X_train.iloc[1]['petal length (cm)'], X_train.iloc[1]['petal length (cm)']]"
   ]
  },
  {
   "cell_type": "code",
   "execution_count": 21,
   "id": "03671062-40ff-4deb-b409-bfc5aedb0a71",
   "metadata": {},
   "outputs": [],
   "source": [
    "new_class = Network(X,2, [4,3])"
   ]
  },
  {
   "cell_type": "code",
   "execution_count": 22,
   "id": "7237c139-39e1-48f2-b0e5-6450333f69f0",
   "metadata": {},
   "outputs": [],
   "source": [
    "last_layer, predicted = new_class.feed_forward(X)"
   ]
  },
  {
   "cell_type": "code",
   "execution_count": 23,
   "id": "81e00409-beb0-4caf-acef-4032fb0bb469",
   "metadata": {},
   "outputs": [
    {
     "data": {
      "text/plain": [
       "'Iris-setosa'"
      ]
     },
     "execution_count": 23,
     "metadata": {},
     "output_type": "execute_result"
    }
   ],
   "source": [
    "y = y_train.iloc[1]['class']\n",
    "y"
   ]
  },
  {
   "cell_type": "code",
   "execution_count": 24,
   "id": "17ab01f0-46d7-4fd0-9c6d-c39acdcb2632",
   "metadata": {},
   "outputs": [
    {
     "name": "stdout",
     "output_type": "stream",
     "text": [
      "prev:[[0.94617204]\n",
      " [0.80251407]\n",
      " [0.76069135]]\n",
      "\n",
      "sigmoid_derivative\n",
      "[[0.20995293]\n",
      " [0.21512086]\n",
      " [0.20737566]]\n",
      "\n",
      "cost_function\n",
      "[[-0.30428383]\n",
      " [-0.42997351]\n",
      " [-0.24352723]]\n",
      "\n",
      "prev:[[0.9974399 ]\n",
      " [0.99908098]\n",
      " [0.99265867]\n",
      " [0.99859472]]\n",
      "\n",
      "sigmoid_derivative\n",
      "[[0.20144822]\n",
      " [0.21370517]\n",
      " [0.21705637]]\n",
      "\n",
      "cost_function\n",
      "[[-0.30428383]\n",
      " [-0.42997351]\n",
      " [-0.24352723]]\n"
     ]
    },
    {
     "ename": "ValueError",
     "evalue": "operands could not be broadcast together with shapes (4,1) (3,1) ",
     "output_type": "error",
     "traceback": [
      "\u001b[0;31m---------------------------------------------------------------------------\u001b[0m",
      "\u001b[0;31mValueError\u001b[0m                                Traceback (most recent call last)",
      "\u001b[0;32m/var/folders/c6/fdtwnncn1vn0kw0f_jd84mcm0000gp/T/ipykernel_2458/1275428858.py\u001b[0m in \u001b[0;36m<module>\u001b[0;34m\u001b[0m\n\u001b[0;32m----> 1\u001b[0;31m \u001b[0mnew_class\u001b[0m\u001b[0;34m.\u001b[0m\u001b[0mback_propagation\u001b[0m\u001b[0;34m(\u001b[0m\u001b[0mlast_layer\u001b[0m\u001b[0;34m,\u001b[0m \u001b[0;36m1\u001b[0m\u001b[0;34m)\u001b[0m\u001b[0;34m\u001b[0m\u001b[0;34m\u001b[0m\u001b[0m\n\u001b[0m",
      "\u001b[0;32m/var/folders/c6/fdtwnncn1vn0kw0f_jd84mcm0000gp/T/ipykernel_2458/3087972542.py\u001b[0m in \u001b[0;36mback_propagation\u001b[0;34m(self, output, y)\u001b[0m\n\u001b[1;32m     76\u001b[0m             \u001b[0mprint\u001b[0m\u001b[0;34m(\u001b[0m\u001b[0;34m'cost_function'\u001b[0m\u001b[0;34m)\u001b[0m\u001b[0;34m\u001b[0m\u001b[0;34m\u001b[0m\u001b[0m\n\u001b[1;32m     77\u001b[0m             \u001b[0mprint\u001b[0m\u001b[0;34m(\u001b[0m\u001b[0mcost_function\u001b[0m\u001b[0;34m)\u001b[0m\u001b[0;34m\u001b[0m\u001b[0;34m\u001b[0m\u001b[0m\n\u001b[0;32m---> 78\u001b[0;31m             \u001b[0mdc_dw\u001b[0m \u001b[0;34m=\u001b[0m \u001b[0mprev_activations\u001b[0m \u001b[0;34m*\u001b[0m \u001b[0;34m(\u001b[0m\u001b[0mself\u001b[0m\u001b[0;34m.\u001b[0m\u001b[0msigmoid\u001b[0m\u001b[0;34m(\u001b[0m\u001b[0mactivations\u001b[0m\u001b[0;34m)\u001b[0m\u001b[0;34m*\u001b[0m\u001b[0;34m(\u001b[0m\u001b[0;36m1\u001b[0m\u001b[0;34m-\u001b[0m\u001b[0mself\u001b[0m\u001b[0;34m.\u001b[0m\u001b[0msigmoid\u001b[0m\u001b[0;34m(\u001b[0m\u001b[0mactivations\u001b[0m\u001b[0;34m)\u001b[0m\u001b[0;34m)\u001b[0m\u001b[0;34m)\u001b[0m \u001b[0;34m*\u001b[0m \u001b[0mcost_function\u001b[0m\u001b[0;34m\u001b[0m\u001b[0;34m\u001b[0m\u001b[0m\n\u001b[0m\u001b[1;32m     79\u001b[0m \u001b[0;34m\u001b[0m\u001b[0m\n\u001b[1;32m     80\u001b[0m \u001b[0;31m#             dc_db = (self.sigmoid(activations)*(1+self.sigmoid(activations))) * cost_function\u001b[0m\u001b[0;34m\u001b[0m\u001b[0;34m\u001b[0m\u001b[0;34m\u001b[0m\u001b[0m\n",
      "\u001b[0;31mValueError\u001b[0m: operands could not be broadcast together with shapes (4,1) (3,1) "
     ]
    }
   ],
   "source": [
    "new_class.back_propagation(last_layer, 1)"
   ]
  },
  {
   "cell_type": "code",
   "execution_count": null,
   "id": "348ee809-a270-4e38-ad75-0394ba67f52d",
   "metadata": {},
   "outputs": [],
   "source": [
    "sample = [X_train.iloc[2]['sepal length (cm)'], X_train.iloc[2]['sepal width (cm)'], X_train.iloc[2]['petal length (cm)'], X_train.iloc[2]['petal length (cm)']]"
   ]
  },
  {
   "cell_type": "code",
   "execution_count": null,
   "id": "7e857118-3ee8-486d-bbc0-47e073a1e04e",
   "metadata": {},
   "outputs": [],
   "source": [
    "print(new_class.feed_forward(sample))"
   ]
  },
  {
   "cell_type": "code",
   "execution_count": null,
   "id": "da158637-5b46-4d0e-8c90-9b96c4ea6c11",
   "metadata": {},
   "outputs": [],
   "source": []
  }
 ],
 "metadata": {
  "kernelspec": {
   "display_name": "Python 3 (ipykernel)",
   "language": "python",
   "name": "python3"
  },
  "language_info": {
   "codemirror_mode": {
    "name": "ipython",
    "version": 3
   },
   "file_extension": ".py",
   "mimetype": "text/x-python",
   "name": "python",
   "nbconvert_exporter": "python",
   "pygments_lexer": "ipython3",
   "version": "3.8.9"
  }
 },
 "nbformat": 4,
 "nbformat_minor": 5
}
