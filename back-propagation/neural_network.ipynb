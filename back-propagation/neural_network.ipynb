{
 "cells": [
  {
   "cell_type": "code",
   "execution_count": 1,
   "id": "6dbb0df6-264e-4f31-8d4c-50dbb1cbbcfb",
   "metadata": {},
   "outputs": [],
   "source": [
    "from matplotlib.colors import ListedColormap # for grgphing decision boundaries\n",
    "import matplotlib.pyplot as plt\n",
    "import numpy as np\n",
    "import pandas as pd\n",
    "import random\n",
    "from sklearn.model_selection import train_test_split"
   ]
  },
  {
   "cell_type": "code",
   "execution_count": 2,
   "id": "26b89188-8ee5-45a7-b82e-1e8ffbcf16e0",
   "metadata": {},
   "outputs": [],
   "source": [
    "data_folder = 'data'\n",
    "X_train = pd.read_csv(f'./{data_folder}/X_train.csv')\n",
    "y_train = pd.read_csv(f'./{data_folder}/y_train.csv')\n",
    "X_test = pd.read_csv(f'./{data_folder}/X_test.csv')\n",
    "y_test = pd.read_csv(f'./{data_folder}/y_test.csv')"
   ]
  },
  {
   "cell_type": "code",
   "execution_count": 3,
   "id": "1e3f4671-84b2-44e5-ad53-b067585858a5",
   "metadata": {},
   "outputs": [],
   "source": [
    "class Network:\n",
    "    def __init__(self, layers):\n",
    "        # layers/activations\n",
    "        self.input = np.random.rand(4, 1)\n",
    "        self.h1 = np.random.rand(4, 1)\n",
    "        self.h2 = np.random.rand(3, 1)\n",
    "        self.output = np.random.rand(3, 1)\n",
    "        \n",
    "        # weights \n",
    "        self.w_1 = np.random.rand(4, 4)\n",
    "        self.w_2 = np.random.rand(3, 4)\n",
    "        self.w_3 = np.random.rand(3, 3)\n",
    "        \n",
    "        # biases \n",
    "        self.b_1 = np.random.rand(4, 1)\n",
    "        self.b_2 = np.random.rand(3, 1)\n",
    "        self.b_3 = np.random.rand(3, 1)\n",
    "        \n",
    "    def sigmoid(self, activation):\n",
    "        return (1/(1+np.exp(-(activation))))\n",
    "\n",
    "    def softmax(self, activations):\n",
    "        return np.exp(activations) / np.sum(np.exp(activations))\n",
    "    \n",
    "    def feed_forward(self, X):\n",
    "        # input\n",
    "        self.input = np.reshape(X, (-1,1))\n",
    "        \n",
    "        # input to h1\n",
    "        h1_activations = self.sigmoid(np.dot(self.w_1, self.input) + self.b_1)\n",
    "        self.h1 = h1_activations\n",
    "\n",
    "\n",
    "        # h1 to h2\n",
    "        h2_activations = self.sigmoid(np.dot(self.w_2, h1_activations) + self.b_2)\n",
    "        self.h2 = h2_activations\n",
    "\n",
    "        # h2 to output \n",
    "        output_activations = (np.dot(self.w_3, h2_activations) + self.b_3)\n",
    "        self.output = self.sigmoid(output_activations)\n",
    "\n",
    "        return (self.output, max(self.output))\n",
    "    \n",
    "    def back_prop(self, y, learning_rate=0.1):\n",
    "        y = np.reshape(y, (-1,1))\n",
    "        \n",
    "        output_error = (2 * (self.output-y)) * ((self.sigmoid(self.output)*(1-self.sigmoid(self.output))))\n",
    "        w_3 = -learning_rate * (output_error.dot(self.h2.T))\n",
    "        b_3 = -learning_rate *output_error\n",
    "        \n",
    "        \n",
    "        h2_error = w_3.T.dot(output_error) * ((self.sigmoid(self.h2)*(1-self.sigmoid(self.h2))))\n",
    "        w_2 = -learning_rate * (h2_error.dot(self.h1.T))\n",
    "        b_2 = -learning_rate * h2_error\n",
    "        \n",
    "        h1_error = w_2.T.dot(h2_error) * ((self.sigmoid(self.h1)*(1-self.sigmoid(self.h1))))\n",
    "        w_1 = -learning_rate * (np.dot(h1_error, self.input.T))\n",
    "        b_1 = -learning_rate * h1_error\n",
    "        \n",
    "        self.w_1 += w_1\n",
    "        self.w_2 += w_2\n",
    "        self.w_3 += w_3\n",
    "        \n",
    "        self.b_1 += b_1\n",
    "        self.b_2 += b_2\n",
    "        self.b_3 += b_3\n",
    "        return 0\n",
    "       \n",
    "\n",
    "    def train(self, X, Y, itterations):        \n",
    "        y_dummies = pd.get_dummies(Y)\n",
    "        data = pd.concat([X, y_dummies], axis=1)\n",
    "        for i in range(itterations):\n",
    "            for index, row in data.iterrows():\n",
    "                # select the label\n",
    "                y = row.tolist()[4:]\n",
    "                # select the x\n",
    "                x = row.tolist()[:4] \n",
    "                output_activations, prediction = self.feed_forward(x)\n",
    "                self.back_prop(y)    "
   ]
  },
  {
   "cell_type": "code",
   "execution_count": 4,
   "id": "6dc31842-9c14-434b-87d4-2e52ee716518",
   "metadata": {},
   "outputs": [
    {
     "data": {
      "text/plain": [
       "[5.5, 2.4, 3.7, 1.0]"
      ]
     },
     "execution_count": 4,
     "metadata": {},
     "output_type": "execute_result"
    }
   ],
   "source": [
    "list(X_train.iloc[0])"
   ]
  },
  {
   "cell_type": "code",
   "execution_count": 5,
   "id": "90eb6e7c-be61-4b80-8ea6-ef03f98a5f52",
   "metadata": {},
   "outputs": [],
   "source": [
    "# number of neurons at each layers input, h1, h2, output\n",
    "layers = (len(X_train.iloc[0]), 4, 3, 3)"
   ]
  },
  {
   "cell_type": "code",
   "execution_count": 6,
   "id": "c7d98d4d-1212-4c11-ba66-b75480abcab7",
   "metadata": {},
   "outputs": [],
   "source": [
    "new_class = Network(layers=layers)"
   ]
  },
  {
   "cell_type": "code",
   "execution_count": 7,
   "id": "dabe55a7-9392-42f7-9919-1fa0830d0e8a",
   "metadata": {},
   "outputs": [],
   "source": [
    "new_class.train(X_train, y_train, 20)"
   ]
  },
  {
   "cell_type": "code",
   "execution_count": null,
   "id": "aa4dfb02-20e9-44ef-b781-76a951ad0089",
   "metadata": {},
   "outputs": [],
   "source": []
  },
  {
   "cell_type": "code",
   "execution_count": null,
   "id": "0b067fe9-9bf8-4413-b90c-9722c33cdf9f",
   "metadata": {},
   "outputs": [],
   "source": []
  },
  {
   "cell_type": "code",
   "execution_count": null,
   "id": "435c269b-7404-487e-ad60-252f83f6f6d0",
   "metadata": {},
   "outputs": [],
   "source": []
  },
  {
   "cell_type": "code",
   "execution_count": null,
   "id": "43a7cf22-7a59-4c86-9869-59464fc295aa",
   "metadata": {},
   "outputs": [],
   "source": []
  },
  {
   "cell_type": "code",
   "execution_count": null,
   "id": "080c260a-b0cb-45c9-910c-026923a183dd",
   "metadata": {},
   "outputs": [],
   "source": []
  }
 ],
 "metadata": {
  "kernelspec": {
   "display_name": "Python 3 (ipykernel)",
   "language": "python",
   "name": "python3"
  },
  "language_info": {
   "codemirror_mode": {
    "name": "ipython",
    "version": 3
   },
   "file_extension": ".py",
   "mimetype": "text/x-python",
   "name": "python",
   "nbconvert_exporter": "python",
   "pygments_lexer": "ipython3",
   "version": "3.8.9"
  }
 },
 "nbformat": 4,
 "nbformat_minor": 5
}
