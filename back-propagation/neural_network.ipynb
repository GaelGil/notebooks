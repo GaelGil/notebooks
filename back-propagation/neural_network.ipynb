{
 "cells": [
  {
   "cell_type": "code",
   "execution_count": 89,
   "id": "6dbb0df6-264e-4f31-8d4c-50dbb1cbbcfb",
   "metadata": {},
   "outputs": [],
   "source": [
    "from matplotlib.colors import ListedColormap # for grgphing decision boundaries\n",
    "import matplotlib.pyplot as plt\n",
    "import numpy as np\n",
    "import pandas as pd\n",
    "import random\n",
    "from sklearn.model_selection import train_test_split"
   ]
  },
  {
   "cell_type": "code",
   "execution_count": 90,
   "id": "26b89188-8ee5-45a7-b82e-1e8ffbcf16e0",
   "metadata": {},
   "outputs": [],
   "source": [
    "data_folder = 'data'\n",
    "X_train = pd.read_csv(f'./{data_folder}/X_train.csv')\n",
    "y_train = pd.read_csv(f'./{data_folder}/y_train.csv')\n",
    "X_test = pd.read_csv(f'./{data_folder}/X_test.csv')\n",
    "y_test = pd.read_csv(f'./{data_folder}/y_test.csv')"
   ]
  },
  {
   "cell_type": "code",
   "execution_count": 91,
   "id": "1e3f4671-84b2-44e5-ad53-b067585858a5",
   "metadata": {},
   "outputs": [],
   "source": [
    "class Network:\n",
    "    def __init__(self, sample_input, num_layers, neurons_per_layer):\n",
    "        self.layers = self.create_layers(sample_input, num_layers, neurons_per_layer)\n",
    "        self.weights = self.create_weights()\n",
    "        self.biases = [0 for i in range(num_layers+1)]\n",
    "        \n",
    "    @classmethod\n",
    "    def create_layers(self, sample_input, num_layers, neurons_per_layer):\n",
    "        \"\"\" function to create hidden layers \"\"\"\n",
    "        input_layer = [0 for i in sample_input]\n",
    "        output_layer = [0 for i in range(3)]\n",
    "        layers = []\n",
    "        layers.append(input_layer)\n",
    "        # for num of layers\n",
    "        for i in range(num_layers):\n",
    "            # create a empty list for neurons\n",
    "            current_layer = []\n",
    "            # create a neurons\n",
    "            for j in range(neurons_per_layer[i]):\n",
    "                # neuron = self.create_neuron(0.0 ,f'hidden layer #{i+1}' )\n",
    "                current_layer.append(0)\n",
    "            # add list of neurons to list of layers\n",
    "            layers.append(current_layer)\n",
    "        layers.append(output_layer)\n",
    "        print(layers)\n",
    "        return layers\n",
    "\n",
    "    def create_weights(self):\n",
    "        weights = []\n",
    "        layers = self.layers\n",
    "        for i in range(len(layers)-1):\n",
    "            # get the length of the current layer\n",
    "            current_layer = len(layers[i])\n",
    "            # get the length of the next layer\n",
    "            next_layer = len(layers[i+1])\n",
    "            # create a matrix and append to list using the lengths of the layers \n",
    "            weights.append(np.random.rand(current_layer,next_layer))\n",
    "        return weights \n",
    "        \n",
    "        \n",
    "    def sigmoid(self, activation):\n",
    "        return (1/(1+np.exp(-(activation))))\n",
    "    \n",
    "    def feed_forward(self, X):\n",
    "        layers = self.layers\n",
    "        layers[0] = X\n",
    "        for i in range(len(layers)-1):\n",
    "            activations = self.sigmoid(np.dot(layers[i], self.weights[i]) + self.biases[i])\n",
    "            # pass the activations to the next layer\n",
    "            layers[i+1] = activations.copy()\n",
    "        print(layers)\n",
    "        return (layers[-1], max(layers[-1]))\n",
    "    \n",
    "    \n",
    "    def back_propagation(self, output, y):\n",
    "        layers = self.layers\n",
    "        weights = self.weights\n",
    "        biases = self.biases\n",
    "        print(biases)\n",
    "#         print(f'biases{biases}')\n",
    "#         print(f'layers: {layers}')\n",
    "        for i in range(1, len(layers)):\n",
    "            # reshape the output layer to multiply with previous layer\n",
    "            activations = np.reshape(layers[-i], (-1,1)) \n",
    "            # select previous layer\n",
    "            prev_activations = layers[-(i+1)]\n",
    "            # select the weights\n",
    "            weight = weights[-i]\n",
    "            # select the bias\n",
    "            bias = biases[-i]\n",
    "            cost_function = 2 * (output-y)\n",
    "            dc_dw = prev_activations * (self.sigmoid(np.array(activations))*(1+self.sigmoid(np.array(activations)))) * cost_function\n",
    "#             print(f'here:{prev_activations}')\n",
    "            dc_db = (self.sigmoid(np.array(activations))*(1+self.sigmoid(np.array(activations)))) * cost_function\n",
    "            print(f'biases before: {biases[-i]}')\n",
    "            biases[-i] = dc_db\n",
    "            print(f'biases after: {biases[-i]}')\n",
    "#             print(-i)\n",
    "            print()\n",
    "#             print(f'weights before:{weights[-i]}')\n",
    "#             weights[-i] = dc_dw\n",
    "#             print(f'weights after:{weights[-i]}')\n",
    "#             print(-i)\n",
    "#             print()\n",
    "\n",
    "        print()\n",
    "        print(weights[-i])\n",
    "        print()\n",
    "        print(weights)\n",
    "        return 0"
   ]
  },
  {
   "cell_type": "code",
   "execution_count": 92,
   "id": "6dc31842-9c14-434b-87d4-2e52ee716518",
   "metadata": {},
   "outputs": [],
   "source": [
    "X = [X_train.iloc[1]['sepal length (cm)'], X_train.iloc[1]['sepal width (cm)'], X_train.iloc[1]['petal length (cm)'], X_train.iloc[1]['petal length (cm)']]"
   ]
  },
  {
   "cell_type": "code",
   "execution_count": 93,
   "id": "03671062-40ff-4deb-b409-bfc5aedb0a71",
   "metadata": {},
   "outputs": [
    {
     "name": "stdout",
     "output_type": "stream",
     "text": [
      "[[0, 0, 0, 0], [0, 0, 0, 0], [0, 0, 0], [0, 0, 0]]\n"
     ]
    }
   ],
   "source": [
    "new_class = Network(X,2, [4,3])"
   ]
  },
  {
   "cell_type": "code",
   "execution_count": 94,
   "id": "7237c139-39e1-48f2-b0e5-6450333f69f0",
   "metadata": {},
   "outputs": [
    {
     "name": "stdout",
     "output_type": "stream",
     "text": [
      "[[4.8, 3.0, 1.4, 1.4], array([0.92547916, 0.99491442, 0.99564818, 0.990835  ]), array([0.75718639, 0.96080814, 0.90994711]), array([0.84846257, 0.80140217, 0.81734424])]\n"
     ]
    }
   ],
   "source": [
    "last_layer, predicted = new_class.feed_forward(X)"
   ]
  },
  {
   "cell_type": "code",
   "execution_count": 95,
   "id": "81e00409-beb0-4caf-acef-4032fb0bb469",
   "metadata": {},
   "outputs": [
    {
     "data": {
      "text/plain": [
       "'Iris-setosa'"
      ]
     },
     "execution_count": 95,
     "metadata": {},
     "output_type": "execute_result"
    }
   ],
   "source": [
    "y = y_train.iloc[1]['class']\n",
    "y"
   ]
  },
  {
   "cell_type": "code",
   "execution_count": 96,
   "id": "17ab01f0-46d7-4fd0-9c6d-c39acdcb2632",
   "metadata": {},
   "outputs": [
    {
     "name": "stdout",
     "output_type": "stream",
     "text": [
      "[0, 0, 0]\n",
      "biases before: 0\n",
      "biases after: [[-0.36083697]\n",
      " [-0.3536135 ]\n",
      " [-0.35606858]]\n",
      "\n",
      "biases before: 0\n",
      "biases after: [[-0.346764  ]\n",
      " [-0.37775939]\n",
      " [-0.3701584 ]]\n",
      "\n",
      "biases before: 0\n",
      "biases after: [[-0.37249062]\n",
      " [-0.38279612]\n",
      " [-0.38290393]\n",
      " [-0.38219634]]\n",
      "\n",
      "\n",
      "[[0.08288466 0.52179188 0.70002917 0.49283326]\n",
      " [0.06266655 0.35685715 0.45058347 0.26934873]\n",
      " [0.48849138 0.51413625 0.25742038 0.18996076]\n",
      " [0.89249923 0.70091804 0.25751471 0.88826062]]\n",
      "\n",
      "[array([[0.08288466, 0.52179188, 0.70002917, 0.49283326],\n",
      "       [0.06266655, 0.35685715, 0.45058347, 0.26934873],\n",
      "       [0.48849138, 0.51413625, 0.25742038, 0.18996076],\n",
      "       [0.89249923, 0.70091804, 0.25751471, 0.88826062]]), array([[0.33169922, 0.95705308, 0.68170702],\n",
      "       [0.16150081, 0.78286874, 0.67224283],\n",
      "       [0.12678995, 0.9774711 , 0.06817763],\n",
      "       [0.54844346, 0.56666179, 0.95412317]]), array([[0.11331513, 0.36278887, 0.73829557],\n",
      "       [0.78757527, 0.37964134, 0.18621666],\n",
      "       [0.9671814 , 0.83039969, 0.83577518]])]\n"
     ]
    },
    {
     "data": {
      "text/plain": [
       "0"
      ]
     },
     "execution_count": 96,
     "metadata": {},
     "output_type": "execute_result"
    }
   ],
   "source": [
    "new_class.back_propagation(predicted, 1)"
   ]
  },
  {
   "cell_type": "code",
   "execution_count": null,
   "id": "0104177e-cad4-4baa-bfdb-773d9da3c222",
   "metadata": {},
   "outputs": [],
   "source": []
  }
 ],
 "metadata": {
  "kernelspec": {
   "display_name": "Python 3 (ipykernel)",
   "language": "python",
   "name": "python3"
  },
  "language_info": {
   "codemirror_mode": {
    "name": "ipython",
    "version": 3
   },
   "file_extension": ".py",
   "mimetype": "text/x-python",
   "name": "python",
   "nbconvert_exporter": "python",
   "pygments_lexer": "ipython3",
   "version": "3.8.9"
  }
 },
 "nbformat": 4,
 "nbformat_minor": 5
}
