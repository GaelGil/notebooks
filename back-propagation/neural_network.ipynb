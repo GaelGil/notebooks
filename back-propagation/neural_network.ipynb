{
 "cells": [
  {
   "cell_type": "code",
   "execution_count": 1,
   "id": "6dbb0df6-264e-4f31-8d4c-50dbb1cbbcfb",
   "metadata": {},
   "outputs": [],
   "source": [
    "from matplotlib.colors import ListedColormap # for grgphing decision boundaries\n",
    "import matplotlib.pyplot as plt\n",
    "import numpy as np\n",
    "import pandas as pd\n",
    "import random\n",
    "from sklearn.model_selection import train_test_split"
   ]
  },
  {
   "cell_type": "code",
   "execution_count": 2,
   "id": "26b89188-8ee5-45a7-b82e-1e8ffbcf16e0",
   "metadata": {},
   "outputs": [],
   "source": [
    "data_folder = 'data'\n",
    "X_train = pd.read_csv(f'./{data_folder}/X_train.csv')\n",
    "y_train = pd.read_csv(f'./{data_folder}/y_train.csv')\n",
    "X_test = pd.read_csv(f'./{data_folder}/X_test.csv')\n",
    "y_test = pd.read_csv(f'./{data_folder}/y_test.csv')"
   ]
  },
  {
   "cell_type": "code",
   "execution_count": 3,
   "id": "1e3f4671-84b2-44e5-ad53-b067585858a5",
   "metadata": {},
   "outputs": [],
   "source": [
    "class Network:\n",
    "    def __init__(self, sample_input, num_layers, neurons_per_layer):\n",
    "        self.layers = self.create_layers(sample_input, num_layers, neurons_per_layer)\n",
    "        self.weights = self.create_weights()\n",
    "        self.biases = [[0.0]*self.layers[i] for i in range(1, len(self.layers))]\n",
    "        \n",
    "    @classmethod\n",
    "    def create_layers(self, sample_input, num_layers, neurons_per_layer):\n",
    "        \"\"\" function to create hidden layers, input/output layers \"\"\"\n",
    "        input_layer = [0 for i in sample_input]\n",
    "        output_layer = [0 for i in range(3)]\n",
    "        layers = [0] * (num_layers+1)\n",
    "        layers[0] = np.reshape(input_layer,(-1,1))\n",
    "        # for num of layers\n",
    "        for i in range(num_layers):\n",
    "            # create a empty list for neurons\n",
    "            current_layer = [[0] for j in  range(neurons_per_layer[i])]\n",
    "            layers[i+1] = np.reshape(current_layer, (-1,1))\n",
    "        layers.append(np.reshape(output_layer, (-1,1)))\n",
    "        return layers\n",
    "\n",
    "    def create_weights(self):\n",
    "        weights = []\n",
    "        layers = self.layers\n",
    "        for i in range(len(layers)-1):\n",
    "            # get the length of the current layer\n",
    "            current_layer = len(layers[i])\n",
    "            # get the length of the next layer\n",
    "            next_layer = len(layers[i+1])\n",
    "            # create a matrix and append to list using the lengths of the layers \n",
    "            weights.append(np.random.rand(next_layer, current_layer))\n",
    "        return weights \n",
    "        \n",
    "        \n",
    "    def sigmoid(self, activation):\n",
    "        return (1/(1+np.exp(-(activation))))\n",
    "    \n",
    "    def feed_forward(self, X):\n",
    "        # select the layers\n",
    "        layers = self.layers\n",
    "        # set the input as the input layer\n",
    "        layers[0] = np.reshape(X, (-1,1))\n",
    "        # feed the input forward\n",
    "        for i in range(len(layers)-1):\n",
    "#             print(f'weights: {self.weights[i]}')\n",
    "            activations = self.sigmoid(np.dot(self.weights[i], layers[i]) + self.biases[i])\n",
    "            layers[i+1] = activations.copy()\n",
    "        return (layers[-1], max(layers[-1]))\n",
    "    \n",
    "    \n",
    "    def back_propagation(self, output, y, l_rate):\n",
    "        layers = self.layers\n",
    "        weights = self.weights\n",
    "        biases = self.biases\n",
    "        cost_function = 2 * (layers[-1]-y)\n",
    "        # propogate the error from the output to previous layer\n",
    "        weights[-1] += -l_rate*np.dot(cost_function, layers[-2].T)\n",
    "        biases[-1] += -l_rate*cost_function \n",
    "        \n",
    "        # propogate error from second hidden layer to first hidden layer\n",
    "        num = np.dot(weights[-1].T, cost_function) * (self.sigmoid(layers[-2])*(self.sigmoid(layers[-2])))\n",
    "        weights[-2] += -l_rate*np.dot(num, layers[-3].T)\n",
    "        biases[-2] += -l_rate*num \n",
    "        \n",
    "        # propogate error from first hidden layer to output layer\n",
    "        other_num = np.dot(weights[-2].T, cost_function) * (self.sigmoid(layers[-3])*(self.sigmoid(layers[-3])))\n",
    "        weights[0] += -l_rate*np.dot(other_num, layers[-4].T)\n",
    "        biases[0] += -l_rate*other_num\n",
    "        \n",
    "        return 0\n",
    "    \n",
    "    def train(self, X, y):\n",
    "        y_dummies = pd.get_dummies(y)\n",
    "        data = pd.concat([X, y_dummies], axis=1)\n",
    "        for index, row in data.iterrows():\n",
    "            # reshape list to vector\n",
    "            y = np.reshape(row.tolist()[4:], (-1,1))\n",
    "            x = row.tolist()[:4]\n",
    "            output_activations, output = self.feed_forward(x)\n",
    "            self.back_propagation(output_activations, y, 0.0001)\n",
    "        return 0\n",
    "\n",
    "    def get_accuracy(self, X, y):\n",
    "        y_dummies = pd.get_dummies(y)\n",
    "        data = pd.concat([X, y_dummies], axis=1)\n",
    "        total_wrong = 0\n",
    "        total_right = 0\n",
    "        total = len(data)\n",
    "        for index, row in data.iterrows():\n",
    "            # reshape list to vector\n",
    "            y = np.reshape(row.tolist()[4:], (-1,1))\n",
    "            x = row.tolist()[:4]\n",
    "            output_activations, preiction = self.feed_forward(x)\n",
    "            if np.where(y==max(y))[0] == np.where(output_activations==max(output_activations))[0]:\n",
    "                total_right += 1\n",
    "        return f'accuracy: {total_right/total}'\n",
    "    \n",
    "    def predict(self, X, y):\n",
    "        percentages, prediction = self.feed_forward(X)\n",
    "        print(f'percent: {percentages}')\n",
    "        print()\n",
    "        print(f'preiction: {prediction}')\n",
    "        print(f'y: {y}')\n",
    "        return prediction"
   ]
  },
  {
   "cell_type": "code",
   "execution_count": 4,
   "id": "6dc31842-9c14-434b-87d4-2e52ee716518",
   "metadata": {},
   "outputs": [],
   "source": [
    "sample = X_train.iloc[0]"
   ]
  },
  {
   "cell_type": "code",
   "execution_count": 5,
   "id": "03671062-40ff-4deb-b409-bfc5aedb0a71",
   "metadata": {},
   "outputs": [],
   "source": [
    "new_class = Network(sample ,2, [4,3])"
   ]
  },
  {
   "cell_type": "code",
   "execution_count": 6,
   "id": "da158637-5b46-4d0e-8c90-9b96c4ea6c11",
   "metadata": {},
   "outputs": [
    {
     "data": {
      "text/plain": [
       "0"
      ]
     },
     "execution_count": 6,
     "metadata": {},
     "output_type": "execute_result"
    }
   ],
   "source": [
    "new_class.train(X_train, y_train)"
   ]
  },
  {
   "cell_type": "code",
   "execution_count": 7,
   "id": "9b252e73-1706-476b-aa30-d24abb78d06b",
   "metadata": {},
   "outputs": [
    {
     "name": "stdout",
     "output_type": "stream",
     "text": [
      "percent: [[0.82511877]\n",
      " [0.78285004]\n",
      " [0.6502768 ]]\n",
      "\n",
      "preiction: [0.82511877]\n",
      "y: [[0]\n",
      " [0]\n",
      " [1]]\n"
     ]
    },
    {
     "data": {
      "text/plain": [
       "array([0.82511877])"
      ]
     },
     "execution_count": 7,
     "metadata": {},
     "output_type": "execute_result"
    }
   ],
   "source": [
    "new_class.predict(list(X_test.iloc[0]), np.reshape(list(pd.get_dummies(y_test).iloc[0]), [-1,1]))"
   ]
  },
  {
   "cell_type": "code",
   "execution_count": 8,
   "id": "8f14e3ec-0cb5-4031-9e69-f2ab3c587da7",
   "metadata": {},
   "outputs": [
    {
     "data": {
      "text/plain": [
       "'accuracy: 0.35714285714285715'"
      ]
     },
     "execution_count": 8,
     "metadata": {},
     "output_type": "execute_result"
    }
   ],
   "source": [
    "new_class.get_accuracy(X_train, y_train)"
   ]
  },
  {
   "cell_type": "code",
   "execution_count": 9,
   "id": "71b2c262-91d3-43a8-b1ac-72fea22e18d6",
   "metadata": {},
   "outputs": [
    {
     "data": {
      "text/plain": [
       "'accuracy: 0.2631578947368421'"
      ]
     },
     "execution_count": 9,
     "metadata": {},
     "output_type": "execute_result"
    }
   ],
   "source": [
    "new_class.get_accuracy(X_test, y_test)"
   ]
  },
  {
   "cell_type": "code",
   "execution_count": null,
   "id": "cbdd84b6-eea0-404f-adb1-2cf66002a2a5",
   "metadata": {},
   "outputs": [],
   "source": []
  },
  {
   "cell_type": "code",
   "execution_count": null,
   "id": "a44758e6-2887-49bd-add2-9ee87982c992",
   "metadata": {},
   "outputs": [],
   "source": []
  }
 ],
 "metadata": {
  "kernelspec": {
   "display_name": "Python 3 (ipykernel)",
   "language": "python",
   "name": "python3"
  },
  "language_info": {
   "codemirror_mode": {
    "name": "ipython",
    "version": 3
   },
   "file_extension": ".py",
   "mimetype": "text/x-python",
   "name": "python",
   "nbconvert_exporter": "python",
   "pygments_lexer": "ipython3",
   "version": "3.8.9"
  }
 },
 "nbformat": 4,
 "nbformat_minor": 5
}
