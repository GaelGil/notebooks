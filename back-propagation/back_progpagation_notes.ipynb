{
 "cells": [
  {
   "cell_type": "markdown",
   "id": "b188161c-acbc-4b0e-b21c-16e5d2209464",
   "metadata": {},
   "source": [
    "# Back Propagations Notes"
   ]
  },
  {
   "cell_type": "markdown",
   "id": "fa910f74-007a-439e-a24c-d77ff392bd90",
   "metadata": {},
   "source": [
    "Neural networks have a input layer. The input layer is of course the layer that takes in the inputs. We have as many input neurons as we do inputs. For example if we have a dataset of cats and dogs some example inputs would be `ear length`, `fur length`, `weight`, `height`. This would mean we would have a input layer with 4 neurons. These inputs would be in the input layer and be passed forward to the next layer by multiplying all inputs by some weights and adding it all together and multiplying the bias of the neuron they are passing to. Eaech nueron has a bias which is a number between 0 and 1. Depending on how many hidden layers we have this would happen again passing from one layer to another. But eventually we would get to the output layer which in this case we have a output layer for 2 neurons. One for dog and one for cat. These would output the probability from 1 to 0 of it being a dog or cat."
   ]
  },
  {
   "cell_type": "markdown",
   "id": "77061bfa-e585-47ba-ae8f-167f35790d5d",
   "metadata": {},
   "source": [
    "The math for multiplying each input by a weight and adding them all together and lastly multiplying the bias looks like this. Where $w$ is a weight, $i$ is an input and $b$ is the bias of the neuron we are moving the data forward to\n",
    "$$ = (w_0*i_0 + w_1*i_1 + w_2*i_2 + w_3*i_3 .... + w_n*i_n)b $$\n",
    "Question: Are we calculating what the bias should be for the neuron we are passing this information to? I am watching this video https://www.youtube.com/watch?v=aircAruvnKk&list=PL_h2yd2CGtBHEKwEH5iqTZH85wLS-eUzv. t=8.38 - 11.32"
   ]
  },
  {
   "cell_type": "markdown",
   "id": "0779b5f3-3d77-4852-876b-b7e008c715e1",
   "metadata": {},
   "source": [
    "Using the mnist dataset as an example. Each pixel in the image represents a input that goes into the input layer of a neural network. "
   ]
  }
 ],
 "metadata": {
  "kernelspec": {
   "display_name": "Python 3 (ipykernel)",
   "language": "python",
   "name": "python3"
  },
  "language_info": {
   "codemirror_mode": {
    "name": "ipython",
    "version": 3
   },
   "file_extension": ".py",
   "mimetype": "text/x-python",
   "name": "python",
   "nbconvert_exporter": "python",
   "pygments_lexer": "ipython3",
   "version": "3.8.2"
  }
 },
 "nbformat": 4,
 "nbformat_minor": 5
}
